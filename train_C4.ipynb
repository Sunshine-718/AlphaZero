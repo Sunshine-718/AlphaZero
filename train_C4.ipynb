{
 "cells": [
  {
   "cell_type": "code",
   "execution_count": null,
   "id": "36c61ad8",
   "metadata": {},
   "outputs": [],
   "source": [
    "import torch\n",
    "from Pipeline import TrainPipeline\n",
    "from ReplayBuffer import ReplayBuffer\n",
    "torch.backends.cudnn.benchmark = True"
   ]
  },
  {
   "cell_type": "code",
   "execution_count": null,
   "id": "6c1cfad1",
   "metadata": {},
   "outputs": [],
   "source": [
    "pipeline = TrainPipeline('Connect4', 'CNN', 'AZ')"
   ]
  },
  {
   "cell_type": "code",
   "execution_count": null,
   "id": "288a81d9",
   "metadata": {},
   "outputs": [],
   "source": [
    "# Do not rerun this cell! Otherwise will clear the buffer!\n",
    "buffer = ReplayBuffer(3, pipeline.buffer_size, 7, 6, 7, device=pipeline.device)"
   ]
  },
  {
   "cell_type": "code",
   "execution_count": null,
   "id": "30f5cbff",
   "metadata": {},
   "outputs": [],
   "source": [
    "pipeline.init_buffer(buffer)\n",
    "pipeline()"
   ]
  }
 ],
 "metadata": {
  "kernelspec": {
   "display_name": "Python 3",
   "language": "python",
   "name": "python3"
  },
  "language_info": {
   "codemirror_mode": {
    "name": "ipython",
    "version": 3
   },
   "file_extension": ".py",
   "mimetype": "text/x-python",
   "name": "python",
   "nbconvert_exporter": "python",
   "pygments_lexer": "ipython3",
   "version": "3.13.5"
  }
 },
 "nbformat": 4,
 "nbformat_minor": 5
}
