{
 "cells": [
  {
   "cell_type": "code",
   "execution_count": null,
   "metadata": {},
   "outputs": [],
   "source": [
    "import torch\n",
    "from config import config\n",
    "from Pipeline import TrainPipeline\n",
    "\n",
    "torch.backends.cudnn.benchmark = True\n",
    "\n",
    "if __name__ == '__main__':\n",
    "    pipeline = TrainPipeline('AlphaZero_NewEval')\n",
    "    pipeline.init(config)\n",
    "    pipeline()"
   ]
  }
 ],
 "metadata": {
  "kernelspec": {
   "display_name": "Python 3",
   "language": "python",
   "name": "python3"
  },
  "language_info": {
   "name": "python",
   "version": "3.12.3"
  }
 },
 "nbformat": 4,
 "nbformat_minor": 2
}
