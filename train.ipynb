{
 "cells": [
  {
   "cell_type": "code",
   "execution_count": 1,
   "metadata": {},
   "outputs": [
    {
     "name": "stdout",
     "output_type": "stream",
     "text": [
      "Failed to load parameters.\n",
      "[Errno 2] No such file or directory: './params/AZ_TTT_CNN_current.pt'\n",
      "==================================================\n",
      "Hyperparameters:\n",
      "\tC_puct: 1.5\n",
      "\tSimulation (AlphaZero): 10\n",
      "\tSimulation (Benchmark): 1000\n",
      "\tDirichlet alpha: 0.3\n",
      "\tBuffer size: 10000\n",
      "\tBatch size: 128\n",
      "\tRandom steps: 1\n",
      "\tTemperature: 1.0\n",
      "==================================================\n"
     ]
    },
    {
     "data": {
      "application/vnd.jupyter.widget-view+json": {
       "model_id": "fed5e5f4a24044b1ae980c4308a5b38e",
       "version_major": 2,
       "version_minor": 0
      },
      "text/plain": [
       "  0%|          | 0/1 [00:00<?, ?it/s]"
      ]
     },
     "metadata": {},
     "output_type": "display_data"
    },
    {
     "name": "stdout",
     "output_type": "stream",
     "text": [
      "R2 score (new): -0.105\n",
      "batch i: 1, episode_len: 6, loss:  2.21674496, entropy:  2.14003396\n"
     ]
    },
    {
     "data": {
      "application/vnd.jupyter.widget-view+json": {
       "model_id": "93281b5adaee4111aa82b72f8cf4f3f4",
       "version_major": 2,
       "version_minor": 0
      },
      "text/plain": [
       "  0%|          | 0/1 [00:00<?, ?it/s]"
      ]
     },
     "metadata": {},
     "output_type": "display_data"
    },
    {
     "name": "stdout",
     "output_type": "stream",
     "text": [
      "R2 score (new): -0.024\n",
      "batch i: 2, episode_len: 9, loss:  1.78801310, entropy:  2.12653327\n"
     ]
    },
    {
     "data": {
      "application/vnd.jupyter.widget-view+json": {
       "model_id": "b4b82e44018440c89847e7abf3bebe29",
       "version_major": 2,
       "version_minor": 0
      },
      "text/plain": [
       "  0%|          | 0/1 [00:00<?, ?it/s]"
      ]
     },
     "metadata": {},
     "output_type": "display_data"
    },
    {
     "name": "stdout",
     "output_type": "stream",
     "text": [
      "R2 score (new):  0.002\n",
      "batch i: 3, episode_len: 7, loss:  2.08137980, entropy:  2.13597012\n"
     ]
    },
    {
     "data": {
      "application/vnd.jupyter.widget-view+json": {
       "model_id": "4d68ed2cb07b4c808ebb8f493ad7c715",
       "version_major": 2,
       "version_minor": 0
      },
      "text/plain": [
       "  0%|          | 0/1 [00:00<?, ?it/s]"
      ]
     },
     "metadata": {},
     "output_type": "display_data"
    },
    {
     "name": "stdout",
     "output_type": "stream",
     "text": [
      "R2 score (new): -0.051\n",
      "batch i: 4, episode_len: 6, loss:  2.14020357, entropy:  2.13476729\n"
     ]
    },
    {
     "data": {
      "application/vnd.jupyter.widget-view+json": {
       "model_id": "d92193a9aebd43d4be84f2d38089b1c1",
       "version_major": 2,
       "version_minor": 0
      },
      "text/plain": [
       "  0%|          | 0/1 [00:00<?, ?it/s]"
      ]
     },
     "metadata": {},
     "output_type": "display_data"
    },
    {
     "name": "stdout",
     "output_type": "stream",
     "text": [
      "R2 score (new):  0.010\n",
      "batch i: 5, episode_len: 9, loss:  2.21713778, entropy:  2.13411665\n"
     ]
    },
    {
     "data": {
      "application/vnd.jupyter.widget-view+json": {
       "model_id": "c47d9199994d423fad58f8a54c47ba68",
       "version_major": 2,
       "version_minor": 0
      },
      "text/plain": [
       "  0%|          | 0/1 [00:00<?, ?it/s]"
      ]
     },
     "metadata": {},
     "output_type": "display_data"
    },
    {
     "name": "stdout",
     "output_type": "stream",
     "text": [
      "R2 score (new): -0.017\n",
      "batch i: 6, episode_len: 7, loss:  2.07203352, entropy:  2.13316751\n"
     ]
    },
    {
     "data": {
      "application/vnd.jupyter.widget-view+json": {
       "model_id": "022fa88b24cc4e96a846eb238077852e",
       "version_major": 2,
       "version_minor": 0
      },
      "text/plain": [
       "  0%|          | 0/1 [00:00<?, ?it/s]"
      ]
     },
     "metadata": {},
     "output_type": "display_data"
    },
    {
     "name": "stdout",
     "output_type": "stream",
     "text": [
      "R2 score (new): -0.015\n",
      "batch i: 7, episode_len: 5, loss:  2.26540437, entropy:  2.13350701\n"
     ]
    },
    {
     "data": {
      "application/vnd.jupyter.widget-view+json": {
       "model_id": "63268952eec94cc18573a409f4a0f2bb",
       "version_major": 2,
       "version_minor": 0
      },
      "text/plain": [
       "  0%|          | 0/1 [00:00<?, ?it/s]"
      ]
     },
     "metadata": {},
     "output_type": "display_data"
    },
    {
     "name": "stdout",
     "output_type": "stream",
     "text": [
      "R2 score (new): -0.195\n",
      "batch i: 8, episode_len: 6, loss:  2.20150807, entropy:  2.13497424\n"
     ]
    },
    {
     "data": {
      "application/vnd.jupyter.widget-view+json": {
       "model_id": "54ab58ff4aed44c2bfec8e9417e9a997",
       "version_major": 2,
       "version_minor": 0
      },
      "text/plain": [
       "  0%|          | 0/1 [00:00<?, ?it/s]"
      ]
     },
     "metadata": {},
     "output_type": "display_data"
    },
    {
     "name": "stdout",
     "output_type": "stream",
     "text": [
      "R2 score (new): -0.003\n",
      "batch i: 9, episode_len: 9, loss:  1.97756842, entropy:  2.12755990\n"
     ]
    },
    {
     "data": {
      "application/vnd.jupyter.widget-view+json": {
       "model_id": "21ecae54b0c347f9886b639a8e3b5c49",
       "version_major": 2,
       "version_minor": 0
      },
      "text/plain": [
       "  0%|          | 0/1 [00:00<?, ?it/s]"
      ]
     },
     "metadata": {},
     "output_type": "display_data"
    },
    {
     "name": "stdout",
     "output_type": "stream",
     "text": [
      "R2 score (new):  0.008\n",
      "batch i: 10, episode_len: 5, loss:  2.05774266, entropy:  2.13555741\n",
      "current self-play batch: 11\n",
      "Updating elo score...\n",
      "Complete.\n",
      "Elo score: AlphaZero:  1500.74, Benchmark:  1515.26\n",
      "   action: 0, prob_X:  11.92%\t   action: 0, prob_O:  12.94%\n",
      "   action: 1, prob_X:  10.31%\t   action: 1, prob_O:  9.08%\n",
      "⭐️ action: 2, prob_X:  12.14%\t   action: 2, prob_O:  11.83%\n",
      "   action: 3, prob_X:  10.61%\t   action: 3, prob_O:  9.35%\n",
      "   action: 4, prob_X:  11.59%\t⭐️ action: 4, prob_O:  13.76%\n",
      "   action: 5, prob_X:  10.88%\t   action: 5, prob_O:  11.81%\n",
      "   action: 6, prob_X:  10.49%\t   action: 6, prob_O:  9.05%\n",
      "   action: 7, prob_X:  11.61%\t   action: 7, prob_O:  11.45%\n",
      "   action: 8, prob_X:  10.46%\t   action: 8, prob_O:  10.72%\n",
      "State-value X: -0.0181\n",
      "State-value O: 0.0238\n",
      "Evaluating best player...\n",
      "Complete.\n"
     ]
    },
    {
     "data": {
      "application/vnd.jupyter.widget-view+json": {
       "model_id": "2fc9edd9932a4ca1bb8c7de88e4c2f79",
       "version_major": 2,
       "version_minor": 0
      },
      "text/plain": [
       "  0%|          | 0/1 [00:00<?, ?it/s]"
      ]
     },
     "metadata": {},
     "output_type": "display_data"
    },
    {
     "name": "stdout",
     "output_type": "stream",
     "text": [
      "R2 score (new): -0.004\n",
      "batch i: 11, episode_len: 5, loss:  2.05780613, entropy:  2.13531256\n"
     ]
    },
    {
     "data": {
      "application/vnd.jupyter.widget-view+json": {
       "model_id": "7b66c926c97246fbbf9700553d991074",
       "version_major": 2,
       "version_minor": 0
      },
      "text/plain": [
       "  0%|          | 0/1 [00:00<?, ?it/s]"
      ]
     },
     "metadata": {},
     "output_type": "display_data"
    },
    {
     "name": "stdout",
     "output_type": "stream",
     "text": [
      "R2 score (new): -0.050\n",
      "batch i: 12, episode_len: 5, loss:  2.13607585, entropy:  2.13424969\n"
     ]
    },
    {
     "data": {
      "application/vnd.jupyter.widget-view+json": {
       "model_id": "187af21d41664845867318e6c3748b65",
       "version_major": 2,
       "version_minor": 0
      },
      "text/plain": [
       "  0%|          | 0/1 [00:00<?, ?it/s]"
      ]
     },
     "metadata": {},
     "output_type": "display_data"
    },
    {
     "name": "stdout",
     "output_type": "stream",
     "text": [
      "R2 score (new): -0.019\n",
      "batch i: 13, episode_len: 7, loss:  2.07385454, entropy:  2.13528204\n"
     ]
    },
    {
     "data": {
      "application/vnd.jupyter.widget-view+json": {
       "model_id": "600f98c79f9d4d57bb1ece261593eb01",
       "version_major": 2,
       "version_minor": 0
      },
      "text/plain": [
       "  0%|          | 0/1 [00:00<?, ?it/s]"
      ]
     },
     "metadata": {},
     "output_type": "display_data"
    },
    {
     "name": "stdout",
     "output_type": "stream",
     "text": [
      "R2 score (new): -0.074\n",
      "batch i: 14, episode_len: 9, loss:  2.02702966, entropy:  2.13109112\n"
     ]
    },
    {
     "data": {
      "application/vnd.jupyter.widget-view+json": {
       "model_id": "0993e79c93104960983b8857ddeac979",
       "version_major": 2,
       "version_minor": 0
      },
      "text/plain": [
       "  0%|          | 0/1 [00:00<?, ?it/s]"
      ]
     },
     "metadata": {},
     "output_type": "display_data"
    },
    {
     "name": "stdout",
     "output_type": "stream",
     "text": [
      "R2 score (new): -0.019\n",
      "batch i: 15, episode_len: 9, loss:  2.06792539, entropy:  2.14031839\n"
     ]
    },
    {
     "data": {
      "application/vnd.jupyter.widget-view+json": {
       "model_id": "95c5ed46d9c7424d9fd05825d4b4373a",
       "version_major": 2,
       "version_minor": 0
      },
      "text/plain": [
       "  0%|          | 0/1 [00:00<?, ?it/s]"
      ]
     },
     "metadata": {},
     "output_type": "display_data"
    },
    {
     "name": "stdout",
     "output_type": "stream",
     "text": [
      "R2 score (new): -0.010\n",
      "batch i: 16, episode_len: 7, loss:  2.13597935, entropy:  2.14448094\n"
     ]
    },
    {
     "data": {
      "application/vnd.jupyter.widget-view+json": {
       "model_id": "2b8101cfc58b40118e5972de284004c9",
       "version_major": 2,
       "version_minor": 0
      },
      "text/plain": [
       "  0%|          | 0/1 [00:00<?, ?it/s]"
      ]
     },
     "metadata": {},
     "output_type": "display_data"
    },
    {
     "name": "stdout",
     "output_type": "stream",
     "text": [
      "R2 score (new):  0.000\n",
      "batch i: 17, episode_len: 5, loss:  2.13521329, entropy:  2.15054941\n"
     ]
    },
    {
     "data": {
      "application/vnd.jupyter.widget-view+json": {
       "model_id": "2a84ea14db5241a9a9afef678c4e774e",
       "version_major": 2,
       "version_minor": 0
      },
      "text/plain": [
       "  0%|          | 0/1 [00:00<?, ?it/s]"
      ]
     },
     "metadata": {},
     "output_type": "display_data"
    },
    {
     "name": "stdout",
     "output_type": "stream",
     "text": [
      "R2 score (new): -0.001\n",
      "batch i: 18, episode_len: 8, loss:  2.08011022, entropy:  2.14750409\n"
     ]
    },
    {
     "data": {
      "application/vnd.jupyter.widget-view+json": {
       "model_id": "b53bd88ab7b84730bf4c37453ea941bd",
       "version_major": 2,
       "version_minor": 0
      },
      "text/plain": [
       "  0%|          | 0/1 [00:00<?, ?it/s]"
      ]
     },
     "metadata": {},
     "output_type": "display_data"
    },
    {
     "name": "stdout",
     "output_type": "stream",
     "text": [
      "R2 score (new):  0.000\n",
      "batch i: 19, episode_len: 5, loss:  2.30045795, entropy:  2.14869928\n"
     ]
    },
    {
     "data": {
      "application/vnd.jupyter.widget-view+json": {
       "model_id": "3d3899ae637941c0937019c773790c59",
       "version_major": 2,
       "version_minor": 0
      },
      "text/plain": [
       "  0%|          | 0/1 [00:00<?, ?it/s]"
      ]
     },
     "metadata": {},
     "output_type": "display_data"
    },
    {
     "name": "stdout",
     "output_type": "stream",
     "text": [
      "R2 score (new): -0.029\n",
      "batch i: 20, episode_len: 9, loss:  2.03248958, entropy:  2.14739561\n",
      "current self-play batch: 21\n",
      "Updating elo score...\n",
      "Complete.\n",
      "Elo score: AlphaZero:  1500.00, Benchmark:  1545.19\n",
      "   action: 0, prob_X:  12.26%\t⭐️ action: 0, prob_O:  12.58%\n",
      "   action: 1, prob_X:  9.44%\t   action: 1, prob_O:  9.11%\n",
      "   action: 2, prob_X:  12.98%\t   action: 2, prob_O:  12.17%\n",
      "   action: 3, prob_X:  9.35%\t   action: 3, prob_O:  10.30%\n",
      "⭐️ action: 4, prob_X:  13.34%\t   action: 4, prob_O:  11.60%\n",
      "   action: 5, prob_X:  10.10%\t   action: 5, prob_O:  12.55%\n",
      "   action: 6, prob_X:  11.02%\t   action: 6, prob_O:  9.46%\n",
      "   action: 7, prob_X:  11.92%\t   action: 7, prob_O:  11.38%\n",
      "   action: 8, prob_X:  9.60%\t   action: 8, prob_O:  10.86%\n",
      "State-value X: 0.0160\n",
      "State-value O: -0.0092\n",
      "Evaluating best player...\n",
      "Complete.\n"
     ]
    },
    {
     "data": {
      "application/vnd.jupyter.widget-view+json": {
       "model_id": "39ec49d9268d4937bb661b0b80a9e6fb",
       "version_major": 2,
       "version_minor": 0
      },
      "text/plain": [
       "  0%|          | 0/1 [00:00<?, ?it/s]"
      ]
     },
     "metadata": {},
     "output_type": "display_data"
    },
    {
     "name": "stdout",
     "output_type": "stream",
     "text": [
      "R2 score (new): -0.016\n",
      "batch i: 21, episode_len: 6, loss:  2.06643365, entropy:  2.15120840\n"
     ]
    },
    {
     "data": {
      "application/vnd.jupyter.widget-view+json": {
       "model_id": "27cf4a6fbca34e45a84da70c65c45256",
       "version_major": 2,
       "version_minor": 0
      },
      "text/plain": [
       "  0%|          | 0/1 [00:00<?, ?it/s]"
      ]
     },
     "metadata": {},
     "output_type": "display_data"
    },
    {
     "name": "stdout",
     "output_type": "stream",
     "text": [
      "R2 score (new): -0.169\n",
      "batch i: 22, episode_len: 5, loss:  1.96365321, entropy:  2.14666653\n"
     ]
    },
    {
     "data": {
      "application/vnd.jupyter.widget-view+json": {
       "model_id": "3f8f546d1bed4a6b89cf4b60562b9914",
       "version_major": 2,
       "version_minor": 0
      },
      "text/plain": [
       "  0%|          | 0/1 [00:00<?, ?it/s]"
      ]
     },
     "metadata": {},
     "output_type": "display_data"
    },
    {
     "name": "stdout",
     "output_type": "stream",
     "text": [
      "R2 score (new):  0.023\n",
      "batch i: 23, episode_len: 7, loss:  1.91840011, entropy:  2.14548111\n"
     ]
    },
    {
     "data": {
      "application/vnd.jupyter.widget-view+json": {
       "model_id": "35dcd062cea64fa187a204e5673723ea",
       "version_major": 2,
       "version_minor": 0
      },
      "text/plain": [
       "  0%|          | 0/1 [00:00<?, ?it/s]"
      ]
     },
     "metadata": {},
     "output_type": "display_data"
    },
    {
     "name": "stdout",
     "output_type": "stream",
     "text": [
      "R2 score (new):  0.007\n",
      "batch i: 24, episode_len: 6, loss:  1.93127267, entropy:  2.14688826\n"
     ]
    },
    {
     "data": {
      "application/vnd.jupyter.widget-view+json": {
       "model_id": "b67d6b6fb6cc4e838986f92e2608164f",
       "version_major": 2,
       "version_minor": 0
      },
      "text/plain": [
       "  0%|          | 0/1 [00:00<?, ?it/s]"
      ]
     },
     "metadata": {},
     "output_type": "display_data"
    },
    {
     "name": "stdout",
     "output_type": "stream",
     "text": [
      "R2 score (new):  0.061\n",
      "batch i: 25, episode_len: 9, loss:  1.95931453, entropy:  2.14183068\n"
     ]
    },
    {
     "data": {
      "application/vnd.jupyter.widget-view+json": {
       "model_id": "b6fde5e4f9004314850dde4446e317c7",
       "version_major": 2,
       "version_minor": 0
      },
      "text/plain": [
       "  0%|          | 0/1 [00:00<?, ?it/s]"
      ]
     },
     "metadata": {},
     "output_type": "display_data"
    },
    {
     "name": "stdout",
     "output_type": "stream",
     "text": [
      "R2 score (new): -0.089\n",
      "batch i: 26, episode_len: 9, loss:  1.88244121, entropy:  2.14380860\n"
     ]
    },
    {
     "data": {
      "application/vnd.jupyter.widget-view+json": {
       "model_id": "c574aac583d34cb5a17588a333854f99",
       "version_major": 2,
       "version_minor": 0
      },
      "text/plain": [
       "  0%|          | 0/1 [00:00<?, ?it/s]"
      ]
     },
     "metadata": {},
     "output_type": "display_data"
    },
    {
     "name": "stdout",
     "output_type": "stream",
     "text": [
      "R2 score (new): -0.049\n",
      "batch i: 27, episode_len: 9, loss:  1.94544303, entropy:  2.14310241\n"
     ]
    },
    {
     "data": {
      "application/vnd.jupyter.widget-view+json": {
       "model_id": "36e94e5dc818439b9999c1785ade4199",
       "version_major": 2,
       "version_minor": 0
      },
      "text/plain": [
       "  0%|          | 0/1 [00:00<?, ?it/s]"
      ]
     },
     "metadata": {},
     "output_type": "display_data"
    },
    {
     "name": "stdout",
     "output_type": "stream",
     "text": [
      "R2 score (new):  0.052\n",
      "batch i: 28, episode_len: 5, loss:  1.78828031, entropy:  2.14024520\n"
     ]
    },
    {
     "data": {
      "application/vnd.jupyter.widget-view+json": {
       "model_id": "546728c9874642a9a0e0829cfb1a9f31",
       "version_major": 2,
       "version_minor": 0
      },
      "text/plain": [
       "  0%|          | 0/1 [00:00<?, ?it/s]"
      ]
     },
     "metadata": {},
     "output_type": "display_data"
    },
    {
     "name": "stdout",
     "output_type": "stream",
     "text": [
      "R2 score (new):  0.094\n",
      "batch i: 29, episode_len: 5, loss:  1.90487427, entropy:  2.13484693\n"
     ]
    },
    {
     "data": {
      "application/vnd.jupyter.widget-view+json": {
       "model_id": "69cb6af262f94b2b8db1afc8b7a067be",
       "version_major": 2,
       "version_minor": 0
      },
      "text/plain": [
       "  0%|          | 0/1 [00:00<?, ?it/s]"
      ]
     },
     "metadata": {},
     "output_type": "display_data"
    },
    {
     "name": "stdout",
     "output_type": "stream",
     "text": [
      "R2 score (new): -0.024\n",
      "batch i: 30, episode_len: 5, loss:  1.80373228, entropy:  2.12860799\n",
      "current self-play batch: 31\n",
      "Updating elo score...\n",
      "Complete.\n",
      "Elo score: AlphaZero:  1500.00, Benchmark:  1572.42\n",
      "   action: 0, prob_X:  13.20%\t   action: 0, prob_O:  12.25%\n",
      "   action: 1, prob_X:  8.19%\t   action: 1, prob_O:  11.11%\n",
      "   action: 2, prob_X:  13.22%\t   action: 2, prob_O:  12.09%\n",
      "   action: 3, prob_X:  9.48%\t   action: 3, prob_O:  11.03%\n",
      "⭐️ action: 4, prob_X:  13.56%\t   action: 4, prob_O:  7.89%\n",
      "   action: 5, prob_X:  9.10%\t⭐️ action: 5, prob_O:  12.75%\n",
      "   action: 6, prob_X:  11.06%\t   action: 6, prob_O:  11.01%\n",
      "   action: 7, prob_X:  10.97%\t   action: 7, prob_O:  11.95%\n",
      "   action: 8, prob_X:  11.22%\t   action: 8, prob_O:  9.93%\n",
      "State-value X: 0.0886\n",
      "State-value O: -0.0595\n",
      "Evaluating best player...\n",
      "Complete.\n"
     ]
    },
    {
     "data": {
      "application/vnd.jupyter.widget-view+json": {
       "model_id": "fa2dc9db6c7047b9877c393a105bcfd5",
       "version_major": 2,
       "version_minor": 0
      },
      "text/plain": [
       "  0%|          | 0/1 [00:00<?, ?it/s]"
      ]
     },
     "metadata": {},
     "output_type": "display_data"
    },
    {
     "name": "stdout",
     "output_type": "stream",
     "text": [
      "R2 score (new): -0.015\n",
      "batch i: 31, episode_len: 5, loss:  1.83117805, entropy:  2.13219023\n"
     ]
    },
    {
     "data": {
      "application/vnd.jupyter.widget-view+json": {
       "model_id": "14c04673751441ba9c5968597af4a51f",
       "version_major": 2,
       "version_minor": 0
      },
      "text/plain": [
       "  0%|          | 0/1 [00:00<?, ?it/s]"
      ]
     },
     "metadata": {},
     "output_type": "display_data"
    },
    {
     "name": "stdout",
     "output_type": "stream",
     "text": [
      "R2 score (new):  0.040\n",
      "batch i: 32, episode_len: 5, loss:  1.71416827, entropy:  2.11921835\n"
     ]
    },
    {
     "data": {
      "application/vnd.jupyter.widget-view+json": {
       "model_id": "baae97155ea64410be962a39ed7c4791",
       "version_major": 2,
       "version_minor": 0
      },
      "text/plain": [
       "  0%|          | 0/1 [00:00<?, ?it/s]"
      ]
     },
     "metadata": {},
     "output_type": "display_data"
    },
    {
     "name": "stdout",
     "output_type": "stream",
     "text": [
      "R2 score (new):  0.073\n",
      "batch i: 33, episode_len: 8, loss:  1.71421471, entropy:  2.11500239\n"
     ]
    },
    {
     "data": {
      "application/vnd.jupyter.widget-view+json": {
       "model_id": "a1e4baa44e9e4e35bbb73304fc82ac59",
       "version_major": 2,
       "version_minor": 0
      },
      "text/plain": [
       "  0%|          | 0/1 [00:00<?, ?it/s]"
      ]
     },
     "metadata": {},
     "output_type": "display_data"
    },
    {
     "name": "stdout",
     "output_type": "stream",
     "text": [
      "R2 score (new):  0.089\n",
      "batch i: 34, episode_len: 5, loss:  1.73999646, entropy:  2.11495090\n"
     ]
    },
    {
     "data": {
      "application/vnd.jupyter.widget-view+json": {
       "model_id": "e830962deea94d10aab32c1e13b02a77",
       "version_major": 2,
       "version_minor": 0
      },
      "text/plain": [
       "  0%|          | 0/1 [00:00<?, ?it/s]"
      ]
     },
     "metadata": {},
     "output_type": "display_data"
    },
    {
     "name": "stdout",
     "output_type": "stream",
     "text": [
      "R2 score (new):  0.048\n",
      "batch i: 35, episode_len: 5, loss:  1.81766781, entropy:  2.10774255\n"
     ]
    },
    {
     "data": {
      "application/vnd.jupyter.widget-view+json": {
       "model_id": "f05abe3bd2f742cea5767a3bb3082d65",
       "version_major": 2,
       "version_minor": 0
      },
      "text/plain": [
       "  0%|          | 0/1 [00:00<?, ?it/s]"
      ]
     },
     "metadata": {},
     "output_type": "display_data"
    },
    {
     "name": "stdout",
     "output_type": "stream",
     "text": [
      "R2 score (new):  0.034\n",
      "batch i: 36, episode_len: 5, loss:  1.73275724, entropy:  2.10316801\n"
     ]
    },
    {
     "data": {
      "application/vnd.jupyter.widget-view+json": {
       "model_id": "b37271bb455e4c7195c6b0281b0d197b",
       "version_major": 2,
       "version_minor": 0
      },
      "text/plain": [
       "  0%|          | 0/1 [00:00<?, ?it/s]"
      ]
     },
     "metadata": {},
     "output_type": "display_data"
    },
    {
     "name": "stdout",
     "output_type": "stream",
     "text": [
      "R2 score (new):  0.095\n",
      "batch i: 37, episode_len: 5, loss:  1.75176005, entropy:  2.10069680\n"
     ]
    },
    {
     "data": {
      "application/vnd.jupyter.widget-view+json": {
       "model_id": "210afdad65884a8d80c0d9c024bb8788",
       "version_major": 2,
       "version_minor": 0
      },
      "text/plain": [
       "  0%|          | 0/1 [00:00<?, ?it/s]"
      ]
     },
     "metadata": {},
     "output_type": "display_data"
    },
    {
     "name": "stdout",
     "output_type": "stream",
     "text": [
      "R2 score (new):  0.105\n",
      "batch i: 38, episode_len: 9, loss:  1.74390812, entropy:  2.10194492\n"
     ]
    },
    {
     "data": {
      "application/vnd.jupyter.widget-view+json": {
       "model_id": "d385e6705d8b4993b0b3a5b6544679be",
       "version_major": 2,
       "version_minor": 0
      },
      "text/plain": [
       "  0%|          | 0/1 [00:00<?, ?it/s]"
      ]
     },
     "metadata": {},
     "output_type": "display_data"
    },
    {
     "name": "stdout",
     "output_type": "stream",
     "text": [
      "R2 score (new):  0.000\n",
      "batch i: 39, episode_len: 6, loss:  1.89882600, entropy:  2.14447784\n"
     ]
    },
    {
     "data": {
      "application/vnd.jupyter.widget-view+json": {
       "model_id": "3090e8ef137d4754936aaaec79f2903b",
       "version_major": 2,
       "version_minor": 0
      },
      "text/plain": [
       "  0%|          | 0/1 [00:00<?, ?it/s]"
      ]
     },
     "metadata": {},
     "output_type": "display_data"
    },
    {
     "name": "stdout",
     "output_type": "stream",
     "text": [
      "R2 score (new):  0.026\n",
      "batch i: 40, episode_len: 6, loss:  1.58679349, entropy:  2.11671495\n",
      "current self-play batch: 41\n",
      "Updating elo score...\n",
      "Complete.\n",
      "Elo score: AlphaZero:  1500.00, Benchmark:  1597.29\n",
      "⭐️ action: 0, prob_X:  14.08%\t   action: 0, prob_O:  13.07%\n",
      "   action: 1, prob_X:  8.38%\t   action: 1, prob_O:  12.28%\n",
      "   action: 2, prob_X:  10.83%\t   action: 2, prob_O:  12.72%\n",
      "   action: 3, prob_X:  10.24%\t   action: 3, prob_O:  10.60%\n",
      "   action: 4, prob_X:  13.52%\t   action: 4, prob_O:  5.23%\n",
      "   action: 5, prob_X:  9.41%\t   action: 5, prob_O:  10.88%\n",
      "   action: 6, prob_X:  10.44%\t   action: 6, prob_O:  12.16%\n",
      "   action: 7, prob_X:  10.04%\t⭐️ action: 7, prob_O:  13.10%\n",
      "   action: 8, prob_X:  13.04%\t   action: 8, prob_O:  9.95%\n",
      "State-value X: 0.1781\n",
      "State-value O: -0.1361\n",
      "Evaluating best player...\n",
      "Complete.\n"
     ]
    },
    {
     "data": {
      "application/vnd.jupyter.widget-view+json": {
       "model_id": "30fa89d7593b4d2784dd6791200f8794",
       "version_major": 2,
       "version_minor": 0
      },
      "text/plain": [
       "  0%|          | 0/1 [00:00<?, ?it/s]"
      ]
     },
     "metadata": {},
     "output_type": "display_data"
    },
    {
     "name": "stdout",
     "output_type": "stream",
     "text": [
      "R2 score (new):  0.002\n",
      "batch i: 41, episode_len: 9, loss:  1.75877988, entropy:  2.09537554\n"
     ]
    },
    {
     "data": {
      "application/vnd.jupyter.widget-view+json": {
       "model_id": "5783f04200bf413388b088600bf58d3f",
       "version_major": 2,
       "version_minor": 0
      },
      "text/plain": [
       "  0%|          | 0/1 [00:00<?, ?it/s]"
      ]
     },
     "metadata": {},
     "output_type": "display_data"
    },
    {
     "name": "stdout",
     "output_type": "stream",
     "text": [
      "R2 score (new):  0.001\n",
      "batch i: 42, episode_len: 6, loss:  1.71256244, entropy:  2.08048987\n"
     ]
    },
    {
     "data": {
      "application/vnd.jupyter.widget-view+json": {
       "model_id": "21e04b8d0b6d47c89b88bad1000a7857",
       "version_major": 2,
       "version_minor": 0
      },
      "text/plain": [
       "  0%|          | 0/1 [00:00<?, ?it/s]"
      ]
     },
     "metadata": {},
     "output_type": "display_data"
    },
    {
     "name": "stdout",
     "output_type": "stream",
     "text": [
      "R2 score (new):  0.161\n",
      "batch i: 43, episode_len: 5, loss:  1.58309620, entropy:  2.07605290\n"
     ]
    },
    {
     "data": {
      "application/vnd.jupyter.widget-view+json": {
       "model_id": "19e79f2ba2ef4d13baaea420839880ae",
       "version_major": 2,
       "version_minor": 0
      },
      "text/plain": [
       "  0%|          | 0/1 [00:00<?, ?it/s]"
      ]
     },
     "metadata": {},
     "output_type": "display_data"
    },
    {
     "name": "stdout",
     "output_type": "stream",
     "text": [
      "R2 score (new):  0.158\n",
      "batch i: 44, episode_len: 5, loss:  1.63936369, entropy:  2.08468103\n"
     ]
    },
    {
     "data": {
      "application/vnd.jupyter.widget-view+json": {
       "model_id": "f212811caa46498282aca3aeff66b2db",
       "version_major": 2,
       "version_minor": 0
      },
      "text/plain": [
       "  0%|          | 0/1 [00:00<?, ?it/s]"
      ]
     },
     "metadata": {},
     "output_type": "display_data"
    },
    {
     "name": "stdout",
     "output_type": "stream",
     "text": [
      "R2 score (new):  0.001\n",
      "batch i: 45, episode_len: 6, loss:  1.48960862, entropy:  2.08025908\n"
     ]
    },
    {
     "data": {
      "application/vnd.jupyter.widget-view+json": {
       "model_id": "e1bf4b0102b746d687dadc51ed631b10",
       "version_major": 2,
       "version_minor": 0
      },
      "text/plain": [
       "  0%|          | 0/1 [00:00<?, ?it/s]"
      ]
     },
     "metadata": {},
     "output_type": "display_data"
    },
    {
     "name": "stdout",
     "output_type": "stream",
     "text": [
      "R2 score (new):  0.086\n",
      "batch i: 46, episode_len: 5, loss:  1.60381097, entropy:  2.04580355\n"
     ]
    },
    {
     "data": {
      "application/vnd.jupyter.widget-view+json": {
       "model_id": "8c4fb5cd14fa462daa38e360e73f1363",
       "version_major": 2,
       "version_minor": 0
      },
      "text/plain": [
       "  0%|          | 0/1 [00:00<?, ?it/s]"
      ]
     },
     "metadata": {},
     "output_type": "display_data"
    },
    {
     "name": "stdout",
     "output_type": "stream",
     "text": [
      "R2 score (new):  0.098\n",
      "batch i: 47, episode_len: 6, loss:  1.66689783, entropy:  2.06071258\n"
     ]
    },
    {
     "data": {
      "application/vnd.jupyter.widget-view+json": {
       "model_id": "b3deb2996bfe42f0b993af9dd19a49d6",
       "version_major": 2,
       "version_minor": 0
      },
      "text/plain": [
       "  0%|          | 0/1 [00:00<?, ?it/s]"
      ]
     },
     "metadata": {},
     "output_type": "display_data"
    },
    {
     "name": "stdout",
     "output_type": "stream",
     "text": [
      "R2 score (new):  0.035\n",
      "batch i: 48, episode_len: 5, loss:  1.58323183, entropy:  2.04948997\n"
     ]
    },
    {
     "data": {
      "application/vnd.jupyter.widget-view+json": {
       "model_id": "10a962c433364e4ca9b7cd661ca20495",
       "version_major": 2,
       "version_minor": 0
      },
      "text/plain": [
       "  0%|          | 0/1 [00:00<?, ?it/s]"
      ]
     },
     "metadata": {},
     "output_type": "display_data"
    },
    {
     "name": "stdout",
     "output_type": "stream",
     "text": [
      "R2 score (new):  0.056\n",
      "batch i: 49, episode_len: 5, loss:  1.55204185, entropy:  2.04639077\n"
     ]
    },
    {
     "data": {
      "application/vnd.jupyter.widget-view+json": {
       "model_id": "5c272a74f64b4b238bae6a9003431beb",
       "version_major": 2,
       "version_minor": 0
      },
      "text/plain": [
       "  0%|          | 0/1 [00:00<?, ?it/s]"
      ]
     },
     "metadata": {},
     "output_type": "display_data"
    },
    {
     "name": "stdout",
     "output_type": "stream",
     "text": [
      "R2 score (new):  0.067\n",
      "batch i: 50, episode_len: 5, loss:  1.62184791, entropy:  2.02111673\n",
      "current self-play batch: 51\n",
      "Updating elo score...\n",
      "Complete.\n",
      "Elo score: AlphaZero:  1500.00, Benchmark:  1620.07\n",
      "⭐️ action: 0, prob_X:  13.78%\t⭐️ action: 0, prob_O:  15.58%\n",
      "   action: 1, prob_X:  10.04%\t   action: 1, prob_O:  10.47%\n",
      "   action: 2, prob_X:  11.21%\t   action: 2, prob_O:  11.85%\n",
      "   action: 3, prob_X:  9.00%\t   action: 3, prob_O:  10.26%\n",
      "   action: 4, prob_X:  13.35%\t   action: 4, prob_O:  3.79%\n",
      "   action: 5, prob_X:  8.68%\t   action: 5, prob_O:  11.28%\n",
      "   action: 6, prob_X:  9.45%\t   action: 6, prob_O:  12.21%\n",
      "   action: 7, prob_X:  11.26%\t   action: 7, prob_O:  12.69%\n",
      "   action: 8, prob_X:  13.22%\t   action: 8, prob_O:  11.88%\n",
      "State-value X: 0.2209\n",
      "State-value O: -0.1616\n",
      "Evaluating best player...\n",
      "Complete.\n"
     ]
    },
    {
     "data": {
      "application/vnd.jupyter.widget-view+json": {
       "model_id": "ca6070a1c934473c8cf53331d7842e4a",
       "version_major": 2,
       "version_minor": 0
      },
      "text/plain": [
       "  0%|          | 0/1 [00:00<?, ?it/s]"
      ]
     },
     "metadata": {},
     "output_type": "display_data"
    },
    {
     "name": "stdout",
     "output_type": "stream",
     "text": [
      "R2 score (new):  0.129\n",
      "batch i: 51, episode_len: 6, loss:  1.55576646, entropy:  2.01506472\n"
     ]
    },
    {
     "data": {
      "application/vnd.jupyter.widget-view+json": {
       "model_id": "d7a0d8cdb01e4a1b8b35038c80d68eb2",
       "version_major": 2,
       "version_minor": 0
      },
      "text/plain": [
       "  0%|          | 0/1 [00:00<?, ?it/s]"
      ]
     },
     "metadata": {},
     "output_type": "display_data"
    },
    {
     "name": "stdout",
     "output_type": "stream",
     "text": [
      "R2 score (new):  0.043\n",
      "batch i: 52, episode_len: 5, loss:  1.56807027, entropy:  2.01138663\n"
     ]
    },
    {
     "data": {
      "application/vnd.jupyter.widget-view+json": {
       "model_id": "bef43b1ea1c643a6a05c3375e73fd995",
       "version_major": 2,
       "version_minor": 0
      },
      "text/plain": [
       "  0%|          | 0/1 [00:00<?, ?it/s]"
      ]
     },
     "metadata": {},
     "output_type": "display_data"
    },
    {
     "name": "stdout",
     "output_type": "stream",
     "text": [
      "R2 score (new):  0.131\n",
      "batch i: 53, episode_len: 5, loss:  1.62062435, entropy:  1.99886322\n"
     ]
    },
    {
     "data": {
      "application/vnd.jupyter.widget-view+json": {
       "model_id": "55e58bf19ccb446ead4291a2ddc73153",
       "version_major": 2,
       "version_minor": 0
      },
      "text/plain": [
       "  0%|          | 0/1 [00:00<?, ?it/s]"
      ]
     },
     "metadata": {},
     "output_type": "display_data"
    },
    {
     "name": "stdout",
     "output_type": "stream",
     "text": [
      "R2 score (new):  0.163\n",
      "batch i: 54, episode_len: 6, loss:  1.64141867, entropy:  2.00025892\n"
     ]
    },
    {
     "data": {
      "application/vnd.jupyter.widget-view+json": {
       "model_id": "cb053b2d66944c9aa8f0c4cf44ca30b8",
       "version_major": 2,
       "version_minor": 0
      },
      "text/plain": [
       "  0%|          | 0/1 [00:00<?, ?it/s]"
      ]
     },
     "metadata": {},
     "output_type": "display_data"
    },
    {
     "name": "stdout",
     "output_type": "stream",
     "text": [
      "R2 score (new):  0.020\n",
      "batch i: 55, episode_len: 6, loss:  1.47247495, entropy:  1.99498975\n"
     ]
    },
    {
     "data": {
      "application/vnd.jupyter.widget-view+json": {
       "model_id": "ef4f237852dc400a8001e380a1d3c913",
       "version_major": 2,
       "version_minor": 0
      },
      "text/plain": [
       "  0%|          | 0/1 [00:00<?, ?it/s]"
      ]
     },
     "metadata": {},
     "output_type": "display_data"
    },
    {
     "name": "stdout",
     "output_type": "stream",
     "text": [
      "R2 score (new):  0.043\n",
      "batch i: 56, episode_len: 5, loss:  1.53689185, entropy:  1.98329806\n"
     ]
    },
    {
     "data": {
      "application/vnd.jupyter.widget-view+json": {
       "model_id": "fc59349ef3e84014a413fb3721d9cccc",
       "version_major": 2,
       "version_minor": 0
      },
      "text/plain": [
       "  0%|          | 0/1 [00:00<?, ?it/s]"
      ]
     },
     "metadata": {},
     "output_type": "display_data"
    },
    {
     "name": "stdout",
     "output_type": "stream",
     "text": [
      "R2 score (new):  0.136\n",
      "batch i: 57, episode_len: 5, loss:  1.56536328, entropy:  1.96120024\n"
     ]
    },
    {
     "data": {
      "application/vnd.jupyter.widget-view+json": {
       "model_id": "23a0985595354488a1ce9968e4ef0d39",
       "version_major": 2,
       "version_minor": 0
      },
      "text/plain": [
       "  0%|          | 0/1 [00:00<?, ?it/s]"
      ]
     },
     "metadata": {},
     "output_type": "display_data"
    },
    {
     "name": "stdout",
     "output_type": "stream",
     "text": [
      "R2 score (new):  0.099\n",
      "batch i: 58, episode_len: 5, loss:  1.54418108, entropy:  1.95436537\n"
     ]
    },
    {
     "data": {
      "application/vnd.jupyter.widget-view+json": {
       "model_id": "f82b4c42f0bb4f128879bceb08284faf",
       "version_major": 2,
       "version_minor": 0
      },
      "text/plain": [
       "  0%|          | 0/1 [00:00<?, ?it/s]"
      ]
     },
     "metadata": {},
     "output_type": "display_data"
    },
    {
     "name": "stdout",
     "output_type": "stream",
     "text": [
      "R2 score (new):  0.131\n",
      "batch i: 59, episode_len: 7, loss:  1.53410920, entropy:  1.97029400\n"
     ]
    },
    {
     "data": {
      "application/vnd.jupyter.widget-view+json": {
       "model_id": "5f88854806fc4015802e781315c5ec2a",
       "version_major": 2,
       "version_minor": 0
      },
      "text/plain": [
       "  0%|          | 0/1 [00:00<?, ?it/s]"
      ]
     },
     "metadata": {},
     "output_type": "display_data"
    },
    {
     "name": "stdout",
     "output_type": "stream",
     "text": [
      "R2 score (new):  0.149\n",
      "batch i: 60, episode_len: 8, loss:  1.51594325, entropy:  1.94379818\n",
      "current self-play batch: 61\n",
      "Updating elo score...\n",
      "Complete.\n",
      "Elo score: AlphaZero:  1500.00, Benchmark:  1641.00\n",
      "   action: 0, prob_X:  13.83%\t⭐️ action: 0, prob_O:  16.00%\n",
      "   action: 1, prob_X:  8.74%\t   action: 1, prob_O:  11.55%\n",
      "   action: 2, prob_X:  11.85%\t   action: 2, prob_O:  12.13%\n",
      "   action: 3, prob_X:  9.69%\t   action: 3, prob_O:  10.11%\n",
      "⭐️ action: 4, prob_X:  14.31%\t   action: 4, prob_O:  2.13%\n",
      "   action: 5, prob_X:  8.25%\t   action: 5, prob_O:  10.49%\n",
      "   action: 6, prob_X:  10.40%\t   action: 6, prob_O:  12.05%\n",
      "   action: 7, prob_X:  9.60%\t   action: 7, prob_O:  11.72%\n",
      "   action: 8, prob_X:  13.34%\t   action: 8, prob_O:  13.82%\n",
      "State-value X: 0.2741\n",
      "State-value O: -0.1986\n",
      "Evaluating best player...\n",
      "Complete.\n"
     ]
    },
    {
     "data": {
      "application/vnd.jupyter.widget-view+json": {
       "model_id": "99f5c4cc5a094c02a254982b80c30b89",
       "version_major": 2,
       "version_minor": 0
      },
      "text/plain": [
       "  0%|          | 0/1 [00:00<?, ?it/s]"
      ]
     },
     "metadata": {},
     "output_type": "display_data"
    },
    {
     "name": "stdout",
     "output_type": "stream",
     "text": [
      "R2 score (new):  0.000\n",
      "batch i: 61, episode_len: 7, loss:  1.93293641, entropy:  2.08719349\n"
     ]
    },
    {
     "data": {
      "application/vnd.jupyter.widget-view+json": {
       "model_id": "f6ae7d51ed3c4f5db6d811a3ebd541d6",
       "version_major": 2,
       "version_minor": 0
      },
      "text/plain": [
       "  0%|          | 0/1 [00:00<?, ?it/s]"
      ]
     },
     "metadata": {},
     "output_type": "display_data"
    },
    {
     "name": "stdout",
     "output_type": "stream",
     "text": [
      "R2 score (new): -0.027\n",
      "batch i: 62, episode_len: 9, loss:  1.43064057, entropy:  1.96309447\n"
     ]
    },
    {
     "data": {
      "application/vnd.jupyter.widget-view+json": {
       "model_id": "617c51d614ef4cbbb7fae3300c1d9eb9",
       "version_major": 2,
       "version_minor": 0
      },
      "text/plain": [
       "  0%|          | 0/1 [00:00<?, ?it/s]"
      ]
     },
     "metadata": {},
     "output_type": "display_data"
    },
    {
     "name": "stdout",
     "output_type": "stream",
     "text": [
      "R2 score (new):  0.093\n",
      "batch i: 63, episode_len: 5, loss:  1.53877597, entropy:  1.97731268\n"
     ]
    },
    {
     "data": {
      "application/vnd.jupyter.widget-view+json": {
       "model_id": "482024f5f53544c2a222d220c9f7bf69",
       "version_major": 2,
       "version_minor": 0
      },
      "text/plain": [
       "  0%|          | 0/1 [00:00<?, ?it/s]"
      ]
     },
     "metadata": {},
     "output_type": "display_data"
    },
    {
     "name": "stdout",
     "output_type": "stream",
     "text": [
      "R2 score (new):  0.034\n",
      "batch i: 64, episode_len: 5, loss:  1.54429237, entropy:  1.92885208\n"
     ]
    },
    {
     "data": {
      "application/vnd.jupyter.widget-view+json": {
       "model_id": "3f4dbc1f67074b28965bc4839b778900",
       "version_major": 2,
       "version_minor": 0
      },
      "text/plain": [
       "  0%|          | 0/1 [00:00<?, ?it/s]"
      ]
     },
     "metadata": {},
     "output_type": "display_data"
    },
    {
     "name": "stdout",
     "output_type": "stream",
     "text": [
      "R2 score (new):  0.137\n",
      "batch i: 65, episode_len: 5, loss:  1.42731218, entropy:  1.93751323\n"
     ]
    },
    {
     "data": {
      "application/vnd.jupyter.widget-view+json": {
       "model_id": "dc52437374a44852bc31d5a784014d6f",
       "version_major": 2,
       "version_minor": 0
      },
      "text/plain": [
       "  0%|          | 0/1 [00:00<?, ?it/s]"
      ]
     },
     "metadata": {},
     "output_type": "display_data"
    },
    {
     "name": "stdout",
     "output_type": "stream",
     "text": [
      "R2 score (new):  0.095\n",
      "batch i: 66, episode_len: 7, loss:  1.39080307, entropy:  1.89785957\n"
     ]
    },
    {
     "data": {
      "application/vnd.jupyter.widget-view+json": {
       "model_id": "c8d54ccc121b4d39b319874e0df51457",
       "version_major": 2,
       "version_minor": 0
      },
      "text/plain": [
       "  0%|          | 0/1 [00:00<?, ?it/s]"
      ]
     },
     "metadata": {},
     "output_type": "display_data"
    },
    {
     "name": "stdout",
     "output_type": "stream",
     "text": [
      "R2 score (new):  0.103\n",
      "batch i: 67, episode_len: 5, loss:  1.48611828, entropy:  1.87892377\n"
     ]
    },
    {
     "data": {
      "application/vnd.jupyter.widget-view+json": {
       "model_id": "403af0a739534e1cb494e6bf6aa6e7dc",
       "version_major": 2,
       "version_minor": 0
      },
      "text/plain": [
       "  0%|          | 0/1 [00:00<?, ?it/s]"
      ]
     },
     "metadata": {},
     "output_type": "display_data"
    },
    {
     "name": "stdout",
     "output_type": "stream",
     "text": [
      "R2 score (new):  0.046\n",
      "batch i: 68, episode_len: 7, loss:  1.46443251, entropy:  1.89421117\n"
     ]
    },
    {
     "data": {
      "application/vnd.jupyter.widget-view+json": {
       "model_id": "c5ccef9bac5b419cbac86e8ed5676db2",
       "version_major": 2,
       "version_minor": 0
      },
      "text/plain": [
       "  0%|          | 0/1 [00:00<?, ?it/s]"
      ]
     },
     "metadata": {},
     "output_type": "display_data"
    },
    {
     "name": "stdout",
     "output_type": "stream",
     "text": [
      "R2 score (new):  0.118\n",
      "batch i: 69, episode_len: 5, loss:  1.45540328, entropy:  1.88406181\n"
     ]
    },
    {
     "data": {
      "application/vnd.jupyter.widget-view+json": {
       "model_id": "cfe723d373f44ff6a044bb082a0feacc",
       "version_major": 2,
       "version_minor": 0
      },
      "text/plain": [
       "  0%|          | 0/1 [00:00<?, ?it/s]"
      ]
     },
     "metadata": {},
     "output_type": "display_data"
    },
    {
     "name": "stdout",
     "output_type": "stream",
     "text": [
      "R2 score (new):  0.135\n",
      "batch i: 70, episode_len: 7, loss:  1.41735591, entropy:  1.85991597\n",
      "current self-play batch: 71\n",
      "Updating elo score...\n",
      "Complete.\n",
      "Elo score: AlphaZero:  1500.00, Benchmark:  1660.30\n",
      "   action: 0, prob_X:  11.99%\t⭐️ action: 0, prob_O:  17.60%\n",
      "   action: 1, prob_X:  7.84%\t   action: 1, prob_O:  12.96%\n",
      "   action: 2, prob_X:  13.91%\t   action: 2, prob_O:  10.24%\n",
      "   action: 3, prob_X:  7.80%\t   action: 3, prob_O:  9.75%\n",
      "⭐️ action: 4, prob_X:  18.01%\t   action: 4, prob_O:  0.96%\n",
      "   action: 5, prob_X:  6.80%\t   action: 5, prob_O:  9.00%\n",
      "   action: 6, prob_X:  11.56%\t   action: 6, prob_O:  11.56%\n",
      "   action: 7, prob_X:  8.90%\t   action: 7, prob_O:  12.58%\n",
      "   action: 8, prob_X:  13.18%\t   action: 8, prob_O:  15.35%\n",
      "State-value X: 0.3130\n",
      "State-value O: -0.3027\n",
      "Evaluating best player...\n",
      "Complete.\n"
     ]
    },
    {
     "data": {
      "application/vnd.jupyter.widget-view+json": {
       "model_id": "036064a3b43d4a16824c7e0758b4aa89",
       "version_major": 2,
       "version_minor": 0
      },
      "text/plain": [
       "  0%|          | 0/1 [00:00<?, ?it/s]"
      ]
     },
     "metadata": {},
     "output_type": "display_data"
    },
    {
     "name": "stdout",
     "output_type": "stream",
     "text": [
      "R2 score (new):  0.239\n",
      "batch i: 71, episode_len: 7, loss:  1.45857919, entropy:  1.88930535\n"
     ]
    },
    {
     "data": {
      "application/vnd.jupyter.widget-view+json": {
       "model_id": "7c91f48d34e54c2195c452abed0f4b18",
       "version_major": 2,
       "version_minor": 0
      },
      "text/plain": [
       "  0%|          | 0/1 [00:00<?, ?it/s]"
      ]
     },
     "metadata": {},
     "output_type": "display_data"
    },
    {
     "name": "stdout",
     "output_type": "stream",
     "text": [
      "R2 score (new):  0.328\n",
      "batch i: 72, episode_len: 5, loss:  1.43104693, entropy:  1.84754562\n"
     ]
    },
    {
     "data": {
      "application/vnd.jupyter.widget-view+json": {
       "model_id": "c737578f45d84ca1a48ed49a39bb400d",
       "version_major": 2,
       "version_minor": 0
      },
      "text/plain": [
       "  0%|          | 0/1 [00:00<?, ?it/s]"
      ]
     },
     "metadata": {},
     "output_type": "display_data"
    },
    {
     "name": "stdout",
     "output_type": "stream",
     "text": [
      "R2 score (new):  0.115\n",
      "batch i: 73, episode_len: 5, loss:  1.41164857, entropy:  1.85642087\n"
     ]
    },
    {
     "data": {
      "application/vnd.jupyter.widget-view+json": {
       "model_id": "42e7ecf0feda403ea928fe90fbbec778",
       "version_major": 2,
       "version_minor": 0
      },
      "text/plain": [
       "  0%|          | 0/1 [00:00<?, ?it/s]"
      ]
     },
     "metadata": {},
     "output_type": "display_data"
    },
    {
     "name": "stdout",
     "output_type": "stream",
     "text": [
      "R2 score (new):  0.292\n",
      "batch i: 74, episode_len: 7, loss:  1.45150159, entropy:  1.87967622\n"
     ]
    },
    {
     "data": {
      "application/vnd.jupyter.widget-view+json": {
       "model_id": "bc05534d6fb8425882cc78575fb45f8b",
       "version_major": 2,
       "version_minor": 0
      },
      "text/plain": [
       "  0%|          | 0/1 [00:00<?, ?it/s]"
      ]
     },
     "metadata": {},
     "output_type": "display_data"
    },
    {
     "name": "stdout",
     "output_type": "stream",
     "text": [
      "R2 score (new):  0.307\n",
      "batch i: 75, episode_len: 9, loss:  1.40799271, entropy:  1.87001741\n"
     ]
    },
    {
     "data": {
      "application/vnd.jupyter.widget-view+json": {
       "model_id": "2d1fd8d2f14345be999b0eba9ae8440b",
       "version_major": 2,
       "version_minor": 0
      },
      "text/plain": [
       "  0%|          | 0/1 [00:00<?, ?it/s]"
      ]
     },
     "metadata": {},
     "output_type": "display_data"
    },
    {
     "name": "stdout",
     "output_type": "stream",
     "text": [
      "R2 score (new):  0.204\n",
      "batch i: 76, episode_len: 5, loss:  1.39301224, entropy:  1.83565962\n"
     ]
    },
    {
     "data": {
      "application/vnd.jupyter.widget-view+json": {
       "model_id": "cb04c47434a2414f804983dfe65f3097",
       "version_major": 2,
       "version_minor": 0
      },
      "text/plain": [
       "  0%|          | 0/1 [00:00<?, ?it/s]"
      ]
     },
     "metadata": {},
     "output_type": "display_data"
    },
    {
     "name": "stdout",
     "output_type": "stream",
     "text": [
      "R2 score (new):  0.170\n",
      "batch i: 77, episode_len: 5, loss:  1.36882028, entropy:  1.83641040\n"
     ]
    },
    {
     "data": {
      "application/vnd.jupyter.widget-view+json": {
       "model_id": "d9dcc95deaee4f5786ed641b7f46d3b1",
       "version_major": 2,
       "version_minor": 0
      },
      "text/plain": [
       "  0%|          | 0/1 [00:00<?, ?it/s]"
      ]
     },
     "metadata": {},
     "output_type": "display_data"
    },
    {
     "name": "stdout",
     "output_type": "stream",
     "text": [
      "R2 score (new):  0.108\n",
      "batch i: 78, episode_len: 5, loss:  1.40923145, entropy:  1.85679543\n"
     ]
    },
    {
     "data": {
      "application/vnd.jupyter.widget-view+json": {
       "model_id": "b8b3fb3f25904626a9245deb6bed0b15",
       "version_major": 2,
       "version_minor": 0
      },
      "text/plain": [
       "  0%|          | 0/1 [00:00<?, ?it/s]"
      ]
     },
     "metadata": {},
     "output_type": "display_data"
    },
    {
     "name": "stdout",
     "output_type": "stream",
     "text": [
      "R2 score (new):  0.152\n",
      "batch i: 79, episode_len: 5, loss:  1.35456822, entropy:  1.82333267\n"
     ]
    },
    {
     "data": {
      "application/vnd.jupyter.widget-view+json": {
       "model_id": "3aa80b6e69854e66890ef92fff698da2",
       "version_major": 2,
       "version_minor": 0
      },
      "text/plain": [
       "  0%|          | 0/1 [00:00<?, ?it/s]"
      ]
     },
     "metadata": {},
     "output_type": "display_data"
    },
    {
     "name": "stdout",
     "output_type": "stream",
     "text": [
      "R2 score (new):  0.225\n",
      "batch i: 80, episode_len: 9, loss:  1.29964628, entropy:  1.79048502\n",
      "current self-play batch: 81\n",
      "Updating elo score...\n",
      "Complete.\n",
      "Elo score: AlphaZero:  1500.00, Benchmark:  1678.16\n",
      "   action: 0, prob_X:  11.66%\t⭐️ action: 0, prob_O:  19.60%\n",
      "   action: 1, prob_X:  9.54%\t   action: 1, prob_O:  8.52%\n",
      "   action: 2, prob_X:  10.81%\t   action: 2, prob_O:  12.41%\n",
      "   action: 3, prob_X:  9.92%\t   action: 3, prob_O:  6.74%\n",
      "⭐️ action: 4, prob_X:  15.40%\t   action: 4, prob_O:  0.69%\n",
      "   action: 5, prob_X:  8.61%\t   action: 5, prob_O:  8.94%\n",
      "   action: 6, prob_X:  9.65%\t   action: 6, prob_O:  12.91%\n",
      "   action: 7, prob_X:  10.48%\t   action: 7, prob_O:  10.76%\n",
      "   action: 8, prob_X:  13.93%\t   action: 8, prob_O:  19.44%\n",
      "State-value X: 0.3593\n",
      "State-value O: -0.3551\n",
      "Evaluating best player...\n",
      "Complete.\n"
     ]
    },
    {
     "data": {
      "application/vnd.jupyter.widget-view+json": {
       "model_id": "ef50a9f4b0c14afb9c41fa272e72459b",
       "version_major": 2,
       "version_minor": 0
      },
      "text/plain": [
       "  0%|          | 0/1 [00:00<?, ?it/s]"
      ]
     },
     "metadata": {},
     "output_type": "display_data"
    },
    {
     "name": "stdout",
     "output_type": "stream",
     "text": [
      "R2 score (new):  0.189\n",
      "batch i: 81, episode_len: 6, loss:  1.27388252, entropy:  1.79164028\n"
     ]
    },
    {
     "data": {
      "application/vnd.jupyter.widget-view+json": {
       "model_id": "31a1588aac3e43d886b33d064ebb36fb",
       "version_major": 2,
       "version_minor": 0
      },
      "text/plain": [
       "  0%|          | 0/1 [00:00<?, ?it/s]"
      ]
     },
     "metadata": {},
     "output_type": "display_data"
    },
    {
     "name": "stdout",
     "output_type": "stream",
     "text": [
      "R2 score (new):  0.519\n",
      "batch i: 82, episode_len: 7, loss:  1.45927371, entropy:  1.84129512\n"
     ]
    },
    {
     "data": {
      "application/vnd.jupyter.widget-view+json": {
       "model_id": "4a84f7af65884a5d8c3f83da06989cb4",
       "version_major": 2,
       "version_minor": 0
      },
      "text/plain": [
       "  0%|          | 0/1 [00:00<?, ?it/s]"
      ]
     },
     "metadata": {},
     "output_type": "display_data"
    },
    {
     "name": "stdout",
     "output_type": "stream",
     "text": [
      "R2 score (new):  0.077\n",
      "batch i: 83, episode_len: 7, loss:  1.45766532, entropy:  1.76811481\n"
     ]
    },
    {
     "data": {
      "application/vnd.jupyter.widget-view+json": {
       "model_id": "45c97c7c07c54355b9fa9f8d7cc44107",
       "version_major": 2,
       "version_minor": 0
      },
      "text/plain": [
       "  0%|          | 0/1 [00:00<?, ?it/s]"
      ]
     },
     "metadata": {},
     "output_type": "display_data"
    },
    {
     "name": "stdout",
     "output_type": "stream",
     "text": [
      "R2 score (new):  0.437\n",
      "batch i: 84, episode_len: 6, loss:  1.35174690, entropy:  1.83839393\n"
     ]
    },
    {
     "data": {
      "application/vnd.jupyter.widget-view+json": {
       "model_id": "4349115bc08b4cbf8eb72d045d36c8f1",
       "version_major": 2,
       "version_minor": 0
      },
      "text/plain": [
       "  0%|          | 0/1 [00:00<?, ?it/s]"
      ]
     },
     "metadata": {},
     "output_type": "display_data"
    },
    {
     "name": "stdout",
     "output_type": "stream",
     "text": [
      "R2 score (new): -0.143\n",
      "batch i: 85, episode_len: 7, loss:  1.34894637, entropy:  1.74818516\n"
     ]
    },
    {
     "data": {
      "application/vnd.jupyter.widget-view+json": {
       "model_id": "eb270f3c5af345d58f394af2c1a03bda",
       "version_major": 2,
       "version_minor": 0
      },
      "text/plain": [
       "  0%|          | 0/1 [00:00<?, ?it/s]"
      ]
     },
     "metadata": {},
     "output_type": "display_data"
    },
    {
     "name": "stdout",
     "output_type": "stream",
     "text": [
      "R2 score (new):  0.296\n",
      "batch i: 86, episode_len: 6, loss:  1.31147761, entropy:  1.81512439\n"
     ]
    },
    {
     "data": {
      "application/vnd.jupyter.widget-view+json": {
       "model_id": "94235f2ccb244b09a9ed1a3e57349e3d",
       "version_major": 2,
       "version_minor": 0
      },
      "text/plain": [
       "  0%|          | 0/1 [00:00<?, ?it/s]"
      ]
     },
     "metadata": {},
     "output_type": "display_data"
    },
    {
     "name": "stdout",
     "output_type": "stream",
     "text": [
      "R2 score (new):  0.284\n",
      "batch i: 87, episode_len: 9, loss:  1.30961624, entropy:  1.80098081\n"
     ]
    },
    {
     "data": {
      "application/vnd.jupyter.widget-view+json": {
       "model_id": "f46d18f299c04991bbb4a4b850b764e2",
       "version_major": 2,
       "version_minor": 0
      },
      "text/plain": [
       "  0%|          | 0/1 [00:00<?, ?it/s]"
      ]
     },
     "metadata": {},
     "output_type": "display_data"
    },
    {
     "name": "stdout",
     "output_type": "stream",
     "text": [
      "R2 score (new):  0.320\n",
      "batch i: 88, episode_len: 8, loss:  1.35378098, entropy:  1.80413806\n"
     ]
    },
    {
     "data": {
      "application/vnd.jupyter.widget-view+json": {
       "model_id": "9d2b8820f8b64e208109a8af2f244188",
       "version_major": 2,
       "version_minor": 0
      },
      "text/plain": [
       "  0%|          | 0/1 [00:00<?, ?it/s]"
      ]
     },
     "metadata": {},
     "output_type": "display_data"
    },
    {
     "name": "stdout",
     "output_type": "stream",
     "text": [
      "R2 score (new):  0.209\n",
      "batch i: 89, episode_len: 6, loss:  1.26711404, entropy:  1.75369084\n"
     ]
    },
    {
     "data": {
      "application/vnd.jupyter.widget-view+json": {
       "model_id": "6ee162d3fdd7497baffc9efc0b835206",
       "version_major": 2,
       "version_minor": 0
      },
      "text/plain": [
       "  0%|          | 0/1 [00:00<?, ?it/s]"
      ]
     },
     "metadata": {},
     "output_type": "display_data"
    },
    {
     "name": "stdout",
     "output_type": "stream",
     "text": [
      "R2 score (new):  0.168\n",
      "batch i: 90, episode_len: 6, loss:  1.34234489, entropy:  1.70967019\n",
      "current self-play batch: 91\n",
      "Updating elo score...\n",
      "Complete.\n",
      "Elo score: AlphaZero:  1500.00, Benchmark:  1694.75\n",
      "   action: 0, prob_X:  12.80%\t   action: 0, prob_O:  17.82%\n",
      "   action: 1, prob_X:  9.64%\t   action: 1, prob_O:  11.16%\n",
      "   action: 2, prob_X:  12.37%\t   action: 2, prob_O:  10.41%\n",
      "   action: 3, prob_X:  10.72%\t   action: 3, prob_O:  8.63%\n",
      "   action: 4, prob_X:  12.13%\t   action: 4, prob_O:  0.47%\n",
      "   action: 5, prob_X:  7.92%\t   action: 5, prob_O:  8.03%\n",
      "   action: 6, prob_X:  10.96%\t   action: 6, prob_O:  13.02%\n",
      "   action: 7, prob_X:  10.22%\t   action: 7, prob_O:  11.05%\n",
      "⭐️ action: 8, prob_X:  13.24%\t⭐️ action: 8, prob_O:  19.41%\n",
      "State-value X: 0.3787\n",
      "State-value O: -0.3946\n",
      "Evaluating best player...\n",
      "Complete.\n"
     ]
    },
    {
     "data": {
      "application/vnd.jupyter.widget-view+json": {
       "model_id": "a7420eda5eb24c179c4593ffa9b0ac1b",
       "version_major": 2,
       "version_minor": 0
      },
      "text/plain": [
       "  0%|          | 0/1 [00:00<?, ?it/s]"
      ]
     },
     "metadata": {},
     "output_type": "display_data"
    },
    {
     "name": "stdout",
     "output_type": "stream",
     "text": [
      "R2 score (new):  0.202\n",
      "batch i: 91, episode_len: 5, loss:  1.28314495, entropy:  1.73173332\n"
     ]
    },
    {
     "data": {
      "application/vnd.jupyter.widget-view+json": {
       "model_id": "f7199a6220e94d0397d7bea1a23ddeb9",
       "version_major": 2,
       "version_minor": 0
      },
      "text/plain": [
       "  0%|          | 0/1 [00:00<?, ?it/s]"
      ]
     },
     "metadata": {},
     "output_type": "display_data"
    },
    {
     "name": "stdout",
     "output_type": "stream",
     "text": [
      "R2 score (new):  0.134\n",
      "batch i: 92, episode_len: 6, loss:  1.35083498, entropy:  1.76349020\n"
     ]
    },
    {
     "data": {
      "application/vnd.jupyter.widget-view+json": {
       "model_id": "d35f336a57cb4f708f0e0e4b70000453",
       "version_major": 2,
       "version_minor": 0
      },
      "text/plain": [
       "  0%|          | 0/1 [00:00<?, ?it/s]"
      ]
     },
     "metadata": {},
     "output_type": "display_data"
    },
    {
     "name": "stdout",
     "output_type": "stream",
     "text": [
      "R2 score (new):  0.181\n",
      "batch i: 93, episode_len: 9, loss:  1.25421787, entropy:  1.71484005\n"
     ]
    },
    {
     "data": {
      "application/vnd.jupyter.widget-view+json": {
       "model_id": "4e710fe377de44d888af0346f28e5f71",
       "version_major": 2,
       "version_minor": 0
      },
      "text/plain": [
       "  0%|          | 0/1 [00:00<?, ?it/s]"
      ]
     },
     "metadata": {},
     "output_type": "display_data"
    },
    {
     "name": "stdout",
     "output_type": "stream",
     "text": [
      "R2 score (new):  0.243\n",
      "batch i: 94, episode_len: 5, loss:  1.24810987, entropy:  1.74286699\n"
     ]
    },
    {
     "data": {
      "application/vnd.jupyter.widget-view+json": {
       "model_id": "7e4aff55e6bd40af8ff8646a0657385f",
       "version_major": 2,
       "version_minor": 0
      },
      "text/plain": [
       "  0%|          | 0/1 [00:00<?, ?it/s]"
      ]
     },
     "metadata": {},
     "output_type": "display_data"
    },
    {
     "name": "stdout",
     "output_type": "stream",
     "text": [
      "R2 score (new):  0.130\n",
      "batch i: 95, episode_len: 5, loss:  1.28708366, entropy:  1.70554912\n"
     ]
    },
    {
     "data": {
      "application/vnd.jupyter.widget-view+json": {
       "model_id": "c4149b2880d44c8484916cc5bebe898a",
       "version_major": 2,
       "version_minor": 0
      },
      "text/plain": [
       "  0%|          | 0/1 [00:00<?, ?it/s]"
      ]
     },
     "metadata": {},
     "output_type": "display_data"
    },
    {
     "name": "stdout",
     "output_type": "stream",
     "text": [
      "R2 score (new):  0.219\n",
      "batch i: 96, episode_len: 7, loss:  1.25429925, entropy:  1.69939315\n"
     ]
    },
    {
     "data": {
      "application/vnd.jupyter.widget-view+json": {
       "model_id": "a89be213174948b5bf2b3de7026e6f47",
       "version_major": 2,
       "version_minor": 0
      },
      "text/plain": [
       "  0%|          | 0/1 [00:00<?, ?it/s]"
      ]
     },
     "metadata": {},
     "output_type": "display_data"
    },
    {
     "name": "stdout",
     "output_type": "stream",
     "text": [
      "R2 score (new):  0.142\n",
      "batch i: 97, episode_len: 7, loss:  1.32069259, entropy:  1.73451626\n"
     ]
    },
    {
     "data": {
      "application/vnd.jupyter.widget-view+json": {
       "model_id": "6fb42aa372984decba07eb20d844a8fa",
       "version_major": 2,
       "version_minor": 0
      },
      "text/plain": [
       "  0%|          | 0/1 [00:00<?, ?it/s]"
      ]
     },
     "metadata": {},
     "output_type": "display_data"
    },
    {
     "name": "stdout",
     "output_type": "stream",
     "text": [
      "R2 score (new):  0.122\n",
      "batch i: 98, episode_len: 7, loss:  1.31186539, entropy:  1.70573354\n"
     ]
    },
    {
     "data": {
      "application/vnd.jupyter.widget-view+json": {
       "model_id": "4c0f874059e942c4abce3eba40623332",
       "version_major": 2,
       "version_minor": 0
      },
      "text/plain": [
       "  0%|          | 0/1 [00:00<?, ?it/s]"
      ]
     },
     "metadata": {},
     "output_type": "display_data"
    },
    {
     "name": "stdout",
     "output_type": "stream",
     "text": [
      "R2 score (new):  0.153\n",
      "batch i: 99, episode_len: 5, loss:  1.24449969, entropy:  1.73016322\n"
     ]
    },
    {
     "data": {
      "application/vnd.jupyter.widget-view+json": {
       "model_id": "4b75f537f3d94db4934a420dadbe84ac",
       "version_major": 2,
       "version_minor": 0
      },
      "text/plain": [
       "  0%|          | 0/1 [00:00<?, ?it/s]"
      ]
     },
     "metadata": {},
     "output_type": "display_data"
    },
    {
     "name": "stdout",
     "output_type": "stream",
     "text": [
      "R2 score (new):  0.296\n",
      "batch i: 100, episode_len: 6, loss:  1.25249398, entropy:  1.70126951\n",
      "current self-play batch: 101\n",
      "Updating elo score...\n",
      "Complete.\n",
      "Elo score: AlphaZero:  1515.70, Benchmark:  1679.05\n",
      "   action: 0, prob_X:  10.84%\t   action: 0, prob_O:  15.51%\n",
      "   action: 1, prob_X:  10.48%\t   action: 1, prob_O:  8.73%\n",
      "   action: 2, prob_X:  12.44%\t   action: 2, prob_O:  12.85%\n",
      "   action: 3, prob_X:  9.88%\t   action: 3, prob_O:  9.54%\n",
      "⭐️ action: 4, prob_X:  15.10%\t   action: 4, prob_O:  0.33%\n",
      "   action: 5, prob_X:  7.99%\t   action: 5, prob_O:  8.54%\n",
      "   action: 6, prob_X:  9.98%\t⭐️ action: 6, prob_O:  19.38%\n",
      "   action: 7, prob_X:  10.14%\t   action: 7, prob_O:  8.54%\n",
      "   action: 8, prob_X:  13.15%\t   action: 8, prob_O:  16.58%\n",
      "State-value X: 0.3887\n",
      "State-value O: -0.4140\n",
      "Evaluating best player...\n",
      "Complete.\n"
     ]
    },
    {
     "data": {
      "application/vnd.jupyter.widget-view+json": {
       "model_id": "82f498d6e0c1458a962b95f3ab6c7a8d",
       "version_major": 2,
       "version_minor": 0
      },
      "text/plain": [
       "  0%|          | 0/1 [00:00<?, ?it/s]"
      ]
     },
     "metadata": {},
     "output_type": "display_data"
    },
    {
     "name": "stdout",
     "output_type": "stream",
     "text": [
      "R2 score (new):  0.161\n",
      "batch i: 101, episode_len: 5, loss:  1.27810912, entropy:  1.71494830\n"
     ]
    },
    {
     "data": {
      "application/vnd.jupyter.widget-view+json": {
       "model_id": "18b43166ccc045eeb49a5999d8bcbee0",
       "version_major": 2,
       "version_minor": 0
      },
      "text/plain": [
       "  0%|          | 0/1 [00:00<?, ?it/s]"
      ]
     },
     "metadata": {},
     "output_type": "display_data"
    },
    {
     "name": "stdout",
     "output_type": "stream",
     "text": [
      "R2 score (new):  0.057\n",
      "batch i: 102, episode_len: 9, loss:  1.20541457, entropy:  1.70162010\n"
     ]
    },
    {
     "data": {
      "application/vnd.jupyter.widget-view+json": {
       "model_id": "a1511c1b3a6448ce8e2151414f178c67",
       "version_major": 2,
       "version_minor": 0
      },
      "text/plain": [
       "  0%|          | 0/1 [00:00<?, ?it/s]"
      ]
     },
     "metadata": {},
     "output_type": "display_data"
    },
    {
     "name": "stdout",
     "output_type": "stream",
     "text": [
      "R2 score (new):  0.007\n",
      "batch i: 103, episode_len: 6, loss:  1.27614259, entropy:  1.58316553\n"
     ]
    },
    {
     "data": {
      "application/vnd.jupyter.widget-view+json": {
       "model_id": "4078a8f8d99e403596501d5a9149b046",
       "version_major": 2,
       "version_minor": 0
      },
      "text/plain": [
       "  0%|          | 0/1 [00:00<?, ?it/s]"
      ]
     },
     "metadata": {},
     "output_type": "display_data"
    },
    {
     "name": "stdout",
     "output_type": "stream",
     "text": [
      "R2 score (new):  0.328\n",
      "batch i: 104, episode_len: 5, loss:  1.18152475, entropy:  1.64695346\n"
     ]
    },
    {
     "data": {
      "application/vnd.jupyter.widget-view+json": {
       "model_id": "2e4485d27b4045a1a91a06d1d46eea42",
       "version_major": 2,
       "version_minor": 0
      },
      "text/plain": [
       "  0%|          | 0/1 [00:00<?, ?it/s]"
      ]
     },
     "metadata": {},
     "output_type": "display_data"
    },
    {
     "name": "stdout",
     "output_type": "stream",
     "text": [
      "R2 score (new): -0.039\n",
      "batch i: 105, episode_len: 5, loss:  1.24415972, entropy:  1.68049467\n"
     ]
    },
    {
     "data": {
      "application/vnd.jupyter.widget-view+json": {
       "model_id": "8845e28373344f979f05b25c58c230b4",
       "version_major": 2,
       "version_minor": 0
      },
      "text/plain": [
       "  0%|          | 0/1 [00:00<?, ?it/s]"
      ]
     },
     "metadata": {},
     "output_type": "display_data"
    },
    {
     "name": "stdout",
     "output_type": "stream",
     "text": [
      "R2 score (new):  0.153\n",
      "batch i: 106, episode_len: 8, loss:  1.20743015, entropy:  1.65679395\n"
     ]
    },
    {
     "data": {
      "application/vnd.jupyter.widget-view+json": {
       "model_id": "fffe8066c44145899300601741f5ad0d",
       "version_major": 2,
       "version_minor": 0
      },
      "text/plain": [
       "  0%|          | 0/1 [00:00<?, ?it/s]"
      ]
     },
     "metadata": {},
     "output_type": "display_data"
    },
    {
     "name": "stdout",
     "output_type": "stream",
     "text": [
      "R2 score (new): -0.014\n",
      "batch i: 107, episode_len: 7, loss:  1.16635864, entropy:  1.66051221\n"
     ]
    },
    {
     "data": {
      "application/vnd.jupyter.widget-view+json": {
       "model_id": "f141d38897114e158f8a36b82bca0ae9",
       "version_major": 2,
       "version_minor": 0
      },
      "text/plain": [
       "  0%|          | 0/1 [00:00<?, ?it/s]"
      ]
     },
     "metadata": {},
     "output_type": "display_data"
    },
    {
     "name": "stdout",
     "output_type": "stream",
     "text": [
      "R2 score (new):  0.254\n",
      "batch i: 108, episode_len: 7, loss:  1.24643615, entropy:  1.65920031\n"
     ]
    },
    {
     "data": {
      "application/vnd.jupyter.widget-view+json": {
       "model_id": "2838778ef20540c2a36457430704350b",
       "version_major": 2,
       "version_minor": 0
      },
      "text/plain": [
       "  0%|          | 0/1 [00:00<?, ?it/s]"
      ]
     },
     "metadata": {},
     "output_type": "display_data"
    },
    {
     "name": "stdout",
     "output_type": "stream",
     "text": [
      "R2 score (new):  0.294\n",
      "batch i: 109, episode_len: 9, loss:  1.16340076, entropy:  1.61096728\n"
     ]
    },
    {
     "data": {
      "application/vnd.jupyter.widget-view+json": {
       "model_id": "198fee7c247b4c90a63a5e4d09eb2f38",
       "version_major": 2,
       "version_minor": 0
      },
      "text/plain": [
       "  0%|          | 0/1 [00:00<?, ?it/s]"
      ]
     },
     "metadata": {},
     "output_type": "display_data"
    },
    {
     "name": "stdout",
     "output_type": "stream",
     "text": [
      "R2 score (new):  0.199\n",
      "batch i: 110, episode_len: 7, loss:  1.19321353, entropy:  1.54883039\n",
      "current self-play batch: 111\n",
      "Updating elo score...\n",
      "Complete.\n",
      "Elo score: AlphaZero:  1500.00, Benchmark:  1696.37\n",
      "⭐️ action: 0, prob_X:  14.02%\t   action: 0, prob_O:  13.00%\n",
      "   action: 1, prob_X:  10.94%\t   action: 1, prob_O:  8.39%\n",
      "   action: 2, prob_X:  11.38%\t   action: 2, prob_O:  17.80%\n",
      "   action: 3, prob_X:  10.60%\t   action: 3, prob_O:  8.19%\n",
      "   action: 4, prob_X:  9.25%\t   action: 4, prob_O:  0.30%\n",
      "   action: 5, prob_X:  8.30%\t   action: 5, prob_O:  9.09%\n",
      "   action: 6, prob_X:  11.75%\t⭐️ action: 6, prob_O:  18.68%\n",
      "   action: 7, prob_X:  10.23%\t   action: 7, prob_O:  7.48%\n",
      "   action: 8, prob_X:  13.53%\t   action: 8, prob_O:  17.06%\n",
      "State-value X: 0.3642\n",
      "State-value O: -0.3960\n",
      "Evaluating best player...\n",
      "Complete.\n",
      "New best policy!!\n"
     ]
    },
    {
     "data": {
      "application/vnd.jupyter.widget-view+json": {
       "model_id": "29385c14fcb94965af706560d5adb01e",
       "version_major": 2,
       "version_minor": 0
      },
      "text/plain": [
       "  0%|          | 0/1 [00:00<?, ?it/s]"
      ]
     },
     "metadata": {},
     "output_type": "display_data"
    },
    {
     "name": "stdout",
     "output_type": "stream",
     "text": [
      "R2 score (new):  0.180\n",
      "batch i: 111, episode_len: 7, loss:  1.14689476, entropy:  1.67382896\n"
     ]
    },
    {
     "data": {
      "application/vnd.jupyter.widget-view+json": {
       "model_id": "3c758c9db6724cf9b04a8bce70f4d0ba",
       "version_major": 2,
       "version_minor": 0
      },
      "text/plain": [
       "  0%|          | 0/1 [00:00<?, ?it/s]"
      ]
     },
     "metadata": {},
     "output_type": "display_data"
    },
    {
     "name": "stdout",
     "output_type": "stream",
     "text": [
      "R2 score (new):  0.201\n",
      "batch i: 112, episode_len: 5, loss:  1.19909031, entropy:  1.62927747\n"
     ]
    },
    {
     "data": {
      "application/vnd.jupyter.widget-view+json": {
       "model_id": "5777011ffd5c4fa2977d78106a288111",
       "version_major": 2,
       "version_minor": 0
      },
      "text/plain": [
       "  0%|          | 0/1 [00:00<?, ?it/s]"
      ]
     },
     "metadata": {},
     "output_type": "display_data"
    },
    {
     "name": "stdout",
     "output_type": "stream",
     "text": [
      "R2 score (new):  0.120\n",
      "batch i: 113, episode_len: 7, loss:  1.16495893, entropy:  1.60551584\n"
     ]
    },
    {
     "data": {
      "application/vnd.jupyter.widget-view+json": {
       "model_id": "48394fe993714bd3b68f56749f835485",
       "version_major": 2,
       "version_minor": 0
      },
      "text/plain": [
       "  0%|          | 0/1 [00:00<?, ?it/s]"
      ]
     },
     "metadata": {},
     "output_type": "display_data"
    },
    {
     "name": "stdout",
     "output_type": "stream",
     "text": [
      "R2 score (new):  0.011\n",
      "batch i: 114, episode_len: 5, loss:  1.17924662, entropy:  1.60348380\n"
     ]
    },
    {
     "data": {
      "application/vnd.jupyter.widget-view+json": {
       "model_id": "f975125ac0a74ea2aadb78471afed0df",
       "version_major": 2,
       "version_minor": 0
      },
      "text/plain": [
       "  0%|          | 0/1 [00:00<?, ?it/s]"
      ]
     },
     "metadata": {},
     "output_type": "display_data"
    },
    {
     "name": "stdout",
     "output_type": "stream",
     "text": [
      "R2 score (new):  0.166\n",
      "batch i: 115, episode_len: 5, loss:  1.10635365, entropy:  1.53216434\n"
     ]
    },
    {
     "data": {
      "application/vnd.jupyter.widget-view+json": {
       "model_id": "045034a664ed4ab3b44dee8f79686833",
       "version_major": 2,
       "version_minor": 0
      },
      "text/plain": [
       "  0%|          | 0/1 [00:00<?, ?it/s]"
      ]
     },
     "metadata": {},
     "output_type": "display_data"
    },
    {
     "name": "stdout",
     "output_type": "stream",
     "text": [
      "R2 score (new):  0.089\n",
      "batch i: 116, episode_len: 5, loss:  1.12005563, entropy:  1.66555202\n"
     ]
    },
    {
     "data": {
      "application/vnd.jupyter.widget-view+json": {
       "model_id": "eea3a2c7350d4439ad29bd254ec2f1ce",
       "version_major": 2,
       "version_minor": 0
      },
      "text/plain": [
       "  0%|          | 0/1 [00:00<?, ?it/s]"
      ]
     },
     "metadata": {},
     "output_type": "display_data"
    },
    {
     "name": "stdout",
     "output_type": "stream",
     "text": [
      "R2 score (new):  0.165\n",
      "batch i: 117, episode_len: 7, loss:  1.20744730, entropy:  1.61826980\n"
     ]
    },
    {
     "data": {
      "application/vnd.jupyter.widget-view+json": {
       "model_id": "dfeddaeaf1714bcdb22b3b49f0226aed",
       "version_major": 2,
       "version_minor": 0
      },
      "text/plain": [
       "  0%|          | 0/1 [00:00<?, ?it/s]"
      ]
     },
     "metadata": {},
     "output_type": "display_data"
    },
    {
     "name": "stdout",
     "output_type": "stream",
     "text": [
      "R2 score (new):  0.262\n",
      "batch i: 118, episode_len: 5, loss:  1.13302088, entropy:  1.59551835\n"
     ]
    },
    {
     "data": {
      "application/vnd.jupyter.widget-view+json": {
       "model_id": "f2c61828c6b149fab5e195ff931aab64",
       "version_major": 2,
       "version_minor": 0
      },
      "text/plain": [
       "  0%|          | 0/1 [00:00<?, ?it/s]"
      ]
     },
     "metadata": {},
     "output_type": "display_data"
    },
    {
     "name": "stdout",
     "output_type": "stream",
     "text": [
      "R2 score (new):  0.177\n",
      "batch i: 119, episode_len: 9, loss:  1.17660768, entropy:  1.54506946\n"
     ]
    },
    {
     "data": {
      "application/vnd.jupyter.widget-view+json": {
       "model_id": "18ae31f8a7e844468c20955b12fec845",
       "version_major": 2,
       "version_minor": 0
      },
      "text/plain": [
       "  0%|          | 0/1 [00:00<?, ?it/s]"
      ]
     },
     "metadata": {},
     "output_type": "display_data"
    },
    {
     "name": "stdout",
     "output_type": "stream",
     "text": [
      "R2 score (new):  0.248\n",
      "batch i: 120, episode_len: 7, loss:  1.04780624, entropy:  1.57588136\n",
      "current self-play batch: 121\n",
      "Updating elo score...\n",
      "Complete.\n",
      "Elo score: AlphaZero:  1500.00, Benchmark:  1696.57\n",
      "   action: 0, prob_X:  13.12%\t   action: 0, prob_O:  13.69%\n",
      "   action: 1, prob_X:  10.47%\t   action: 1, prob_O:  5.37%\n",
      "   action: 2, prob_X:  13.16%\t   action: 2, prob_O:  19.08%\n",
      "   action: 3, prob_X:  8.19%\t   action: 3, prob_O:  10.09%\n",
      "   action: 4, prob_X:  11.30%\t   action: 4, prob_O:  0.18%\n",
      "   action: 5, prob_X:  7.29%\t   action: 5, prob_O:  9.39%\n",
      "   action: 6, prob_X:  12.49%\t⭐️ action: 6, prob_O:  24.42%\n",
      "   action: 7, prob_X:  9.87%\t   action: 7, prob_O:  4.70%\n",
      "⭐️ action: 8, prob_X:  14.11%\t   action: 8, prob_O:  13.08%\n",
      "State-value X: 0.4001\n",
      "State-value O: -0.4352\n",
      "Evaluating best player...\n",
      "Complete.\n"
     ]
    },
    {
     "data": {
      "application/vnd.jupyter.widget-view+json": {
       "model_id": "a9266a3f02ed4807bf7bca26583c86a4",
       "version_major": 2,
       "version_minor": 0
      },
      "text/plain": [
       "  0%|          | 0/1 [00:00<?, ?it/s]"
      ]
     },
     "metadata": {},
     "output_type": "display_data"
    },
    {
     "name": "stdout",
     "output_type": "stream",
     "text": [
      "R2 score (new):  0.000\n",
      "batch i: 121, episode_len: 9, loss:  1.14716065, entropy:  1.45759630\n"
     ]
    },
    {
     "data": {
      "application/vnd.jupyter.widget-view+json": {
       "model_id": "f3d830fa17124398b75ebc7cace56efa",
       "version_major": 2,
       "version_minor": 0
      },
      "text/plain": [
       "  0%|          | 0/1 [00:00<?, ?it/s]"
      ]
     },
     "metadata": {},
     "output_type": "display_data"
    },
    {
     "name": "stdout",
     "output_type": "stream",
     "text": [
      "R2 score (new):  0.345\n",
      "batch i: 122, episode_len: 7, loss:  1.14796948, entropy:  1.68035245\n"
     ]
    },
    {
     "data": {
      "application/vnd.jupyter.widget-view+json": {
       "model_id": "d0a8c421c52f466fa23e6183ea1410c2",
       "version_major": 2,
       "version_minor": 0
      },
      "text/plain": [
       "  0%|          | 0/1 [00:00<?, ?it/s]"
      ]
     },
     "metadata": {},
     "output_type": "display_data"
    },
    {
     "name": "stdout",
     "output_type": "stream",
     "text": [
      "R2 score (new):  0.246\n",
      "batch i: 123, episode_len: 5, loss:  1.12810109, entropy:  1.72932792\n"
     ]
    },
    {
     "data": {
      "application/vnd.jupyter.widget-view+json": {
       "model_id": "d050a3a1863d40129525d11fc22d2417",
       "version_major": 2,
       "version_minor": 0
      },
      "text/plain": [
       "  0%|          | 0/1 [00:00<?, ?it/s]"
      ]
     },
     "metadata": {},
     "output_type": "display_data"
    },
    {
     "name": "stdout",
     "output_type": "stream",
     "text": [
      "R2 score (new): -0.043\n",
      "batch i: 124, episode_len: 7, loss:  1.11466686, entropy:  1.54589880\n"
     ]
    },
    {
     "data": {
      "application/vnd.jupyter.widget-view+json": {
       "model_id": "d406afd648b94e6b85f2545a984abbb8",
       "version_major": 2,
       "version_minor": 0
      },
      "text/plain": [
       "  0%|          | 0/1 [00:00<?, ?it/s]"
      ]
     },
     "metadata": {},
     "output_type": "display_data"
    },
    {
     "name": "stdout",
     "output_type": "stream",
     "text": [
      "R2 score (new):  0.447\n",
      "batch i: 125, episode_len: 7, loss:  1.18987379, entropy:  1.56538844\n"
     ]
    },
    {
     "data": {
      "application/vnd.jupyter.widget-view+json": {
       "model_id": "d4bc8edf1c1a4c5982faff78a78f3a1a",
       "version_major": 2,
       "version_minor": 0
      },
      "text/plain": [
       "  0%|          | 0/1 [00:00<?, ?it/s]"
      ]
     },
     "metadata": {},
     "output_type": "display_data"
    },
    {
     "name": "stdout",
     "output_type": "stream",
     "text": [
      "R2 score (new):  0.269\n",
      "batch i: 126, episode_len: 9, loss:  1.09064053, entropy:  1.45731449\n"
     ]
    },
    {
     "data": {
      "application/vnd.jupyter.widget-view+json": {
       "model_id": "70401cefc0b94f10b5c6c79833b602ee",
       "version_major": 2,
       "version_minor": 0
      },
      "text/plain": [
       "  0%|          | 0/1 [00:00<?, ?it/s]"
      ]
     },
     "metadata": {},
     "output_type": "display_data"
    },
    {
     "name": "stdout",
     "output_type": "stream",
     "text": [
      "R2 score (new):  0.262\n",
      "batch i: 127, episode_len: 5, loss:  1.06835101, entropy:  1.56409442\n"
     ]
    },
    {
     "data": {
      "application/vnd.jupyter.widget-view+json": {
       "model_id": "60882036a8284b40816cdbbecd355fd4",
       "version_major": 2,
       "version_minor": 0
      },
      "text/plain": [
       "  0%|          | 0/1 [00:00<?, ?it/s]"
      ]
     },
     "metadata": {},
     "output_type": "display_data"
    },
    {
     "name": "stdout",
     "output_type": "stream",
     "text": [
      "R2 score (new):  0.233\n",
      "batch i: 128, episode_len: 9, loss:  1.11342221, entropy:  1.47048974\n"
     ]
    },
    {
     "data": {
      "application/vnd.jupyter.widget-view+json": {
       "model_id": "599bef749c0b4bc1a4ac5233624d3cc6",
       "version_major": 2,
       "version_minor": 0
      },
      "text/plain": [
       "  0%|          | 0/1 [00:00<?, ?it/s]"
      ]
     },
     "metadata": {},
     "output_type": "display_data"
    },
    {
     "name": "stdout",
     "output_type": "stream",
     "text": [
      "R2 score (new):  0.092\n",
      "batch i: 129, episode_len: 7, loss:  1.10968531, entropy:  1.48786283\n"
     ]
    },
    {
     "data": {
      "application/vnd.jupyter.widget-view+json": {
       "model_id": "831008d8a55e42de86827294e2da8d16",
       "version_major": 2,
       "version_minor": 0
      },
      "text/plain": [
       "  0%|          | 0/1 [00:00<?, ?it/s]"
      ]
     },
     "metadata": {},
     "output_type": "display_data"
    },
    {
     "name": "stdout",
     "output_type": "stream",
     "text": [
      "R2 score (new):  0.197\n",
      "batch i: 130, episode_len: 5, loss:  1.06294691, entropy:  1.47474074\n",
      "current self-play batch: 131\n",
      "Updating elo score...\n",
      "Complete.\n",
      "Elo score: AlphaZero:  1500.00, Benchmark:  1696.74\n",
      "   action: 0, prob_X:  12.19%\t⭐️ action: 0, prob_O:  19.66%\n",
      "   action: 1, prob_X:  10.27%\t   action: 1, prob_O:  7.98%\n",
      "   action: 2, prob_X:  12.03%\t   action: 2, prob_O:  14.89%\n",
      "   action: 3, prob_X:  9.96%\t   action: 3, prob_O:  7.97%\n",
      "   action: 4, prob_X:  11.07%\t   action: 4, prob_O:  0.19%\n",
      "   action: 5, prob_X:  9.41%\t   action: 5, prob_O:  7.43%\n",
      "   action: 6, prob_X:  11.86%\t   action: 6, prob_O:  19.29%\n",
      "   action: 7, prob_X:  10.41%\t   action: 7, prob_O:  6.87%\n",
      "⭐️ action: 8, prob_X:  12.79%\t   action: 8, prob_O:  15.71%\n",
      "State-value X: 0.3803\n",
      "State-value O: -0.4433\n",
      "Evaluating best player...\n",
      "Complete.\n"
     ]
    },
    {
     "data": {
      "application/vnd.jupyter.widget-view+json": {
       "model_id": "afb9a9d5af004878b060234e64c380dc",
       "version_major": 2,
       "version_minor": 0
      },
      "text/plain": [
       "  0%|          | 0/1 [00:00<?, ?it/s]"
      ]
     },
     "metadata": {},
     "output_type": "display_data"
    },
    {
     "name": "stdout",
     "output_type": "stream",
     "text": [
      "R2 score (new):  0.360\n",
      "batch i: 131, episode_len: 7, loss:  1.04371949, entropy:  1.48092353\n"
     ]
    },
    {
     "data": {
      "application/vnd.jupyter.widget-view+json": {
       "model_id": "9307067aa0614bdabdddcd209f9f8f3e",
       "version_major": 2,
       "version_minor": 0
      },
      "text/plain": [
       "  0%|          | 0/1 [00:00<?, ?it/s]"
      ]
     },
     "metadata": {},
     "output_type": "display_data"
    },
    {
     "name": "stdout",
     "output_type": "stream",
     "text": [
      "R2 score (new):  0.396\n",
      "batch i: 132, episode_len: 9, loss:  1.08707493, entropy:  1.45462728\n"
     ]
    },
    {
     "data": {
      "application/vnd.jupyter.widget-view+json": {
       "model_id": "54533dc7733942b590695e2ed60fdaa0",
       "version_major": 2,
       "version_minor": 0
      },
      "text/plain": [
       "  0%|          | 0/1 [00:00<?, ?it/s]"
      ]
     },
     "metadata": {},
     "output_type": "display_data"
    },
    {
     "name": "stdout",
     "output_type": "stream",
     "text": [
      "R2 score (new):  0.267\n",
      "batch i: 133, episode_len: 9, loss:  1.02758357, entropy:  1.51243031\n"
     ]
    },
    {
     "data": {
      "application/vnd.jupyter.widget-view+json": {
       "model_id": "91a8efd5fa4c4dcf8cdd071570a1c546",
       "version_major": 2,
       "version_minor": 0
      },
      "text/plain": [
       "  0%|          | 0/1 [00:00<?, ?it/s]"
      ]
     },
     "metadata": {},
     "output_type": "display_data"
    },
    {
     "name": "stdout",
     "output_type": "stream",
     "text": [
      "R2 score (new):  0.281\n",
      "batch i: 134, episode_len: 9, loss:  1.06127189, entropy:  1.57289183\n"
     ]
    },
    {
     "data": {
      "application/vnd.jupyter.widget-view+json": {
       "model_id": "4843479f4c37484a9e84d2798e479581",
       "version_major": 2,
       "version_minor": 0
      },
      "text/plain": [
       "  0%|          | 0/1 [00:00<?, ?it/s]"
      ]
     },
     "metadata": {},
     "output_type": "display_data"
    },
    {
     "name": "stdout",
     "output_type": "stream",
     "text": [
      "R2 score (new):  0.190\n",
      "batch i: 135, episode_len: 7, loss:  1.03163817, entropy:  1.42629516\n"
     ]
    },
    {
     "data": {
      "application/vnd.jupyter.widget-view+json": {
       "model_id": "614538fda5734968bddd1abf3c1d90c2",
       "version_major": 2,
       "version_minor": 0
      },
      "text/plain": [
       "  0%|          | 0/1 [00:00<?, ?it/s]"
      ]
     },
     "metadata": {},
     "output_type": "display_data"
    },
    {
     "name": "stdout",
     "output_type": "stream",
     "text": [
      "R2 score (new):  0.197\n",
      "batch i: 136, episode_len: 9, loss:  1.02783901, entropy:  1.42957568\n"
     ]
    },
    {
     "data": {
      "application/vnd.jupyter.widget-view+json": {
       "model_id": "13ef8da2d953419cb7768c7547deee66",
       "version_major": 2,
       "version_minor": 0
      },
      "text/plain": [
       "  0%|          | 0/1 [00:00<?, ?it/s]"
      ]
     },
     "metadata": {},
     "output_type": "display_data"
    },
    {
     "name": "stdout",
     "output_type": "stream",
     "text": [
      "R2 score (new):  0.259\n",
      "batch i: 137, episode_len: 9, loss:  1.05657908, entropy:  1.45645428\n"
     ]
    },
    {
     "data": {
      "application/vnd.jupyter.widget-view+json": {
       "model_id": "e5fab076afe0452fa6ff052f8c78e6fa",
       "version_major": 2,
       "version_minor": 0
      },
      "text/plain": [
       "  0%|          | 0/1 [00:00<?, ?it/s]"
      ]
     },
     "metadata": {},
     "output_type": "display_data"
    },
    {
     "name": "stdout",
     "output_type": "stream",
     "text": [
      "R2 score (new):  0.087\n",
      "batch i: 138, episode_len: 9, loss:  1.06043274, entropy:  1.47894239\n"
     ]
    },
    {
     "data": {
      "application/vnd.jupyter.widget-view+json": {
       "model_id": "1a654b8939b741e9bff4694d665ad64d",
       "version_major": 2,
       "version_minor": 0
      },
      "text/plain": [
       "  0%|          | 0/1 [00:00<?, ?it/s]"
      ]
     },
     "metadata": {},
     "output_type": "display_data"
    },
    {
     "name": "stdout",
     "output_type": "stream",
     "text": [
      "R2 score (new):  0.283\n",
      "batch i: 139, episode_len: 5, loss:  1.11204731, entropy:  1.50789213\n"
     ]
    },
    {
     "data": {
      "application/vnd.jupyter.widget-view+json": {
       "model_id": "4a93b01162cf4faa84a04fb016b60cf4",
       "version_major": 2,
       "version_minor": 0
      },
      "text/plain": [
       "  0%|          | 0/1 [00:00<?, ?it/s]"
      ]
     },
     "metadata": {},
     "output_type": "display_data"
    },
    {
     "name": "stdout",
     "output_type": "stream",
     "text": [
      "R2 score (new):  0.435\n",
      "batch i: 140, episode_len: 7, loss:  1.03677856, entropy:  1.34990811\n",
      "current self-play batch: 141\n",
      "Updating elo score...\n",
      "Complete.\n",
      "Elo score: AlphaZero:  1500.00, Benchmark:  1696.91\n",
      "   action: 0, prob_X:  11.22%\t   action: 0, prob_O:  19.07%\n",
      "   action: 1, prob_X:  11.80%\t   action: 1, prob_O:  4.82%\n",
      "   action: 2, prob_X:  11.82%\t   action: 2, prob_O:  16.80%\n",
      "   action: 3, prob_X:  8.90%\t   action: 3, prob_O:  7.89%\n",
      "   action: 4, prob_X:  11.67%\t   action: 4, prob_O:  0.11%\n",
      "   action: 5, prob_X:  9.62%\t   action: 5, prob_O:  4.79%\n",
      "   action: 6, prob_X:  9.33%\t⭐️ action: 6, prob_O:  29.45%\n",
      "   action: 7, prob_X:  11.64%\t   action: 7, prob_O:  3.87%\n",
      "⭐️ action: 8, prob_X:  14.01%\t   action: 8, prob_O:  13.20%\n",
      "State-value X: 0.4132\n",
      "State-value O: -0.4766\n",
      "Evaluating best player...\n",
      "Complete.\n"
     ]
    },
    {
     "data": {
      "application/vnd.jupyter.widget-view+json": {
       "model_id": "dbe653d432264fc080c91c6101cdf9a4",
       "version_major": 2,
       "version_minor": 0
      },
      "text/plain": [
       "  0%|          | 0/1 [00:00<?, ?it/s]"
      ]
     },
     "metadata": {},
     "output_type": "display_data"
    },
    {
     "name": "stdout",
     "output_type": "stream",
     "text": [
      "R2 score (new):  0.482\n",
      "batch i: 141, episode_len: 5, loss:  1.04940368, entropy:  1.46426928\n"
     ]
    },
    {
     "data": {
      "application/vnd.jupyter.widget-view+json": {
       "model_id": "9ca94a460c974c6f93df97649b8116ad",
       "version_major": 2,
       "version_minor": 0
      },
      "text/plain": [
       "  0%|          | 0/1 [00:00<?, ?it/s]"
      ]
     },
     "metadata": {},
     "output_type": "display_data"
    },
    {
     "name": "stdout",
     "output_type": "stream",
     "text": [
      "R2 score (new):  0.457\n",
      "batch i: 142, episode_len: 5, loss:  1.07042303, entropy:  1.54235697\n"
     ]
    },
    {
     "data": {
      "application/vnd.jupyter.widget-view+json": {
       "model_id": "8d4bd595c47545ef8ccc91c6bb82264f",
       "version_major": 2,
       "version_minor": 0
      },
      "text/plain": [
       "  0%|          | 0/1 [00:00<?, ?it/s]"
      ]
     },
     "metadata": {},
     "output_type": "display_data"
    },
    {
     "name": "stdout",
     "output_type": "stream",
     "text": [
      "R2 score (new):  0.182\n",
      "batch i: 143, episode_len: 6, loss:  0.96658549, entropy:  1.32331061\n"
     ]
    },
    {
     "data": {
      "application/vnd.jupyter.widget-view+json": {
       "model_id": "4fe5b83dad374bb9a9780c5668a84a13",
       "version_major": 2,
       "version_minor": 0
      },
      "text/plain": [
       "  0%|          | 0/1 [00:00<?, ?it/s]"
      ]
     },
     "metadata": {},
     "output_type": "display_data"
    },
    {
     "name": "stdout",
     "output_type": "stream",
     "text": [
      "R2 score (new): -0.020\n",
      "batch i: 144, episode_len: 6, loss:  1.02625707, entropy:  1.50502157\n"
     ]
    },
    {
     "data": {
      "application/vnd.jupyter.widget-view+json": {
       "model_id": "398a96453ae742689fbc52bab84624a9",
       "version_major": 2,
       "version_minor": 0
      },
      "text/plain": [
       "  0%|          | 0/1 [00:00<?, ?it/s]"
      ]
     },
     "metadata": {},
     "output_type": "display_data"
    },
    {
     "name": "stdout",
     "output_type": "stream",
     "text": [
      "R2 score (new):  0.393\n",
      "batch i: 145, episode_len: 6, loss:  0.99490581, entropy:  1.42188060\n"
     ]
    },
    {
     "data": {
      "application/vnd.jupyter.widget-view+json": {
       "model_id": "9df1fc0d275c498abe2b165e4f9f732d",
       "version_major": 2,
       "version_minor": 0
      },
      "text/plain": [
       "  0%|          | 0/1 [00:00<?, ?it/s]"
      ]
     },
     "metadata": {},
     "output_type": "display_data"
    },
    {
     "name": "stdout",
     "output_type": "stream",
     "text": [
      "R2 score (new):  0.043\n",
      "batch i: 146, episode_len: 7, loss:  1.00524402, entropy:  1.45975482\n"
     ]
    },
    {
     "data": {
      "application/vnd.jupyter.widget-view+json": {
       "model_id": "ccbf03661a4e4628b2935310ca9f7a1b",
       "version_major": 2,
       "version_minor": 0
      },
      "text/plain": [
       "  0%|          | 0/1 [00:00<?, ?it/s]"
      ]
     },
     "metadata": {},
     "output_type": "display_data"
    },
    {
     "name": "stdout",
     "output_type": "stream",
     "text": [
      "R2 score (new):  0.197\n",
      "batch i: 147, episode_len: 9, loss:  1.02326056, entropy:  1.38116527\n"
     ]
    },
    {
     "data": {
      "application/vnd.jupyter.widget-view+json": {
       "model_id": "21736e89c05844d78b8a6639d2188838",
       "version_major": 2,
       "version_minor": 0
      },
      "text/plain": [
       "  0%|          | 0/1 [00:00<?, ?it/s]"
      ]
     },
     "metadata": {},
     "output_type": "display_data"
    },
    {
     "name": "stdout",
     "output_type": "stream",
     "text": [
      "R2 score (new):  0.281\n",
      "batch i: 148, episode_len: 5, loss:  1.01087790, entropy:  1.43708801\n"
     ]
    },
    {
     "data": {
      "application/vnd.jupyter.widget-view+json": {
       "model_id": "e47619a5160c42f8a3d05754f62c53de",
       "version_major": 2,
       "version_minor": 0
      },
      "text/plain": [
       "  0%|          | 0/1 [00:00<?, ?it/s]"
      ]
     },
     "metadata": {},
     "output_type": "display_data"
    },
    {
     "name": "stdout",
     "output_type": "stream",
     "text": [
      "R2 score (new):  0.254\n",
      "batch i: 149, episode_len: 9, loss:  1.02081618, entropy:  1.42228043\n"
     ]
    },
    {
     "data": {
      "application/vnd.jupyter.widget-view+json": {
       "model_id": "2395a575d7e44a8ebd1939011f17ca11",
       "version_major": 2,
       "version_minor": 0
      },
      "text/plain": [
       "  0%|          | 0/1 [00:00<?, ?it/s]"
      ]
     },
     "metadata": {},
     "output_type": "display_data"
    },
    {
     "name": "stdout",
     "output_type": "stream",
     "text": [
      "R2 score (new):  0.240\n",
      "batch i: 150, episode_len: 9, loss:  1.03210242, entropy:  1.42840374\n",
      "current self-play batch: 151\n",
      "Updating elo score...\n",
      "Complete.\n",
      "Elo score: AlphaZero:  1515.84, Benchmark:  1681.07\n",
      "   action: 0, prob_X:  10.26%\t   action: 0, prob_O:  21.48%\n",
      "   action: 1, prob_X:  11.12%\t   action: 1, prob_O:  5.83%\n",
      "   action: 2, prob_X:  14.04%\t   action: 2, prob_O:  18.33%\n",
      "   action: 3, prob_X:  9.67%\t   action: 3, prob_O:  4.09%\n",
      "   action: 4, prob_X:  8.56%\t   action: 4, prob_O:  0.12%\n",
      "   action: 5, prob_X:  10.41%\t   action: 5, prob_O:  3.61%\n",
      "   action: 6, prob_X:  9.63%\t⭐️ action: 6, prob_O:  26.18%\n",
      "   action: 7, prob_X:  10.99%\t   action: 7, prob_O:  4.71%\n",
      "⭐️ action: 8, prob_X:  15.32%\t   action: 8, prob_O:  15.64%\n",
      "State-value X: 0.4030\n",
      "State-value O: -0.4806\n",
      "Evaluating best player...\n",
      "Complete.\n"
     ]
    },
    {
     "data": {
      "application/vnd.jupyter.widget-view+json": {
       "model_id": "c82f14c4b0b6448891e8ec08da7083ce",
       "version_major": 2,
       "version_minor": 0
      },
      "text/plain": [
       "  0%|          | 0/1 [00:00<?, ?it/s]"
      ]
     },
     "metadata": {},
     "output_type": "display_data"
    },
    {
     "name": "stdout",
     "output_type": "stream",
     "text": [
      "R2 score (new):  0.219\n",
      "batch i: 151, episode_len: 9, loss:  0.99528631, entropy:  1.34601092\n"
     ]
    },
    {
     "data": {
      "application/vnd.jupyter.widget-view+json": {
       "model_id": "b6da0feae9304116a33ba696450e8ebc",
       "version_major": 2,
       "version_minor": 0
      },
      "text/plain": [
       "  0%|          | 0/1 [00:00<?, ?it/s]"
      ]
     },
     "metadata": {},
     "output_type": "display_data"
    },
    {
     "name": "stdout",
     "output_type": "stream",
     "text": [
      "R2 score (new):  0.356\n",
      "batch i: 152, episode_len: 9, loss:  0.99406073, entropy:  1.38008642\n"
     ]
    },
    {
     "data": {
      "application/vnd.jupyter.widget-view+json": {
       "model_id": "4c9ab2b992af49f0b6903d9998943ea8",
       "version_major": 2,
       "version_minor": 0
      },
      "text/plain": [
       "  0%|          | 0/1 [00:00<?, ?it/s]"
      ]
     },
     "metadata": {},
     "output_type": "display_data"
    },
    {
     "name": "stdout",
     "output_type": "stream",
     "text": [
      "R2 score (new):  0.177\n",
      "batch i: 153, episode_len: 9, loss:  0.98397584, entropy:  1.38027871\n"
     ]
    },
    {
     "data": {
      "application/vnd.jupyter.widget-view+json": {
       "model_id": "fee881dd22df4909999e27eea2047eef",
       "version_major": 2,
       "version_minor": 0
      },
      "text/plain": [
       "  0%|          | 0/1 [00:00<?, ?it/s]"
      ]
     },
     "metadata": {},
     "output_type": "display_data"
    },
    {
     "name": "stdout",
     "output_type": "stream",
     "text": [
      "R2 score (new):  0.233\n",
      "batch i: 154, episode_len: 9, loss:  0.98242509, entropy:  1.38607228\n"
     ]
    },
    {
     "data": {
      "application/vnd.jupyter.widget-view+json": {
       "model_id": "25b257db988b414da03d28f5044e7e8c",
       "version_major": 2,
       "version_minor": 0
      },
      "text/plain": [
       "  0%|          | 0/1 [00:00<?, ?it/s]"
      ]
     },
     "metadata": {},
     "output_type": "display_data"
    },
    {
     "name": "stdout",
     "output_type": "stream",
     "text": [
      "R2 score (new):  0.329\n",
      "batch i: 155, episode_len: 5, loss:  0.95614341, entropy:  1.36034691\n"
     ]
    },
    {
     "data": {
      "application/vnd.jupyter.widget-view+json": {
       "model_id": "ea0d2c7fab994c998244ae0c6fb68955",
       "version_major": 2,
       "version_minor": 0
      },
      "text/plain": [
       "  0%|          | 0/1 [00:00<?, ?it/s]"
      ]
     },
     "metadata": {},
     "output_type": "display_data"
    },
    {
     "name": "stdout",
     "output_type": "stream",
     "text": [
      "R2 score (new):  0.000\n",
      "batch i: 156, episode_len: 9, loss:  1.50448332, entropy:  2.18960357\n"
     ]
    },
    {
     "data": {
      "application/vnd.jupyter.widget-view+json": {
       "model_id": "abe52995fe654f1298ca7dc05d206e02",
       "version_major": 2,
       "version_minor": 0
      },
      "text/plain": [
       "  0%|          | 0/1 [00:00<?, ?it/s]"
      ]
     },
     "metadata": {},
     "output_type": "display_data"
    },
    {
     "name": "stdout",
     "output_type": "stream",
     "text": [
      "R2 score (new): -0.078\n",
      "batch i: 157, episode_len: 9, loss:  1.31097912, entropy:  1.79543591\n"
     ]
    },
    {
     "data": {
      "application/vnd.jupyter.widget-view+json": {
       "model_id": "819f35da319240238ec5315068bc9609",
       "version_major": 2,
       "version_minor": 0
      },
      "text/plain": [
       "  0%|          | 0/1 [00:00<?, ?it/s]"
      ]
     },
     "metadata": {},
     "output_type": "display_data"
    },
    {
     "name": "stdout",
     "output_type": "stream",
     "text": [
      "R2 score (new): -0.045\n",
      "batch i: 158, episode_len: 9, loss:  1.35214147, entropy:  1.62049580\n"
     ]
    },
    {
     "data": {
      "application/vnd.jupyter.widget-view+json": {
       "model_id": "2bd1415647b14e69a371451d18ca4ff2",
       "version_major": 2,
       "version_minor": 0
      },
      "text/plain": [
       "  0%|          | 0/1 [00:00<?, ?it/s]"
      ]
     },
     "metadata": {},
     "output_type": "display_data"
    },
    {
     "name": "stdout",
     "output_type": "stream",
     "text": [
      "R2 score (new):  0.563\n",
      "batch i: 159, episode_len: 6, loss:  1.31181793, entropy:  1.42250884\n"
     ]
    },
    {
     "data": {
      "application/vnd.jupyter.widget-view+json": {
       "model_id": "cb75ac951f5c4a038bd847fc7d2e7a88",
       "version_major": 2,
       "version_minor": 0
      },
      "text/plain": [
       "  0%|          | 0/1 [00:00<?, ?it/s]"
      ]
     },
     "metadata": {},
     "output_type": "display_data"
    },
    {
     "name": "stdout",
     "output_type": "stream",
     "text": [
      "R2 score (new):  0.465\n",
      "batch i: 160, episode_len: 7, loss:  1.27802327, entropy:  1.56088972\n",
      "current self-play batch: 161\n",
      "Updating elo score...\n",
      "Complete.\n",
      "Elo score: AlphaZero:  1500.00, Benchmark:  1698.26\n",
      "   action: 0, prob_X:  9.10%\t   action: 0, prob_O:  15.52%\n",
      "   action: 1, prob_X:  10.63%\t   action: 1, prob_O:  7.65%\n",
      "   action: 2, prob_X:  9.03%\t   action: 2, prob_O:  4.98%\n",
      "   action: 3, prob_X:  4.74%\t   action: 3, prob_O:  15.73%\n",
      "⭐️ action: 4, prob_X:  23.86%\t   action: 4, prob_O:  0.04%\n",
      "   action: 5, prob_X:  12.87%\t   action: 5, prob_O:  0.66%\n",
      "   action: 6, prob_X:  10.74%\t⭐️ action: 6, prob_O:  35.89%\n",
      "   action: 7, prob_X:  11.46%\t   action: 7, prob_O:  6.71%\n",
      "   action: 8, prob_X:  7.58%\t   action: 8, prob_O:  12.82%\n",
      "State-value X: 0.4232\n",
      "State-value O: -0.4893\n",
      "Evaluating best player...\n",
      "Complete.\n"
     ]
    },
    {
     "data": {
      "application/vnd.jupyter.widget-view+json": {
       "model_id": "f1e8215f30ad45348849914fec53e18a",
       "version_major": 2,
       "version_minor": 0
      },
      "text/plain": [
       "  0%|          | 0/1 [00:00<?, ?it/s]"
      ]
     },
     "metadata": {},
     "output_type": "display_data"
    },
    {
     "name": "stdout",
     "output_type": "stream",
     "text": [
      "R2 score (new):  0.272\n",
      "batch i: 161, episode_len: 8, loss:  1.37946118, entropy:  1.43440354\n"
     ]
    },
    {
     "data": {
      "application/vnd.jupyter.widget-view+json": {
       "model_id": "e47fa90f1d6745fbb887e93237aaf5ce",
       "version_major": 2,
       "version_minor": 0
      },
      "text/plain": [
       "  0%|          | 0/1 [00:00<?, ?it/s]"
      ]
     },
     "metadata": {},
     "output_type": "display_data"
    },
    {
     "name": "stdout",
     "output_type": "stream",
     "text": [
      "R2 score (new):  0.496\n",
      "batch i: 162, episode_len: 9, loss:  1.02487880, entropy:  1.45981669\n"
     ]
    },
    {
     "data": {
      "application/vnd.jupyter.widget-view+json": {
       "model_id": "aceb4769d14b43ed8f08ee2357de5483",
       "version_major": 2,
       "version_minor": 0
      },
      "text/plain": [
       "  0%|          | 0/1 [00:00<?, ?it/s]"
      ]
     },
     "metadata": {},
     "output_type": "display_data"
    },
    {
     "name": "stdout",
     "output_type": "stream",
     "text": [
      "R2 score (new):  0.279\n",
      "batch i: 163, episode_len: 9, loss:  1.09597792, entropy:  1.56270003\n"
     ]
    },
    {
     "data": {
      "application/vnd.jupyter.widget-view+json": {
       "model_id": "2571a20b9b454124b63f7bd41a90548e",
       "version_major": 2,
       "version_minor": 0
      },
      "text/plain": [
       "  0%|          | 0/1 [00:00<?, ?it/s]"
      ]
     },
     "metadata": {},
     "output_type": "display_data"
    },
    {
     "name": "stdout",
     "output_type": "stream",
     "text": [
      "R2 score (new): -0.068\n",
      "batch i: 164, episode_len: 9, loss:  1.06404317, entropy:  1.53000247\n"
     ]
    },
    {
     "data": {
      "application/vnd.jupyter.widget-view+json": {
       "model_id": "4ad81ed98d12407994e6ca728975307a",
       "version_major": 2,
       "version_minor": 0
      },
      "text/plain": [
       "  0%|          | 0/1 [00:00<?, ?it/s]"
      ]
     },
     "metadata": {},
     "output_type": "display_data"
    },
    {
     "name": "stdout",
     "output_type": "stream",
     "text": [
      "R2 score (new):  0.302\n",
      "batch i: 165, episode_len: 9, loss:  1.08774104, entropy:  1.45755219\n"
     ]
    },
    {
     "data": {
      "application/vnd.jupyter.widget-view+json": {
       "model_id": "0e8a53739fa44b2e905df15d7f5332da",
       "version_major": 2,
       "version_minor": 0
      },
      "text/plain": [
       "  0%|          | 0/1 [00:00<?, ?it/s]"
      ]
     },
     "metadata": {},
     "output_type": "display_data"
    },
    {
     "name": "stdout",
     "output_type": "stream",
     "text": [
      "R2 score (new):  0.315\n",
      "batch i: 166, episode_len: 9, loss:  1.06616864, entropy:  1.32861209\n"
     ]
    },
    {
     "data": {
      "application/vnd.jupyter.widget-view+json": {
       "model_id": "021f8b6dc99f4c7cbe82528ec57c59de",
       "version_major": 2,
       "version_minor": 0
      },
      "text/plain": [
       "  0%|          | 0/1 [00:00<?, ?it/s]"
      ]
     },
     "metadata": {},
     "output_type": "display_data"
    },
    {
     "name": "stdout",
     "output_type": "stream",
     "text": [
      "R2 score (new):  0.080\n",
      "batch i: 167, episode_len: 9, loss:  1.02375995, entropy:  1.29435432\n"
     ]
    },
    {
     "data": {
      "application/vnd.jupyter.widget-view+json": {
       "model_id": "a1cc18afca594e12b25346150f347319",
       "version_major": 2,
       "version_minor": 0
      },
      "text/plain": [
       "  0%|          | 0/1 [00:00<?, ?it/s]"
      ]
     },
     "metadata": {},
     "output_type": "display_data"
    },
    {
     "name": "stdout",
     "output_type": "stream",
     "text": [
      "R2 score (new):  0.356\n",
      "batch i: 168, episode_len: 9, loss:  1.11063002, entropy:  1.33041787\n"
     ]
    },
    {
     "data": {
      "application/vnd.jupyter.widget-view+json": {
       "model_id": "ce57c16bd0dd42a58cbb16ab34a82ec9",
       "version_major": 2,
       "version_minor": 0
      },
      "text/plain": [
       "  0%|          | 0/1 [00:00<?, ?it/s]"
      ]
     },
     "metadata": {},
     "output_type": "display_data"
    },
    {
     "name": "stdout",
     "output_type": "stream",
     "text": [
      "R2 score (new):  0.212\n",
      "batch i: 169, episode_len: 9, loss:  0.98199674, entropy:  1.41220975\n"
     ]
    },
    {
     "data": {
      "application/vnd.jupyter.widget-view+json": {
       "model_id": "298eaf4a067f48b5afabdf01ae54bcb0",
       "version_major": 2,
       "version_minor": 0
      },
      "text/plain": [
       "  0%|          | 0/1 [00:00<?, ?it/s]"
      ]
     },
     "metadata": {},
     "output_type": "display_data"
    },
    {
     "name": "stdout",
     "output_type": "stream",
     "text": [
      "R2 score (new):  0.068\n",
      "batch i: 170, episode_len: 5, loss:  1.11381314, entropy:  1.52474856\n",
      "current self-play batch: 171\n",
      "Updating elo score...\n",
      "Complete.\n",
      "Elo score: AlphaZero:  1500.00, Benchmark:  1713.49\n",
      "   action: 0, prob_X:  9.92%\t   action: 0, prob_O:  18.69%\n",
      "   action: 1, prob_X:  13.84%\t   action: 1, prob_O:  1.86%\n",
      "   action: 2, prob_X:  11.15%\t⭐️ action: 2, prob_O:  29.24%\n",
      "   action: 3, prob_X:  9.40%\t   action: 3, prob_O:  2.33%\n",
      "⭐️ action: 4, prob_X:  16.43%\t   action: 4, prob_O:  0.04%\n",
      "   action: 5, prob_X:  7.24%\t   action: 5, prob_O:  3.27%\n",
      "   action: 6, prob_X:  8.96%\t   action: 6, prob_O:  26.43%\n",
      "   action: 7, prob_X:  12.80%\t   action: 7, prob_O:  2.43%\n",
      "   action: 8, prob_X:  10.27%\t   action: 8, prob_O:  15.70%\n",
      "State-value X: 0.4157\n",
      "State-value O: -0.4720\n",
      "Evaluating best player...\n",
      "Complete.\n"
     ]
    },
    {
     "data": {
      "application/vnd.jupyter.widget-view+json": {
       "model_id": "c33254b7f4884d44946060ac72d5d45b",
       "version_major": 2,
       "version_minor": 0
      },
      "text/plain": [
       "  0%|          | 0/1 [00:00<?, ?it/s]"
      ]
     },
     "metadata": {},
     "output_type": "display_data"
    },
    {
     "name": "stdout",
     "output_type": "stream",
     "text": [
      "R2 score (new):  0.529\n",
      "batch i: 171, episode_len: 9, loss:  1.01467795, entropy:  1.35797250\n"
     ]
    },
    {
     "data": {
      "application/vnd.jupyter.widget-view+json": {
       "model_id": "332505b303634d7fbefc2e09bb7bd467",
       "version_major": 2,
       "version_minor": 0
      },
      "text/plain": [
       "  0%|          | 0/1 [00:00<?, ?it/s]"
      ]
     },
     "metadata": {},
     "output_type": "display_data"
    },
    {
     "name": "stdout",
     "output_type": "stream",
     "text": [
      "R2 score (new):  0.395\n",
      "batch i: 172, episode_len: 5, loss:  1.07946559, entropy:  1.42418587\n"
     ]
    },
    {
     "data": {
      "application/vnd.jupyter.widget-view+json": {
       "model_id": "20ae7228bbe64c92913297f9a44c839a",
       "version_major": 2,
       "version_minor": 0
      },
      "text/plain": [
       "  0%|          | 0/1 [00:00<?, ?it/s]"
      ]
     },
     "metadata": {},
     "output_type": "display_data"
    },
    {
     "name": "stdout",
     "output_type": "stream",
     "text": [
      "R2 score (new):  0.301\n",
      "batch i: 173, episode_len: 9, loss:  0.98936619, entropy:  1.35800195\n"
     ]
    },
    {
     "data": {
      "application/vnd.jupyter.widget-view+json": {
       "model_id": "ef59a38918824d47a8922ed21b007628",
       "version_major": 2,
       "version_minor": 0
      },
      "text/plain": [
       "  0%|          | 0/1 [00:00<?, ?it/s]"
      ]
     },
     "metadata": {},
     "output_type": "display_data"
    },
    {
     "name": "stdout",
     "output_type": "stream",
     "text": [
      "R2 score (new):  0.291\n",
      "batch i: 174, episode_len: 5, loss:  1.03479093, entropy:  1.35956395\n"
     ]
    },
    {
     "data": {
      "application/vnd.jupyter.widget-view+json": {
       "model_id": "2502926d490f4d84be1a7656067f4138",
       "version_major": 2,
       "version_minor": 0
      },
      "text/plain": [
       "  0%|          | 0/1 [00:00<?, ?it/s]"
      ]
     },
     "metadata": {},
     "output_type": "display_data"
    },
    {
     "name": "stdout",
     "output_type": "stream",
     "text": [
      "R2 score (new):  0.315\n",
      "batch i: 175, episode_len: 9, loss:  1.03874945, entropy:  1.34529972\n"
     ]
    },
    {
     "data": {
      "application/vnd.jupyter.widget-view+json": {
       "model_id": "5205a77580554d378f07696a64e8cfa4",
       "version_major": 2,
       "version_minor": 0
      },
      "text/plain": [
       "  0%|          | 0/1 [00:00<?, ?it/s]"
      ]
     },
     "metadata": {},
     "output_type": "display_data"
    },
    {
     "name": "stdout",
     "output_type": "stream",
     "text": [
      "R2 score (new):  0.293\n",
      "batch i: 176, episode_len: 7, loss:  1.01107263, entropy:  1.30618012\n"
     ]
    },
    {
     "data": {
      "application/vnd.jupyter.widget-view+json": {
       "model_id": "2b84a8c9db5740f9a3dd91b0a94daeae",
       "version_major": 2,
       "version_minor": 0
      },
      "text/plain": [
       "  0%|          | 0/1 [00:00<?, ?it/s]"
      ]
     },
     "metadata": {},
     "output_type": "display_data"
    },
    {
     "name": "stdout",
     "output_type": "stream",
     "text": [
      "R2 score (new):  0.176\n",
      "batch i: 177, episode_len: 9, loss:  0.90047938, entropy:  1.43346894\n"
     ]
    },
    {
     "data": {
      "application/vnd.jupyter.widget-view+json": {
       "model_id": "84bc4bf4b8e04a588d67a9fc82cbe1a7",
       "version_major": 2,
       "version_minor": 0
      },
      "text/plain": [
       "  0%|          | 0/1 [00:00<?, ?it/s]"
      ]
     },
     "metadata": {},
     "output_type": "display_data"
    },
    {
     "name": "stdout",
     "output_type": "stream",
     "text": [
      "R2 score (new):  0.126\n",
      "batch i: 178, episode_len: 9, loss:  1.03623831, entropy:  1.28638053\n"
     ]
    },
    {
     "data": {
      "application/vnd.jupyter.widget-view+json": {
       "model_id": "3a3e3aabecc74be0aecd2f159842c5d4",
       "version_major": 2,
       "version_minor": 0
      },
      "text/plain": [
       "  0%|          | 0/1 [00:00<?, ?it/s]"
      ]
     },
     "metadata": {},
     "output_type": "display_data"
    },
    {
     "name": "stdout",
     "output_type": "stream",
     "text": [
      "R2 score (new):  0.378\n",
      "batch i: 179, episode_len: 7, loss:  0.97505732, entropy:  1.28173745\n"
     ]
    },
    {
     "data": {
      "application/vnd.jupyter.widget-view+json": {
       "model_id": "f0bba53dd03e4d66bd0c29bfabafa938",
       "version_major": 2,
       "version_minor": 0
      },
      "text/plain": [
       "  0%|          | 0/1 [00:00<?, ?it/s]"
      ]
     },
     "metadata": {},
     "output_type": "display_data"
    },
    {
     "name": "stdout",
     "output_type": "stream",
     "text": [
      "R2 score (new):  0.161\n",
      "batch i: 180, episode_len: 9, loss:  0.97048920, entropy:  1.34948623\n",
      "current self-play batch: 181\n",
      "Updating elo score...\n",
      "Complete.\n",
      "Elo score: AlphaZero:  1500.93, Benchmark:  1712.56\n",
      "   action: 0, prob_X:  11.95%\t⭐️ action: 0, prob_O:  25.30%\n",
      "   action: 1, prob_X:  10.00%\t   action: 1, prob_O:  7.34%\n",
      "⭐️ action: 2, prob_X:  13.91%\t   action: 2, prob_O:  15.99%\n",
      "   action: 3, prob_X:  13.05%\t   action: 3, prob_O:  2.12%\n",
      "   action: 4, prob_X:  9.20%\t   action: 4, prob_O:  0.09%\n",
      "   action: 5, prob_X:  9.63%\t   action: 5, prob_O:  2.39%\n",
      "   action: 6, prob_X:  12.28%\t   action: 6, prob_O:  21.96%\n",
      "   action: 7, prob_X:  8.65%\t   action: 7, prob_O:  7.51%\n",
      "   action: 8, prob_X:  11.32%\t   action: 8, prob_O:  17.30%\n",
      "State-value X: 0.3389\n",
      "State-value O: -0.4662\n",
      "Evaluating best player...\n",
      "Complete.\n"
     ]
    },
    {
     "data": {
      "application/vnd.jupyter.widget-view+json": {
       "model_id": "0e7af2d4ee1e4bfdb85b4d2a58c0ebec",
       "version_major": 2,
       "version_minor": 0
      },
      "text/plain": [
       "  0%|          | 0/1 [00:00<?, ?it/s]"
      ]
     },
     "metadata": {},
     "output_type": "display_data"
    },
    {
     "name": "stdout",
     "output_type": "stream",
     "text": [
      "R2 score (new):  0.286\n",
      "batch i: 181, episode_len: 6, loss:  1.01925535, entropy:  1.46427572\n"
     ]
    },
    {
     "data": {
      "application/vnd.jupyter.widget-view+json": {
       "model_id": "d2308550904b4772a0b725d13e789cb6",
       "version_major": 2,
       "version_minor": 0
      },
      "text/plain": [
       "  0%|          | 0/1 [00:00<?, ?it/s]"
      ]
     },
     "metadata": {},
     "output_type": "display_data"
    },
    {
     "name": "stdout",
     "output_type": "stream",
     "text": [
      "R2 score (new):  0.380\n",
      "batch i: 182, episode_len: 5, loss:  0.97055840, entropy:  1.40150917\n"
     ]
    },
    {
     "data": {
      "application/vnd.jupyter.widget-view+json": {
       "model_id": "f9c26bec46624a229813cd242fb96b88",
       "version_major": 2,
       "version_minor": 0
      },
      "text/plain": [
       "  0%|          | 0/1 [00:00<?, ?it/s]"
      ]
     },
     "metadata": {},
     "output_type": "display_data"
    },
    {
     "name": "stdout",
     "output_type": "stream",
     "text": [
      "R2 score (new):  0.421\n",
      "batch i: 183, episode_len: 7, loss:  1.02057821, entropy:  1.28304839\n"
     ]
    },
    {
     "data": {
      "application/vnd.jupyter.widget-view+json": {
       "model_id": "d93153bae4f04daf8bc594f063b3d5f0",
       "version_major": 2,
       "version_minor": 0
      },
      "text/plain": [
       "  0%|          | 0/1 [00:00<?, ?it/s]"
      ]
     },
     "metadata": {},
     "output_type": "display_data"
    },
    {
     "name": "stdout",
     "output_type": "stream",
     "text": [
      "R2 score (new):  0.465\n",
      "batch i: 184, episode_len: 9, loss:  0.97637894, entropy:  1.40182841\n"
     ]
    },
    {
     "data": {
      "application/vnd.jupyter.widget-view+json": {
       "model_id": "d037e6fd8c7b4783bea2754618bc269f",
       "version_major": 2,
       "version_minor": 0
      },
      "text/plain": [
       "  0%|          | 0/1 [00:00<?, ?it/s]"
      ]
     },
     "metadata": {},
     "output_type": "display_data"
    },
    {
     "name": "stdout",
     "output_type": "stream",
     "text": [
      "R2 score (new):  0.071\n",
      "batch i: 185, episode_len: 9, loss:  1.04006943, entropy:  1.42032003\n"
     ]
    },
    {
     "data": {
      "application/vnd.jupyter.widget-view+json": {
       "model_id": "59793dffadc24d14b252489dbe96560c",
       "version_major": 2,
       "version_minor": 0
      },
      "text/plain": [
       "  0%|          | 0/1 [00:00<?, ?it/s]"
      ]
     },
     "metadata": {},
     "output_type": "display_data"
    },
    {
     "name": "stdout",
     "output_type": "stream",
     "text": [
      "R2 score (new):  0.322\n",
      "batch i: 186, episode_len: 7, loss:  0.98694251, entropy:  1.47527254\n"
     ]
    },
    {
     "data": {
      "application/vnd.jupyter.widget-view+json": {
       "model_id": "90a5b06092a646828264447f5194cac6",
       "version_major": 2,
       "version_minor": 0
      },
      "text/plain": [
       "  0%|          | 0/1 [00:00<?, ?it/s]"
      ]
     },
     "metadata": {},
     "output_type": "display_data"
    },
    {
     "name": "stdout",
     "output_type": "stream",
     "text": [
      "R2 score (new):  0.259\n",
      "batch i: 187, episode_len: 9, loss:  0.95602699, entropy:  1.36738360\n"
     ]
    },
    {
     "data": {
      "application/vnd.jupyter.widget-view+json": {
       "model_id": "a33dae3c21394186929ed262f04d861a",
       "version_major": 2,
       "version_minor": 0
      },
      "text/plain": [
       "  0%|          | 0/1 [00:00<?, ?it/s]"
      ]
     },
     "metadata": {},
     "output_type": "display_data"
    },
    {
     "name": "stdout",
     "output_type": "stream",
     "text": [
      "R2 score (new):  0.154\n",
      "batch i: 188, episode_len: 9, loss:  0.91550675, entropy:  1.36647689\n"
     ]
    },
    {
     "data": {
      "application/vnd.jupyter.widget-view+json": {
       "model_id": "f6e3d282a2414e1d97b5ed09397ed494",
       "version_major": 2,
       "version_minor": 0
      },
      "text/plain": [
       "  0%|          | 0/1 [00:00<?, ?it/s]"
      ]
     },
     "metadata": {},
     "output_type": "display_data"
    },
    {
     "name": "stdout",
     "output_type": "stream",
     "text": [
      "R2 score (new):  0.095\n",
      "batch i: 189, episode_len: 9, loss:  0.93877828, entropy:  1.29570127\n"
     ]
    },
    {
     "data": {
      "application/vnd.jupyter.widget-view+json": {
       "model_id": "91fd671837814b8882cdf750f8111a50",
       "version_major": 2,
       "version_minor": 0
      },
      "text/plain": [
       "  0%|          | 0/1 [00:00<?, ?it/s]"
      ]
     },
     "metadata": {},
     "output_type": "display_data"
    },
    {
     "name": "stdout",
     "output_type": "stream",
     "text": [
      "R2 score (new):  0.381\n",
      "batch i: 190, episode_len: 9, loss:  0.98456546, entropy:  1.32035983\n",
      "current self-play batch: 191\n",
      "Updating elo score...\n",
      "Complete.\n",
      "Elo score: AlphaZero:  1500.00, Benchmark:  1726.90\n",
      "   action: 0, prob_X:  12.58%\t   action: 0, prob_O:  18.09%\n",
      "   action: 1, prob_X:  10.21%\t   action: 1, prob_O:  4.64%\n",
      "⭐️ action: 2, prob_X:  14.24%\t   action: 2, prob_O:  24.80%\n",
      "   action: 3, prob_X:  10.70%\t   action: 3, prob_O:  2.48%\n",
      "   action: 4, prob_X:  8.00%\t   action: 4, prob_O:  0.12%\n",
      "   action: 5, prob_X:  10.15%\t   action: 5, prob_O:  2.64%\n",
      "   action: 6, prob_X:  12.71%\t⭐️ action: 6, prob_O:  26.96%\n",
      "   action: 7, prob_X:  8.79%\t   action: 7, prob_O:  5.70%\n",
      "   action: 8, prob_X:  12.62%\t   action: 8, prob_O:  14.57%\n",
      "State-value X: 0.3584\n",
      "State-value O: -0.4780\n",
      "Evaluating best player...\n",
      "Complete.\n"
     ]
    },
    {
     "data": {
      "application/vnd.jupyter.widget-view+json": {
       "model_id": "7ab090365f924a06917cc26422be6237",
       "version_major": 2,
       "version_minor": 0
      },
      "text/plain": [
       "  0%|          | 0/1 [00:00<?, ?it/s]"
      ]
     },
     "metadata": {},
     "output_type": "display_data"
    },
    {
     "name": "stdout",
     "output_type": "stream",
     "text": [
      "R2 score (new):  0.422\n",
      "batch i: 191, episode_len: 9, loss:  1.00778466, entropy:  1.31841862\n"
     ]
    },
    {
     "data": {
      "application/vnd.jupyter.widget-view+json": {
       "model_id": "3fdf2e52b1bf4f3a8cd8323f9af28984",
       "version_major": 2,
       "version_minor": 0
      },
      "text/plain": [
       "  0%|          | 0/1 [00:00<?, ?it/s]"
      ]
     },
     "metadata": {},
     "output_type": "display_data"
    },
    {
     "name": "stdout",
     "output_type": "stream",
     "text": [
      "R2 score (new):  0.329\n",
      "batch i: 192, episode_len: 9, loss:  0.95174924, entropy:  1.32916856\n"
     ]
    },
    {
     "data": {
      "application/vnd.jupyter.widget-view+json": {
       "model_id": "bd85306258074c9eb417d3e0abf4edc6",
       "version_major": 2,
       "version_minor": 0
      },
      "text/plain": [
       "  0%|          | 0/1 [00:00<?, ?it/s]"
      ]
     },
     "metadata": {},
     "output_type": "display_data"
    },
    {
     "name": "stdout",
     "output_type": "stream",
     "text": [
      "R2 score (new):  0.150\n",
      "batch i: 193, episode_len: 6, loss:  0.99473283, entropy:  1.32782733\n"
     ]
    },
    {
     "data": {
      "application/vnd.jupyter.widget-view+json": {
       "model_id": "1fc3a062687541a1afa6da41202ad68d",
       "version_major": 2,
       "version_minor": 0
      },
      "text/plain": [
       "  0%|          | 0/1 [00:00<?, ?it/s]"
      ]
     },
     "metadata": {},
     "output_type": "display_data"
    },
    {
     "name": "stdout",
     "output_type": "stream",
     "text": [
      "R2 score (new):  0.166\n",
      "batch i: 194, episode_len: 7, loss:  1.00604531, entropy:  1.29396105\n"
     ]
    },
    {
     "data": {
      "application/vnd.jupyter.widget-view+json": {
       "model_id": "f1b1ad12584e43e49a903f963613d2ec",
       "version_major": 2,
       "version_minor": 0
      },
      "text/plain": [
       "  0%|          | 0/1 [00:00<?, ?it/s]"
      ]
     },
     "metadata": {},
     "output_type": "display_data"
    },
    {
     "name": "stdout",
     "output_type": "stream",
     "text": [
      "R2 score (new):  0.242\n",
      "batch i: 195, episode_len: 9, loss:  0.92441271, entropy:  1.26005399\n"
     ]
    },
    {
     "data": {
      "application/vnd.jupyter.widget-view+json": {
       "model_id": "186a67613523476a9fe17eb75403c773",
       "version_major": 2,
       "version_minor": 0
      },
      "text/plain": [
       "  0%|          | 0/1 [00:00<?, ?it/s]"
      ]
     },
     "metadata": {},
     "output_type": "display_data"
    },
    {
     "name": "stdout",
     "output_type": "stream",
     "text": [
      "R2 score (new):  0.307\n",
      "batch i: 196, episode_len: 9, loss:  0.97795660, entropy:  1.34694839\n"
     ]
    },
    {
     "data": {
      "application/vnd.jupyter.widget-view+json": {
       "model_id": "7748d2a3426849bdb0bd5ddf1f8203a8",
       "version_major": 2,
       "version_minor": 0
      },
      "text/plain": [
       "  0%|          | 0/1 [00:00<?, ?it/s]"
      ]
     },
     "metadata": {},
     "output_type": "display_data"
    },
    {
     "name": "stdout",
     "output_type": "stream",
     "text": [
      "R2 score (new):  0.311\n",
      "batch i: 197, episode_len: 9, loss:  0.97670486, entropy:  1.37165010\n"
     ]
    },
    {
     "data": {
      "application/vnd.jupyter.widget-view+json": {
       "model_id": "8f29cdd280fb4fed90532e1c6ba63993",
       "version_major": 2,
       "version_minor": 0
      },
      "text/plain": [
       "  0%|          | 0/1 [00:00<?, ?it/s]"
      ]
     },
     "metadata": {},
     "output_type": "display_data"
    },
    {
     "name": "stdout",
     "output_type": "stream",
     "text": [
      "R2 score (new):  0.241\n",
      "batch i: 198, episode_len: 5, loss:  0.92229031, entropy:  1.35808718\n"
     ]
    },
    {
     "data": {
      "application/vnd.jupyter.widget-view+json": {
       "model_id": "25019421793e44739c1e5dd5f80c516f",
       "version_major": 2,
       "version_minor": 0
      },
      "text/plain": [
       "  0%|          | 0/1 [00:00<?, ?it/s]"
      ]
     },
     "metadata": {},
     "output_type": "display_data"
    },
    {
     "name": "stdout",
     "output_type": "stream",
     "text": [
      "R2 score (new):  0.226\n",
      "batch i: 199, episode_len: 9, loss:  0.95159638, entropy:  1.31361997\n"
     ]
    },
    {
     "data": {
      "application/vnd.jupyter.widget-view+json": {
       "model_id": "696f53819a5c49faad5fc47783aee57c",
       "version_major": 2,
       "version_minor": 0
      },
      "text/plain": [
       "  0%|          | 0/1 [00:00<?, ?it/s]"
      ]
     },
     "metadata": {},
     "output_type": "display_data"
    },
    {
     "name": "stdout",
     "output_type": "stream",
     "text": [
      "R2 score (new):  0.353\n",
      "batch i: 200, episode_len: 7, loss:  0.95319871, entropy:  1.25875151\n",
      "current self-play batch: 201\n",
      "Updating elo score...\n",
      "Complete.\n",
      "Elo score: AlphaZero:  1501.78, Benchmark:  1725.13\n",
      "   action: 0, prob_X:  12.32%\t   action: 0, prob_O:  14.00%\n",
      "   action: 1, prob_X:  9.18%\t   action: 1, prob_O:  3.95%\n",
      "   action: 2, prob_X:  11.66%\t⭐️ action: 2, prob_O:  33.50%\n",
      "⭐️ action: 3, prob_X:  12.72%\t   action: 3, prob_O:  1.48%\n",
      "   action: 4, prob_X:  10.80%\t   action: 4, prob_O:  0.07%\n",
      "   action: 5, prob_X:  10.41%\t   action: 5, prob_O:  2.61%\n",
      "   action: 6, prob_X:  12.33%\t   action: 6, prob_O:  22.34%\n",
      "   action: 7, prob_X:  8.91%\t   action: 7, prob_O:  4.35%\n",
      "   action: 8, prob_X:  11.67%\t   action: 8, prob_O:  17.68%\n",
      "State-value X: 0.3782\n",
      "State-value O: -0.5077\n",
      "Evaluating best player...\n",
      "Complete.\n"
     ]
    },
    {
     "data": {
      "application/vnd.jupyter.widget-view+json": {
       "model_id": "2ef12149a47744729a41d1861a4463c9",
       "version_major": 2,
       "version_minor": 0
      },
      "text/plain": [
       "  0%|          | 0/1 [00:00<?, ?it/s]"
      ]
     },
     "metadata": {},
     "output_type": "display_data"
    },
    {
     "name": "stdout",
     "output_type": "stream",
     "text": [
      "R2 score (new):  0.028\n",
      "batch i: 201, episode_len: 7, loss:  0.95452845, entropy:  1.34259164\n"
     ]
    },
    {
     "data": {
      "application/vnd.jupyter.widget-view+json": {
       "model_id": "603df3b295e348a0ad044dc373fe2f0a",
       "version_major": 2,
       "version_minor": 0
      },
      "text/plain": [
       "  0%|          | 0/1 [00:00<?, ?it/s]"
      ]
     },
     "metadata": {},
     "output_type": "display_data"
    },
    {
     "name": "stdout",
     "output_type": "stream",
     "text": [
      "R2 score (new):  0.256\n",
      "batch i: 202, episode_len: 9, loss:  0.99004308, entropy:  1.26950455\n"
     ]
    },
    {
     "data": {
      "application/vnd.jupyter.widget-view+json": {
       "model_id": "d73cdd4c02bb40838bba2b4d3710b275",
       "version_major": 2,
       "version_minor": 0
      },
      "text/plain": [
       "  0%|          | 0/1 [00:00<?, ?it/s]"
      ]
     },
     "metadata": {},
     "output_type": "display_data"
    },
    {
     "name": "stdout",
     "output_type": "stream",
     "text": [
      "R2 score (new):  0.226\n",
      "batch i: 203, episode_len: 7, loss:  1.02460561, entropy:  1.25178027\n"
     ]
    },
    {
     "data": {
      "application/vnd.jupyter.widget-view+json": {
       "model_id": "d7f88b4bd9394c99967bf8c3cfcf04f4",
       "version_major": 2,
       "version_minor": 0
      },
      "text/plain": [
       "  0%|          | 0/1 [00:00<?, ?it/s]"
      ]
     },
     "metadata": {},
     "output_type": "display_data"
    },
    {
     "name": "stdout",
     "output_type": "stream",
     "text": [
      "R2 score (new):  0.274\n",
      "batch i: 204, episode_len: 9, loss:  0.94274144, entropy:  1.31196141\n"
     ]
    },
    {
     "data": {
      "application/vnd.jupyter.widget-view+json": {
       "model_id": "a3786f7aa09f4b98880fad70c78d9d38",
       "version_major": 2,
       "version_minor": 0
      },
      "text/plain": [
       "  0%|          | 0/1 [00:00<?, ?it/s]"
      ]
     },
     "metadata": {},
     "output_type": "display_data"
    },
    {
     "name": "stdout",
     "output_type": "stream",
     "text": [
      "R2 score (new):  0.251\n",
      "batch i: 205, episode_len: 7, loss:  0.88675833, entropy:  1.40212762\n"
     ]
    },
    {
     "data": {
      "application/vnd.jupyter.widget-view+json": {
       "model_id": "abf55155995d44aba4e40d937b30ed80",
       "version_major": 2,
       "version_minor": 0
      },
      "text/plain": [
       "  0%|          | 0/1 [00:00<?, ?it/s]"
      ]
     },
     "metadata": {},
     "output_type": "display_data"
    },
    {
     "name": "stdout",
     "output_type": "stream",
     "text": [
      "R2 score (new):  0.401\n",
      "batch i: 206, episode_len: 6, loss:  0.95907992, entropy:  1.35866785\n"
     ]
    },
    {
     "data": {
      "application/vnd.jupyter.widget-view+json": {
       "model_id": "bcb63708baaf4049bf665e6663a1ae83",
       "version_major": 2,
       "version_minor": 0
      },
      "text/plain": [
       "  0%|          | 0/1 [00:00<?, ?it/s]"
      ]
     },
     "metadata": {},
     "output_type": "display_data"
    },
    {
     "name": "stdout",
     "output_type": "stream",
     "text": [
      "R2 score (new):  0.324\n",
      "batch i: 207, episode_len: 7, loss:  0.96672607, entropy:  1.27406073\n"
     ]
    },
    {
     "data": {
      "application/vnd.jupyter.widget-view+json": {
       "model_id": "cf8b10f335eb405781d49eba02b47087",
       "version_major": 2,
       "version_minor": 0
      },
      "text/plain": [
       "  0%|          | 0/1 [00:00<?, ?it/s]"
      ]
     },
     "metadata": {},
     "output_type": "display_data"
    },
    {
     "name": "stdout",
     "output_type": "stream",
     "text": [
      "R2 score (new):  0.300\n",
      "batch i: 208, episode_len: 5, loss:  0.96520825, entropy:  1.32726586\n"
     ]
    },
    {
     "data": {
      "application/vnd.jupyter.widget-view+json": {
       "model_id": "c6419a4bd2d7407c84b5fb9eff5d39fc",
       "version_major": 2,
       "version_minor": 0
      },
      "text/plain": [
       "  0%|          | 0/1 [00:00<?, ?it/s]"
      ]
     },
     "metadata": {},
     "output_type": "display_data"
    },
    {
     "name": "stdout",
     "output_type": "stream",
     "text": [
      "R2 score (new):  0.402\n",
      "batch i: 209, episode_len: 9, loss:  0.99537893, entropy:  1.31250668\n"
     ]
    },
    {
     "data": {
      "application/vnd.jupyter.widget-view+json": {
       "model_id": "bdcf77da171f4672ac41bf40c6617be0",
       "version_major": 2,
       "version_minor": 0
      },
      "text/plain": [
       "  0%|          | 0/1 [00:00<?, ?it/s]"
      ]
     },
     "metadata": {},
     "output_type": "display_data"
    },
    {
     "name": "stdout",
     "output_type": "stream",
     "text": [
      "R2 score (new):  0.285\n",
      "batch i: 210, episode_len: 7, loss:  0.93677012, entropy:  1.28202689\n",
      "current self-play batch: 211\n",
      "Updating elo score...\n",
      "Complete.\n",
      "Elo score: AlphaZero:  1503.33, Benchmark:  1723.57\n",
      "   action: 0, prob_X:  11.39%\t⭐️ action: 0, prob_O:  26.06%\n",
      "   action: 1, prob_X:  11.64%\t   action: 1, prob_O:  3.28%\n",
      "   action: 2, prob_X:  10.46%\t   action: 2, prob_O:  21.62%\n",
      "   action: 3, prob_X:  11.23%\t   action: 3, prob_O:  1.83%\n",
      "   action: 4, prob_X:  10.36%\t   action: 4, prob_O:  0.07%\n",
      "   action: 5, prob_X:  11.53%\t   action: 5, prob_O:  1.73%\n",
      "   action: 6, prob_X:  10.48%\t   action: 6, prob_O:  25.68%\n",
      "   action: 7, prob_X:  10.41%\t   action: 7, prob_O:  3.33%\n",
      "⭐️ action: 8, prob_X:  12.50%\t   action: 8, prob_O:  16.40%\n",
      "State-value X: 0.3688\n",
      "State-value O: -0.5107\n",
      "Evaluating best player...\n",
      "Complete.\n"
     ]
    },
    {
     "data": {
      "application/vnd.jupyter.widget-view+json": {
       "model_id": "5ee66b477feb45b5821f2e66a3757095",
       "version_major": 2,
       "version_minor": 0
      },
      "text/plain": [
       "  0%|          | 0/1 [00:00<?, ?it/s]"
      ]
     },
     "metadata": {},
     "output_type": "display_data"
    },
    {
     "name": "stdout",
     "output_type": "stream",
     "text": [
      "R2 score (new):  0.263\n",
      "batch i: 211, episode_len: 9, loss:  0.95755797, entropy:  1.36274540\n"
     ]
    },
    {
     "data": {
      "application/vnd.jupyter.widget-view+json": {
       "model_id": "025d5a4cc5024068b738286f48c088a5",
       "version_major": 2,
       "version_minor": 0
      },
      "text/plain": [
       "  0%|          | 0/1 [00:00<?, ?it/s]"
      ]
     },
     "metadata": {},
     "output_type": "display_data"
    },
    {
     "name": "stdout",
     "output_type": "stream",
     "text": [
      "R2 score (new):  0.206\n",
      "batch i: 212, episode_len: 5, loss:  0.94779934, entropy:  1.31773472\n"
     ]
    },
    {
     "data": {
      "application/vnd.jupyter.widget-view+json": {
       "model_id": "580bec80f4c64e2a9fdbdc77c716e4b7",
       "version_major": 2,
       "version_minor": 0
      },
      "text/plain": [
       "  0%|          | 0/1 [00:00<?, ?it/s]"
      ]
     },
     "metadata": {},
     "output_type": "display_data"
    },
    {
     "name": "stdout",
     "output_type": "stream",
     "text": [
      "R2 score (new):  0.418\n",
      "batch i: 213, episode_len: 5, loss:  0.99018861, entropy:  1.28299820\n"
     ]
    },
    {
     "data": {
      "application/vnd.jupyter.widget-view+json": {
       "model_id": "fd826d7880ff4439900ad285619d2551",
       "version_major": 2,
       "version_minor": 0
      },
      "text/plain": [
       "  0%|          | 0/1 [00:00<?, ?it/s]"
      ]
     },
     "metadata": {},
     "output_type": "display_data"
    },
    {
     "name": "stdout",
     "output_type": "stream",
     "text": [
      "R2 score (new):  0.224\n",
      "batch i: 214, episode_len: 7, loss:  0.95884518, entropy:  1.31649351\n"
     ]
    },
    {
     "data": {
      "application/vnd.jupyter.widget-view+json": {
       "model_id": "2bf1a6c55c454c3386e7520d4653da77",
       "version_major": 2,
       "version_minor": 0
      },
      "text/plain": [
       "  0%|          | 0/1 [00:00<?, ?it/s]"
      ]
     },
     "metadata": {},
     "output_type": "display_data"
    },
    {
     "name": "stdout",
     "output_type": "stream",
     "text": [
      "R2 score (new):  0.264\n",
      "batch i: 215, episode_len: 5, loss:  1.00768274, entropy:  1.37266004\n"
     ]
    },
    {
     "data": {
      "application/vnd.jupyter.widget-view+json": {
       "model_id": "02e391aabdb3474faf60d58280c2c72b",
       "version_major": 2,
       "version_minor": 0
      },
      "text/plain": [
       "  0%|          | 0/1 [00:00<?, ?it/s]"
      ]
     },
     "metadata": {},
     "output_type": "display_data"
    },
    {
     "name": "stdout",
     "output_type": "stream",
     "text": [
      "R2 score (new):  0.236\n",
      "batch i: 216, episode_len: 7, loss:  0.91285254, entropy:  1.34696019\n"
     ]
    },
    {
     "data": {
      "application/vnd.jupyter.widget-view+json": {
       "model_id": "4e65a90a019447a18956f9dbb66bf731",
       "version_major": 2,
       "version_minor": 0
      },
      "text/plain": [
       "  0%|          | 0/1 [00:00<?, ?it/s]"
      ]
     },
     "metadata": {},
     "output_type": "display_data"
    },
    {
     "name": "stdout",
     "output_type": "stream",
     "text": [
      "R2 score (new):  0.320\n",
      "batch i: 217, episode_len: 9, loss:  0.98372212, entropy:  1.33914733\n"
     ]
    },
    {
     "data": {
      "application/vnd.jupyter.widget-view+json": {
       "model_id": "a1b965fcec5e4e3a8a6c5247cf5d0ca8",
       "version_major": 2,
       "version_minor": 0
      },
      "text/plain": [
       "  0%|          | 0/1 [00:00<?, ?it/s]"
      ]
     },
     "metadata": {},
     "output_type": "display_data"
    },
    {
     "name": "stdout",
     "output_type": "stream",
     "text": [
      "R2 score (new):  0.212\n",
      "batch i: 218, episode_len: 8, loss:  0.96898206, entropy:  1.29116726\n"
     ]
    },
    {
     "data": {
      "application/vnd.jupyter.widget-view+json": {
       "model_id": "1ac99e03bc3a42b9a264a53ae1e9dfdc",
       "version_major": 2,
       "version_minor": 0
      },
      "text/plain": [
       "  0%|          | 0/1 [00:00<?, ?it/s]"
      ]
     },
     "metadata": {},
     "output_type": "display_data"
    },
    {
     "name": "stdout",
     "output_type": "stream",
     "text": [
      "R2 score (new):  0.279\n",
      "batch i: 219, episode_len: 7, loss:  0.96566567, entropy:  1.28119290\n"
     ]
    },
    {
     "data": {
      "application/vnd.jupyter.widget-view+json": {
       "model_id": "cde8b136206e4c80a22a9eb0fb8d1744",
       "version_major": 2,
       "version_minor": 0
      },
      "text/plain": [
       "  0%|          | 0/1 [00:00<?, ?it/s]"
      ]
     },
     "metadata": {},
     "output_type": "display_data"
    },
    {
     "name": "stdout",
     "output_type": "stream",
     "text": [
      "R2 score (new):  0.297\n",
      "batch i: 220, episode_len: 7, loss:  0.97464901, entropy:  1.26621175\n",
      "current self-play batch: 221\n",
      "Updating elo score...\n",
      "Complete.\n",
      "Elo score: AlphaZero:  1500.00, Benchmark:  1737.31\n",
      "   action: 0, prob_X:  11.87%\t⭐️ action: 0, prob_O:  24.65%\n",
      "   action: 1, prob_X:  8.67%\t   action: 1, prob_O:  3.80%\n",
      "   action: 2, prob_X:  13.48%\t   action: 2, prob_O:  19.46%\n",
      "   action: 3, prob_X:  10.48%\t   action: 3, prob_O:  3.07%\n",
      "   action: 4, prob_X:  9.37%\t   action: 4, prob_O:  0.07%\n",
      "   action: 5, prob_X:  10.80%\t   action: 5, prob_O:  2.00%\n",
      "⭐️ action: 6, prob_X:  13.64%\t   action: 6, prob_O:  21.79%\n",
      "   action: 7, prob_X:  8.30%\t   action: 7, prob_O:  3.75%\n",
      "   action: 8, prob_X:  13.38%\t   action: 8, prob_O:  21.40%\n",
      "State-value X: 0.3702\n",
      "State-value O: -0.5391\n",
      "Evaluating best player...\n",
      "Complete.\n",
      "New best policy!!\n"
     ]
    },
    {
     "data": {
      "application/vnd.jupyter.widget-view+json": {
       "model_id": "ef395bf1afff4d96a0d8ecb2f0b50df7",
       "version_major": 2,
       "version_minor": 0
      },
      "text/plain": [
       "  0%|          | 0/1 [00:00<?, ?it/s]"
      ]
     },
     "metadata": {},
     "output_type": "display_data"
    },
    {
     "name": "stdout",
     "output_type": "stream",
     "text": [
      "R2 score (new):  0.284\n",
      "batch i: 221, episode_len: 5, loss:  0.87643123, entropy:  1.28556502\n"
     ]
    },
    {
     "data": {
      "application/vnd.jupyter.widget-view+json": {
       "model_id": "e2e55823552044958d683108be8480fa",
       "version_major": 2,
       "version_minor": 0
      },
      "text/plain": [
       "  0%|          | 0/1 [00:00<?, ?it/s]"
      ]
     },
     "metadata": {},
     "output_type": "display_data"
    },
    {
     "name": "stdout",
     "output_type": "stream",
     "text": [
      "R2 score (new):  0.454\n",
      "batch i: 222, episode_len: 9, loss:  0.99013204, entropy:  1.22458243\n"
     ]
    },
    {
     "data": {
      "application/vnd.jupyter.widget-view+json": {
       "model_id": "ca4ccb779474469595916229cf37962a",
       "version_major": 2,
       "version_minor": 0
      },
      "text/plain": [
       "  0%|          | 0/1 [00:00<?, ?it/s]"
      ]
     },
     "metadata": {},
     "output_type": "display_data"
    },
    {
     "name": "stdout",
     "output_type": "stream",
     "text": [
      "R2 score (new): -0.708\n",
      "batch i: 223, episode_len: 9, loss:  1.13220849, entropy:  1.40228152\n"
     ]
    },
    {
     "data": {
      "application/vnd.jupyter.widget-view+json": {
       "model_id": "f166808620da48ed86ba6db206326dfd",
       "version_major": 2,
       "version_minor": 0
      },
      "text/plain": [
       "  0%|          | 0/1 [00:00<?, ?it/s]"
      ]
     },
     "metadata": {},
     "output_type": "display_data"
    },
    {
     "name": "stdout",
     "output_type": "stream",
     "text": [
      "R2 score (new):  0.078\n",
      "batch i: 224, episode_len: 9, loss:  1.19962989, entropy:  1.42241502\n"
     ]
    },
    {
     "data": {
      "application/vnd.jupyter.widget-view+json": {
       "model_id": "0c9dcca0e89f4274b18f3154496af75c",
       "version_major": 2,
       "version_minor": 0
      },
      "text/plain": [
       "  0%|          | 0/1 [00:00<?, ?it/s]"
      ]
     },
     "metadata": {},
     "output_type": "display_data"
    },
    {
     "name": "stdout",
     "output_type": "stream",
     "text": [
      "R2 score (new):  0.659\n",
      "batch i: 225, episode_len: 9, loss:  1.27500632, entropy:  1.45377707\n"
     ]
    },
    {
     "data": {
      "application/vnd.jupyter.widget-view+json": {
       "model_id": "53beb96fca304c1abda262ec92fb49c7",
       "version_major": 2,
       "version_minor": 0
      },
      "text/plain": [
       "  0%|          | 0/1 [00:00<?, ?it/s]"
      ]
     },
     "metadata": {},
     "output_type": "display_data"
    },
    {
     "name": "stdout",
     "output_type": "stream",
     "text": [
      "R2 score (new): -0.366\n",
      "batch i: 226, episode_len: 5, loss:  1.12794974, entropy:  1.37800014\n"
     ]
    },
    {
     "data": {
      "application/vnd.jupyter.widget-view+json": {
       "model_id": "dfd7782c1ca04e96901f025eb58fb6ce",
       "version_major": 2,
       "version_minor": 0
      },
      "text/plain": [
       "  0%|          | 0/1 [00:00<?, ?it/s]"
      ]
     },
     "metadata": {},
     "output_type": "display_data"
    },
    {
     "name": "stdout",
     "output_type": "stream",
     "text": [
      "R2 score (new):  0.538\n",
      "batch i: 227, episode_len: 7, loss:  1.06482520, entropy:  1.34667945\n"
     ]
    },
    {
     "data": {
      "application/vnd.jupyter.widget-view+json": {
       "model_id": "e4e34b3a885c41db91b2cf0a5ae61ce7",
       "version_major": 2,
       "version_minor": 0
      },
      "text/plain": [
       "  0%|          | 0/1 [00:00<?, ?it/s]"
      ]
     },
     "metadata": {},
     "output_type": "display_data"
    },
    {
     "name": "stdout",
     "output_type": "stream",
     "text": [
      "R2 score (new):  0.586\n",
      "batch i: 228, episode_len: 9, loss:  0.94321689, entropy:  1.33042693\n"
     ]
    },
    {
     "data": {
      "application/vnd.jupyter.widget-view+json": {
       "model_id": "6094312bc74f49bbb4283fc3eaafd57b",
       "version_major": 2,
       "version_minor": 0
      },
      "text/plain": [
       "  0%|          | 0/1 [00:00<?, ?it/s]"
      ]
     },
     "metadata": {},
     "output_type": "display_data"
    },
    {
     "name": "stdout",
     "output_type": "stream",
     "text": [
      "R2 score (new):  0.425\n",
      "batch i: 229, episode_len: 9, loss:  1.01154149, entropy:  1.38889980\n"
     ]
    },
    {
     "data": {
      "application/vnd.jupyter.widget-view+json": {
       "model_id": "dacab13010054b71ba4163cd3c478392",
       "version_major": 2,
       "version_minor": 0
      },
      "text/plain": [
       "  0%|          | 0/1 [00:00<?, ?it/s]"
      ]
     },
     "metadata": {},
     "output_type": "display_data"
    },
    {
     "name": "stdout",
     "output_type": "stream",
     "text": [
      "R2 score (new):  0.600\n",
      "batch i: 230, episode_len: 9, loss:  1.05992340, entropy:  1.34312558\n",
      "current self-play batch: 231\n",
      "Updating elo score...\n",
      "Complete.\n",
      "Elo score: AlphaZero:  1518.41, Benchmark:  1718.90\n",
      "   action: 0, prob_X:  12.73%\t⭐️ action: 0, prob_O:  22.85%\n",
      "   action: 1, prob_X:  6.78%\t   action: 1, prob_O:  4.11%\n",
      "⭐️ action: 2, prob_X:  15.44%\t   action: 2, prob_O:  21.53%\n",
      "   action: 3, prob_X:  10.30%\t   action: 3, prob_O:  3.71%\n",
      "   action: 4, prob_X:  9.62%\t   action: 4, prob_O:  0.21%\n",
      "   action: 5, prob_X:  9.56%\t   action: 5, prob_O:  2.92%\n",
      "   action: 6, prob_X:  14.52%\t   action: 6, prob_O:  19.30%\n",
      "   action: 7, prob_X:  7.83%\t   action: 7, prob_O:  5.08%\n",
      "   action: 8, prob_X:  13.22%\t   action: 8, prob_O:  20.28%\n",
      "State-value X: 0.4084\n",
      "State-value O: -0.5240\n",
      "Evaluating best player...\n",
      "Complete.\n"
     ]
    },
    {
     "data": {
      "application/vnd.jupyter.widget-view+json": {
       "model_id": "9bdcebcc32b542e6ae2a1f5903d6f35a",
       "version_major": 2,
       "version_minor": 0
      },
      "text/plain": [
       "  0%|          | 0/1 [00:00<?, ?it/s]"
      ]
     },
     "metadata": {},
     "output_type": "display_data"
    },
    {
     "name": "stdout",
     "output_type": "stream",
     "text": [
      "R2 score (new):  0.352\n",
      "batch i: 231, episode_len: 9, loss:  1.07688001, entropy:  1.41381609\n"
     ]
    },
    {
     "data": {
      "application/vnd.jupyter.widget-view+json": {
       "model_id": "d16339e60a174a8781fa00c85135747c",
       "version_major": 2,
       "version_minor": 0
      },
      "text/plain": [
       "  0%|          | 0/1 [00:00<?, ?it/s]"
      ]
     },
     "metadata": {},
     "output_type": "display_data"
    },
    {
     "name": "stdout",
     "output_type": "stream",
     "text": [
      "R2 score (new):  0.320\n",
      "batch i: 232, episode_len: 9, loss:  1.04040272, entropy:  1.36310720\n"
     ]
    },
    {
     "data": {
      "application/vnd.jupyter.widget-view+json": {
       "model_id": "152597a62cf94958bf39c040284be4f2",
       "version_major": 2,
       "version_minor": 0
      },
      "text/plain": [
       "  0%|          | 0/1 [00:00<?, ?it/s]"
      ]
     },
     "metadata": {},
     "output_type": "display_data"
    },
    {
     "name": "stdout",
     "output_type": "stream",
     "text": [
      "R2 score (new):  0.568\n",
      "batch i: 233, episode_len: 7, loss:  1.04130518, entropy:  1.38931441\n"
     ]
    },
    {
     "data": {
      "application/vnd.jupyter.widget-view+json": {
       "model_id": "1b7a7ace515f4fcdaae8a28a816ca987",
       "version_major": 2,
       "version_minor": 0
      },
      "text/plain": [
       "  0%|          | 0/1 [00:00<?, ?it/s]"
      ]
     },
     "metadata": {},
     "output_type": "display_data"
    },
    {
     "name": "stdout",
     "output_type": "stream",
     "text": [
      "R2 score (new):  0.418\n",
      "batch i: 234, episode_len: 9, loss:  1.00539554, entropy:  1.25781667\n"
     ]
    },
    {
     "data": {
      "application/vnd.jupyter.widget-view+json": {
       "model_id": "f7fc8544ffe44e40964c7020fb3892f9",
       "version_major": 2,
       "version_minor": 0
      },
      "text/plain": [
       "  0%|          | 0/1 [00:00<?, ?it/s]"
      ]
     },
     "metadata": {},
     "output_type": "display_data"
    },
    {
     "name": "stdout",
     "output_type": "stream",
     "text": [
      "R2 score (new):  0.181\n",
      "batch i: 235, episode_len: 7, loss:  0.97278176, entropy:  1.09943426\n"
     ]
    },
    {
     "data": {
      "application/vnd.jupyter.widget-view+json": {
       "model_id": "d03ff8a3815c4bfdbe372a57d0c951d8",
       "version_major": 2,
       "version_minor": 0
      },
      "text/plain": [
       "  0%|          | 0/1 [00:00<?, ?it/s]"
      ]
     },
     "metadata": {},
     "output_type": "display_data"
    },
    {
     "name": "stdout",
     "output_type": "stream",
     "text": [
      "R2 score (new):  0.414\n",
      "batch i: 236, episode_len: 9, loss:  0.98243920, entropy:  1.20671034\n"
     ]
    },
    {
     "data": {
      "application/vnd.jupyter.widget-view+json": {
       "model_id": "b7fdb2a060054709ba7fca995e6debd3",
       "version_major": 2,
       "version_minor": 0
      },
      "text/plain": [
       "  0%|          | 0/1 [00:00<?, ?it/s]"
      ]
     },
     "metadata": {},
     "output_type": "display_data"
    },
    {
     "name": "stdout",
     "output_type": "stream",
     "text": [
      "R2 score (new):  0.314\n",
      "batch i: 237, episode_len: 9, loss:  0.93167837, entropy:  1.21499145\n"
     ]
    },
    {
     "data": {
      "application/vnd.jupyter.widget-view+json": {
       "model_id": "0b84664e5930401f9f2cadb96ff5c69c",
       "version_major": 2,
       "version_minor": 0
      },
      "text/plain": [
       "  0%|          | 0/1 [00:00<?, ?it/s]"
      ]
     },
     "metadata": {},
     "output_type": "display_data"
    },
    {
     "name": "stdout",
     "output_type": "stream",
     "text": [
      "R2 score (new):  0.266\n",
      "batch i: 238, episode_len: 7, loss:  0.97713256, entropy:  1.22487366\n"
     ]
    },
    {
     "data": {
      "application/vnd.jupyter.widget-view+json": {
       "model_id": "9bebe98bc06742fb989188a8e976cf08",
       "version_major": 2,
       "version_minor": 0
      },
      "text/plain": [
       "  0%|          | 0/1 [00:00<?, ?it/s]"
      ]
     },
     "metadata": {},
     "output_type": "display_data"
    },
    {
     "name": "stdout",
     "output_type": "stream",
     "text": [
      "R2 score (new):  0.498\n",
      "batch i: 239, episode_len: 7, loss:  0.98544226, entropy:  1.23711288\n"
     ]
    },
    {
     "data": {
      "application/vnd.jupyter.widget-view+json": {
       "model_id": "55199451fc3447fb9dde81c7244f0a35",
       "version_major": 2,
       "version_minor": 0
      },
      "text/plain": [
       "  0%|          | 0/1 [00:00<?, ?it/s]"
      ]
     },
     "metadata": {},
     "output_type": "display_data"
    },
    {
     "name": "stdout",
     "output_type": "stream",
     "text": [
      "R2 score (new):  0.328\n",
      "batch i: 240, episode_len: 9, loss:  0.94710121, entropy:  1.29550278\n",
      "current self-play batch: 241\n",
      "Updating elo score...\n",
      "Complete.\n",
      "Elo score: AlphaZero:  1518.49, Benchmark:  1718.82\n",
      "   action: 0, prob_X:  10.78%\t   action: 0, prob_O:  21.68%\n",
      "   action: 1, prob_X:  13.29%\t   action: 1, prob_O:  2.88%\n",
      "   action: 2, prob_X:  9.44%\t   action: 2, prob_O:  22.35%\n",
      "⭐️ action: 3, prob_X:  13.33%\t   action: 3, prob_O:  2.22%\n",
      "   action: 4, prob_X:  8.11%\t   action: 4, prob_O:  0.10%\n",
      "   action: 5, prob_X:  12.06%\t   action: 5, prob_O:  1.13%\n",
      "   action: 6, prob_X:  10.61%\t   action: 6, prob_O:  22.90%\n",
      "   action: 7, prob_X:  11.21%\t   action: 7, prob_O:  3.54%\n",
      "   action: 8, prob_X:  11.16%\t⭐️ action: 8, prob_O:  23.20%\n",
      "State-value X: 0.3499\n",
      "State-value O: -0.5186\n",
      "Evaluating best player...\n",
      "Complete.\n"
     ]
    },
    {
     "data": {
      "application/vnd.jupyter.widget-view+json": {
       "model_id": "c1461cf1dee842bdafda737ad55e8f84",
       "version_major": 2,
       "version_minor": 0
      },
      "text/plain": [
       "  0%|          | 0/1 [00:00<?, ?it/s]"
      ]
     },
     "metadata": {},
     "output_type": "display_data"
    },
    {
     "name": "stdout",
     "output_type": "stream",
     "text": [
      "R2 score (new):  0.204\n",
      "batch i: 241, episode_len: 7, loss:  0.99297956, entropy:  1.37410212\n"
     ]
    },
    {
     "data": {
      "application/vnd.jupyter.widget-view+json": {
       "model_id": "da2db500eda24c0c9898f3c4bec20ced",
       "version_major": 2,
       "version_minor": 0
      },
      "text/plain": [
       "  0%|          | 0/1 [00:00<?, ?it/s]"
      ]
     },
     "metadata": {},
     "output_type": "display_data"
    },
    {
     "name": "stdout",
     "output_type": "stream",
     "text": [
      "R2 score (new):  0.007\n",
      "batch i: 242, episode_len: 7, loss:  0.98099390, entropy:  1.27832580\n"
     ]
    },
    {
     "data": {
      "application/vnd.jupyter.widget-view+json": {
       "model_id": "e5baf5ec41fe43e3836fb7fae0cb6415",
       "version_major": 2,
       "version_minor": 0
      },
      "text/plain": [
       "  0%|          | 0/1 [00:00<?, ?it/s]"
      ]
     },
     "metadata": {},
     "output_type": "display_data"
    },
    {
     "name": "stdout",
     "output_type": "stream",
     "text": [
      "R2 score (new):  0.366\n",
      "batch i: 243, episode_len: 7, loss:  1.00139655, entropy:  1.25277758\n"
     ]
    },
    {
     "data": {
      "application/vnd.jupyter.widget-view+json": {
       "model_id": "7abe849a27a84fa8a16f60504bccd839",
       "version_major": 2,
       "version_minor": 0
      },
      "text/plain": [
       "  0%|          | 0/1 [00:00<?, ?it/s]"
      ]
     },
     "metadata": {},
     "output_type": "display_data"
    },
    {
     "name": "stdout",
     "output_type": "stream",
     "text": [
      "R2 score (new):  0.175\n",
      "batch i: 244, episode_len: 9, loss:  0.94010486, entropy:  1.24409437\n"
     ]
    },
    {
     "data": {
      "application/vnd.jupyter.widget-view+json": {
       "model_id": "70a3598875a74040ba91fd81918988b0",
       "version_major": 2,
       "version_minor": 0
      },
      "text/plain": [
       "  0%|          | 0/1 [00:00<?, ?it/s]"
      ]
     },
     "metadata": {},
     "output_type": "display_data"
    },
    {
     "name": "stdout",
     "output_type": "stream",
     "text": [
      "R2 score (new):  0.292\n",
      "batch i: 245, episode_len: 5, loss:  0.91458326, entropy:  1.36033869\n"
     ]
    },
    {
     "data": {
      "application/vnd.jupyter.widget-view+json": {
       "model_id": "1bc8a8761fce44059c4b847ae1abbe75",
       "version_major": 2,
       "version_minor": 0
      },
      "text/plain": [
       "  0%|          | 0/1 [00:00<?, ?it/s]"
      ]
     },
     "metadata": {},
     "output_type": "display_data"
    },
    {
     "name": "stdout",
     "output_type": "stream",
     "text": [
      "R2 score (new):  0.241\n",
      "batch i: 246, episode_len: 6, loss:  0.89744532, entropy:  1.27377844\n"
     ]
    },
    {
     "data": {
      "application/vnd.jupyter.widget-view+json": {
       "model_id": "247354255272463085ba948d0e357c62",
       "version_major": 2,
       "version_minor": 0
      },
      "text/plain": [
       "  0%|          | 0/1 [00:00<?, ?it/s]"
      ]
     },
     "metadata": {},
     "output_type": "display_data"
    },
    {
     "name": "stdout",
     "output_type": "stream",
     "text": [
      "R2 score (new):  0.185\n",
      "batch i: 247, episode_len: 5, loss:  0.98736656, entropy:  1.24747765\n"
     ]
    },
    {
     "data": {
      "application/vnd.jupyter.widget-view+json": {
       "model_id": "d8385effc7d646f188f7e87599a6197e",
       "version_major": 2,
       "version_minor": 0
      },
      "text/plain": [
       "  0%|          | 0/1 [00:00<?, ?it/s]"
      ]
     },
     "metadata": {},
     "output_type": "display_data"
    },
    {
     "name": "stdout",
     "output_type": "stream",
     "text": [
      "R2 score (new):  0.301\n",
      "batch i: 248, episode_len: 9, loss:  0.90284295, entropy:  1.20424581\n"
     ]
    },
    {
     "data": {
      "application/vnd.jupyter.widget-view+json": {
       "model_id": "262550f5a83a476ab0524932c84667ba",
       "version_major": 2,
       "version_minor": 0
      },
      "text/plain": [
       "  0%|          | 0/1 [00:00<?, ?it/s]"
      ]
     },
     "metadata": {},
     "output_type": "display_data"
    },
    {
     "name": "stdout",
     "output_type": "stream",
     "text": [
      "R2 score (new):  0.118\n",
      "batch i: 249, episode_len: 9, loss:  1.04643454, entropy:  1.31947041\n"
     ]
    },
    {
     "data": {
      "application/vnd.jupyter.widget-view+json": {
       "model_id": "f2356eca1699406b909bd3cb51c10e21",
       "version_major": 2,
       "version_minor": 0
      },
      "text/plain": [
       "  0%|          | 0/1 [00:00<?, ?it/s]"
      ]
     },
     "metadata": {},
     "output_type": "display_data"
    },
    {
     "name": "stdout",
     "output_type": "stream",
     "text": [
      "R2 score (new):  0.388\n",
      "batch i: 250, episode_len: 5, loss:  0.92788115, entropy:  1.17050660\n",
      "current self-play batch: 251\n",
      "Updating elo score...\n",
      "Complete.\n",
      "Elo score: AlphaZero:  1533.39, Benchmark:  1703.92\n",
      "   action: 0, prob_X:  10.04%\t   action: 0, prob_O:  21.73%\n",
      "   action: 1, prob_X:  12.33%\t   action: 1, prob_O:  1.92%\n",
      "   action: 2, prob_X:  11.64%\t   action: 2, prob_O:  22.91%\n",
      "   action: 3, prob_X:  10.46%\t   action: 3, prob_O:  2.53%\n",
      "   action: 4, prob_X:  11.12%\t   action: 4, prob_O:  0.07%\n",
      "   action: 5, prob_X:  10.14%\t   action: 5, prob_O:  1.80%\n",
      "⭐️ action: 6, prob_X:  12.53%\t⭐️ action: 6, prob_O:  28.73%\n",
      "   action: 7, prob_X:  11.50%\t   action: 7, prob_O:  2.55%\n",
      "   action: 8, prob_X:  10.25%\t   action: 8, prob_O:  17.75%\n",
      "State-value X: 0.3347\n",
      "State-value O: -0.5199\n",
      "Evaluating best player...\n",
      "Complete.\n"
     ]
    },
    {
     "data": {
      "application/vnd.jupyter.widget-view+json": {
       "model_id": "f7328b3060224dfe908ecbc6873e795b",
       "version_major": 2,
       "version_minor": 0
      },
      "text/plain": [
       "  0%|          | 0/1 [00:00<?, ?it/s]"
      ]
     },
     "metadata": {},
     "output_type": "display_data"
    },
    {
     "name": "stdout",
     "output_type": "stream",
     "text": [
      "R2 score (new):  0.265\n",
      "batch i: 251, episode_len: 9, loss:  0.93596892, entropy:  1.27816868\n"
     ]
    },
    {
     "data": {
      "application/vnd.jupyter.widget-view+json": {
       "model_id": "4e0ee0e64b494359a0d8d7a8a095045c",
       "version_major": 2,
       "version_minor": 0
      },
      "text/plain": [
       "  0%|          | 0/1 [00:00<?, ?it/s]"
      ]
     },
     "metadata": {},
     "output_type": "display_data"
    },
    {
     "name": "stdout",
     "output_type": "stream",
     "text": [
      "R2 score (new):  0.409\n",
      "batch i: 252, episode_len: 9, loss:  0.90831582, entropy:  1.19780970\n"
     ]
    },
    {
     "data": {
      "application/vnd.jupyter.widget-view+json": {
       "model_id": "c355eb0cf5ca40a68db3a6418f23109c",
       "version_major": 2,
       "version_minor": 0
      },
      "text/plain": [
       "  0%|          | 0/1 [00:00<?, ?it/s]"
      ]
     },
     "metadata": {},
     "output_type": "display_data"
    },
    {
     "name": "stdout",
     "output_type": "stream",
     "text": [
      "R2 score (new):  0.298\n",
      "batch i: 253, episode_len: 9, loss:  0.95234714, entropy:  1.20382690\n"
     ]
    },
    {
     "data": {
      "application/vnd.jupyter.widget-view+json": {
       "model_id": "0614b9ccaed4436abab3743b781c988a",
       "version_major": 2,
       "version_minor": 0
      },
      "text/plain": [
       "  0%|          | 0/1 [00:00<?, ?it/s]"
      ]
     },
     "metadata": {},
     "output_type": "display_data"
    },
    {
     "name": "stdout",
     "output_type": "stream",
     "text": [
      "R2 score (new):  0.326\n",
      "batch i: 254, episode_len: 9, loss:  0.98256252, entropy:  1.23652303\n"
     ]
    },
    {
     "data": {
      "application/vnd.jupyter.widget-view+json": {
       "model_id": "2017fc0b53094747aa16ade1141a637d",
       "version_major": 2,
       "version_minor": 0
      },
      "text/plain": [
       "  0%|          | 0/1 [00:00<?, ?it/s]"
      ]
     },
     "metadata": {},
     "output_type": "display_data"
    },
    {
     "name": "stdout",
     "output_type": "stream",
     "text": [
      "R2 score (new):  0.370\n",
      "batch i: 255, episode_len: 9, loss:  0.91378470, entropy:  1.21862996\n"
     ]
    },
    {
     "data": {
      "application/vnd.jupyter.widget-view+json": {
       "model_id": "55db4b28960f4d43933241ed7e884186",
       "version_major": 2,
       "version_minor": 0
      },
      "text/plain": [
       "  0%|          | 0/1 [00:00<?, ?it/s]"
      ]
     },
     "metadata": {},
     "output_type": "display_data"
    },
    {
     "name": "stdout",
     "output_type": "stream",
     "text": [
      "R2 score (new):  0.394\n",
      "batch i: 256, episode_len: 9, loss:  0.97153988, entropy:  1.24811161\n"
     ]
    },
    {
     "data": {
      "application/vnd.jupyter.widget-view+json": {
       "model_id": "825c8aff9ccc4454b15557dbe3de93e7",
       "version_major": 2,
       "version_minor": 0
      },
      "text/plain": [
       "  0%|          | 0/1 [00:00<?, ?it/s]"
      ]
     },
     "metadata": {},
     "output_type": "display_data"
    },
    {
     "name": "stdout",
     "output_type": "stream",
     "text": [
      "R2 score (new):  0.303\n",
      "batch i: 257, episode_len: 9, loss:  0.96993715, entropy:  1.28341711\n"
     ]
    },
    {
     "data": {
      "application/vnd.jupyter.widget-view+json": {
       "model_id": "b4b67a80ee2f4a9c8ce9703f5fb7a9d1",
       "version_major": 2,
       "version_minor": 0
      },
      "text/plain": [
       "  0%|          | 0/1 [00:00<?, ?it/s]"
      ]
     },
     "metadata": {},
     "output_type": "display_data"
    },
    {
     "name": "stdout",
     "output_type": "stream",
     "text": [
      "R2 score (new):  0.353\n",
      "batch i: 258, episode_len: 5, loss:  0.91058856, entropy:  1.29009914\n"
     ]
    },
    {
     "data": {
      "application/vnd.jupyter.widget-view+json": {
       "model_id": "7dfefe64a25943a1a37f439ee4cf0cc9",
       "version_major": 2,
       "version_minor": 0
      },
      "text/plain": [
       "  0%|          | 0/1 [00:00<?, ?it/s]"
      ]
     },
     "metadata": {},
     "output_type": "display_data"
    },
    {
     "name": "stdout",
     "output_type": "stream",
     "text": [
      "R2 score (new):  0.233\n",
      "batch i: 259, episode_len: 9, loss:  0.92442598, entropy:  1.18301094\n"
     ]
    },
    {
     "data": {
      "application/vnd.jupyter.widget-view+json": {
       "model_id": "87610dffedf44ea1ba1ec713f15c0f54",
       "version_major": 2,
       "version_minor": 0
      },
      "text/plain": [
       "  0%|          | 0/1 [00:00<?, ?it/s]"
      ]
     },
     "metadata": {},
     "output_type": "display_data"
    },
    {
     "name": "stdout",
     "output_type": "stream",
     "text": [
      "R2 score (new):  0.366\n",
      "batch i: 260, episode_len: 9, loss:  0.90435861, entropy:  1.20905101\n",
      "current self-play batch: 261\n",
      "Updating elo score...\n",
      "Complete.\n",
      "Elo score: AlphaZero:  1516.56, Benchmark:  1720.74\n",
      "   action: 0, prob_X:  10.91%\t   action: 0, prob_O:  18.72%\n",
      "   action: 1, prob_X:  11.44%\t   action: 1, prob_O:  1.93%\n",
      "   action: 2, prob_X:  10.30%\t   action: 2, prob_O:  28.47%\n",
      "   action: 3, prob_X:  10.95%\t   action: 3, prob_O:  1.50%\n",
      "⭐️ action: 4, prob_X:  12.93%\t   action: 4, prob_O:  0.05%\n",
      "   action: 5, prob_X:  11.51%\t   action: 5, prob_O:  1.17%\n",
      "   action: 6, prob_X:  9.82%\t⭐️ action: 6, prob_O:  28.47%\n",
      "   action: 7, prob_X:  11.36%\t   action: 7, prob_O:  2.23%\n",
      "   action: 8, prob_X:  10.79%\t   action: 8, prob_O:  17.47%\n",
      "State-value X: 0.3578\n",
      "State-value O: -0.5496\n",
      "Evaluating best player...\n",
      "Complete.\n"
     ]
    },
    {
     "data": {
      "application/vnd.jupyter.widget-view+json": {
       "model_id": "fc3a750965ea48bbac25caf091288ddf",
       "version_major": 2,
       "version_minor": 0
      },
      "text/plain": [
       "  0%|          | 0/1 [00:00<?, ?it/s]"
      ]
     },
     "metadata": {},
     "output_type": "display_data"
    },
    {
     "name": "stdout",
     "output_type": "stream",
     "text": [
      "R2 score (new):  0.422\n",
      "batch i: 261, episode_len: 8, loss:  0.96530760, entropy:  1.27534914\n"
     ]
    },
    {
     "data": {
      "application/vnd.jupyter.widget-view+json": {
       "model_id": "ce7745d3aef6411daaff52f4d16fc19b",
       "version_major": 2,
       "version_minor": 0
      },
      "text/plain": [
       "  0%|          | 0/1 [00:00<?, ?it/s]"
      ]
     },
     "metadata": {},
     "output_type": "display_data"
    },
    {
     "name": "stdout",
     "output_type": "stream",
     "text": [
      "R2 score (new):  0.149\n",
      "batch i: 262, episode_len: 7, loss:  0.95628377, entropy:  1.21115732\n"
     ]
    },
    {
     "data": {
      "application/vnd.jupyter.widget-view+json": {
       "model_id": "74f99396a05b4c28811df179455311da",
       "version_major": 2,
       "version_minor": 0
      },
      "text/plain": [
       "  0%|          | 0/1 [00:00<?, ?it/s]"
      ]
     },
     "metadata": {},
     "output_type": "display_data"
    },
    {
     "name": "stdout",
     "output_type": "stream",
     "text": [
      "R2 score (new):  0.380\n",
      "batch i: 263, episode_len: 9, loss:  0.87988399, entropy:  1.16868806\n"
     ]
    },
    {
     "data": {
      "application/vnd.jupyter.widget-view+json": {
       "model_id": "5553b9a7dc6742a19155c2ec28e3ab91",
       "version_major": 2,
       "version_minor": 0
      },
      "text/plain": [
       "  0%|          | 0/1 [00:00<?, ?it/s]"
      ]
     },
     "metadata": {},
     "output_type": "display_data"
    },
    {
     "name": "stdout",
     "output_type": "stream",
     "text": [
      "R2 score (new):  0.259\n",
      "batch i: 264, episode_len: 9, loss:  0.86582421, entropy:  1.28313923\n"
     ]
    },
    {
     "data": {
      "application/vnd.jupyter.widget-view+json": {
       "model_id": "ca56ff4dcfe24d4cbdb36106127a9c49",
       "version_major": 2,
       "version_minor": 0
      },
      "text/plain": [
       "  0%|          | 0/1 [00:00<?, ?it/s]"
      ]
     },
     "metadata": {},
     "output_type": "display_data"
    },
    {
     "name": "stdout",
     "output_type": "stream",
     "text": [
      "R2 score (new):  0.338\n",
      "batch i: 265, episode_len: 9, loss:  0.88787057, entropy:  1.31160557\n"
     ]
    },
    {
     "data": {
      "application/vnd.jupyter.widget-view+json": {
       "model_id": "88b3db4d98f84aa6ab775f06d9bdb7fd",
       "version_major": 2,
       "version_minor": 0
      },
      "text/plain": [
       "  0%|          | 0/1 [00:00<?, ?it/s]"
      ]
     },
     "metadata": {},
     "output_type": "display_data"
    },
    {
     "name": "stdout",
     "output_type": "stream",
     "text": [
      "R2 score (new):  0.311\n",
      "batch i: 266, episode_len: 7, loss:  0.95289169, entropy:  1.17395866\n"
     ]
    },
    {
     "data": {
      "application/vnd.jupyter.widget-view+json": {
       "model_id": "e5709e60465246f4837fe4c8def82d76",
       "version_major": 2,
       "version_minor": 0
      },
      "text/plain": [
       "  0%|          | 0/1 [00:00<?, ?it/s]"
      ]
     },
     "metadata": {},
     "output_type": "display_data"
    },
    {
     "name": "stdout",
     "output_type": "stream",
     "text": [
      "R2 score (new):  0.287\n",
      "batch i: 267, episode_len: 9, loss:  0.91876207, entropy:  1.20683801\n"
     ]
    },
    {
     "data": {
      "application/vnd.jupyter.widget-view+json": {
       "model_id": "32c2056d76cc4155ac76c58e276d4f1a",
       "version_major": 2,
       "version_minor": 0
      },
      "text/plain": [
       "  0%|          | 0/1 [00:00<?, ?it/s]"
      ]
     },
     "metadata": {},
     "output_type": "display_data"
    },
    {
     "name": "stdout",
     "output_type": "stream",
     "text": [
      "R2 score (new):  0.236\n",
      "batch i: 268, episode_len: 7, loss:  0.87910438, entropy:  1.25637794\n"
     ]
    },
    {
     "data": {
      "application/vnd.jupyter.widget-view+json": {
       "model_id": "31a406c589a3448db3113264cb1be081",
       "version_major": 2,
       "version_minor": 0
      },
      "text/plain": [
       "  0%|          | 0/1 [00:00<?, ?it/s]"
      ]
     },
     "metadata": {},
     "output_type": "display_data"
    },
    {
     "name": "stdout",
     "output_type": "stream",
     "text": [
      "R2 score (new):  0.296\n",
      "batch i: 269, episode_len: 9, loss:  0.87693353, entropy:  1.24017000\n"
     ]
    },
    {
     "data": {
      "application/vnd.jupyter.widget-view+json": {
       "model_id": "c934661d24fb4e5582c116ae7b9a9243",
       "version_major": 2,
       "version_minor": 0
      },
      "text/plain": [
       "  0%|          | 0/1 [00:00<?, ?it/s]"
      ]
     },
     "metadata": {},
     "output_type": "display_data"
    },
    {
     "name": "stdout",
     "output_type": "stream",
     "text": [
      "R2 score (new):  0.387\n",
      "batch i: 270, episode_len: 9, loss:  0.86906235, entropy:  1.20310974\n",
      "current self-play batch: 271\n",
      "Updating elo score...\n",
      "Complete.\n",
      "Elo score: AlphaZero:  1501.96, Benchmark:  1735.35\n",
      "   action: 0, prob_X:  9.82%\t   action: 0, prob_O:  21.58%\n",
      "   action: 1, prob_X:  10.67%\t   action: 1, prob_O:  2.15%\n",
      "   action: 2, prob_X:  11.19%\t⭐️ action: 2, prob_O:  26.48%\n",
      "   action: 3, prob_X:  11.70%\t   action: 3, prob_O:  1.51%\n",
      "⭐️ action: 4, prob_X:  13.91%\t   action: 4, prob_O:  0.04%\n",
      "   action: 5, prob_X:  10.27%\t   action: 5, prob_O:  1.15%\n",
      "   action: 6, prob_X:  11.16%\t   action: 6, prob_O:  23.18%\n",
      "   action: 7, prob_X:  11.68%\t   action: 7, prob_O:  2.06%\n",
      "   action: 8, prob_X:  9.59%\t   action: 8, prob_O:  21.84%\n",
      "State-value X: 0.3472\n",
      "State-value O: -0.5640\n",
      "Evaluating best player...\n",
      "Complete.\n"
     ]
    },
    {
     "data": {
      "application/vnd.jupyter.widget-view+json": {
       "model_id": "87c5d5653e374546952791a12034648b",
       "version_major": 2,
       "version_minor": 0
      },
      "text/plain": [
       "  0%|          | 0/1 [00:00<?, ?it/s]"
      ]
     },
     "metadata": {},
     "output_type": "display_data"
    },
    {
     "name": "stdout",
     "output_type": "stream",
     "text": [
      "R2 score (new):  0.246\n",
      "batch i: 271, episode_len: 9, loss:  0.88034677, entropy:  1.15309203\n"
     ]
    },
    {
     "data": {
      "application/vnd.jupyter.widget-view+json": {
       "model_id": "963b5caab4ee4b76b3b174f6d4b9a7d5",
       "version_major": 2,
       "version_minor": 0
      },
      "text/plain": [
       "  0%|          | 0/1 [00:00<?, ?it/s]"
      ]
     },
     "metadata": {},
     "output_type": "display_data"
    },
    {
     "name": "stdout",
     "output_type": "stream",
     "text": [
      "R2 score (new):  0.445\n",
      "batch i: 272, episode_len: 9, loss:  0.89987193, entropy:  1.23871040\n"
     ]
    },
    {
     "data": {
      "application/vnd.jupyter.widget-view+json": {
       "model_id": "c96bd1008e474fa1803f442865cb16eb",
       "version_major": 2,
       "version_minor": 0
      },
      "text/plain": [
       "  0%|          | 0/1 [00:00<?, ?it/s]"
      ]
     },
     "metadata": {},
     "output_type": "display_data"
    },
    {
     "name": "stdout",
     "output_type": "stream",
     "text": [
      "R2 score (new):  0.294\n",
      "batch i: 273, episode_len: 6, loss:  0.89008081, entropy:  1.23948824\n"
     ]
    },
    {
     "data": {
      "application/vnd.jupyter.widget-view+json": {
       "model_id": "0af59657b3ed49b083ee0147af7df636",
       "version_major": 2,
       "version_minor": 0
      },
      "text/plain": [
       "  0%|          | 0/1 [00:00<?, ?it/s]"
      ]
     },
     "metadata": {},
     "output_type": "display_data"
    },
    {
     "name": "stdout",
     "output_type": "stream",
     "text": [
      "R2 score (new):  0.377\n",
      "batch i: 274, episode_len: 9, loss:  0.85794325, entropy:  1.29619873\n"
     ]
    },
    {
     "data": {
      "application/vnd.jupyter.widget-view+json": {
       "model_id": "1c060b1c8e1849db8ea16a45321586d8",
       "version_major": 2,
       "version_minor": 0
      },
      "text/plain": [
       "  0%|          | 0/1 [00:00<?, ?it/s]"
      ]
     },
     "metadata": {},
     "output_type": "display_data"
    },
    {
     "name": "stdout",
     "output_type": "stream",
     "text": [
      "R2 score (new):  0.562\n",
      "batch i: 275, episode_len: 9, loss:  0.87836656, entropy:  1.14603198\n"
     ]
    },
    {
     "data": {
      "application/vnd.jupyter.widget-view+json": {
       "model_id": "f63dbaeb93e44dbcbe6363dfb29399d4",
       "version_major": 2,
       "version_minor": 0
      },
      "text/plain": [
       "  0%|          | 0/1 [00:00<?, ?it/s]"
      ]
     },
     "metadata": {},
     "output_type": "display_data"
    },
    {
     "name": "stdout",
     "output_type": "stream",
     "text": [
      "R2 score (new):  0.243\n",
      "batch i: 276, episode_len: 5, loss:  0.85155664, entropy:  1.18013597\n"
     ]
    },
    {
     "data": {
      "application/vnd.jupyter.widget-view+json": {
       "model_id": "f961d441e34a416f85c5abd2ebe07869",
       "version_major": 2,
       "version_minor": 0
      },
      "text/plain": [
       "  0%|          | 0/1 [00:00<?, ?it/s]"
      ]
     },
     "metadata": {},
     "output_type": "display_data"
    },
    {
     "name": "stdout",
     "output_type": "stream",
     "text": [
      "R2 score (new):  0.277\n",
      "batch i: 277, episode_len: 9, loss:  0.88283997, entropy:  1.22193825\n"
     ]
    },
    {
     "data": {
      "application/vnd.jupyter.widget-view+json": {
       "model_id": "c2ba667fcfb8477eb2d58bccc527bb53",
       "version_major": 2,
       "version_minor": 0
      },
      "text/plain": [
       "  0%|          | 0/1 [00:00<?, ?it/s]"
      ]
     },
     "metadata": {},
     "output_type": "display_data"
    },
    {
     "name": "stdout",
     "output_type": "stream",
     "text": [
      "R2 score (new):  0.364\n",
      "batch i: 278, episode_len: 9, loss:  0.86671558, entropy:  1.21046948\n"
     ]
    },
    {
     "data": {
      "application/vnd.jupyter.widget-view+json": {
       "model_id": "10f11cfc4c5941beb7f09d699c32a4fc",
       "version_major": 2,
       "version_minor": 0
      },
      "text/plain": [
       "  0%|          | 0/1 [00:00<?, ?it/s]"
      ]
     },
     "metadata": {},
     "output_type": "display_data"
    },
    {
     "name": "stdout",
     "output_type": "stream",
     "text": [
      "R2 score (new):  0.160\n",
      "batch i: 279, episode_len: 9, loss:  0.82979589, entropy:  1.13869154\n"
     ]
    },
    {
     "data": {
      "application/vnd.jupyter.widget-view+json": {
       "model_id": "a9fa893bf7f04c23be2f32e86e697457",
       "version_major": 2,
       "version_minor": 0
      },
      "text/plain": [
       "  0%|          | 0/1 [00:00<?, ?it/s]"
      ]
     },
     "metadata": {},
     "output_type": "display_data"
    },
    {
     "name": "stdout",
     "output_type": "stream",
     "text": [
      "R2 score (new):  0.235\n",
      "batch i: 280, episode_len: 9, loss:  0.85013706, entropy:  1.12989092\n",
      "current self-play batch: 281\n",
      "Updating elo score...\n",
      "Complete.\n",
      "Elo score: AlphaZero:  1520.13, Benchmark:  1717.18\n",
      "   action: 0, prob_X:  13.97%\t   action: 0, prob_O:  20.88%\n",
      "   action: 1, prob_X:  8.93%\t   action: 1, prob_O:  2.83%\n",
      "   action: 2, prob_X:  12.20%\t   action: 2, prob_O:  23.65%\n",
      "   action: 3, prob_X:  11.20%\t   action: 3, prob_O:  2.59%\n",
      "   action: 4, prob_X:  8.28%\t   action: 4, prob_O:  0.08%\n",
      "   action: 5, prob_X:  10.89%\t   action: 5, prob_O:  1.55%\n",
      "   action: 6, prob_X:  12.11%\t⭐️ action: 6, prob_O:  23.67%\n",
      "   action: 7, prob_X:  8.29%\t   action: 7, prob_O:  3.35%\n",
      "⭐️ action: 8, prob_X:  14.11%\t   action: 8, prob_O:  21.39%\n",
      "State-value X: 0.3708\n",
      "State-value O: -0.5744\n",
      "Evaluating best player...\n",
      "Complete.\n"
     ]
    },
    {
     "data": {
      "application/vnd.jupyter.widget-view+json": {
       "model_id": "3925d9a38de7418e9ec2aef7acde4d63",
       "version_major": 2,
       "version_minor": 0
      },
      "text/plain": [
       "  0%|          | 0/1 [00:00<?, ?it/s]"
      ]
     },
     "metadata": {},
     "output_type": "display_data"
    },
    {
     "name": "stdout",
     "output_type": "stream",
     "text": [
      "R2 score (new):  0.406\n",
      "batch i: 281, episode_len: 9, loss:  0.85835658, entropy:  1.19674850\n"
     ]
    },
    {
     "data": {
      "application/vnd.jupyter.widget-view+json": {
       "model_id": "4cff7ba396a849508d6c8607856dc7f2",
       "version_major": 2,
       "version_minor": 0
      },
      "text/plain": [
       "  0%|          | 0/1 [00:00<?, ?it/s]"
      ]
     },
     "metadata": {},
     "output_type": "display_data"
    },
    {
     "name": "stdout",
     "output_type": "stream",
     "text": [
      "R2 score (new):  0.304\n",
      "batch i: 282, episode_len: 9, loss:  0.86397313, entropy:  1.18566048\n"
     ]
    },
    {
     "data": {
      "application/vnd.jupyter.widget-view+json": {
       "model_id": "a73932346c2b4addb54a0dcf0af15464",
       "version_major": 2,
       "version_minor": 0
      },
      "text/plain": [
       "  0%|          | 0/1 [00:00<?, ?it/s]"
      ]
     },
     "metadata": {},
     "output_type": "display_data"
    },
    {
     "name": "stdout",
     "output_type": "stream",
     "text": [
      "R2 score (new):  0.378\n",
      "batch i: 283, episode_len: 9, loss:  0.84207511, entropy:  1.23614049\n"
     ]
    },
    {
     "data": {
      "application/vnd.jupyter.widget-view+json": {
       "model_id": "16dcf2e2f67e4a928f51b2675326552c",
       "version_major": 2,
       "version_minor": 0
      },
      "text/plain": [
       "  0%|          | 0/1 [00:00<?, ?it/s]"
      ]
     },
     "metadata": {},
     "output_type": "display_data"
    },
    {
     "name": "stdout",
     "output_type": "stream",
     "text": [
      "R2 score (new):  0.350\n",
      "batch i: 284, episode_len: 9, loss:  0.89216074, entropy:  1.21518528\n"
     ]
    },
    {
     "data": {
      "application/vnd.jupyter.widget-view+json": {
       "model_id": "e2432ee95638451f9b6011c27a03ca95",
       "version_major": 2,
       "version_minor": 0
      },
      "text/plain": [
       "  0%|          | 0/1 [00:00<?, ?it/s]"
      ]
     },
     "metadata": {},
     "output_type": "display_data"
    },
    {
     "name": "stdout",
     "output_type": "stream",
     "text": [
      "R2 score (new):  0.379\n",
      "batch i: 285, episode_len: 9, loss:  0.86782960, entropy:  1.19291866\n"
     ]
    },
    {
     "data": {
      "application/vnd.jupyter.widget-view+json": {
       "model_id": "68d3994f58854436a6fa2c8bc3bb38bb",
       "version_major": 2,
       "version_minor": 0
      },
      "text/plain": [
       "  0%|          | 0/1 [00:00<?, ?it/s]"
      ]
     },
     "metadata": {},
     "output_type": "display_data"
    },
    {
     "name": "stdout",
     "output_type": "stream",
     "text": [
      "R2 score (new):  0.000\n",
      "batch i: 286, episode_len: 5, loss:  1.25864093, entropy:  1.39171290\n"
     ]
    },
    {
     "data": {
      "application/vnd.jupyter.widget-view+json": {
       "model_id": "4da1e44852314d6ab1c7f197252b426f",
       "version_major": 2,
       "version_minor": 0
      },
      "text/plain": [
       "  0%|          | 0/1 [00:00<?, ?it/s]"
      ]
     },
     "metadata": {},
     "output_type": "display_data"
    },
    {
     "name": "stdout",
     "output_type": "stream",
     "text": [
      "R2 score (new):  0.448\n",
      "batch i: 287, episode_len: 9, loss:  1.11432051, entropy:  1.38847637\n"
     ]
    },
    {
     "data": {
      "application/vnd.jupyter.widget-view+json": {
       "model_id": "361cef825dc64930ac0661c6c6a5b6dd",
       "version_major": 2,
       "version_minor": 0
      },
      "text/plain": [
       "  0%|          | 0/1 [00:00<?, ?it/s]"
      ]
     },
     "metadata": {},
     "output_type": "display_data"
    },
    {
     "name": "stdout",
     "output_type": "stream",
     "text": [
      "R2 score (new): -0.054\n",
      "batch i: 288, episode_len: 9, loss:  1.00378768, entropy:  1.27260149\n"
     ]
    },
    {
     "data": {
      "application/vnd.jupyter.widget-view+json": {
       "model_id": "56cb83e253c84c2789002b0c2d2252f0",
       "version_major": 2,
       "version_minor": 0
      },
      "text/plain": [
       "  0%|          | 0/1 [00:00<?, ?it/s]"
      ]
     },
     "metadata": {},
     "output_type": "display_data"
    },
    {
     "name": "stdout",
     "output_type": "stream",
     "text": [
      "R2 score (new):  0.160\n",
      "batch i: 289, episode_len: 8, loss:  1.01815797, entropy:  1.47268343\n"
     ]
    },
    {
     "data": {
      "application/vnd.jupyter.widget-view+json": {
       "model_id": "6206c90b6f9942cc982a59e1e6e57870",
       "version_major": 2,
       "version_minor": 0
      },
      "text/plain": [
       "  0%|          | 0/1 [00:00<?, ?it/s]"
      ]
     },
     "metadata": {},
     "output_type": "display_data"
    },
    {
     "name": "stdout",
     "output_type": "stream",
     "text": [
      "R2 score (new):  0.400\n",
      "batch i: 290, episode_len: 9, loss:  1.11113578, entropy:  1.22954309\n",
      "current self-play batch: 291\n",
      "Updating elo score...\n",
      "Complete.\n",
      "Elo score: AlphaZero:  1521.07, Benchmark:  1716.24\n",
      "   action: 0, prob_X:  7.88%\t   action: 0, prob_O:  19.22%\n",
      "   action: 1, prob_X:  9.33%\t   action: 1, prob_O:  1.03%\n",
      "   action: 2, prob_X:  8.61%\t   action: 2, prob_O:  28.70%\n",
      "   action: 3, prob_X:  11.82%\t   action: 3, prob_O:  1.17%\n",
      "⭐️ action: 4, prob_X:  19.44%\t   action: 4, prob_O:  0.03%\n",
      "   action: 5, prob_X:  11.36%\t   action: 5, prob_O:  1.78%\n",
      "   action: 6, prob_X:  14.33%\t   action: 6, prob_O:  16.69%\n",
      "   action: 7, prob_X:  11.00%\t   action: 7, prob_O:  1.15%\n",
      "   action: 8, prob_X:  6.22%\t⭐️ action: 8, prob_O:  30.23%\n",
      "State-value X: 0.2803\n",
      "State-value O: -0.4949\n",
      "Evaluating best player...\n",
      "Complete.\n",
      "New best policy!!\n"
     ]
    },
    {
     "data": {
      "application/vnd.jupyter.widget-view+json": {
       "model_id": "dc7b9dc11d0d4a6fb08239467d0f43cd",
       "version_major": 2,
       "version_minor": 0
      },
      "text/plain": [
       "  0%|          | 0/1 [00:00<?, ?it/s]"
      ]
     },
     "metadata": {},
     "output_type": "display_data"
    },
    {
     "name": "stdout",
     "output_type": "stream",
     "text": [
      "R2 score (new):  0.079\n",
      "batch i: 291, episode_len: 9, loss:  0.90713272, entropy:  1.55257332\n"
     ]
    },
    {
     "data": {
      "application/vnd.jupyter.widget-view+json": {
       "model_id": "3d133e5a2a884174ac4a825a0ca6f20d",
       "version_major": 2,
       "version_minor": 0
      },
      "text/plain": [
       "  0%|          | 0/1 [00:00<?, ?it/s]"
      ]
     },
     "metadata": {},
     "output_type": "display_data"
    },
    {
     "name": "stdout",
     "output_type": "stream",
     "text": [
      "R2 score (new):  0.147\n",
      "batch i: 292, episode_len: 9, loss:  1.01043451, entropy:  1.39453816\n"
     ]
    },
    {
     "data": {
      "application/vnd.jupyter.widget-view+json": {
       "model_id": "239af434d1dc463fb50dd80fc55ed0a7",
       "version_major": 2,
       "version_minor": 0
      },
      "text/plain": [
       "  0%|          | 0/1 [00:00<?, ?it/s]"
      ]
     },
     "metadata": {},
     "output_type": "display_data"
    },
    {
     "name": "stdout",
     "output_type": "stream",
     "text": [
      "R2 score (new):  0.069\n",
      "batch i: 293, episode_len: 9, loss:  1.03134780, entropy:  1.24157071\n"
     ]
    },
    {
     "data": {
      "application/vnd.jupyter.widget-view+json": {
       "model_id": "b0a486e4d94044cc80ec6d798753d6b7",
       "version_major": 2,
       "version_minor": 0
      },
      "text/plain": [
       "  0%|          | 0/1 [00:00<?, ?it/s]"
      ]
     },
     "metadata": {},
     "output_type": "display_data"
    },
    {
     "name": "stdout",
     "output_type": "stream",
     "text": [
      "R2 score (new): -0.185\n",
      "batch i: 294, episode_len: 9, loss:  0.95671789, entropy:  1.17344701\n"
     ]
    },
    {
     "data": {
      "application/vnd.jupyter.widget-view+json": {
       "model_id": "50a29174a0724d52ba5421089db62751",
       "version_major": 2,
       "version_minor": 0
      },
      "text/plain": [
       "  0%|          | 0/1 [00:00<?, ?it/s]"
      ]
     },
     "metadata": {},
     "output_type": "display_data"
    },
    {
     "name": "stdout",
     "output_type": "stream",
     "text": [
      "R2 score (new):  0.203\n",
      "batch i: 295, episode_len: 9, loss:  0.91981597, entropy:  1.16455925\n"
     ]
    },
    {
     "data": {
      "application/vnd.jupyter.widget-view+json": {
       "model_id": "41678c3fcb8d48128f14a6d5bd06a3b5",
       "version_major": 2,
       "version_minor": 0
      },
      "text/plain": [
       "  0%|          | 0/1 [00:00<?, ?it/s]"
      ]
     },
     "metadata": {},
     "output_type": "display_data"
    },
    {
     "name": "stdout",
     "output_type": "stream",
     "text": [
      "R2 score (new):  0.376\n",
      "batch i: 296, episode_len: 5, loss:  0.91580816, entropy:  1.23004997\n"
     ]
    },
    {
     "data": {
      "application/vnd.jupyter.widget-view+json": {
       "model_id": "cabb4958d15a41119b872270f94fffe7",
       "version_major": 2,
       "version_minor": 0
      },
      "text/plain": [
       "  0%|          | 0/1 [00:00<?, ?it/s]"
      ]
     },
     "metadata": {},
     "output_type": "display_data"
    },
    {
     "name": "stdout",
     "output_type": "stream",
     "text": [
      "R2 score (new):  0.310\n",
      "batch i: 297, episode_len: 9, loss:  0.94524459, entropy:  1.38326573\n"
     ]
    },
    {
     "data": {
      "application/vnd.jupyter.widget-view+json": {
       "model_id": "61cc7ec8c60d40139561e58987370fc7",
       "version_major": 2,
       "version_minor": 0
      },
      "text/plain": [
       "  0%|          | 0/1 [00:00<?, ?it/s]"
      ]
     },
     "metadata": {},
     "output_type": "display_data"
    },
    {
     "name": "stdout",
     "output_type": "stream",
     "text": [
      "R2 score (new):  0.091\n",
      "batch i: 298, episode_len: 9, loss:  0.83620349, entropy:  1.17026198\n"
     ]
    },
    {
     "data": {
      "application/vnd.jupyter.widget-view+json": {
       "model_id": "3005e9e17bb142cfb82f10b88ef52985",
       "version_major": 2,
       "version_minor": 0
      },
      "text/plain": [
       "  0%|          | 0/1 [00:00<?, ?it/s]"
      ]
     },
     "metadata": {},
     "output_type": "display_data"
    },
    {
     "name": "stdout",
     "output_type": "stream",
     "text": [
      "R2 score (new):  0.265\n",
      "batch i: 299, episode_len: 7, loss:  0.84926150, entropy:  1.20286608\n"
     ]
    },
    {
     "data": {
      "application/vnd.jupyter.widget-view+json": {
       "model_id": "0a73fbf555814e979b75e6432150a469",
       "version_major": 2,
       "version_minor": 0
      },
      "text/plain": [
       "  0%|          | 0/1 [00:00<?, ?it/s]"
      ]
     },
     "metadata": {},
     "output_type": "display_data"
    },
    {
     "name": "stdout",
     "output_type": "stream",
     "text": [
      "R2 score (new):  0.180\n",
      "batch i: 300, episode_len: 5, loss:  0.88406072, entropy:  1.13067937\n",
      "current self-play batch: 301\n",
      "Updating elo score...\n",
      "Complete.\n",
      "Elo score: AlphaZero:  1520.80, Benchmark:  1716.51\n",
      "   action: 0, prob_X:  9.92%\t⭐️ action: 0, prob_O:  33.87%\n",
      "   action: 1, prob_X:  12.22%\t   action: 1, prob_O:  1.46%\n",
      "   action: 2, prob_X:  13.06%\t   action: 2, prob_O:  16.20%\n",
      "   action: 3, prob_X:  8.12%\t   action: 3, prob_O:  2.18%\n",
      "⭐️ action: 4, prob_X:  13.40%\t   action: 4, prob_O:  0.02%\n",
      "   action: 5, prob_X:  8.35%\t   action: 5, prob_O:  1.34%\n",
      "   action: 6, prob_X:  12.22%\t   action: 6, prob_O:  21.97%\n",
      "   action: 7, prob_X:  11.68%\t   action: 7, prob_O:  1.59%\n",
      "   action: 8, prob_X:  11.04%\t   action: 8, prob_O:  21.39%\n",
      "State-value X: 0.2965\n",
      "State-value O: -0.4908\n",
      "Evaluating best player...\n",
      "Complete.\n"
     ]
    },
    {
     "data": {
      "application/vnd.jupyter.widget-view+json": {
       "model_id": "87aec35239814ab4b9f67de6530db68d",
       "version_major": 2,
       "version_minor": 0
      },
      "text/plain": [
       "  0%|          | 0/1 [00:00<?, ?it/s]"
      ]
     },
     "metadata": {},
     "output_type": "display_data"
    },
    {
     "name": "stdout",
     "output_type": "stream",
     "text": [
      "R2 score (new):  0.283\n",
      "batch i: 301, episode_len: 5, loss:  0.88283149, entropy:  1.20026112\n"
     ]
    },
    {
     "data": {
      "application/vnd.jupyter.widget-view+json": {
       "model_id": "837fd9334b5c4647846803be7d60ca9e",
       "version_major": 2,
       "version_minor": 0
      },
      "text/plain": [
       "  0%|          | 0/1 [00:00<?, ?it/s]"
      ]
     },
     "metadata": {},
     "output_type": "display_data"
    },
    {
     "name": "stdout",
     "output_type": "stream",
     "text": [
      "R2 score (new):  0.376\n",
      "batch i: 302, episode_len: 5, loss:  0.85217223, entropy:  1.20958829\n"
     ]
    },
    {
     "data": {
      "application/vnd.jupyter.widget-view+json": {
       "model_id": "794486ec308b415c98c8244a63169977",
       "version_major": 2,
       "version_minor": 0
      },
      "text/plain": [
       "  0%|          | 0/1 [00:00<?, ?it/s]"
      ]
     },
     "metadata": {},
     "output_type": "display_data"
    },
    {
     "name": "stdout",
     "output_type": "stream",
     "text": [
      "R2 score (new):  0.471\n",
      "batch i: 303, episode_len: 9, loss:  0.82550717, entropy:  1.11091936\n"
     ]
    },
    {
     "data": {
      "application/vnd.jupyter.widget-view+json": {
       "model_id": "d9f9b805db2b4852ac170306bcec6290",
       "version_major": 2,
       "version_minor": 0
      },
      "text/plain": [
       "  0%|          | 0/1 [00:00<?, ?it/s]"
      ]
     },
     "metadata": {},
     "output_type": "display_data"
    },
    {
     "name": "stdout",
     "output_type": "stream",
     "text": [
      "R2 score (new):  0.173\n",
      "batch i: 304, episode_len: 9, loss:  0.80463880, entropy:  1.10894978\n"
     ]
    },
    {
     "data": {
      "application/vnd.jupyter.widget-view+json": {
       "model_id": "2a148d6b87e34970879d650a6a9d131d",
       "version_major": 2,
       "version_minor": 0
      },
      "text/plain": [
       "  0%|          | 0/1 [00:00<?, ?it/s]"
      ]
     },
     "metadata": {},
     "output_type": "display_data"
    },
    {
     "name": "stdout",
     "output_type": "stream",
     "text": [
      "R2 score (new):  0.109\n",
      "batch i: 305, episode_len: 7, loss:  0.87288328, entropy:  1.11253572\n"
     ]
    },
    {
     "data": {
      "application/vnd.jupyter.widget-view+json": {
       "model_id": "617d5ca1589a44ddbf0ea1c5d2f2bc59",
       "version_major": 2,
       "version_minor": 0
      },
      "text/plain": [
       "  0%|          | 0/1 [00:00<?, ?it/s]"
      ]
     },
     "metadata": {},
     "output_type": "display_data"
    },
    {
     "name": "stdout",
     "output_type": "stream",
     "text": [
      "R2 score (new):  0.389\n",
      "batch i: 306, episode_len: 9, loss:  0.85268869, entropy:  1.11825585\n"
     ]
    },
    {
     "data": {
      "application/vnd.jupyter.widget-view+json": {
       "model_id": "ce276007f7434b5a80ccf649b308e133",
       "version_major": 2,
       "version_minor": 0
      },
      "text/plain": [
       "  0%|          | 0/1 [00:00<?, ?it/s]"
      ]
     },
     "metadata": {},
     "output_type": "display_data"
    },
    {
     "name": "stdout",
     "output_type": "stream",
     "text": [
      "R2 score (new):  0.553\n",
      "batch i: 307, episode_len: 9, loss:  0.87728283, entropy:  1.07236850\n"
     ]
    },
    {
     "data": {
      "application/vnd.jupyter.widget-view+json": {
       "model_id": "d9a7673bdd43488fbb15f410f3fbd2a0",
       "version_major": 2,
       "version_minor": 0
      },
      "text/plain": [
       "  0%|          | 0/1 [00:00<?, ?it/s]"
      ]
     },
     "metadata": {},
     "output_type": "display_data"
    },
    {
     "name": "stdout",
     "output_type": "stream",
     "text": [
      "R2 score (new): -0.001\n",
      "batch i: 308, episode_len: 9, loss:  0.86998521, entropy:  1.38118994\n"
     ]
    },
    {
     "data": {
      "application/vnd.jupyter.widget-view+json": {
       "model_id": "429a1299fe05489eb7058044a5908405",
       "version_major": 2,
       "version_minor": 0
      },
      "text/plain": [
       "  0%|          | 0/1 [00:00<?, ?it/s]"
      ]
     },
     "metadata": {},
     "output_type": "display_data"
    },
    {
     "name": "stdout",
     "output_type": "stream",
     "text": [
      "R2 score (new):  0.451\n",
      "batch i: 309, episode_len: 9, loss:  0.80090435, entropy:  1.07808137\n"
     ]
    },
    {
     "data": {
      "application/vnd.jupyter.widget-view+json": {
       "model_id": "a277e1457e104daa9cbbe5baceedaeb4",
       "version_major": 2,
       "version_minor": 0
      },
      "text/plain": [
       "  0%|          | 0/1 [00:00<?, ?it/s]"
      ]
     },
     "metadata": {},
     "output_type": "display_data"
    },
    {
     "name": "stdout",
     "output_type": "stream",
     "text": [
      "R2 score (new):  0.256\n",
      "batch i: 310, episode_len: 9, loss:  0.86183378, entropy:  1.05646658\n",
      "current self-play batch: 311\n",
      "Updating elo score...\n",
      "Complete.\n",
      "Elo score: AlphaZero:  1520.56, Benchmark:  1716.75\n",
      "   action: 0, prob_X:  12.03%\t   action: 0, prob_O:  20.35%\n",
      "⭐️ action: 1, prob_X:  13.12%\t   action: 1, prob_O:  2.86%\n",
      "   action: 2, prob_X:  10.17%\t⭐️ action: 2, prob_O:  26.98%\n",
      "   action: 3, prob_X:  8.50%\t   action: 3, prob_O:  1.99%\n",
      "   action: 4, prob_X:  10.62%\t   action: 4, prob_O:  0.07%\n",
      "   action: 5, prob_X:  9.60%\t   action: 5, prob_O:  1.73%\n",
      "   action: 6, prob_X:  11.78%\t   action: 6, prob_O:  23.88%\n",
      "   action: 7, prob_X:  11.75%\t   action: 7, prob_O:  2.90%\n",
      "   action: 8, prob_X:  12.44%\t   action: 8, prob_O:  19.23%\n",
      "State-value X: 0.3179\n",
      "State-value O: -0.5610\n",
      "Evaluating best player...\n",
      "Complete.\n"
     ]
    },
    {
     "data": {
      "application/vnd.jupyter.widget-view+json": {
       "model_id": "288325c8af274346a34a973a49ce1767",
       "version_major": 2,
       "version_minor": 0
      },
      "text/plain": [
       "  0%|          | 0/1 [00:00<?, ?it/s]"
      ]
     },
     "metadata": {},
     "output_type": "display_data"
    },
    {
     "name": "stdout",
     "output_type": "stream",
     "text": [
      "R2 score (new):  0.125\n",
      "batch i: 311, episode_len: 9, loss:  0.94608535, entropy:  1.26948810\n"
     ]
    },
    {
     "data": {
      "application/vnd.jupyter.widget-view+json": {
       "model_id": "af7b04440f9c44aeafa579ee99851145",
       "version_major": 2,
       "version_minor": 0
      },
      "text/plain": [
       "  0%|          | 0/1 [00:00<?, ?it/s]"
      ]
     },
     "metadata": {},
     "output_type": "display_data"
    },
    {
     "name": "stdout",
     "output_type": "stream",
     "text": [
      "R2 score (new):  0.269\n",
      "batch i: 312, episode_len: 9, loss:  0.81674977, entropy:  1.20116687\n"
     ]
    },
    {
     "data": {
      "application/vnd.jupyter.widget-view+json": {
       "model_id": "63938983daf747328a3209a560f152e0",
       "version_major": 2,
       "version_minor": 0
      },
      "text/plain": [
       "  0%|          | 0/1 [00:00<?, ?it/s]"
      ]
     },
     "metadata": {},
     "output_type": "display_data"
    },
    {
     "name": "stdout",
     "output_type": "stream",
     "text": [
      "R2 score (new):  0.345\n",
      "batch i: 313, episode_len: 7, loss:  0.85424010, entropy:  1.17558098\n"
     ]
    },
    {
     "data": {
      "application/vnd.jupyter.widget-view+json": {
       "model_id": "000ed803b7104c3a8babd60e25943c11",
       "version_major": 2,
       "version_minor": 0
      },
      "text/plain": [
       "  0%|          | 0/1 [00:00<?, ?it/s]"
      ]
     },
     "metadata": {},
     "output_type": "display_data"
    },
    {
     "name": "stdout",
     "output_type": "stream",
     "text": [
      "R2 score (new):  0.338\n",
      "batch i: 314, episode_len: 7, loss:  0.91555747, entropy:  1.14330411\n"
     ]
    },
    {
     "data": {
      "application/vnd.jupyter.widget-view+json": {
       "model_id": "218be06091d948d190e61a179d8d667d",
       "version_major": 2,
       "version_minor": 0
      },
      "text/plain": [
       "  0%|          | 0/1 [00:00<?, ?it/s]"
      ]
     },
     "metadata": {},
     "output_type": "display_data"
    },
    {
     "name": "stdout",
     "output_type": "stream",
     "text": [
      "R2 score (new):  0.379\n",
      "batch i: 315, episode_len: 5, loss:  0.90377266, entropy:  1.17237139\n"
     ]
    },
    {
     "data": {
      "application/vnd.jupyter.widget-view+json": {
       "model_id": "15cc3a3cfc4d4df69e9e2c96524a14e8",
       "version_major": 2,
       "version_minor": 0
      },
      "text/plain": [
       "  0%|          | 0/1 [00:00<?, ?it/s]"
      ]
     },
     "metadata": {},
     "output_type": "display_data"
    },
    {
     "name": "stdout",
     "output_type": "stream",
     "text": [
      "R2 score (new):  0.398\n",
      "batch i: 316, episode_len: 9, loss:  0.88787242, entropy:  1.15615535\n"
     ]
    },
    {
     "data": {
      "application/vnd.jupyter.widget-view+json": {
       "model_id": "86d33779addd40f8bcc8551acd221a6d",
       "version_major": 2,
       "version_minor": 0
      },
      "text/plain": [
       "  0%|          | 0/1 [00:00<?, ?it/s]"
      ]
     },
     "metadata": {},
     "output_type": "display_data"
    },
    {
     "name": "stdout",
     "output_type": "stream",
     "text": [
      "R2 score (new):  0.386\n",
      "batch i: 317, episode_len: 9, loss:  0.84854771, entropy:  1.09869349\n"
     ]
    },
    {
     "data": {
      "application/vnd.jupyter.widget-view+json": {
       "model_id": "4c7ac97be3b344c8b2651b04f407c7ae",
       "version_major": 2,
       "version_minor": 0
      },
      "text/plain": [
       "  0%|          | 0/1 [00:00<?, ?it/s]"
      ]
     },
     "metadata": {},
     "output_type": "display_data"
    },
    {
     "name": "stdout",
     "output_type": "stream",
     "text": [
      "R2 score (new):  0.219\n",
      "batch i: 318, episode_len: 9, loss:  0.86223934, entropy:  1.16228795\n"
     ]
    },
    {
     "data": {
      "application/vnd.jupyter.widget-view+json": {
       "model_id": "107c9bfc550e49f0979d537c06094c9e",
       "version_major": 2,
       "version_minor": 0
      },
      "text/plain": [
       "  0%|          | 0/1 [00:00<?, ?it/s]"
      ]
     },
     "metadata": {},
     "output_type": "display_data"
    },
    {
     "name": "stdout",
     "output_type": "stream",
     "text": [
      "R2 score (new):  0.377\n",
      "batch i: 319, episode_len: 7, loss:  0.80651742, entropy:  1.22735298\n"
     ]
    },
    {
     "data": {
      "application/vnd.jupyter.widget-view+json": {
       "model_id": "7ef0d91184c94ae4ba7e095416296f69",
       "version_major": 2,
       "version_minor": 0
      },
      "text/plain": [
       "  0%|          | 0/1 [00:00<?, ?it/s]"
      ]
     },
     "metadata": {},
     "output_type": "display_data"
    },
    {
     "name": "stdout",
     "output_type": "stream",
     "text": [
      "R2 score (new):  0.059\n",
      "batch i: 320, episode_len: 9, loss:  0.86575985, entropy:  1.14445996\n",
      "current self-play batch: 321\n",
      "Updating elo score...\n",
      "Complete.\n",
      "Elo score: AlphaZero:  1520.36, Benchmark:  1716.95\n",
      "   action: 0, prob_X:  12.84%\t⭐️ action: 0, prob_O:  27.11%\n",
      "   action: 1, prob_X:  11.61%\t   action: 1, prob_O:  2.88%\n",
      "   action: 2, prob_X:  13.36%\t   action: 2, prob_O:  19.77%\n",
      "   action: 3, prob_X:  9.66%\t   action: 3, prob_O:  1.92%\n",
      "   action: 4, prob_X:  5.88%\t   action: 4, prob_O:  0.12%\n",
      "   action: 5, prob_X:  9.02%\t   action: 5, prob_O:  2.19%\n",
      "   action: 6, prob_X:  12.62%\t   action: 6, prob_O:  24.24%\n",
      "   action: 7, prob_X:  10.28%\t   action: 7, prob_O:  3.19%\n",
      "⭐️ action: 8, prob_X:  14.72%\t   action: 8, prob_O:  18.57%\n",
      "State-value X: 0.2939\n",
      "State-value O: -0.5827\n",
      "Evaluating best player...\n",
      "Complete.\n"
     ]
    },
    {
     "data": {
      "application/vnd.jupyter.widget-view+json": {
       "model_id": "99570ec893c94e06b16315506b05185b",
       "version_major": 2,
       "version_minor": 0
      },
      "text/plain": [
       "  0%|          | 0/1 [00:00<?, ?it/s]"
      ]
     },
     "metadata": {},
     "output_type": "display_data"
    },
    {
     "name": "stdout",
     "output_type": "stream",
     "text": [
      "R2 score (new):  0.177\n",
      "batch i: 321, episode_len: 9, loss:  0.81359717, entropy:  1.09937477\n"
     ]
    },
    {
     "data": {
      "application/vnd.jupyter.widget-view+json": {
       "model_id": "01bee4b1961a4b7f94bc3ef5014cfd56",
       "version_major": 2,
       "version_minor": 0
      },
      "text/plain": [
       "  0%|          | 0/1 [00:00<?, ?it/s]"
      ]
     },
     "metadata": {},
     "output_type": "display_data"
    },
    {
     "name": "stdout",
     "output_type": "stream",
     "text": [
      "R2 score (new):  0.324\n",
      "batch i: 322, episode_len: 8, loss:  0.85151928, entropy:  1.23173296\n"
     ]
    },
    {
     "data": {
      "application/vnd.jupyter.widget-view+json": {
       "model_id": "f9257c7713e6470eb3f7e0ebfdd8c2c4",
       "version_major": 2,
       "version_minor": 0
      },
      "text/plain": [
       "  0%|          | 0/1 [00:00<?, ?it/s]"
      ]
     },
     "metadata": {},
     "output_type": "display_data"
    },
    {
     "name": "stdout",
     "output_type": "stream",
     "text": [
      "R2 score (new):  0.368\n",
      "batch i: 323, episode_len: 9, loss:  0.85538639, entropy:  1.13156986\n"
     ]
    },
    {
     "data": {
      "application/vnd.jupyter.widget-view+json": {
       "model_id": "93d6fbfb343b48b18ba98b7db83984fc",
       "version_major": 2,
       "version_minor": 0
      },
      "text/plain": [
       "  0%|          | 0/1 [00:00<?, ?it/s]"
      ]
     },
     "metadata": {},
     "output_type": "display_data"
    },
    {
     "name": "stdout",
     "output_type": "stream",
     "text": [
      "R2 score (new):  0.405\n",
      "batch i: 324, episode_len: 9, loss:  0.80186704, entropy:  1.20635402\n"
     ]
    },
    {
     "data": {
      "application/vnd.jupyter.widget-view+json": {
       "model_id": "cfe4a7e0dfce42bf9e87c9f7e661fcde",
       "version_major": 2,
       "version_minor": 0
      },
      "text/plain": [
       "  0%|          | 0/1 [00:00<?, ?it/s]"
      ]
     },
     "metadata": {},
     "output_type": "display_data"
    },
    {
     "name": "stdout",
     "output_type": "stream",
     "text": [
      "R2 score (new):  0.331\n",
      "batch i: 325, episode_len: 9, loss:  0.83651364, entropy:  1.21609628\n"
     ]
    },
    {
     "data": {
      "application/vnd.jupyter.widget-view+json": {
       "model_id": "3a7ea9cec3bf4967b58e1615720e7a13",
       "version_major": 2,
       "version_minor": 0
      },
      "text/plain": [
       "  0%|          | 0/1 [00:00<?, ?it/s]"
      ]
     },
     "metadata": {},
     "output_type": "display_data"
    },
    {
     "name": "stdout",
     "output_type": "stream",
     "text": [
      "R2 score (new):  0.189\n",
      "batch i: 326, episode_len: 9, loss:  0.77615252, entropy:  1.09715104\n"
     ]
    },
    {
     "data": {
      "application/vnd.jupyter.widget-view+json": {
       "model_id": "3ce4088cf5f34e9c89bbc0d104f1a614",
       "version_major": 2,
       "version_minor": 0
      },
      "text/plain": [
       "  0%|          | 0/1 [00:00<?, ?it/s]"
      ]
     },
     "metadata": {},
     "output_type": "display_data"
    },
    {
     "name": "stdout",
     "output_type": "stream",
     "text": [
      "R2 score (new):  0.294\n",
      "batch i: 327, episode_len: 9, loss:  0.85597709, entropy:  1.19462729\n"
     ]
    },
    {
     "data": {
      "application/vnd.jupyter.widget-view+json": {
       "model_id": "9e947d94452d4da7b1be0ac6c44d2b77",
       "version_major": 2,
       "version_minor": 0
      },
      "text/plain": [
       "  0%|          | 0/1 [00:00<?, ?it/s]"
      ]
     },
     "metadata": {},
     "output_type": "display_data"
    },
    {
     "name": "stdout",
     "output_type": "stream",
     "text": [
      "R2 score (new):  0.450\n",
      "batch i: 328, episode_len: 7, loss:  0.85181235, entropy:  1.12428594\n"
     ]
    },
    {
     "data": {
      "application/vnd.jupyter.widget-view+json": {
       "model_id": "e8624d68bd7342b4ac700d5542849803",
       "version_major": 2,
       "version_minor": 0
      },
      "text/plain": [
       "  0%|          | 0/1 [00:00<?, ?it/s]"
      ]
     },
     "metadata": {},
     "output_type": "display_data"
    },
    {
     "name": "stdout",
     "output_type": "stream",
     "text": [
      "R2 score (new):  0.296\n",
      "batch i: 329, episode_len: 9, loss:  0.85672033, entropy:  1.18801439\n"
     ]
    },
    {
     "data": {
      "application/vnd.jupyter.widget-view+json": {
       "model_id": "e526adfd99c74304a50d9a56f4300200",
       "version_major": 2,
       "version_minor": 0
      },
      "text/plain": [
       "  0%|          | 0/1 [00:00<?, ?it/s]"
      ]
     },
     "metadata": {},
     "output_type": "display_data"
    },
    {
     "name": "stdout",
     "output_type": "stream",
     "text": [
      "R2 score (new):  0.380\n",
      "batch i: 330, episode_len: 9, loss:  0.88333158, entropy:  1.14417195\n",
      "current self-play batch: 331\n",
      "Updating elo score...\n",
      "Complete.\n",
      "Elo score: AlphaZero:  1520.18, Benchmark:  1717.13\n",
      "   action: 0, prob_X:  10.67%\t   action: 0, prob_O:  23.76%\n",
      "   action: 1, prob_X:  11.15%\t   action: 1, prob_O:  1.59%\n",
      "   action: 2, prob_X:  11.02%\t   action: 2, prob_O:  23.75%\n",
      "   action: 3, prob_X:  11.66%\t   action: 3, prob_O:  1.26%\n",
      "⭐️ action: 4, prob_X:  13.47%\t   action: 4, prob_O:  0.04%\n",
      "   action: 5, prob_X:  9.70%\t   action: 5, prob_O:  1.23%\n",
      "   action: 6, prob_X:  11.35%\t⭐️ action: 6, prob_O:  26.02%\n",
      "   action: 7, prob_X:  11.25%\t   action: 7, prob_O:  1.76%\n",
      "   action: 8, prob_X:  9.73%\t   action: 8, prob_O:  20.59%\n",
      "State-value X: 0.3314\n",
      "State-value O: -0.5870\n",
      "Evaluating best player...\n",
      "Complete.\n",
      "New best policy!!\n"
     ]
    },
    {
     "data": {
      "application/vnd.jupyter.widget-view+json": {
       "model_id": "5f4e3541e0ea4076b4e73516d7ad2411",
       "version_major": 2,
       "version_minor": 0
      },
      "text/plain": [
       "  0%|          | 0/1 [00:00<?, ?it/s]"
      ]
     },
     "metadata": {},
     "output_type": "display_data"
    },
    {
     "name": "stdout",
     "output_type": "stream",
     "text": [
      "R2 score (new):  0.248\n",
      "batch i: 331, episode_len: 5, loss:  0.85410559, entropy:  1.09600258\n"
     ]
    },
    {
     "data": {
      "application/vnd.jupyter.widget-view+json": {
       "model_id": "88317409de40436598a524515721364d",
       "version_major": 2,
       "version_minor": 0
      },
      "text/plain": [
       "  0%|          | 0/1 [00:00<?, ?it/s]"
      ]
     },
     "metadata": {},
     "output_type": "display_data"
    },
    {
     "name": "stdout",
     "output_type": "stream",
     "text": [
      "R2 score (new):  0.287\n",
      "batch i: 332, episode_len: 9, loss:  0.85783962, entropy:  1.07569516\n"
     ]
    },
    {
     "data": {
      "application/vnd.jupyter.widget-view+json": {
       "model_id": "fc7ae0c98c16420fa6ad7cbebfb7c23c",
       "version_major": 2,
       "version_minor": 0
      },
      "text/plain": [
       "  0%|          | 0/1 [00:00<?, ?it/s]"
      ]
     },
     "metadata": {},
     "output_type": "display_data"
    },
    {
     "name": "stdout",
     "output_type": "stream",
     "text": [
      "R2 score (new):  0.360\n",
      "batch i: 333, episode_len: 9, loss:  0.85476523, entropy:  1.09448838\n"
     ]
    },
    {
     "data": {
      "application/vnd.jupyter.widget-view+json": {
       "model_id": "dd7f246123d64ebc9625d99495c7356d",
       "version_major": 2,
       "version_minor": 0
      },
      "text/plain": [
       "  0%|          | 0/1 [00:00<?, ?it/s]"
      ]
     },
     "metadata": {},
     "output_type": "display_data"
    },
    {
     "name": "stdout",
     "output_type": "stream",
     "text": [
      "R2 score (new):  0.372\n",
      "batch i: 334, episode_len: 5, loss:  0.80679700, entropy:  1.03867567\n"
     ]
    },
    {
     "data": {
      "application/vnd.jupyter.widget-view+json": {
       "model_id": "e53ad48460214bd5bc84e108655b8f10",
       "version_major": 2,
       "version_minor": 0
      },
      "text/plain": [
       "  0%|          | 0/1 [00:00<?, ?it/s]"
      ]
     },
     "metadata": {},
     "output_type": "display_data"
    },
    {
     "name": "stdout",
     "output_type": "stream",
     "text": [
      "R2 score (new):  0.443\n",
      "batch i: 335, episode_len: 6, loss:  0.85393868, entropy:  1.15880454\n"
     ]
    },
    {
     "data": {
      "application/vnd.jupyter.widget-view+json": {
       "model_id": "743dad180eb84a28b8b0ddb96ec237b0",
       "version_major": 2,
       "version_minor": 0
      },
      "text/plain": [
       "  0%|          | 0/1 [00:00<?, ?it/s]"
      ]
     },
     "metadata": {},
     "output_type": "display_data"
    },
    {
     "name": "stdout",
     "output_type": "stream",
     "text": [
      "R2 score (new):  0.146\n",
      "batch i: 336, episode_len: 9, loss:  0.83299337, entropy:  1.11096895\n"
     ]
    },
    {
     "data": {
      "application/vnd.jupyter.widget-view+json": {
       "model_id": "d30498d5d8ef44c58a620015c0be9f4a",
       "version_major": 2,
       "version_minor": 0
      },
      "text/plain": [
       "  0%|          | 0/1 [00:00<?, ?it/s]"
      ]
     },
     "metadata": {},
     "output_type": "display_data"
    },
    {
     "name": "stdout",
     "output_type": "stream",
     "text": [
      "R2 score (new):  0.344\n",
      "batch i: 337, episode_len: 9, loss:  0.87331283, entropy:  1.18505001\n"
     ]
    },
    {
     "data": {
      "application/vnd.jupyter.widget-view+json": {
       "model_id": "8d9a933dd59f4dfd98758935d75972a9",
       "version_major": 2,
       "version_minor": 0
      },
      "text/plain": [
       "  0%|          | 0/1 [00:00<?, ?it/s]"
      ]
     },
     "metadata": {},
     "output_type": "display_data"
    },
    {
     "name": "stdout",
     "output_type": "stream",
     "text": [
      "R2 score (new):  0.261\n",
      "batch i: 338, episode_len: 5, loss:  0.84602542, entropy:  1.12117898\n"
     ]
    },
    {
     "data": {
      "application/vnd.jupyter.widget-view+json": {
       "model_id": "09b92b2ebc65424abb8dcdce9797230a",
       "version_major": 2,
       "version_minor": 0
      },
      "text/plain": [
       "  0%|          | 0/1 [00:00<?, ?it/s]"
      ]
     },
     "metadata": {},
     "output_type": "display_data"
    },
    {
     "name": "stdout",
     "output_type": "stream",
     "text": [
      "R2 score (new):  0.253\n",
      "batch i: 339, episode_len: 7, loss:  0.84399487, entropy:  1.08538377\n"
     ]
    },
    {
     "data": {
      "application/vnd.jupyter.widget-view+json": {
       "model_id": "1d41df5223a14d83a0c72fea8441ffd5",
       "version_major": 2,
       "version_minor": 0
      },
      "text/plain": [
       "  0%|          | 0/1 [00:00<?, ?it/s]"
      ]
     },
     "metadata": {},
     "output_type": "display_data"
    },
    {
     "name": "stdout",
     "output_type": "stream",
     "text": [
      "R2 score (new):  0.359\n",
      "batch i: 340, episode_len: 5, loss:  0.84010430, entropy:  1.16673589\n",
      "current self-play batch: 341\n",
      "Updating elo score...\n",
      "Complete.\n",
      "Elo score: AlphaZero:  1505.11, Benchmark:  1732.19\n",
      "   action: 0, prob_X:  12.80%\t   action: 0, prob_O:  21.41%\n",
      "   action: 1, prob_X:  11.48%\t   action: 1, prob_O:  2.26%\n",
      "   action: 2, prob_X:  10.92%\t   action: 2, prob_O:  21.33%\n",
      "   action: 3, prob_X:  9.88%\t   action: 3, prob_O:  1.40%\n",
      "   action: 4, prob_X:  9.08%\t   action: 4, prob_O:  0.06%\n",
      "   action: 5, prob_X:  11.52%\t   action: 5, prob_O:  0.98%\n",
      "   action: 6, prob_X:  10.50%\t⭐️ action: 6, prob_O:  29.36%\n",
      "   action: 7, prob_X:  10.53%\t   action: 7, prob_O:  2.25%\n",
      "⭐️ action: 8, prob_X:  13.28%\t   action: 8, prob_O:  20.95%\n",
      "State-value X: 0.3552\n",
      "State-value O: -0.5955\n",
      "Evaluating best player...\n",
      "Complete.\n"
     ]
    },
    {
     "data": {
      "application/vnd.jupyter.widget-view+json": {
       "model_id": "de6b187584d941e59d2cb98965beb000",
       "version_major": 2,
       "version_minor": 0
      },
      "text/plain": [
       "  0%|          | 0/1 [00:00<?, ?it/s]"
      ]
     },
     "metadata": {},
     "output_type": "display_data"
    },
    {
     "name": "stdout",
     "output_type": "stream",
     "text": [
      "R2 score (new):  0.301\n",
      "batch i: 341, episode_len: 7, loss:  0.85800231, entropy:  1.11386812\n"
     ]
    },
    {
     "data": {
      "application/vnd.jupyter.widget-view+json": {
       "model_id": "e4ea9a40703248799f86e11cc046a788",
       "version_major": 2,
       "version_minor": 0
      },
      "text/plain": [
       "  0%|          | 0/1 [00:00<?, ?it/s]"
      ]
     },
     "metadata": {},
     "output_type": "display_data"
    },
    {
     "name": "stdout",
     "output_type": "stream",
     "text": [
      "R2 score (new):  0.172\n",
      "batch i: 342, episode_len: 9, loss:  0.89957741, entropy:  1.11262810\n"
     ]
    },
    {
     "data": {
      "application/vnd.jupyter.widget-view+json": {
       "model_id": "1ba88620679e4ac1982d57f82316ce0c",
       "version_major": 2,
       "version_minor": 0
      },
      "text/plain": [
       "  0%|          | 0/1 [00:00<?, ?it/s]"
      ]
     },
     "metadata": {},
     "output_type": "display_data"
    },
    {
     "name": "stdout",
     "output_type": "stream",
     "text": [
      "R2 score (new):  0.198\n",
      "batch i: 343, episode_len: 9, loss:  0.89265200, entropy:  1.19060564\n"
     ]
    },
    {
     "data": {
      "application/vnd.jupyter.widget-view+json": {
       "model_id": "07afde0938774b54a1eaae41fbf95411",
       "version_major": 2,
       "version_minor": 0
      },
      "text/plain": [
       "  0%|          | 0/1 [00:00<?, ?it/s]"
      ]
     },
     "metadata": {},
     "output_type": "display_data"
    },
    {
     "name": "stdout",
     "output_type": "stream",
     "text": [
      "R2 score (new):  0.383\n",
      "batch i: 344, episode_len: 9, loss:  0.85545762, entropy:  1.16963100\n"
     ]
    },
    {
     "data": {
      "application/vnd.jupyter.widget-view+json": {
       "model_id": "7c8465dfcf6f4254917092ffeee0093c",
       "version_major": 2,
       "version_minor": 0
      },
      "text/plain": [
       "  0%|          | 0/1 [00:00<?, ?it/s]"
      ]
     },
     "metadata": {},
     "output_type": "display_data"
    },
    {
     "name": "stdout",
     "output_type": "stream",
     "text": [
      "R2 score (new):  0.272\n",
      "batch i: 345, episode_len: 9, loss:  0.81463755, entropy:  1.10308373\n"
     ]
    },
    {
     "data": {
      "application/vnd.jupyter.widget-view+json": {
       "model_id": "ab4ee72e0bbf475fbeb27982772d0371",
       "version_major": 2,
       "version_minor": 0
      },
      "text/plain": [
       "  0%|          | 0/1 [00:00<?, ?it/s]"
      ]
     },
     "metadata": {},
     "output_type": "display_data"
    },
    {
     "name": "stdout",
     "output_type": "stream",
     "text": [
      "R2 score (new):  0.299\n",
      "batch i: 346, episode_len: 8, loss:  0.83636738, entropy:  1.17470789\n"
     ]
    },
    {
     "data": {
      "application/vnd.jupyter.widget-view+json": {
       "model_id": "32b0e811cc8d4d59ad64ba882faaea74",
       "version_major": 2,
       "version_minor": 0
      },
      "text/plain": [
       "  0%|          | 0/1 [00:00<?, ?it/s]"
      ]
     },
     "metadata": {},
     "output_type": "display_data"
    },
    {
     "name": "stdout",
     "output_type": "stream",
     "text": [
      "R2 score (new):  0.351\n",
      "batch i: 347, episode_len: 9, loss:  0.88125144, entropy:  1.21751773\n"
     ]
    },
    {
     "data": {
      "application/vnd.jupyter.widget-view+json": {
       "model_id": "72c7beaaec3043099de646778212d70f",
       "version_major": 2,
       "version_minor": 0
      },
      "text/plain": [
       "  0%|          | 0/1 [00:00<?, ?it/s]"
      ]
     },
     "metadata": {},
     "output_type": "display_data"
    },
    {
     "name": "stdout",
     "output_type": "stream",
     "text": [
      "R2 score (new):  0.403\n",
      "batch i: 348, episode_len: 9, loss:  0.82477308, entropy:  1.10985243\n"
     ]
    },
    {
     "data": {
      "application/vnd.jupyter.widget-view+json": {
       "model_id": "99e5d264fe9b4f398ddacbad023f774e",
       "version_major": 2,
       "version_minor": 0
      },
      "text/plain": [
       "  0%|          | 0/1 [00:00<?, ?it/s]"
      ]
     },
     "metadata": {},
     "output_type": "display_data"
    },
    {
     "name": "stdout",
     "output_type": "stream",
     "text": [
      "R2 score (new):  0.000\n",
      "batch i: 349, episode_len: 9, loss:  1.07173795, entropy:  2.18251824\n"
     ]
    },
    {
     "data": {
      "application/vnd.jupyter.widget-view+json": {
       "model_id": "4cc9cdea4e7848e8b383cc180f96585f",
       "version_major": 2,
       "version_minor": 0
      },
      "text/plain": [
       "  0%|          | 0/1 [00:00<?, ?it/s]"
      ]
     },
     "metadata": {},
     "output_type": "display_data"
    },
    {
     "name": "stdout",
     "output_type": "stream",
     "text": [
      "R2 score (new):  0.561\n",
      "batch i: 350, episode_len: 7, loss:  1.00198018, entropy:  1.39195001\n",
      "current self-play batch: 351\n",
      "Updating elo score...\n",
      "Complete.\n",
      "Elo score: AlphaZero:  1506.90, Benchmark:  1730.41\n",
      "   action: 0, prob_X:  4.95%\t   action: 0, prob_O:  10.92%\n",
      "⭐️ action: 1, prob_X:  31.61%\t   action: 1, prob_O:  2.17%\n",
      "   action: 2, prob_X:  5.24%\t⭐️ action: 2, prob_O:  37.03%\n",
      "   action: 3, prob_X:  5.16%\t   action: 3, prob_O:  1.13%\n",
      "   action: 4, prob_X:  8.57%\t   action: 4, prob_O:  0.05%\n",
      "   action: 5, prob_X:  11.94%\t   action: 5, prob_O:  0.37%\n",
      "   action: 6, prob_X:  2.74%\t   action: 6, prob_O:  30.08%\n",
      "   action: 7, prob_X:  21.13%\t   action: 7, prob_O:  2.09%\n",
      "   action: 8, prob_X:  8.66%\t   action: 8, prob_O:  16.17%\n",
      "State-value X: 0.1444\n",
      "State-value O: -0.5471\n",
      "Evaluating best player...\n",
      "Complete.\n"
     ]
    },
    {
     "data": {
      "application/vnd.jupyter.widget-view+json": {
       "model_id": "2463680d878f406c8057bb40c0fd170f",
       "version_major": 2,
       "version_minor": 0
      },
      "text/plain": [
       "  0%|          | 0/1 [00:00<?, ?it/s]"
      ]
     },
     "metadata": {},
     "output_type": "display_data"
    },
    {
     "name": "stdout",
     "output_type": "stream",
     "text": [
      "R2 score (new):  0.253\n",
      "batch i: 351, episode_len: 9, loss:  1.15350597, entropy:  1.42817616\n"
     ]
    },
    {
     "data": {
      "application/vnd.jupyter.widget-view+json": {
       "model_id": "ef87065484df4f189f5e1ff186091ad5",
       "version_major": 2,
       "version_minor": 0
      },
      "text/plain": [
       "  0%|          | 0/1 [00:00<?, ?it/s]"
      ]
     },
     "metadata": {},
     "output_type": "display_data"
    },
    {
     "name": "stdout",
     "output_type": "stream",
     "text": [
      "R2 score (new):  0.539\n",
      "batch i: 352, episode_len: 9, loss:  1.16673027, entropy:  1.38182855\n"
     ]
    },
    {
     "data": {
      "application/vnd.jupyter.widget-view+json": {
       "model_id": "3198e0a6b5dd44dda8f8e585fb8da1fc",
       "version_major": 2,
       "version_minor": 0
      },
      "text/plain": [
       "  0%|          | 0/1 [00:00<?, ?it/s]"
      ]
     },
     "metadata": {},
     "output_type": "display_data"
    },
    {
     "name": "stdout",
     "output_type": "stream",
     "text": [
      "R2 score (new): -0.112\n",
      "batch i: 353, episode_len: 9, loss:  0.97211580, entropy:  1.24657738\n"
     ]
    },
    {
     "data": {
      "application/vnd.jupyter.widget-view+json": {
       "model_id": "4bb8732e6df242e49617d004dc665b6d",
       "version_major": 2,
       "version_minor": 0
      },
      "text/plain": [
       "  0%|          | 0/1 [00:00<?, ?it/s]"
      ]
     },
     "metadata": {},
     "output_type": "display_data"
    },
    {
     "name": "stdout",
     "output_type": "stream",
     "text": [
      "R2 score (new):  0.322\n",
      "batch i: 354, episode_len: 9, loss:  1.02673336, entropy:  1.41473401\n"
     ]
    },
    {
     "data": {
      "application/vnd.jupyter.widget-view+json": {
       "model_id": "9636df5740e148a1b190528a36cf2838",
       "version_major": 2,
       "version_minor": 0
      },
      "text/plain": [
       "  0%|          | 0/1 [00:00<?, ?it/s]"
      ]
     },
     "metadata": {},
     "output_type": "display_data"
    },
    {
     "name": "stdout",
     "output_type": "stream",
     "text": [
      "R2 score (new):  0.500\n",
      "batch i: 355, episode_len: 9, loss:  0.91775426, entropy:  1.39362514\n"
     ]
    },
    {
     "data": {
      "application/vnd.jupyter.widget-view+json": {
       "model_id": "990d00daf6d04915ac1c22be081a1115",
       "version_major": 2,
       "version_minor": 0
      },
      "text/plain": [
       "  0%|          | 0/1 [00:00<?, ?it/s]"
      ]
     },
     "metadata": {},
     "output_type": "display_data"
    },
    {
     "name": "stdout",
     "output_type": "stream",
     "text": [
      "R2 score (new):  0.445\n",
      "batch i: 356, episode_len: 9, loss:  0.93284035, entropy:  1.15350461\n"
     ]
    },
    {
     "data": {
      "application/vnd.jupyter.widget-view+json": {
       "model_id": "d87e291432fc442398845448b166933a",
       "version_major": 2,
       "version_minor": 0
      },
      "text/plain": [
       "  0%|          | 0/1 [00:00<?, ?it/s]"
      ]
     },
     "metadata": {},
     "output_type": "display_data"
    },
    {
     "name": "stdout",
     "output_type": "stream",
     "text": [
      "R2 score (new): -0.201\n",
      "batch i: 357, episode_len: 7, loss:  0.89332608, entropy:  1.11037266\n"
     ]
    },
    {
     "data": {
      "application/vnd.jupyter.widget-view+json": {
       "model_id": "9bda8f40a44a4adc9248a29252164b7a",
       "version_major": 2,
       "version_minor": 0
      },
      "text/plain": [
       "  0%|          | 0/1 [00:00<?, ?it/s]"
      ]
     },
     "metadata": {},
     "output_type": "display_data"
    },
    {
     "name": "stdout",
     "output_type": "stream",
     "text": [
      "R2 score (new):  0.273\n",
      "batch i: 358, episode_len: 9, loss:  0.87670062, entropy:  1.15780163\n"
     ]
    },
    {
     "data": {
      "application/vnd.jupyter.widget-view+json": {
       "model_id": "2ddfeef0b72d44a59a61719c1ff2afe7",
       "version_major": 2,
       "version_minor": 0
      },
      "text/plain": [
       "  0%|          | 0/1 [00:00<?, ?it/s]"
      ]
     },
     "metadata": {},
     "output_type": "display_data"
    },
    {
     "name": "stdout",
     "output_type": "stream",
     "text": [
      "R2 score (new):  0.382\n",
      "batch i: 359, episode_len: 9, loss:  0.82730435, entropy:  1.08690453\n"
     ]
    },
    {
     "data": {
      "application/vnd.jupyter.widget-view+json": {
       "model_id": "f73bd99df54540ecb5e672d2ddc9aad7",
       "version_major": 2,
       "version_minor": 0
      },
      "text/plain": [
       "  0%|          | 0/1 [00:00<?, ?it/s]"
      ]
     },
     "metadata": {},
     "output_type": "display_data"
    },
    {
     "name": "stdout",
     "output_type": "stream",
     "text": [
      "R2 score (new):  0.572\n",
      "batch i: 360, episode_len: 9, loss:  0.86272732, entropy:  1.22779858\n",
      "current self-play batch: 361\n",
      "Updating elo score...\n",
      "Complete.\n",
      "Elo score: AlphaZero:  1500.00, Benchmark:  1743.84\n",
      "   action: 0, prob_X:  13.81%\t   action: 0, prob_O:  24.42%\n",
      "   action: 1, prob_X:  10.14%\t   action: 1, prob_O:  2.64%\n",
      "   action: 2, prob_X:  13.24%\t   action: 2, prob_O:  20.74%\n",
      "   action: 3, prob_X:  9.71%\t   action: 3, prob_O:  3.05%\n",
      "   action: 4, prob_X:  9.14%\t   action: 4, prob_O:  0.19%\n",
      "   action: 5, prob_X:  8.64%\t   action: 5, prob_O:  1.34%\n",
      "   action: 6, prob_X:  13.64%\t⭐️ action: 6, prob_O:  24.49%\n",
      "   action: 7, prob_X:  7.82%\t   action: 7, prob_O:  2.59%\n",
      "⭐️ action: 8, prob_X:  13.86%\t   action: 8, prob_O:  20.54%\n",
      "State-value X: 0.3980\n",
      "State-value O: -0.5837\n",
      "Evaluating best player...\n",
      "Complete.\n"
     ]
    },
    {
     "data": {
      "application/vnd.jupyter.widget-view+json": {
       "model_id": "0ed2cfd301ca431486b85c314ef1e5e4",
       "version_major": 2,
       "version_minor": 0
      },
      "text/plain": [
       "  0%|          | 0/1 [00:00<?, ?it/s]"
      ]
     },
     "metadata": {},
     "output_type": "display_data"
    },
    {
     "name": "stdout",
     "output_type": "stream",
     "text": [
      "R2 score (new):  0.468\n",
      "batch i: 361, episode_len: 7, loss:  0.90246420, entropy:  1.17792475\n"
     ]
    },
    {
     "data": {
      "application/vnd.jupyter.widget-view+json": {
       "model_id": "17e376550ca64bdda7b77422f5b4a4d7",
       "version_major": 2,
       "version_minor": 0
      },
      "text/plain": [
       "  0%|          | 0/1 [00:00<?, ?it/s]"
      ]
     },
     "metadata": {},
     "output_type": "display_data"
    },
    {
     "name": "stdout",
     "output_type": "stream",
     "text": [
      "R2 score (new): -0.068\n",
      "batch i: 362, episode_len: 7, loss:  0.79738639, entropy:  1.12040579\n"
     ]
    },
    {
     "data": {
      "application/vnd.jupyter.widget-view+json": {
       "model_id": "7e8cd2bf86f14b45bcb6b2243dc3f545",
       "version_major": 2,
       "version_minor": 0
      },
      "text/plain": [
       "  0%|          | 0/1 [00:00<?, ?it/s]"
      ]
     },
     "metadata": {},
     "output_type": "display_data"
    },
    {
     "name": "stdout",
     "output_type": "stream",
     "text": [
      "R2 score (new):  0.335\n",
      "batch i: 363, episode_len: 9, loss:  0.87252657, entropy:  1.03365302\n"
     ]
    },
    {
     "data": {
      "application/vnd.jupyter.widget-view+json": {
       "model_id": "c0f8f4eff0eb41dca987f706a9e0b103",
       "version_major": 2,
       "version_minor": 0
      },
      "text/plain": [
       "  0%|          | 0/1 [00:00<?, ?it/s]"
      ]
     },
     "metadata": {},
     "output_type": "display_data"
    },
    {
     "name": "stdout",
     "output_type": "stream",
     "text": [
      "R2 score (new): -0.063\n",
      "batch i: 364, episode_len: 9, loss:  0.81609640, entropy:  1.10967624\n"
     ]
    },
    {
     "data": {
      "application/vnd.jupyter.widget-view+json": {
       "model_id": "4d3a6738cb2845639d27297c043221e2",
       "version_major": 2,
       "version_minor": 0
      },
      "text/plain": [
       "  0%|          | 0/1 [00:00<?, ?it/s]"
      ]
     },
     "metadata": {},
     "output_type": "display_data"
    },
    {
     "name": "stdout",
     "output_type": "stream",
     "text": [
      "R2 score (new):  0.342\n",
      "batch i: 365, episode_len: 9, loss:  0.85687796, entropy:  1.10542929\n"
     ]
    },
    {
     "data": {
      "application/vnd.jupyter.widget-view+json": {
       "model_id": "3b7581ad76dc43149f957f42c1ca7f97",
       "version_major": 2,
       "version_minor": 0
      },
      "text/plain": [
       "  0%|          | 0/1 [00:00<?, ?it/s]"
      ]
     },
     "metadata": {},
     "output_type": "display_data"
    },
    {
     "name": "stdout",
     "output_type": "stream",
     "text": [
      "R2 score (new):  0.406\n",
      "batch i: 366, episode_len: 7, loss:  0.87084679, entropy:  1.20905113\n"
     ]
    },
    {
     "data": {
      "application/vnd.jupyter.widget-view+json": {
       "model_id": "2fdb7e11664642d99832e3826bf9f7ff",
       "version_major": 2,
       "version_minor": 0
      },
      "text/plain": [
       "  0%|          | 0/1 [00:00<?, ?it/s]"
      ]
     },
     "metadata": {},
     "output_type": "display_data"
    },
    {
     "name": "stdout",
     "output_type": "stream",
     "text": [
      "R2 score (new):  0.324\n",
      "batch i: 367, episode_len: 9, loss:  0.80294347, entropy:  1.14557171\n"
     ]
    },
    {
     "data": {
      "application/vnd.jupyter.widget-view+json": {
       "model_id": "57e35fb5e4f54af887116a278e41d70f",
       "version_major": 2,
       "version_minor": 0
      },
      "text/plain": [
       "  0%|          | 0/1 [00:00<?, ?it/s]"
      ]
     },
     "metadata": {},
     "output_type": "display_data"
    },
    {
     "name": "stdout",
     "output_type": "stream",
     "text": [
      "R2 score (new):  0.313\n",
      "batch i: 368, episode_len: 9, loss:  0.87109620, entropy:  1.05262697\n"
     ]
    },
    {
     "data": {
      "application/vnd.jupyter.widget-view+json": {
       "model_id": "d5de0027d5c5437ab1b7bdacaf2b5ee2",
       "version_major": 2,
       "version_minor": 0
      },
      "text/plain": [
       "  0%|          | 0/1 [00:00<?, ?it/s]"
      ]
     },
     "metadata": {},
     "output_type": "display_data"
    },
    {
     "name": "stdout",
     "output_type": "stream",
     "text": [
      "R2 score (new):  0.384\n",
      "batch i: 369, episode_len: 9, loss:  0.82805829, entropy:  1.14326322\n"
     ]
    },
    {
     "data": {
      "application/vnd.jupyter.widget-view+json": {
       "model_id": "5205e795fecb4c19951661616dfe22e3",
       "version_major": 2,
       "version_minor": 0
      },
      "text/plain": [
       "  0%|          | 0/1 [00:00<?, ?it/s]"
      ]
     },
     "metadata": {},
     "output_type": "display_data"
    },
    {
     "name": "stdout",
     "output_type": "stream",
     "text": [
      "R2 score (new):  0.354\n",
      "batch i: 370, episode_len: 9, loss:  0.82222473, entropy:  1.23810863\n",
      "current self-play batch: 371\n",
      "Updating elo score...\n",
      "Complete.\n",
      "Elo score: AlphaZero:  1502.79, Benchmark:  1741.04\n",
      "   action: 0, prob_X:  10.77%\t   action: 0, prob_O:  25.63%\n",
      "   action: 1, prob_X:  10.58%\t   action: 1, prob_O:  2.75%\n",
      "   action: 2, prob_X:  9.21%\t   action: 2, prob_O:  21.94%\n",
      "   action: 3, prob_X:  12.43%\t   action: 3, prob_O:  0.90%\n",
      "⭐️ action: 4, prob_X:  13.36%\t   action: 4, prob_O:  0.08%\n",
      "   action: 5, prob_X:  10.40%\t   action: 5, prob_O:  0.57%\n",
      "   action: 6, prob_X:  12.02%\t   action: 6, prob_O:  18.66%\n",
      "   action: 7, prob_X:  11.07%\t   action: 7, prob_O:  2.12%\n",
      "   action: 8, prob_X:  10.17%\t⭐️ action: 8, prob_O:  27.34%\n",
      "State-value X: 0.3229\n",
      "State-value O: -0.5951\n",
      "Evaluating best player...\n",
      "Complete.\n"
     ]
    },
    {
     "data": {
      "application/vnd.jupyter.widget-view+json": {
       "model_id": "308cd76794b04767ad084d4a7876df3e",
       "version_major": 2,
       "version_minor": 0
      },
      "text/plain": [
       "  0%|          | 0/1 [00:00<?, ?it/s]"
      ]
     },
     "metadata": {},
     "output_type": "display_data"
    },
    {
     "name": "stdout",
     "output_type": "stream",
     "text": [
      "R2 score (new):  0.449\n",
      "batch i: 371, episode_len: 7, loss:  0.79493549, entropy:  1.25489092\n"
     ]
    },
    {
     "data": {
      "application/vnd.jupyter.widget-view+json": {
       "model_id": "c6a6d61efb3943c3b8958fa295ea24b9",
       "version_major": 2,
       "version_minor": 0
      },
      "text/plain": [
       "  0%|          | 0/1 [00:00<?, ?it/s]"
      ]
     },
     "metadata": {},
     "output_type": "display_data"
    },
    {
     "name": "stdout",
     "output_type": "stream",
     "text": [
      "R2 score (new):  0.249\n",
      "batch i: 372, episode_len: 5, loss:  0.82582681, entropy:  1.19951522\n"
     ]
    },
    {
     "data": {
      "application/vnd.jupyter.widget-view+json": {
       "model_id": "b42b65190b364072ace33b91547accb9",
       "version_major": 2,
       "version_minor": 0
      },
      "text/plain": [
       "  0%|          | 0/1 [00:00<?, ?it/s]"
      ]
     },
     "metadata": {},
     "output_type": "display_data"
    },
    {
     "name": "stdout",
     "output_type": "stream",
     "text": [
      "R2 score (new):  0.214\n",
      "batch i: 373, episode_len: 9, loss:  0.83279459, entropy:  1.11398494\n"
     ]
    },
    {
     "data": {
      "application/vnd.jupyter.widget-view+json": {
       "model_id": "29c297f54b0d412c880547dd79ca6114",
       "version_major": 2,
       "version_minor": 0
      },
      "text/plain": [
       "  0%|          | 0/1 [00:00<?, ?it/s]"
      ]
     },
     "metadata": {},
     "output_type": "display_data"
    },
    {
     "name": "stdout",
     "output_type": "stream",
     "text": [
      "R2 score (new):  0.237\n",
      "batch i: 374, episode_len: 9, loss:  0.78996794, entropy:  1.05295277\n"
     ]
    },
    {
     "data": {
      "application/vnd.jupyter.widget-view+json": {
       "model_id": "7bead8c40edc41c4a1ccca05b0aa5003",
       "version_major": 2,
       "version_minor": 0
      },
      "text/plain": [
       "  0%|          | 0/1 [00:00<?, ?it/s]"
      ]
     },
     "metadata": {},
     "output_type": "display_data"
    },
    {
     "name": "stdout",
     "output_type": "stream",
     "text": [
      "R2 score (new):  0.550\n",
      "batch i: 375, episode_len: 9, loss:  0.79725016, entropy:  1.04353642\n"
     ]
    },
    {
     "data": {
      "application/vnd.jupyter.widget-view+json": {
       "model_id": "3aaa96b428c94ed894f27a21fc01a2ff",
       "version_major": 2,
       "version_minor": 0
      },
      "text/plain": [
       "  0%|          | 0/1 [00:00<?, ?it/s]"
      ]
     },
     "metadata": {},
     "output_type": "display_data"
    },
    {
     "name": "stdout",
     "output_type": "stream",
     "text": [
      "R2 score (new):  0.511\n",
      "batch i: 376, episode_len: 9, loss:  0.84817098, entropy:  1.03551209\n"
     ]
    },
    {
     "data": {
      "application/vnd.jupyter.widget-view+json": {
       "model_id": "e6cc02caf25640d9bc6677311fcb1bba",
       "version_major": 2,
       "version_minor": 0
      },
      "text/plain": [
       "  0%|          | 0/1 [00:00<?, ?it/s]"
      ]
     },
     "metadata": {},
     "output_type": "display_data"
    },
    {
     "name": "stdout",
     "output_type": "stream",
     "text": [
      "R2 score (new):  0.248\n",
      "batch i: 377, episode_len: 5, loss:  0.80279122, entropy:  1.09979749\n"
     ]
    },
    {
     "data": {
      "application/vnd.jupyter.widget-view+json": {
       "model_id": "fb7f3fc6d10547bfa7da992e4afeb599",
       "version_major": 2,
       "version_minor": 0
      },
      "text/plain": [
       "  0%|          | 0/1 [00:00<?, ?it/s]"
      ]
     },
     "metadata": {},
     "output_type": "display_data"
    },
    {
     "name": "stdout",
     "output_type": "stream",
     "text": [
      "R2 score (new):  0.403\n",
      "batch i: 378, episode_len: 5, loss:  0.81727458, entropy:  1.22547948\n"
     ]
    },
    {
     "data": {
      "application/vnd.jupyter.widget-view+json": {
       "model_id": "8291a2504d2546c0998051148817fed3",
       "version_major": 2,
       "version_minor": 0
      },
      "text/plain": [
       "  0%|          | 0/1 [00:00<?, ?it/s]"
      ]
     },
     "metadata": {},
     "output_type": "display_data"
    },
    {
     "name": "stdout",
     "output_type": "stream",
     "text": [
      "R2 score (new):  0.359\n",
      "batch i: 379, episode_len: 9, loss:  0.80228699, entropy:  1.07579768\n"
     ]
    },
    {
     "data": {
      "application/vnd.jupyter.widget-view+json": {
       "model_id": "22d1a8005eb9470593971b7b42368746",
       "version_major": 2,
       "version_minor": 0
      },
      "text/plain": [
       "  0%|          | 0/1 [00:00<?, ?it/s]"
      ]
     },
     "metadata": {},
     "output_type": "display_data"
    },
    {
     "name": "stdout",
     "output_type": "stream",
     "text": [
      "R2 score (new):  0.192\n",
      "batch i: 380, episode_len: 7, loss:  0.80559716, entropy:  1.19012570\n",
      "current self-play batch: 381\n",
      "Updating elo score...\n",
      "Complete.\n",
      "Elo score: AlphaZero:  1500.00, Benchmark:  1753.72\n",
      "   action: 0, prob_X:  11.87%\t⭐️ action: 0, prob_O:  23.75%\n",
      "   action: 1, prob_X:  11.69%\t   action: 1, prob_O:  2.81%\n",
      "   action: 2, prob_X:  11.77%\t   action: 2, prob_O:  22.91%\n",
      "   action: 3, prob_X:  9.68%\t   action: 3, prob_O:  1.79%\n",
      "   action: 4, prob_X:  8.25%\t   action: 4, prob_O:  0.09%\n",
      "   action: 5, prob_X:  11.32%\t   action: 5, prob_O:  0.80%\n",
      "   action: 6, prob_X:  11.53%\t   action: 6, prob_O:  21.87%\n",
      "   action: 7, prob_X:  11.40%\t   action: 7, prob_O:  2.29%\n",
      "⭐️ action: 8, prob_X:  12.50%\t   action: 8, prob_O:  23.71%\n",
      "State-value X: 0.2863\n",
      "State-value O: -0.5948\n",
      "Evaluating best player...\n",
      "Complete.\n"
     ]
    },
    {
     "data": {
      "application/vnd.jupyter.widget-view+json": {
       "model_id": "dc6690b48d1846fc9003f2ce72a16410",
       "version_major": 2,
       "version_minor": 0
      },
      "text/plain": [
       "  0%|          | 0/1 [00:00<?, ?it/s]"
      ]
     },
     "metadata": {},
     "output_type": "display_data"
    },
    {
     "name": "stdout",
     "output_type": "stream",
     "text": [
      "R2 score (new):  0.261\n",
      "batch i: 381, episode_len: 7, loss:  0.79401572, entropy:  1.17494011\n"
     ]
    },
    {
     "data": {
      "application/vnd.jupyter.widget-view+json": {
       "model_id": "cec89c06c5154369b3468c24e7848a0f",
       "version_major": 2,
       "version_minor": 0
      },
      "text/plain": [
       "  0%|          | 0/1 [00:00<?, ?it/s]"
      ]
     },
     "metadata": {},
     "output_type": "display_data"
    },
    {
     "name": "stdout",
     "output_type": "stream",
     "text": [
      "R2 score (new):  0.385\n",
      "batch i: 382, episode_len: 7, loss:  0.81952950, entropy:  1.04543471\n"
     ]
    },
    {
     "data": {
      "application/vnd.jupyter.widget-view+json": {
       "model_id": "7a60bd6b5937493ca4415fd3b8cdc03a",
       "version_major": 2,
       "version_minor": 0
      },
      "text/plain": [
       "  0%|          | 0/1 [00:00<?, ?it/s]"
      ]
     },
     "metadata": {},
     "output_type": "display_data"
    },
    {
     "name": "stdout",
     "output_type": "stream",
     "text": [
      "R2 score (new):  0.470\n",
      "batch i: 383, episode_len: 9, loss:  0.86640084, entropy:  1.08380830\n"
     ]
    },
    {
     "data": {
      "application/vnd.jupyter.widget-view+json": {
       "model_id": "d1c2ce6eca7e4a2d8d6d5a3b6328af7a",
       "version_major": 2,
       "version_minor": 0
      },
      "text/plain": [
       "  0%|          | 0/1 [00:00<?, ?it/s]"
      ]
     },
     "metadata": {},
     "output_type": "display_data"
    },
    {
     "name": "stdout",
     "output_type": "stream",
     "text": [
      "R2 score (new):  0.232\n",
      "batch i: 384, episode_len: 6, loss:  0.77938850, entropy:  1.03584325\n"
     ]
    },
    {
     "data": {
      "application/vnd.jupyter.widget-view+json": {
       "model_id": "4d2073d15b244da1aca9f72f9bb47f44",
       "version_major": 2,
       "version_minor": 0
      },
      "text/plain": [
       "  0%|          | 0/1 [00:00<?, ?it/s]"
      ]
     },
     "metadata": {},
     "output_type": "display_data"
    },
    {
     "name": "stdout",
     "output_type": "stream",
     "text": [
      "R2 score (new):  0.306\n",
      "batch i: 385, episode_len: 9, loss:  0.87641581, entropy:  1.08148456\n"
     ]
    },
    {
     "data": {
      "application/vnd.jupyter.widget-view+json": {
       "model_id": "c635488ab11e4c6f8fb0922a4ca81219",
       "version_major": 2,
       "version_minor": 0
      },
      "text/plain": [
       "  0%|          | 0/1 [00:00<?, ?it/s]"
      ]
     },
     "metadata": {},
     "output_type": "display_data"
    },
    {
     "name": "stdout",
     "output_type": "stream",
     "text": [
      "R2 score (new):  0.269\n",
      "batch i: 386, episode_len: 9, loss:  0.79373568, entropy:  1.17072809\n"
     ]
    },
    {
     "data": {
      "application/vnd.jupyter.widget-view+json": {
       "model_id": "8d0f01a44db94887b2c28075e456b254",
       "version_major": 2,
       "version_minor": 0
      },
      "text/plain": [
       "  0%|          | 0/1 [00:00<?, ?it/s]"
      ]
     },
     "metadata": {},
     "output_type": "display_data"
    },
    {
     "name": "stdout",
     "output_type": "stream",
     "text": [
      "R2 score (new):  0.296\n",
      "batch i: 387, episode_len: 9, loss:  0.77144405, entropy:  1.21835136\n"
     ]
    },
    {
     "data": {
      "application/vnd.jupyter.widget-view+json": {
       "model_id": "6d15ff21cd60443fafdc21faf30ee86f",
       "version_major": 2,
       "version_minor": 0
      },
      "text/plain": [
       "  0%|          | 0/1 [00:00<?, ?it/s]"
      ]
     },
     "metadata": {},
     "output_type": "display_data"
    },
    {
     "name": "stdout",
     "output_type": "stream",
     "text": [
      "R2 score (new):  0.229\n",
      "batch i: 388, episode_len: 9, loss:  0.79833172, entropy:  1.11841547\n"
     ]
    },
    {
     "data": {
      "application/vnd.jupyter.widget-view+json": {
       "model_id": "afecf08d02444615b8afcfe38b65b27c",
       "version_major": 2,
       "version_minor": 0
      },
      "text/plain": [
       "  0%|          | 0/1 [00:00<?, ?it/s]"
      ]
     },
     "metadata": {},
     "output_type": "display_data"
    },
    {
     "name": "stdout",
     "output_type": "stream",
     "text": [
      "R2 score (new):  0.392\n",
      "batch i: 389, episode_len: 5, loss:  0.76915863, entropy:  1.09653997\n"
     ]
    },
    {
     "data": {
      "application/vnd.jupyter.widget-view+json": {
       "model_id": "8664256b22e145578dcddc25320a65a0",
       "version_major": 2,
       "version_minor": 0
      },
      "text/plain": [
       "  0%|          | 0/1 [00:00<?, ?it/s]"
      ]
     },
     "metadata": {},
     "output_type": "display_data"
    },
    {
     "name": "stdout",
     "output_type": "stream",
     "text": [
      "R2 score (new):  0.447\n",
      "batch i: 390, episode_len: 9, loss:  0.79084524, entropy:  1.10916483\n",
      "current self-play batch: 391\n",
      "Updating elo score...\n",
      "Complete.\n",
      "Elo score: AlphaZero:  1500.00, Benchmark:  1765.61\n",
      "   action: 0, prob_X:  12.49%\t   action: 0, prob_O:  23.82%\n",
      "   action: 1, prob_X:  9.91%\t   action: 1, prob_O:  2.47%\n",
      "   action: 2, prob_X:  12.68%\t   action: 2, prob_O:  23.15%\n",
      "   action: 3, prob_X:  10.48%\t   action: 3, prob_O:  1.61%\n",
      "   action: 4, prob_X:  8.63%\t   action: 4, prob_O:  0.10%\n",
      "   action: 5, prob_X:  10.65%\t   action: 5, prob_O:  0.83%\n",
      "⭐️ action: 6, prob_X:  12.80%\t   action: 6, prob_O:  21.04%\n",
      "   action: 7, prob_X:  9.88%\t   action: 7, prob_O:  1.98%\n",
      "   action: 8, prob_X:  12.48%\t⭐️ action: 8, prob_O:  25.02%\n",
      "State-value X: 0.3057\n",
      "State-value O: -0.6086\n",
      "Evaluating best player...\n",
      "Complete.\n"
     ]
    },
    {
     "data": {
      "application/vnd.jupyter.widget-view+json": {
       "model_id": "f6c79a7061694f35b33d6e50b57a92d2",
       "version_major": 2,
       "version_minor": 0
      },
      "text/plain": [
       "  0%|          | 0/1 [00:00<?, ?it/s]"
      ]
     },
     "metadata": {},
     "output_type": "display_data"
    },
    {
     "name": "stdout",
     "output_type": "stream",
     "text": [
      "R2 score (new):  0.416\n",
      "batch i: 391, episode_len: 9, loss:  0.79942394, entropy:  1.01754713\n"
     ]
    },
    {
     "data": {
      "application/vnd.jupyter.widget-view+json": {
       "model_id": "a32687e6fa964580993688dec2bc0e06",
       "version_major": 2,
       "version_minor": 0
      },
      "text/plain": [
       "  0%|          | 0/1 [00:00<?, ?it/s]"
      ]
     },
     "metadata": {},
     "output_type": "display_data"
    },
    {
     "name": "stdout",
     "output_type": "stream",
     "text": [
      "R2 score (new):  0.371\n",
      "batch i: 392, episode_len: 9, loss:  0.82221087, entropy:  1.11621213\n"
     ]
    },
    {
     "data": {
      "application/vnd.jupyter.widget-view+json": {
       "model_id": "1267ae49e2e349f6bdc0717aaa7e2852",
       "version_major": 2,
       "version_minor": 0
      },
      "text/plain": [
       "  0%|          | 0/1 [00:00<?, ?it/s]"
      ]
     },
     "metadata": {},
     "output_type": "display_data"
    },
    {
     "name": "stdout",
     "output_type": "stream",
     "text": [
      "R2 score (new):  0.527\n",
      "batch i: 393, episode_len: 9, loss:  0.84485519, entropy:  1.12368000\n"
     ]
    },
    {
     "data": {
      "application/vnd.jupyter.widget-view+json": {
       "model_id": "7fc5852fa46b4105b85daecd3356a08e",
       "version_major": 2,
       "version_minor": 0
      },
      "text/plain": [
       "  0%|          | 0/1 [00:00<?, ?it/s]"
      ]
     },
     "metadata": {},
     "output_type": "display_data"
    },
    {
     "name": "stdout",
     "output_type": "stream",
     "text": [
      "R2 score (new):  0.504\n",
      "batch i: 394, episode_len: 9, loss:  0.80584065, entropy:  1.15683711\n"
     ]
    },
    {
     "data": {
      "application/vnd.jupyter.widget-view+json": {
       "model_id": "f4fc12c808654103b07dfa31f3009c49",
       "version_major": 2,
       "version_minor": 0
      },
      "text/plain": [
       "  0%|          | 0/1 [00:00<?, ?it/s]"
      ]
     },
     "metadata": {},
     "output_type": "display_data"
    },
    {
     "name": "stdout",
     "output_type": "stream",
     "text": [
      "R2 score (new):  0.422\n",
      "batch i: 395, episode_len: 6, loss:  0.80769397, entropy:  1.05857253\n"
     ]
    },
    {
     "data": {
      "application/vnd.jupyter.widget-view+json": {
       "model_id": "cf1e72fc7ddd49068fd675ed0d932091",
       "version_major": 2,
       "version_minor": 0
      },
      "text/plain": [
       "  0%|          | 0/1 [00:00<?, ?it/s]"
      ]
     },
     "metadata": {},
     "output_type": "display_data"
    },
    {
     "name": "stdout",
     "output_type": "stream",
     "text": [
      "R2 score (new):  0.306\n",
      "batch i: 396, episode_len: 9, loss:  0.83165883, entropy:  1.02449143\n"
     ]
    },
    {
     "data": {
      "application/vnd.jupyter.widget-view+json": {
       "model_id": "350da8d7df5b4f51abe8b34078c2ea38",
       "version_major": 2,
       "version_minor": 0
      },
      "text/plain": [
       "  0%|          | 0/1 [00:00<?, ?it/s]"
      ]
     },
     "metadata": {},
     "output_type": "display_data"
    },
    {
     "name": "stdout",
     "output_type": "stream",
     "text": [
      "R2 score (new):  0.283\n",
      "batch i: 397, episode_len: 9, loss:  0.76163518, entropy:  1.09522212\n"
     ]
    },
    {
     "data": {
      "application/vnd.jupyter.widget-view+json": {
       "model_id": "2491c2de1ca54310aa765040435309bf",
       "version_major": 2,
       "version_minor": 0
      },
      "text/plain": [
       "  0%|          | 0/1 [00:00<?, ?it/s]"
      ]
     },
     "metadata": {},
     "output_type": "display_data"
    },
    {
     "name": "stdout",
     "output_type": "stream",
     "text": [
      "R2 score (new):  0.318\n",
      "batch i: 398, episode_len: 9, loss:  0.79575247, entropy:  1.07188654\n"
     ]
    },
    {
     "data": {
      "application/vnd.jupyter.widget-view+json": {
       "model_id": "6c77f3b598dd4f04b3bbaadc039d89cd",
       "version_major": 2,
       "version_minor": 0
      },
      "text/plain": [
       "  0%|          | 0/1 [00:00<?, ?it/s]"
      ]
     },
     "metadata": {},
     "output_type": "display_data"
    },
    {
     "name": "stdout",
     "output_type": "stream",
     "text": [
      "R2 score (new):  0.454\n",
      "batch i: 399, episode_len: 9, loss:  0.76089951, entropy:  0.96788263\n"
     ]
    },
    {
     "data": {
      "application/vnd.jupyter.widget-view+json": {
       "model_id": "8ee077cbf9a448019d28daa86ec62ef1",
       "version_major": 2,
       "version_minor": 0
      },
      "text/plain": [
       "  0%|          | 0/1 [00:00<?, ?it/s]"
      ]
     },
     "metadata": {},
     "output_type": "display_data"
    },
    {
     "name": "stdout",
     "output_type": "stream",
     "text": [
      "R2 score (new):  0.403\n",
      "batch i: 400, episode_len: 7, loss:  0.81612941, entropy:  1.05921769\n",
      "current self-play batch: 401\n",
      "Updating elo score...\n",
      "Complete.\n",
      "Elo score: AlphaZero:  1504.02, Benchmark:  1761.59\n",
      "   action: 0, prob_X:  12.17%\t   action: 0, prob_O:  24.92%\n",
      "   action: 1, prob_X:  9.69%\t   action: 1, prob_O:  1.89%\n",
      "   action: 2, prob_X:  10.32%\t   action: 2, prob_O:  20.74%\n",
      "   action: 3, prob_X:  10.95%\t   action: 3, prob_O:  1.44%\n",
      "   action: 4, prob_X:  11.58%\t   action: 4, prob_O:  0.07%\n",
      "   action: 5, prob_X:  10.69%\t   action: 5, prob_O:  0.74%\n",
      "   action: 6, prob_X:  11.74%\t   action: 6, prob_O:  21.01%\n",
      "   action: 7, prob_X:  10.58%\t   action: 7, prob_O:  1.64%\n",
      "⭐️ action: 8, prob_X:  12.28%\t⭐️ action: 8, prob_O:  27.54%\n",
      "State-value X: 0.2831\n",
      "State-value O: -0.6167\n",
      "Evaluating best player...\n",
      "Complete.\n"
     ]
    },
    {
     "data": {
      "application/vnd.jupyter.widget-view+json": {
       "model_id": "138c1fbc1e5f43ef8010b11cc195c75c",
       "version_major": 2,
       "version_minor": 0
      },
      "text/plain": [
       "  0%|          | 0/1 [00:00<?, ?it/s]"
      ]
     },
     "metadata": {},
     "output_type": "display_data"
    },
    {
     "name": "stdout",
     "output_type": "stream",
     "text": [
      "R2 score (new):  0.305\n",
      "batch i: 401, episode_len: 7, loss:  0.75984242, entropy:  1.19353569\n"
     ]
    },
    {
     "data": {
      "application/vnd.jupyter.widget-view+json": {
       "model_id": "b004eae2a11b491d8adfadbb43c7abc8",
       "version_major": 2,
       "version_minor": 0
      },
      "text/plain": [
       "  0%|          | 0/1 [00:00<?, ?it/s]"
      ]
     },
     "metadata": {},
     "output_type": "display_data"
    },
    {
     "name": "stdout",
     "output_type": "stream",
     "text": [
      "R2 score (new):  0.328\n",
      "batch i: 402, episode_len: 7, loss:  0.79731293, entropy:  1.01098835\n"
     ]
    },
    {
     "data": {
      "application/vnd.jupyter.widget-view+json": {
       "model_id": "324fd4364d7f42dc91a34e0ef1357aea",
       "version_major": 2,
       "version_minor": 0
      },
      "text/plain": [
       "  0%|          | 0/1 [00:00<?, ?it/s]"
      ]
     },
     "metadata": {},
     "output_type": "display_data"
    },
    {
     "name": "stdout",
     "output_type": "stream",
     "text": [
      "R2 score (new):  0.408\n",
      "batch i: 403, episode_len: 9, loss:  0.87235566, entropy:  1.03768122\n"
     ]
    },
    {
     "data": {
      "application/vnd.jupyter.widget-view+json": {
       "model_id": "0c77df06014447a8978ceff69e2a4aee",
       "version_major": 2,
       "version_minor": 0
      },
      "text/plain": [
       "  0%|          | 0/1 [00:00<?, ?it/s]"
      ]
     },
     "metadata": {},
     "output_type": "display_data"
    },
    {
     "name": "stdout",
     "output_type": "stream",
     "text": [
      "R2 score (new):  0.288\n",
      "batch i: 404, episode_len: 7, loss:  0.77867352, entropy:  1.08735347\n"
     ]
    },
    {
     "data": {
      "application/vnd.jupyter.widget-view+json": {
       "model_id": "9946349ce87b4211a9d3bf394601d6d4",
       "version_major": 2,
       "version_minor": 0
      },
      "text/plain": [
       "  0%|          | 0/1 [00:00<?, ?it/s]"
      ]
     },
     "metadata": {},
     "output_type": "display_data"
    },
    {
     "name": "stdout",
     "output_type": "stream",
     "text": [
      "R2 score (new):  0.371\n",
      "batch i: 405, episode_len: 9, loss:  0.77255209, entropy:  1.05976081\n"
     ]
    },
    {
     "data": {
      "application/vnd.jupyter.widget-view+json": {
       "model_id": "f1e6b690d64640da9adfcdf362068a16",
       "version_major": 2,
       "version_minor": 0
      },
      "text/plain": [
       "  0%|          | 0/1 [00:00<?, ?it/s]"
      ]
     },
     "metadata": {},
     "output_type": "display_data"
    },
    {
     "name": "stdout",
     "output_type": "stream",
     "text": [
      "R2 score (new):  0.309\n",
      "batch i: 406, episode_len: 9, loss:  0.81590102, entropy:  1.02508748\n"
     ]
    },
    {
     "data": {
      "application/vnd.jupyter.widget-view+json": {
       "model_id": "e68cbc0d703c4d939f3df1ed074d399b",
       "version_major": 2,
       "version_minor": 0
      },
      "text/plain": [
       "  0%|          | 0/1 [00:00<?, ?it/s]"
      ]
     },
     "metadata": {},
     "output_type": "display_data"
    },
    {
     "name": "stdout",
     "output_type": "stream",
     "text": [
      "R2 score (new):  0.368\n",
      "batch i: 407, episode_len: 7, loss:  0.78925622, entropy:  1.09404111\n"
     ]
    },
    {
     "data": {
      "application/vnd.jupyter.widget-view+json": {
       "model_id": "136a0d40edf94a7486988ebe83d84043",
       "version_major": 2,
       "version_minor": 0
      },
      "text/plain": [
       "  0%|          | 0/1 [00:00<?, ?it/s]"
      ]
     },
     "metadata": {},
     "output_type": "display_data"
    },
    {
     "name": "stdout",
     "output_type": "stream",
     "text": [
      "R2 score (new):  0.320\n",
      "batch i: 408, episode_len: 9, loss:  0.83403823, entropy:  1.07454550\n"
     ]
    },
    {
     "data": {
      "application/vnd.jupyter.widget-view+json": {
       "model_id": "a1575084b2fa4c7bacb0dc2386e7adff",
       "version_major": 2,
       "version_minor": 0
      },
      "text/plain": [
       "  0%|          | 0/1 [00:00<?, ?it/s]"
      ]
     },
     "metadata": {},
     "output_type": "display_data"
    },
    {
     "name": "stdout",
     "output_type": "stream",
     "text": [
      "R2 score (new):  0.362\n",
      "batch i: 409, episode_len: 9, loss:  0.75960097, entropy:  1.08922398\n"
     ]
    },
    {
     "data": {
      "application/vnd.jupyter.widget-view+json": {
       "model_id": "4f42ae2f5eb941729eb03098684dd04e",
       "version_major": 2,
       "version_minor": 0
      },
      "text/plain": [
       "  0%|          | 0/1 [00:00<?, ?it/s]"
      ]
     },
     "metadata": {},
     "output_type": "display_data"
    },
    {
     "name": "stdout",
     "output_type": "stream",
     "text": [
      "R2 score (new):  0.316\n",
      "batch i: 410, episode_len: 9, loss:  0.78839957, entropy:  1.08111727\n",
      "current self-play batch: 411\n",
      "Updating elo score...\n",
      "Complete.\n",
      "Elo score: AlphaZero:  1507.60, Benchmark:  1758.01\n",
      "   action: 0, prob_X:  9.95%\t   action: 0, prob_O:  22.25%\n",
      "   action: 1, prob_X:  12.48%\t   action: 1, prob_O:  1.41%\n",
      "   action: 2, prob_X:  10.11%\t   action: 2, prob_O:  24.26%\n",
      "   action: 3, prob_X:  10.67%\t   action: 3, prob_O:  0.94%\n",
      "   action: 4, prob_X:  12.27%\t   action: 4, prob_O:  0.05%\n",
      "   action: 5, prob_X:  10.67%\t   action: 5, prob_O:  0.49%\n",
      "   action: 6, prob_X:  10.36%\t⭐️ action: 6, prob_O:  28.26%\n",
      "⭐️ action: 7, prob_X:  13.02%\t   action: 7, prob_O:  1.43%\n",
      "   action: 8, prob_X:  10.46%\t   action: 8, prob_O:  20.90%\n",
      "State-value X: 0.2786\n",
      "State-value O: -0.5955\n",
      "Evaluating best player...\n",
      "Complete.\n"
     ]
    },
    {
     "data": {
      "application/vnd.jupyter.widget-view+json": {
       "model_id": "70ca37b709aa45b88d5257c74125f9ea",
       "version_major": 2,
       "version_minor": 0
      },
      "text/plain": [
       "  0%|          | 0/1 [00:00<?, ?it/s]"
      ]
     },
     "metadata": {},
     "output_type": "display_data"
    },
    {
     "name": "stdout",
     "output_type": "stream",
     "text": [
      "R2 score (new):  0.536\n",
      "batch i: 411, episode_len: 9, loss:  0.79146481, entropy:  1.03926051\n"
     ]
    },
    {
     "data": {
      "application/vnd.jupyter.widget-view+json": {
       "model_id": "0fe14aa620cb41a4b34a096c7aa823fb",
       "version_major": 2,
       "version_minor": 0
      },
      "text/plain": [
       "  0%|          | 0/1 [00:00<?, ?it/s]"
      ]
     },
     "metadata": {},
     "output_type": "display_data"
    },
    {
     "name": "stdout",
     "output_type": "stream",
     "text": [
      "R2 score (new): -0.348\n",
      "batch i: 412, episode_len: 9, loss:  0.92393261, entropy:  1.66585755\n"
     ]
    },
    {
     "data": {
      "application/vnd.jupyter.widget-view+json": {
       "model_id": "a809299126d447e1b1ca7470e0f968de",
       "version_major": 2,
       "version_minor": 0
      },
      "text/plain": [
       "  0%|          | 0/1 [00:00<?, ?it/s]"
      ]
     },
     "metadata": {},
     "output_type": "display_data"
    },
    {
     "name": "stdout",
     "output_type": "stream",
     "text": [
      "R2 score (new):  0.229\n",
      "batch i: 413, episode_len: 9, loss:  1.03605647, entropy:  1.29358530\n"
     ]
    },
    {
     "data": {
      "application/vnd.jupyter.widget-view+json": {
       "model_id": "b19565e0ec2143b9bc2d9086d2dcc775",
       "version_major": 2,
       "version_minor": 0
      },
      "text/plain": [
       "  0%|          | 0/1 [00:00<?, ?it/s]"
      ]
     },
     "metadata": {},
     "output_type": "display_data"
    },
    {
     "name": "stdout",
     "output_type": "stream",
     "text": [
      "R2 score (new): -0.141\n",
      "batch i: 414, episode_len: 9, loss:  0.95786567, entropy:  1.06615531\n"
     ]
    },
    {
     "data": {
      "application/vnd.jupyter.widget-view+json": {
       "model_id": "5f6975cc2dc4449da875ea7767fc4ea7",
       "version_major": 2,
       "version_minor": 0
      },
      "text/plain": [
       "  0%|          | 0/1 [00:00<?, ?it/s]"
      ]
     },
     "metadata": {},
     "output_type": "display_data"
    },
    {
     "name": "stdout",
     "output_type": "stream",
     "text": [
      "R2 score (new):  0.579\n",
      "batch i: 415, episode_len: 9, loss:  0.90072942, entropy:  1.48111570\n"
     ]
    },
    {
     "data": {
      "application/vnd.jupyter.widget-view+json": {
       "model_id": "6abc9b13db9b434ba0726152fc7ac3f9",
       "version_major": 2,
       "version_minor": 0
      },
      "text/plain": [
       "  0%|          | 0/1 [00:00<?, ?it/s]"
      ]
     },
     "metadata": {},
     "output_type": "display_data"
    },
    {
     "name": "stdout",
     "output_type": "stream",
     "text": [
      "R2 score (new):  0.528\n",
      "batch i: 416, episode_len: 9, loss:  0.85020412, entropy:  1.08656704\n"
     ]
    },
    {
     "data": {
      "application/vnd.jupyter.widget-view+json": {
       "model_id": "501275f981a641aab7d41397ce7c117a",
       "version_major": 2,
       "version_minor": 0
      },
      "text/plain": [
       "  0%|          | 0/1 [00:00<?, ?it/s]"
      ]
     },
     "metadata": {},
     "output_type": "display_data"
    },
    {
     "name": "stdout",
     "output_type": "stream",
     "text": [
      "R2 score (new):  0.616\n",
      "batch i: 417, episode_len: 7, loss:  0.79249672, entropy:  1.12578952\n"
     ]
    },
    {
     "data": {
      "application/vnd.jupyter.widget-view+json": {
       "model_id": "7888e70c0ead48a5bb58f49ce0e80a4a",
       "version_major": 2,
       "version_minor": 0
      },
      "text/plain": [
       "  0%|          | 0/1 [00:00<?, ?it/s]"
      ]
     },
     "metadata": {},
     "output_type": "display_data"
    },
    {
     "name": "stdout",
     "output_type": "stream",
     "text": [
      "R2 score (new):  0.131\n",
      "batch i: 418, episode_len: 9, loss:  0.81761455, entropy:  1.03429556\n"
     ]
    },
    {
     "data": {
      "application/vnd.jupyter.widget-view+json": {
       "model_id": "1631f74b0feb447281154006cb395443",
       "version_major": 2,
       "version_minor": 0
      },
      "text/plain": [
       "  0%|          | 0/1 [00:00<?, ?it/s]"
      ]
     },
     "metadata": {},
     "output_type": "display_data"
    },
    {
     "name": "stdout",
     "output_type": "stream",
     "text": [
      "R2 score (new):  0.730\n",
      "batch i: 419, episode_len: 5, loss:  0.86535410, entropy:  1.03456140\n"
     ]
    },
    {
     "data": {
      "application/vnd.jupyter.widget-view+json": {
       "model_id": "3b03670128074f2f9c16f3c4e5765ad4",
       "version_major": 2,
       "version_minor": 0
      },
      "text/plain": [
       "  0%|          | 0/1 [00:00<?, ?it/s]"
      ]
     },
     "metadata": {},
     "output_type": "display_data"
    },
    {
     "name": "stdout",
     "output_type": "stream",
     "text": [
      "R2 score (new):  0.521\n",
      "batch i: 420, episode_len: 9, loss:  0.80905200, entropy:  1.18174565\n",
      "current self-play batch: 421\n",
      "Updating elo score...\n",
      "Complete.\n",
      "Elo score: AlphaZero:  1510.77, Benchmark:  1754.84\n",
      "   action: 0, prob_X:  10.93%\t   action: 0, prob_O:  21.12%\n",
      "   action: 1, prob_X:  10.38%\t   action: 1, prob_O:  1.12%\n",
      "   action: 2, prob_X:  10.46%\t   action: 2, prob_O:  25.65%\n",
      "   action: 3, prob_X:  12.33%\t   action: 3, prob_O:  0.98%\n",
      "⭐️ action: 4, prob_X:  13.41%\t   action: 4, prob_O:  0.06%\n",
      "   action: 5, prob_X:  10.01%\t   action: 5, prob_O:  0.44%\n",
      "   action: 6, prob_X:  12.40%\t   action: 6, prob_O:  23.89%\n",
      "   action: 7, prob_X:  11.36%\t   action: 7, prob_O:  0.79%\n",
      "   action: 8, prob_X:  8.72%\t⭐️ action: 8, prob_O:  25.96%\n",
      "State-value X: 0.3155\n",
      "State-value O: -0.6174\n",
      "Evaluating best player...\n",
      "Complete.\n"
     ]
    },
    {
     "data": {
      "application/vnd.jupyter.widget-view+json": {
       "model_id": "4be6d24cc6664ca99b28a143e994ebd6",
       "version_major": 2,
       "version_minor": 0
      },
      "text/plain": [
       "  0%|          | 0/1 [00:00<?, ?it/s]"
      ]
     },
     "metadata": {},
     "output_type": "display_data"
    },
    {
     "name": "stdout",
     "output_type": "stream",
     "text": [
      "R2 score (new):  0.440\n",
      "batch i: 421, episode_len: 6, loss:  0.81674836, entropy:  1.17580581\n"
     ]
    },
    {
     "data": {
      "application/vnd.jupyter.widget-view+json": {
       "model_id": "a075b7635a6e4bfa93d53265fce04a0c",
       "version_major": 2,
       "version_minor": 0
      },
      "text/plain": [
       "  0%|          | 0/1 [00:00<?, ?it/s]"
      ]
     },
     "metadata": {},
     "output_type": "display_data"
    },
    {
     "name": "stdout",
     "output_type": "stream",
     "text": [
      "R2 score (new):  0.594\n",
      "batch i: 422, episode_len: 9, loss:  0.81045491, entropy:  0.97029471\n"
     ]
    },
    {
     "data": {
      "application/vnd.jupyter.widget-view+json": {
       "model_id": "cfe13398ebe84057b77ab0b63226c6e1",
       "version_major": 2,
       "version_minor": 0
      },
      "text/plain": [
       "  0%|          | 0/1 [00:00<?, ?it/s]"
      ]
     },
     "metadata": {},
     "output_type": "display_data"
    },
    {
     "name": "stdout",
     "output_type": "stream",
     "text": [
      "R2 score (new):  0.270\n",
      "batch i: 423, episode_len: 7, loss:  0.80794604, entropy:  1.12583339\n"
     ]
    },
    {
     "data": {
      "application/vnd.jupyter.widget-view+json": {
       "model_id": "da37431978134a128de0391c559de7e8",
       "version_major": 2,
       "version_minor": 0
      },
      "text/plain": [
       "  0%|          | 0/1 [00:00<?, ?it/s]"
      ]
     },
     "metadata": {},
     "output_type": "display_data"
    },
    {
     "name": "stdout",
     "output_type": "stream",
     "text": [
      "R2 score (new):  0.308\n",
      "batch i: 424, episode_len: 5, loss:  0.81085791, entropy:  1.12588918\n"
     ]
    },
    {
     "data": {
      "application/vnd.jupyter.widget-view+json": {
       "model_id": "a262d90569444d7ebe3d6d31913cb763",
       "version_major": 2,
       "version_minor": 0
      },
      "text/plain": [
       "  0%|          | 0/1 [00:00<?, ?it/s]"
      ]
     },
     "metadata": {},
     "output_type": "display_data"
    },
    {
     "name": "stdout",
     "output_type": "stream",
     "text": [
      "R2 score (new): -0.126\n",
      "batch i: 425, episode_len: 6, loss:  0.81531080, entropy:  1.21199286\n"
     ]
    },
    {
     "data": {
      "application/vnd.jupyter.widget-view+json": {
       "model_id": "6483fc18c59740418c0a27d22ff14d6c",
       "version_major": 2,
       "version_minor": 0
      },
      "text/plain": [
       "  0%|          | 0/1 [00:00<?, ?it/s]"
      ]
     },
     "metadata": {},
     "output_type": "display_data"
    },
    {
     "name": "stdout",
     "output_type": "stream",
     "text": [
      "R2 score (new):  0.542\n",
      "batch i: 426, episode_len: 7, loss:  0.77250637, entropy:  1.02396131\n"
     ]
    },
    {
     "data": {
      "application/vnd.jupyter.widget-view+json": {
       "model_id": "59c6a4deafd34c38b3a2426751aee4c6",
       "version_major": 2,
       "version_minor": 0
      },
      "text/plain": [
       "  0%|          | 0/1 [00:00<?, ?it/s]"
      ]
     },
     "metadata": {},
     "output_type": "display_data"
    },
    {
     "name": "stdout",
     "output_type": "stream",
     "text": [
      "R2 score (new):  0.616\n",
      "batch i: 427, episode_len: 8, loss:  0.81157225, entropy:  1.15626037\n"
     ]
    },
    {
     "data": {
      "application/vnd.jupyter.widget-view+json": {
       "model_id": "e19d14e78e5a465ebbb801d498de5d28",
       "version_major": 2,
       "version_minor": 0
      },
      "text/plain": [
       "  0%|          | 0/1 [00:00<?, ?it/s]"
      ]
     },
     "metadata": {},
     "output_type": "display_data"
    },
    {
     "name": "stdout",
     "output_type": "stream",
     "text": [
      "R2 score (new):  0.654\n",
      "batch i: 428, episode_len: 5, loss:  0.72609319, entropy:  1.12286305\n"
     ]
    },
    {
     "data": {
      "application/vnd.jupyter.widget-view+json": {
       "model_id": "fc1d12d797a849c693abc1a29fbfb7ad",
       "version_major": 2,
       "version_minor": 0
      },
      "text/plain": [
       "  0%|          | 0/1 [00:00<?, ?it/s]"
      ]
     },
     "metadata": {},
     "output_type": "display_data"
    },
    {
     "name": "stdout",
     "output_type": "stream",
     "text": [
      "R2 score (new):  0.371\n",
      "batch i: 429, episode_len: 9, loss:  0.83239884, entropy:  1.05650175\n"
     ]
    },
    {
     "data": {
      "application/vnd.jupyter.widget-view+json": {
       "model_id": "1fdfb8771af845d896eda6006f0d8f00",
       "version_major": 2,
       "version_minor": 0
      },
      "text/plain": [
       "  0%|          | 0/1 [00:00<?, ?it/s]"
      ]
     },
     "metadata": {},
     "output_type": "display_data"
    },
    {
     "name": "stdout",
     "output_type": "stream",
     "text": [
      "R2 score (new):  0.468\n",
      "batch i: 430, episode_len: 9, loss:  0.78085678, entropy:  1.12200773\n",
      "current self-play batch: 431\n",
      "Updating elo score...\n",
      "Complete.\n",
      "Elo score: AlphaZero:  1500.00, Benchmark:  1767.09\n",
      "   action: 0, prob_X:  10.79%\t   action: 0, prob_O:  26.44%\n",
      "⭐️ action: 1, prob_X:  13.31%\t   action: 1, prob_O:  0.88%\n",
      "   action: 2, prob_X:  10.95%\t   action: 2, prob_O:  20.60%\n",
      "   action: 3, prob_X:  9.30%\t   action: 3, prob_O:  0.99%\n",
      "   action: 4, prob_X:  9.71%\t   action: 4, prob_O:  0.05%\n",
      "   action: 5, prob_X:  11.12%\t   action: 5, prob_O:  0.35%\n",
      "   action: 6, prob_X:  10.55%\t⭐️ action: 6, prob_O:  28.84%\n",
      "   action: 7, prob_X:  13.05%\t   action: 7, prob_O:  0.65%\n",
      "   action: 8, prob_X:  11.21%\t   action: 8, prob_O:  21.20%\n",
      "State-value X: 0.2566\n",
      "State-value O: -0.6203\n",
      "Evaluating best player...\n",
      "Complete.\n"
     ]
    },
    {
     "data": {
      "application/vnd.jupyter.widget-view+json": {
       "model_id": "98cb9e43ef704457a9f79b4b6c9ed45e",
       "version_major": 2,
       "version_minor": 0
      },
      "text/plain": [
       "  0%|          | 0/1 [00:00<?, ?it/s]"
      ]
     },
     "metadata": {},
     "output_type": "display_data"
    },
    {
     "name": "stdout",
     "output_type": "stream",
     "text": [
      "R2 score (new):  0.458\n",
      "batch i: 431, episode_len: 5, loss:  0.81590076, entropy:  1.01963925\n"
     ]
    },
    {
     "data": {
      "application/vnd.jupyter.widget-view+json": {
       "model_id": "1184c80c9e9944f899835c83de9215aa",
       "version_major": 2,
       "version_minor": 0
      },
      "text/plain": [
       "  0%|          | 0/1 [00:00<?, ?it/s]"
      ]
     },
     "metadata": {},
     "output_type": "display_data"
    },
    {
     "name": "stdout",
     "output_type": "stream",
     "text": [
      "R2 score (new):  0.374\n",
      "batch i: 432, episode_len: 9, loss:  0.80940854, entropy:  1.09843040\n"
     ]
    },
    {
     "data": {
      "application/vnd.jupyter.widget-view+json": {
       "model_id": "99d2e404890042fa982da42155eace0e",
       "version_major": 2,
       "version_minor": 0
      },
      "text/plain": [
       "  0%|          | 0/1 [00:00<?, ?it/s]"
      ]
     },
     "metadata": {},
     "output_type": "display_data"
    },
    {
     "name": "stdout",
     "output_type": "stream",
     "text": [
      "R2 score (new):  0.266\n",
      "batch i: 433, episode_len: 9, loss:  0.76774257, entropy:  1.05948925\n"
     ]
    },
    {
     "data": {
      "application/vnd.jupyter.widget-view+json": {
       "model_id": "1edbbb581d0846a286c1c7dacedecdc9",
       "version_major": 2,
       "version_minor": 0
      },
      "text/plain": [
       "  0%|          | 0/1 [00:00<?, ?it/s]"
      ]
     },
     "metadata": {},
     "output_type": "display_data"
    },
    {
     "name": "stdout",
     "output_type": "stream",
     "text": [
      "R2 score (new):  0.541\n",
      "batch i: 434, episode_len: 9, loss:  0.77526144, entropy:  1.00976145\n"
     ]
    },
    {
     "data": {
      "application/vnd.jupyter.widget-view+json": {
       "model_id": "d074d1226f374babbf7558b7b35b579f",
       "version_major": 2,
       "version_minor": 0
      },
      "text/plain": [
       "  0%|          | 0/1 [00:00<?, ?it/s]"
      ]
     },
     "metadata": {},
     "output_type": "display_data"
    },
    {
     "name": "stdout",
     "output_type": "stream",
     "text": [
      "R2 score (new):  0.496\n",
      "batch i: 435, episode_len: 9, loss:  0.76014505, entropy:  0.95516938\n"
     ]
    },
    {
     "data": {
      "application/vnd.jupyter.widget-view+json": {
       "model_id": "8e02945f9be246d6b95443d4bac03666",
       "version_major": 2,
       "version_minor": 0
      },
      "text/plain": [
       "  0%|          | 0/1 [00:00<?, ?it/s]"
      ]
     },
     "metadata": {},
     "output_type": "display_data"
    },
    {
     "name": "stdout",
     "output_type": "stream",
     "text": [
      "R2 score (new):  0.315\n",
      "batch i: 436, episode_len: 7, loss:  0.77287197, entropy:  1.03260505\n"
     ]
    },
    {
     "data": {
      "application/vnd.jupyter.widget-view+json": {
       "model_id": "9f1d24ca3e0d4c9b9c903334f29c6621",
       "version_major": 2,
       "version_minor": 0
      },
      "text/plain": [
       "  0%|          | 0/1 [00:00<?, ?it/s]"
      ]
     },
     "metadata": {},
     "output_type": "display_data"
    },
    {
     "name": "stdout",
     "output_type": "stream",
     "text": [
      "R2 score (new):  0.047\n",
      "batch i: 437, episode_len: 5, loss:  0.73973726, entropy:  0.93719029\n"
     ]
    },
    {
     "data": {
      "application/vnd.jupyter.widget-view+json": {
       "model_id": "cf2ceec48b684efe9fd59539f89c8a01",
       "version_major": 2,
       "version_minor": 0
      },
      "text/plain": [
       "  0%|          | 0/1 [00:00<?, ?it/s]"
      ]
     },
     "metadata": {},
     "output_type": "display_data"
    },
    {
     "name": "stdout",
     "output_type": "stream",
     "text": [
      "R2 score (new):  0.530\n",
      "batch i: 438, episode_len: 9, loss:  0.77830384, entropy:  0.98450053\n"
     ]
    },
    {
     "data": {
      "application/vnd.jupyter.widget-view+json": {
       "model_id": "79ea5d205f7b4d4baa6052a256258af5",
       "version_major": 2,
       "version_minor": 0
      },
      "text/plain": [
       "  0%|          | 0/1 [00:00<?, ?it/s]"
      ]
     },
     "metadata": {},
     "output_type": "display_data"
    },
    {
     "name": "stdout",
     "output_type": "stream",
     "text": [
      "R2 score (new):  0.526\n",
      "batch i: 439, episode_len: 5, loss:  0.79155338, entropy:  1.07119036\n"
     ]
    },
    {
     "data": {
      "application/vnd.jupyter.widget-view+json": {
       "model_id": "ad7e008e6ce048ada9e21b10d58e281c",
       "version_major": 2,
       "version_minor": 0
      },
      "text/plain": [
       "  0%|          | 0/1 [00:00<?, ?it/s]"
      ]
     },
     "metadata": {},
     "output_type": "display_data"
    },
    {
     "name": "stdout",
     "output_type": "stream",
     "text": [
      "R2 score (new):  0.142\n",
      "batch i: 440, episode_len: 9, loss:  0.82705515, entropy:  1.18248844\n",
      "current self-play batch: 441\n",
      "Updating elo score...\n",
      "Complete.\n",
      "Elo score: AlphaZero:  1504.10, Benchmark:  1762.99\n",
      "   action: 0, prob_X:  12.25%\t   action: 0, prob_O:  23.40%\n",
      "   action: 1, prob_X:  9.90%\t   action: 1, prob_O:  1.46%\n",
      "   action: 2, prob_X:  9.91%\t   action: 2, prob_O:  22.72%\n",
      "⭐️ action: 3, prob_X:  14.27%\t   action: 3, prob_O:  0.93%\n",
      "   action: 4, prob_X:  9.56%\t   action: 4, prob_O:  0.04%\n",
      "   action: 5, prob_X:  11.31%\t   action: 5, prob_O:  0.45%\n",
      "   action: 6, prob_X:  11.09%\t⭐️ action: 6, prob_O:  27.29%\n",
      "   action: 7, prob_X:  9.81%\t   action: 7, prob_O:  1.33%\n",
      "   action: 8, prob_X:  11.89%\t   action: 8, prob_O:  22.38%\n",
      "State-value X: 0.2546\n",
      "State-value O: -0.6084\n",
      "Evaluating best player...\n",
      "Complete.\n"
     ]
    },
    {
     "data": {
      "application/vnd.jupyter.widget-view+json": {
       "model_id": "9dace08f306348daad9f996e45c39630",
       "version_major": 2,
       "version_minor": 0
      },
      "text/plain": [
       "  0%|          | 0/1 [00:00<?, ?it/s]"
      ]
     },
     "metadata": {},
     "output_type": "display_data"
    },
    {
     "name": "stdout",
     "output_type": "stream",
     "text": [
      "R2 score (new):  0.737\n",
      "batch i: 441, episode_len: 9, loss:  0.79630294, entropy:  0.98794872\n"
     ]
    },
    {
     "data": {
      "application/vnd.jupyter.widget-view+json": {
       "model_id": "93007522ad2f4e2baf753954ae58e398",
       "version_major": 2,
       "version_minor": 0
      },
      "text/plain": [
       "  0%|          | 0/1 [00:00<?, ?it/s]"
      ]
     },
     "metadata": {},
     "output_type": "display_data"
    },
    {
     "name": "stdout",
     "output_type": "stream",
     "text": [
      "R2 score (new):  0.228\n",
      "batch i: 442, episode_len: 5, loss:  0.75330119, entropy:  1.05169928\n"
     ]
    },
    {
     "data": {
      "application/vnd.jupyter.widget-view+json": {
       "model_id": "8152fec2903948ee8e4cdc512f051c7c",
       "version_major": 2,
       "version_minor": 0
      },
      "text/plain": [
       "  0%|          | 0/1 [00:00<?, ?it/s]"
      ]
     },
     "metadata": {},
     "output_type": "display_data"
    },
    {
     "name": "stdout",
     "output_type": "stream",
     "text": [
      "R2 score (new):  0.460\n",
      "batch i: 443, episode_len: 9, loss:  0.79146580, entropy:  1.20553923\n"
     ]
    },
    {
     "data": {
      "application/vnd.jupyter.widget-view+json": {
       "model_id": "25ff3aed057c4cd094a06cdf296e308c",
       "version_major": 2,
       "version_minor": 0
      },
      "text/plain": [
       "  0%|          | 0/1 [00:00<?, ?it/s]"
      ]
     },
     "metadata": {},
     "output_type": "display_data"
    },
    {
     "name": "stdout",
     "output_type": "stream",
     "text": [
      "R2 score (new):  0.278\n",
      "batch i: 444, episode_len: 9, loss:  0.81634587, entropy:  1.05433106\n"
     ]
    },
    {
     "data": {
      "application/vnd.jupyter.widget-view+json": {
       "model_id": "828d684a38cb42278769cc3c51d66913",
       "version_major": 2,
       "version_minor": 0
      },
      "text/plain": [
       "  0%|          | 0/1 [00:00<?, ?it/s]"
      ]
     },
     "metadata": {},
     "output_type": "display_data"
    },
    {
     "name": "stdout",
     "output_type": "stream",
     "text": [
      "R2 score (new):  0.410\n",
      "batch i: 445, episode_len: 6, loss:  0.82281550, entropy:  1.08627880\n"
     ]
    },
    {
     "data": {
      "application/vnd.jupyter.widget-view+json": {
       "model_id": "0962c89799a0450c942237b1b862d0cb",
       "version_major": 2,
       "version_minor": 0
      },
      "text/plain": [
       "  0%|          | 0/1 [00:00<?, ?it/s]"
      ]
     },
     "metadata": {},
     "output_type": "display_data"
    },
    {
     "name": "stdout",
     "output_type": "stream",
     "text": [
      "R2 score (new):  0.174\n",
      "batch i: 446, episode_len: 9, loss:  0.83801743, entropy:  1.06464100\n"
     ]
    },
    {
     "data": {
      "application/vnd.jupyter.widget-view+json": {
       "model_id": "6a7f6a7413844a51b8c2e29cfd6ad58e",
       "version_major": 2,
       "version_minor": 0
      },
      "text/plain": [
       "  0%|          | 0/1 [00:00<?, ?it/s]"
      ]
     },
     "metadata": {},
     "output_type": "display_data"
    },
    {
     "name": "stdout",
     "output_type": "stream",
     "text": [
      "R2 score (new):  0.434\n",
      "batch i: 447, episode_len: 9, loss:  0.79042719, entropy:  1.13912082\n"
     ]
    },
    {
     "data": {
      "application/vnd.jupyter.widget-view+json": {
       "model_id": "05639356db31412e8378dac3c78944a1",
       "version_major": 2,
       "version_minor": 0
      },
      "text/plain": [
       "  0%|          | 0/1 [00:00<?, ?it/s]"
      ]
     },
     "metadata": {},
     "output_type": "display_data"
    },
    {
     "name": "stdout",
     "output_type": "stream",
     "text": [
      "R2 score (new):  0.423\n",
      "batch i: 448, episode_len: 7, loss:  0.80917724, entropy:  1.07777679\n"
     ]
    },
    {
     "data": {
      "application/vnd.jupyter.widget-view+json": {
       "model_id": "19e4ea8fdc0e4c1cbce8a949d42dc977",
       "version_major": 2,
       "version_minor": 0
      },
      "text/plain": [
       "  0%|          | 0/1 [00:00<?, ?it/s]"
      ]
     },
     "metadata": {},
     "output_type": "display_data"
    },
    {
     "name": "stdout",
     "output_type": "stream",
     "text": [
      "R2 score (new):  0.411\n",
      "batch i: 449, episode_len: 5, loss:  0.77434870, entropy:  1.07547808\n"
     ]
    },
    {
     "data": {
      "application/vnd.jupyter.widget-view+json": {
       "model_id": "f19077f4dc95466ab6e1cc29730a4885",
       "version_major": 2,
       "version_minor": 0
      },
      "text/plain": [
       "  0%|          | 0/1 [00:00<?, ?it/s]"
      ]
     },
     "metadata": {},
     "output_type": "display_data"
    },
    {
     "name": "stdout",
     "output_type": "stream",
     "text": [
      "R2 score (new):  0.409\n",
      "batch i: 450, episode_len: 5, loss:  0.77781263, entropy:  1.13177764\n",
      "current self-play batch: 451\n",
      "Updating elo score...\n",
      "Complete.\n",
      "Elo score: AlphaZero:  1500.00, Benchmark:  1774.49\n",
      "   action: 0, prob_X:  10.91%\t   action: 0, prob_O:  17.51%\n",
      "   action: 1, prob_X:  9.43%\t   action: 1, prob_O:  1.25%\n",
      "   action: 2, prob_X:  10.98%\t⭐️ action: 2, prob_O:  29.08%\n",
      "⭐️ action: 3, prob_X:  12.66%\t   action: 3, prob_O:  0.88%\n",
      "   action: 4, prob_X:  11.74%\t   action: 4, prob_O:  0.03%\n",
      "   action: 5, prob_X:  11.86%\t   action: 5, prob_O:  0.46%\n",
      "   action: 6, prob_X:  11.55%\t   action: 6, prob_O:  24.14%\n",
      "   action: 7, prob_X:  9.80%\t   action: 7, prob_O:  1.33%\n",
      "   action: 8, prob_X:  11.07%\t   action: 8, prob_O:  25.32%\n",
      "State-value X: 0.2090\n",
      "State-value O: -0.6171\n",
      "Evaluating best player...\n",
      "Complete.\n"
     ]
    },
    {
     "data": {
      "application/vnd.jupyter.widget-view+json": {
       "model_id": "5f36276e376c4cfd888097a54d252c75",
       "version_major": 2,
       "version_minor": 0
      },
      "text/plain": [
       "  0%|          | 0/1 [00:00<?, ?it/s]"
      ]
     },
     "metadata": {},
     "output_type": "display_data"
    },
    {
     "name": "stdout",
     "output_type": "stream",
     "text": [
      "R2 score (new):  0.371\n",
      "batch i: 451, episode_len: 7, loss:  0.75369899, entropy:  1.08786082\n"
     ]
    },
    {
     "data": {
      "application/vnd.jupyter.widget-view+json": {
       "model_id": "f8403ccacb5346ee992e2a178bad4a78",
       "version_major": 2,
       "version_minor": 0
      },
      "text/plain": [
       "  0%|          | 0/1 [00:00<?, ?it/s]"
      ]
     },
     "metadata": {},
     "output_type": "display_data"
    },
    {
     "name": "stdout",
     "output_type": "stream",
     "text": [
      "R2 score (new):  0.283\n",
      "batch i: 452, episode_len: 5, loss:  0.74541724, entropy:  1.08435369\n"
     ]
    },
    {
     "data": {
      "application/vnd.jupyter.widget-view+json": {
       "model_id": "ae8aca1f3b7b4e189b9a2b3a6ba6832e",
       "version_major": 2,
       "version_minor": 0
      },
      "text/plain": [
       "  0%|          | 0/1 [00:00<?, ?it/s]"
      ]
     },
     "metadata": {},
     "output_type": "display_data"
    },
    {
     "name": "stdout",
     "output_type": "stream",
     "text": [
      "R2 score (new):  0.338\n",
      "batch i: 453, episode_len: 9, loss:  0.76120269, entropy:  1.01432908\n"
     ]
    },
    {
     "data": {
      "application/vnd.jupyter.widget-view+json": {
       "model_id": "733da14b7a224bbb854eac0efdaaffd7",
       "version_major": 2,
       "version_minor": 0
      },
      "text/plain": [
       "  0%|          | 0/1 [00:00<?, ?it/s]"
      ]
     },
     "metadata": {},
     "output_type": "display_data"
    },
    {
     "name": "stdout",
     "output_type": "stream",
     "text": [
      "R2 score (new):  0.352\n",
      "batch i: 454, episode_len: 9, loss:  0.80038244, entropy:  1.02305174\n"
     ]
    },
    {
     "data": {
      "application/vnd.jupyter.widget-view+json": {
       "model_id": "7eee25b2eb084e009da105856a143031",
       "version_major": 2,
       "version_minor": 0
      },
      "text/plain": [
       "  0%|          | 0/1 [00:00<?, ?it/s]"
      ]
     },
     "metadata": {},
     "output_type": "display_data"
    },
    {
     "name": "stdout",
     "output_type": "stream",
     "text": [
      "R2 score (new):  0.286\n",
      "batch i: 455, episode_len: 5, loss:  0.80111698, entropy:  0.98258835\n"
     ]
    },
    {
     "data": {
      "application/vnd.jupyter.widget-view+json": {
       "model_id": "00a37bc9aea342118218baff57245d13",
       "version_major": 2,
       "version_minor": 0
      },
      "text/plain": [
       "  0%|          | 0/1 [00:00<?, ?it/s]"
      ]
     },
     "metadata": {},
     "output_type": "display_data"
    },
    {
     "name": "stdout",
     "output_type": "stream",
     "text": [
      "R2 score (new):  0.368\n",
      "batch i: 456, episode_len: 5, loss:  0.78053448, entropy:  1.03325117\n"
     ]
    },
    {
     "data": {
      "application/vnd.jupyter.widget-view+json": {
       "model_id": "94b8bd9e9baf449fae2a8eae8efca149",
       "version_major": 2,
       "version_minor": 0
      },
      "text/plain": [
       "  0%|          | 0/1 [00:00<?, ?it/s]"
      ]
     },
     "metadata": {},
     "output_type": "display_data"
    },
    {
     "name": "stdout",
     "output_type": "stream",
     "text": [
      "R2 score (new):  0.416\n",
      "batch i: 457, episode_len: 5, loss:  0.76630149, entropy:  1.09974504\n"
     ]
    },
    {
     "data": {
      "application/vnd.jupyter.widget-view+json": {
       "model_id": "c0121b3260fa427a9ba7e05cc2cffbd9",
       "version_major": 2,
       "version_minor": 0
      },
      "text/plain": [
       "  0%|          | 0/1 [00:00<?, ?it/s]"
      ]
     },
     "metadata": {},
     "output_type": "display_data"
    },
    {
     "name": "stdout",
     "output_type": "stream",
     "text": [
      "R2 score (new):  0.470\n",
      "batch i: 458, episode_len: 5, loss:  0.76852512, entropy:  1.05143344\n"
     ]
    },
    {
     "data": {
      "application/vnd.jupyter.widget-view+json": {
       "model_id": "18ca4ee997a54537a2207783b7dc214a",
       "version_major": 2,
       "version_minor": 0
      },
      "text/plain": [
       "  0%|          | 0/1 [00:00<?, ?it/s]"
      ]
     },
     "metadata": {},
     "output_type": "display_data"
    },
    {
     "name": "stdout",
     "output_type": "stream",
     "text": [
      "R2 score (new):  0.585\n",
      "batch i: 459, episode_len: 7, loss:  0.81420624, entropy:  1.00587189\n"
     ]
    },
    {
     "data": {
      "application/vnd.jupyter.widget-view+json": {
       "model_id": "cd88e2092c2140f1b4119ba3e99257c8",
       "version_major": 2,
       "version_minor": 0
      },
      "text/plain": [
       "  0%|          | 0/1 [00:00<?, ?it/s]"
      ]
     },
     "metadata": {},
     "output_type": "display_data"
    },
    {
     "name": "stdout",
     "output_type": "stream",
     "text": [
      "R2 score (new):  0.535\n",
      "batch i: 460, episode_len: 9, loss:  0.80388619, entropy:  1.01564980\n",
      "current self-play batch: 461\n",
      "Updating elo score...\n",
      "Complete.\n",
      "Elo score: AlphaZero:  1520.50, Benchmark:  1753.99\n",
      "   action: 0, prob_X:  9.95%\t   action: 0, prob_O:  24.11%\n",
      "   action: 1, prob_X:  9.97%\t   action: 1, prob_O:  1.20%\n",
      "   action: 2, prob_X:  10.43%\t   action: 2, prob_O:  21.31%\n",
      "   action: 3, prob_X:  11.54%\t   action: 3, prob_O:  1.21%\n",
      "⭐️ action: 4, prob_X:  13.75%\t   action: 4, prob_O:  0.02%\n",
      "   action: 5, prob_X:  12.27%\t   action: 5, prob_O:  0.52%\n",
      "   action: 6, prob_X:  10.46%\t⭐️ action: 6, prob_O:  27.17%\n",
      "   action: 7, prob_X:  10.56%\t   action: 7, prob_O:  1.21%\n",
      "   action: 8, prob_X:  11.06%\t   action: 8, prob_O:  23.26%\n",
      "State-value X: 0.3118\n",
      "State-value O: -0.6361\n",
      "Evaluating best player...\n",
      "Complete.\n"
     ]
    },
    {
     "data": {
      "application/vnd.jupyter.widget-view+json": {
       "model_id": "1651231945c74716ad80b342f86b4bb0",
       "version_major": 2,
       "version_minor": 0
      },
      "text/plain": [
       "  0%|          | 0/1 [00:00<?, ?it/s]"
      ]
     },
     "metadata": {},
     "output_type": "display_data"
    },
    {
     "name": "stdout",
     "output_type": "stream",
     "text": [
      "R2 score (new):  0.464\n",
      "batch i: 461, episode_len: 7, loss:  0.79652386, entropy:  0.97338760\n"
     ]
    },
    {
     "data": {
      "application/vnd.jupyter.widget-view+json": {
       "model_id": "737285e8d8034ffb9a8ff66726fe010b",
       "version_major": 2,
       "version_minor": 0
      },
      "text/plain": [
       "  0%|          | 0/1 [00:00<?, ?it/s]"
      ]
     },
     "metadata": {},
     "output_type": "display_data"
    },
    {
     "name": "stdout",
     "output_type": "stream",
     "text": [
      "R2 score (new):  0.499\n",
      "batch i: 462, episode_len: 9, loss:  0.74655839, entropy:  1.02385247\n"
     ]
    },
    {
     "data": {
      "application/vnd.jupyter.widget-view+json": {
       "model_id": "b9527d9fb56e4bcaa3a174358ec8a8fc",
       "version_major": 2,
       "version_minor": 0
      },
      "text/plain": [
       "  0%|          | 0/1 [00:00<?, ?it/s]"
      ]
     },
     "metadata": {},
     "output_type": "display_data"
    },
    {
     "name": "stdout",
     "output_type": "stream",
     "text": [
      "R2 score (new):  0.343\n",
      "batch i: 463, episode_len: 9, loss:  0.80498657, entropy:  0.94500709\n"
     ]
    },
    {
     "data": {
      "application/vnd.jupyter.widget-view+json": {
       "model_id": "6d21b4f60e30483a98682da7159e35e7",
       "version_major": 2,
       "version_minor": 0
      },
      "text/plain": [
       "  0%|          | 0/1 [00:00<?, ?it/s]"
      ]
     },
     "metadata": {},
     "output_type": "display_data"
    },
    {
     "name": "stdout",
     "output_type": "stream",
     "text": [
      "R2 score (new):  0.251\n",
      "batch i: 464, episode_len: 7, loss:  0.78783218, entropy:  1.02853751\n"
     ]
    },
    {
     "data": {
      "application/vnd.jupyter.widget-view+json": {
       "model_id": "0d527c860733439e86bbd943da3870e5",
       "version_major": 2,
       "version_minor": 0
      },
      "text/plain": [
       "  0%|          | 0/1 [00:00<?, ?it/s]"
      ]
     },
     "metadata": {},
     "output_type": "display_data"
    },
    {
     "name": "stdout",
     "output_type": "stream",
     "text": [
      "R2 score (new):  0.448\n",
      "batch i: 465, episode_len: 9, loss:  0.74484872, entropy:  1.02273285\n"
     ]
    },
    {
     "data": {
      "application/vnd.jupyter.widget-view+json": {
       "model_id": "7943cdc99c1044f98eac4bd6dcc46d64",
       "version_major": 2,
       "version_minor": 0
      },
      "text/plain": [
       "  0%|          | 0/1 [00:00<?, ?it/s]"
      ]
     },
     "metadata": {},
     "output_type": "display_data"
    },
    {
     "name": "stdout",
     "output_type": "stream",
     "text": [
      "R2 score (new):  0.311\n",
      "batch i: 466, episode_len: 9, loss:  0.76968950, entropy:  1.04418314\n"
     ]
    },
    {
     "data": {
      "application/vnd.jupyter.widget-view+json": {
       "model_id": "50b9f9b569264483bfd93654b7e3ddf9",
       "version_major": 2,
       "version_minor": 0
      },
      "text/plain": [
       "  0%|          | 0/1 [00:00<?, ?it/s]"
      ]
     },
     "metadata": {},
     "output_type": "display_data"
    },
    {
     "name": "stdout",
     "output_type": "stream",
     "text": [
      "R2 score (new):  0.445\n",
      "batch i: 467, episode_len: 9, loss:  0.77350514, entropy:  1.04590082\n"
     ]
    },
    {
     "data": {
      "application/vnd.jupyter.widget-view+json": {
       "model_id": "4392d79f230843a0b2b832e60ac745d9",
       "version_major": 2,
       "version_minor": 0
      },
      "text/plain": [
       "  0%|          | 0/1 [00:00<?, ?it/s]"
      ]
     },
     "metadata": {},
     "output_type": "display_data"
    },
    {
     "name": "stdout",
     "output_type": "stream",
     "text": [
      "R2 score (new):  0.376\n",
      "batch i: 468, episode_len: 9, loss:  0.83905832, entropy:  1.06315041\n"
     ]
    },
    {
     "data": {
      "application/vnd.jupyter.widget-view+json": {
       "model_id": "95fdcb2aa8824fca91af40767347ff47",
       "version_major": 2,
       "version_minor": 0
      },
      "text/plain": [
       "  0%|          | 0/1 [00:00<?, ?it/s]"
      ]
     },
     "metadata": {},
     "output_type": "display_data"
    },
    {
     "name": "stdout",
     "output_type": "stream",
     "text": [
      "R2 score (new):  0.395\n",
      "batch i: 469, episode_len: 9, loss:  0.77195694, entropy:  1.00289941\n"
     ]
    },
    {
     "data": {
      "application/vnd.jupyter.widget-view+json": {
       "model_id": "401ea710a2524644a4bdc48d4c179471",
       "version_major": 2,
       "version_minor": 0
      },
      "text/plain": [
       "  0%|          | 0/1 [00:00<?, ?it/s]"
      ]
     },
     "metadata": {},
     "output_type": "display_data"
    },
    {
     "name": "stdout",
     "output_type": "stream",
     "text": [
      "R2 score (new):  0.360\n",
      "batch i: 470, episode_len: 9, loss:  0.72853044, entropy:  1.02866387\n",
      "current self-play batch: 471\n",
      "Updating elo score...\n",
      "Complete.\n",
      "Elo score: AlphaZero:  1507.65, Benchmark:  1766.83\n",
      "   action: 0, prob_X:  10.60%\t⭐️ action: 0, prob_O:  26.49%\n",
      "   action: 1, prob_X:  11.47%\t   action: 1, prob_O:  1.49%\n",
      "   action: 2, prob_X:  11.00%\t   action: 2, prob_O:  20.61%\n",
      "   action: 3, prob_X:  9.90%\t   action: 3, prob_O:  1.64%\n",
      "   action: 4, prob_X:  11.58%\t   action: 4, prob_O:  0.05%\n",
      "   action: 5, prob_X:  11.76%\t   action: 5, prob_O:  0.67%\n",
      "   action: 6, prob_X:  10.49%\t   action: 6, prob_O:  23.80%\n",
      "⭐️ action: 7, prob_X:  11.78%\t   action: 7, prob_O:  1.49%\n",
      "   action: 8, prob_X:  11.42%\t   action: 8, prob_O:  23.75%\n",
      "State-value X: 0.3044\n",
      "State-value O: -0.6312\n",
      "Evaluating best player...\n",
      "Complete.\n"
     ]
    },
    {
     "data": {
      "application/vnd.jupyter.widget-view+json": {
       "model_id": "1471808b92da40a9b6bc7bd4249b243d",
       "version_major": 2,
       "version_minor": 0
      },
      "text/plain": [
       "  0%|          | 0/1 [00:00<?, ?it/s]"
      ]
     },
     "metadata": {},
     "output_type": "display_data"
    },
    {
     "name": "stdout",
     "output_type": "stream",
     "text": [
      "R2 score (new):  0.503\n",
      "batch i: 471, episode_len: 9, loss:  0.74117426, entropy:  0.98705167\n"
     ]
    },
    {
     "data": {
      "application/vnd.jupyter.widget-view+json": {
       "model_id": "88ae14b104f1461b97b4eaf0b5a18fde",
       "version_major": 2,
       "version_minor": 0
      },
      "text/plain": [
       "  0%|          | 0/1 [00:00<?, ?it/s]"
      ]
     },
     "metadata": {},
     "output_type": "display_data"
    },
    {
     "name": "stdout",
     "output_type": "stream",
     "text": [
      "R2 score (new):  0.340\n",
      "batch i: 472, episode_len: 9, loss:  0.73417753, entropy:  1.08661485\n"
     ]
    },
    {
     "data": {
      "application/vnd.jupyter.widget-view+json": {
       "model_id": "4304a031f0e54c3893a0ff10b68ca9c0",
       "version_major": 2,
       "version_minor": 0
      },
      "text/plain": [
       "  0%|          | 0/1 [00:00<?, ?it/s]"
      ]
     },
     "metadata": {},
     "output_type": "display_data"
    },
    {
     "name": "stdout",
     "output_type": "stream",
     "text": [
      "R2 score (new):  0.344\n",
      "batch i: 473, episode_len: 9, loss:  0.74605392, entropy:  1.03814781\n"
     ]
    },
    {
     "data": {
      "application/vnd.jupyter.widget-view+json": {
       "model_id": "7ea45dfdc0ac41a78f6d3a561c902592",
       "version_major": 2,
       "version_minor": 0
      },
      "text/plain": [
       "  0%|          | 0/1 [00:00<?, ?it/s]"
      ]
     },
     "metadata": {},
     "output_type": "display_data"
    },
    {
     "name": "stdout",
     "output_type": "stream",
     "text": [
      "R2 score (new):  0.485\n",
      "batch i: 474, episode_len: 6, loss:  0.77644990, entropy:  1.01011801\n"
     ]
    },
    {
     "data": {
      "application/vnd.jupyter.widget-view+json": {
       "model_id": "f5eb09de905f4256b830b36a233a060c",
       "version_major": 2,
       "version_minor": 0
      },
      "text/plain": [
       "  0%|          | 0/1 [00:00<?, ?it/s]"
      ]
     },
     "metadata": {},
     "output_type": "display_data"
    },
    {
     "name": "stdout",
     "output_type": "stream",
     "text": [
      "R2 score (new):  0.328\n",
      "batch i: 475, episode_len: 9, loss:  0.75160563, entropy:  1.05102432\n"
     ]
    },
    {
     "data": {
      "application/vnd.jupyter.widget-view+json": {
       "model_id": "6d971d31f9714e8ab73e946d776ce36e",
       "version_major": 2,
       "version_minor": 0
      },
      "text/plain": [
       "  0%|          | 0/1 [00:00<?, ?it/s]"
      ]
     },
     "metadata": {},
     "output_type": "display_data"
    },
    {
     "name": "stdout",
     "output_type": "stream",
     "text": [
      "R2 score (new):  0.407\n",
      "batch i: 476, episode_len: 5, loss:  0.74875620, entropy:  1.05798149\n"
     ]
    },
    {
     "data": {
      "application/vnd.jupyter.widget-view+json": {
       "model_id": "303d4b76f64246ff827294ad58d78e66",
       "version_major": 2,
       "version_minor": 0
      },
      "text/plain": [
       "  0%|          | 0/1 [00:00<?, ?it/s]"
      ]
     },
     "metadata": {},
     "output_type": "display_data"
    },
    {
     "name": "stdout",
     "output_type": "stream",
     "text": [
      "R2 score (new):  0.399\n",
      "batch i: 477, episode_len: 9, loss:  0.73413141, entropy:  1.09241498\n"
     ]
    },
    {
     "data": {
      "application/vnd.jupyter.widget-view+json": {
       "model_id": "c576f339ee504bca8ce8466ec0a04fec",
       "version_major": 2,
       "version_minor": 0
      },
      "text/plain": [
       "  0%|          | 0/1 [00:00<?, ?it/s]"
      ]
     },
     "metadata": {},
     "output_type": "display_data"
    },
    {
     "name": "stdout",
     "output_type": "stream",
     "text": [
      "R2 score (new):  0.347\n",
      "batch i: 478, episode_len: 5, loss:  0.74493080, entropy:  1.03915238\n"
     ]
    },
    {
     "data": {
      "application/vnd.jupyter.widget-view+json": {
       "model_id": "9a15f887c1f44376a3ee964861ed7e68",
       "version_major": 2,
       "version_minor": 0
      },
      "text/plain": [
       "  0%|          | 0/1 [00:00<?, ?it/s]"
      ]
     },
     "metadata": {},
     "output_type": "display_data"
    },
    {
     "name": "stdout",
     "output_type": "stream",
     "text": [
      "R2 score (new):  0.000\n",
      "batch i: 479, episode_len: 9, loss:  0.68646647, entropy:  2.18068075\n"
     ]
    },
    {
     "data": {
      "application/vnd.jupyter.widget-view+json": {
       "model_id": "761736b3ac8249bcbf5b6540f29da796",
       "version_major": 2,
       "version_minor": 0
      },
      "text/plain": [
       "  0%|          | 0/1 [00:00<?, ?it/s]"
      ]
     },
     "metadata": {},
     "output_type": "display_data"
    },
    {
     "name": "stdout",
     "output_type": "stream",
     "text": [
      "R2 score (new):  0.169\n",
      "batch i: 480, episode_len: 9, loss:  0.75260885, entropy:  1.06175172\n",
      "current self-play batch: 481\n",
      "Updating elo score...\n",
      "Complete.\n",
      "Elo score: AlphaZero:  1500.00, Benchmark:  1778.27\n",
      "   action: 0, prob_X:  14.77%\t   action: 0, prob_O:  25.30%\n",
      "   action: 1, prob_X:  12.91%\t   action: 1, prob_O:  0.69%\n",
      "⭐️ action: 2, prob_X:  16.75%\t   action: 2, prob_O:  25.67%\n",
      "   action: 3, prob_X:  7.39%\t   action: 3, prob_O:  1.31%\n",
      "   action: 4, prob_X:  9.21%\t   action: 4, prob_O:  0.04%\n",
      "   action: 5, prob_X:  4.72%\t   action: 5, prob_O:  1.76%\n",
      "   action: 6, prob_X:  11.35%\t⭐️ action: 6, prob_O:  27.26%\n",
      "   action: 7, prob_X:  8.92%\t   action: 7, prob_O:  1.35%\n",
      "   action: 8, prob_X:  13.98%\t   action: 8, prob_O:  16.61%\n",
      "State-value X: 0.3029\n",
      "State-value O: -0.6384\n",
      "Evaluating best player...\n",
      "Complete.\n"
     ]
    },
    {
     "data": {
      "application/vnd.jupyter.widget-view+json": {
       "model_id": "2d1af2a286ea42ebaa15a69490ac7541",
       "version_major": 2,
       "version_minor": 0
      },
      "text/plain": [
       "  0%|          | 0/1 [00:00<?, ?it/s]"
      ]
     },
     "metadata": {},
     "output_type": "display_data"
    },
    {
     "name": "stdout",
     "output_type": "stream",
     "text": [
      "R2 score (new):  0.223\n",
      "batch i: 481, episode_len: 9, loss:  0.81264673, entropy:  1.02430141\n"
     ]
    },
    {
     "data": {
      "application/vnd.jupyter.widget-view+json": {
       "model_id": "bc9bc913cd1d4d2490b09438ef494fcf",
       "version_major": 2,
       "version_minor": 0
      },
      "text/plain": [
       "  0%|          | 0/1 [00:00<?, ?it/s]"
      ]
     },
     "metadata": {},
     "output_type": "display_data"
    },
    {
     "name": "stdout",
     "output_type": "stream",
     "text": [
      "R2 score (new):  0.478\n",
      "batch i: 482, episode_len: 9, loss:  0.81461539, entropy:  1.29077077\n"
     ]
    },
    {
     "data": {
      "application/vnd.jupyter.widget-view+json": {
       "model_id": "9bb396e990724cc49f625fc6d7ea392c",
       "version_major": 2,
       "version_minor": 0
      },
      "text/plain": [
       "  0%|          | 0/1 [00:00<?, ?it/s]"
      ]
     },
     "metadata": {},
     "output_type": "display_data"
    },
    {
     "name": "stdout",
     "output_type": "stream",
     "text": [
      "R2 score (new):  0.535\n",
      "batch i: 483, episode_len: 9, loss:  0.80838829, entropy:  1.27515841\n"
     ]
    },
    {
     "data": {
      "application/vnd.jupyter.widget-view+json": {
       "model_id": "cdc5bdb20a794b54b387e62c0f36229f",
       "version_major": 2,
       "version_minor": 0
      },
      "text/plain": [
       "  0%|          | 0/1 [00:00<?, ?it/s]"
      ]
     },
     "metadata": {},
     "output_type": "display_data"
    },
    {
     "name": "stdout",
     "output_type": "stream",
     "text": [
      "R2 score (new):  0.724\n",
      "batch i: 484, episode_len: 9, loss:  0.76903563, entropy:  1.21995890\n"
     ]
    },
    {
     "data": {
      "application/vnd.jupyter.widget-view+json": {
       "model_id": "2d45a513508c49c59b655a02e06c621d",
       "version_major": 2,
       "version_minor": 0
      },
      "text/plain": [
       "  0%|          | 0/1 [00:00<?, ?it/s]"
      ]
     },
     "metadata": {},
     "output_type": "display_data"
    },
    {
     "name": "stdout",
     "output_type": "stream",
     "text": [
      "R2 score (new):  0.680\n",
      "batch i: 485, episode_len: 6, loss:  0.76589047, entropy:  1.07038128\n"
     ]
    },
    {
     "data": {
      "application/vnd.jupyter.widget-view+json": {
       "model_id": "0dc27083119548b59e41fc756723ec7e",
       "version_major": 2,
       "version_minor": 0
      },
      "text/plain": [
       "  0%|          | 0/1 [00:00<?, ?it/s]"
      ]
     },
     "metadata": {},
     "output_type": "display_data"
    },
    {
     "name": "stdout",
     "output_type": "stream",
     "text": [
      "R2 score (new):  0.268\n",
      "batch i: 486, episode_len: 9, loss:  0.77227013, entropy:  1.18563175\n"
     ]
    },
    {
     "data": {
      "application/vnd.jupyter.widget-view+json": {
       "model_id": "99b52c03722c4482a710c4bdaa1f1607",
       "version_major": 2,
       "version_minor": 0
      },
      "text/plain": [
       "  0%|          | 0/1 [00:00<?, ?it/s]"
      ]
     },
     "metadata": {},
     "output_type": "display_data"
    },
    {
     "name": "stdout",
     "output_type": "stream",
     "text": [
      "R2 score (new):  0.330\n",
      "batch i: 487, episode_len: 9, loss:  0.76941511, entropy:  1.04437888\n"
     ]
    },
    {
     "data": {
      "application/vnd.jupyter.widget-view+json": {
       "model_id": "3f7ce1c77381413585b20afffba672e5",
       "version_major": 2,
       "version_minor": 0
      },
      "text/plain": [
       "  0%|          | 0/1 [00:00<?, ?it/s]"
      ]
     },
     "metadata": {},
     "output_type": "display_data"
    },
    {
     "name": "stdout",
     "output_type": "stream",
     "text": [
      "R2 score (new):  0.707\n",
      "batch i: 488, episode_len: 9, loss:  0.77175789, entropy:  1.01063335\n"
     ]
    },
    {
     "data": {
      "application/vnd.jupyter.widget-view+json": {
       "model_id": "88107b6d51c643dcbc9dfa56e10a2a98",
       "version_major": 2,
       "version_minor": 0
      },
      "text/plain": [
       "  0%|          | 0/1 [00:00<?, ?it/s]"
      ]
     },
     "metadata": {},
     "output_type": "display_data"
    },
    {
     "name": "stdout",
     "output_type": "stream",
     "text": [
      "R2 score (new): -0.308\n",
      "batch i: 489, episode_len: 9, loss:  0.79600381, entropy:  1.05038249\n"
     ]
    },
    {
     "data": {
      "application/vnd.jupyter.widget-view+json": {
       "model_id": "e0284accb8af48f9ac81bdb8bfd1bb01",
       "version_major": 2,
       "version_minor": 0
      },
      "text/plain": [
       "  0%|          | 0/1 [00:00<?, ?it/s]"
      ]
     },
     "metadata": {},
     "output_type": "display_data"
    },
    {
     "name": "stdout",
     "output_type": "stream",
     "text": [
      "R2 score (new):  0.607\n",
      "batch i: 490, episode_len: 9, loss:  0.75393829, entropy:  1.18804133\n",
      "current self-play batch: 491\n",
      "Updating elo score...\n",
      "Complete.\n",
      "Elo score: AlphaZero:  1504.70, Benchmark:  1773.57\n",
      "   action: 0, prob_X:  10.99%\t⭐️ action: 0, prob_O:  29.13%\n",
      "   action: 1, prob_X:  10.36%\t   action: 1, prob_O:  0.74%\n",
      "⭐️ action: 2, prob_X:  12.60%\t   action: 2, prob_O:  18.55%\n",
      "   action: 3, prob_X:  9.40%\t   action: 3, prob_O:  1.08%\n",
      "   action: 4, prob_X:  12.23%\t   action: 4, prob_O:  0.02%\n",
      "   action: 5, prob_X:  10.20%\t   action: 5, prob_O:  0.65%\n",
      "   action: 6, prob_X:  12.41%\t   action: 6, prob_O:  20.67%\n",
      "   action: 7, prob_X:  11.01%\t   action: 7, prob_O:  0.80%\n",
      "   action: 8, prob_X:  10.79%\t   action: 8, prob_O:  28.35%\n",
      "State-value X: 0.3359\n",
      "State-value O: -0.6349\n",
      "Evaluating best player...\n",
      "Complete.\n"
     ]
    },
    {
     "data": {
      "application/vnd.jupyter.widget-view+json": {
       "model_id": "de5191c5cf5643b588111ced1824fde4",
       "version_major": 2,
       "version_minor": 0
      },
      "text/plain": [
       "  0%|          | 0/1 [00:00<?, ?it/s]"
      ]
     },
     "metadata": {},
     "output_type": "display_data"
    },
    {
     "name": "stdout",
     "output_type": "stream",
     "text": [
      "R2 score (new):  0.615\n",
      "batch i: 491, episode_len: 9, loss:  0.78860974, entropy:  1.07232714\n"
     ]
    },
    {
     "data": {
      "application/vnd.jupyter.widget-view+json": {
       "model_id": "40153e3f34304363a2c522ad8d58a23e",
       "version_major": 2,
       "version_minor": 0
      },
      "text/plain": [
       "  0%|          | 0/1 [00:00<?, ?it/s]"
      ]
     },
     "metadata": {},
     "output_type": "display_data"
    },
    {
     "name": "stdout",
     "output_type": "stream",
     "text": [
      "R2 score (new):  0.466\n",
      "batch i: 492, episode_len: 9, loss:  0.76986696, entropy:  1.05002654\n"
     ]
    },
    {
     "data": {
      "application/vnd.jupyter.widget-view+json": {
       "model_id": "6072cf3375244f9daf4a2d2720a96ade",
       "version_major": 2,
       "version_minor": 0
      },
      "text/plain": [
       "  0%|          | 0/1 [00:00<?, ?it/s]"
      ]
     },
     "metadata": {},
     "output_type": "display_data"
    },
    {
     "name": "stdout",
     "output_type": "stream",
     "text": [
      "R2 score (new):  0.536\n",
      "batch i: 493, episode_len: 9, loss:  0.80249437, entropy:  1.06161666\n"
     ]
    },
    {
     "data": {
      "application/vnd.jupyter.widget-view+json": {
       "model_id": "ce50be19dbfc47078cdd4e90ec1f36f7",
       "version_major": 2,
       "version_minor": 0
      },
      "text/plain": [
       "  0%|          | 0/1 [00:00<?, ?it/s]"
      ]
     },
     "metadata": {},
     "output_type": "display_data"
    },
    {
     "name": "stdout",
     "output_type": "stream",
     "text": [
      "R2 score (new):  0.261\n",
      "batch i: 494, episode_len: 9, loss:  0.70732102, entropy:  1.12260509\n"
     ]
    },
    {
     "data": {
      "application/vnd.jupyter.widget-view+json": {
       "model_id": "e96e93b55e2b408692e9c00cf420d0ad",
       "version_major": 2,
       "version_minor": 0
      },
      "text/plain": [
       "  0%|          | 0/1 [00:00<?, ?it/s]"
      ]
     },
     "metadata": {},
     "output_type": "display_data"
    },
    {
     "name": "stdout",
     "output_type": "stream",
     "text": [
      "R2 score (new):  0.505\n",
      "batch i: 495, episode_len: 9, loss:  0.75626080, entropy:  0.95052123\n"
     ]
    },
    {
     "data": {
      "application/vnd.jupyter.widget-view+json": {
       "model_id": "279f49698fb14de2b0c0b3d3e140cd4d",
       "version_major": 2,
       "version_minor": 0
      },
      "text/plain": [
       "  0%|          | 0/1 [00:00<?, ?it/s]"
      ]
     },
     "metadata": {},
     "output_type": "display_data"
    },
    {
     "name": "stdout",
     "output_type": "stream",
     "text": [
      "R2 score (new):  0.441\n",
      "batch i: 496, episode_len: 9, loss:  0.79064113, entropy:  0.99539596\n"
     ]
    },
    {
     "data": {
      "application/vnd.jupyter.widget-view+json": {
       "model_id": "5158e81a76e34f2ba8af15b7bd6e095d",
       "version_major": 2,
       "version_minor": 0
      },
      "text/plain": [
       "  0%|          | 0/1 [00:00<?, ?it/s]"
      ]
     },
     "metadata": {},
     "output_type": "display_data"
    },
    {
     "name": "stdout",
     "output_type": "stream",
     "text": [
      "R2 score (new):  0.238\n",
      "batch i: 497, episode_len: 9, loss:  0.75999606, entropy:  1.06051612\n"
     ]
    },
    {
     "data": {
      "application/vnd.jupyter.widget-view+json": {
       "model_id": "e6c2a7228b99451fad1b41ad12fd468d",
       "version_major": 2,
       "version_minor": 0
      },
      "text/plain": [
       "  0%|          | 0/1 [00:00<?, ?it/s]"
      ]
     },
     "metadata": {},
     "output_type": "display_data"
    },
    {
     "name": "stdout",
     "output_type": "stream",
     "text": [
      "R2 score (new):  0.554\n",
      "batch i: 498, episode_len: 7, loss:  0.73575207, entropy:  1.02221215\n"
     ]
    },
    {
     "data": {
      "application/vnd.jupyter.widget-view+json": {
       "model_id": "e5778aa250f746838ea8be1215a32a27",
       "version_major": 2,
       "version_minor": 0
      },
      "text/plain": [
       "  0%|          | 0/1 [00:00<?, ?it/s]"
      ]
     },
     "metadata": {},
     "output_type": "display_data"
    },
    {
     "name": "stdout",
     "output_type": "stream",
     "text": [
      "R2 score (new):  0.563\n",
      "batch i: 499, episode_len: 7, loss:  0.77695937, entropy:  1.00205088\n"
     ]
    },
    {
     "data": {
      "application/vnd.jupyter.widget-view+json": {
       "model_id": "6d318af5d7da4df8974f1a336e464e90",
       "version_major": 2,
       "version_minor": 0
      },
      "text/plain": [
       "  0%|          | 0/1 [00:00<?, ?it/s]"
      ]
     },
     "metadata": {},
     "output_type": "display_data"
    },
    {
     "name": "stdout",
     "output_type": "stream",
     "text": [
      "R2 score (new):  0.455\n",
      "batch i: 500, episode_len: 9, loss:  0.73821394, entropy:  1.06788361\n",
      "current self-play batch: 501\n",
      "Updating elo score...\n",
      "Complete.\n",
      "Elo score: AlphaZero:  1508.90, Benchmark:  1769.37\n",
      "   action: 0, prob_X:  10.37%\t   action: 0, prob_O:  23.37%\n",
      "   action: 1, prob_X:  10.36%\t   action: 1, prob_O:  1.08%\n",
      "   action: 2, prob_X:  11.10%\t   action: 2, prob_O:  24.16%\n",
      "⭐️ action: 3, prob_X:  13.43%\t   action: 3, prob_O:  0.58%\n",
      "   action: 4, prob_X:  9.26%\t   action: 4, prob_O:  0.04%\n",
      "   action: 5, prob_X:  13.21%\t   action: 5, prob_O:  0.25%\n",
      "   action: 6, prob_X:  10.53%\t⭐️ action: 6, prob_O:  28.12%\n",
      "   action: 7, prob_X:  10.04%\t   action: 7, prob_O:  1.09%\n",
      "   action: 8, prob_X:  11.71%\t   action: 8, prob_O:  21.31%\n",
      "State-value X: 0.2035\n",
      "State-value O: -0.6073\n",
      "Evaluating best player...\n",
      "Complete.\n"
     ]
    },
    {
     "data": {
      "application/vnd.jupyter.widget-view+json": {
       "model_id": "37827b1df3044154b75d3e0f91ed7574",
       "version_major": 2,
       "version_minor": 0
      },
      "text/plain": [
       "  0%|          | 0/1 [00:00<?, ?it/s]"
      ]
     },
     "metadata": {},
     "output_type": "display_data"
    },
    {
     "name": "stdout",
     "output_type": "stream",
     "text": [
      "R2 score (new):  0.323\n",
      "batch i: 501, episode_len: 9, loss:  0.78236131, entropy:  0.99956936\n"
     ]
    },
    {
     "data": {
      "application/vnd.jupyter.widget-view+json": {
       "model_id": "1483f52b11754654a269e487db3227fc",
       "version_major": 2,
       "version_minor": 0
      },
      "text/plain": [
       "  0%|          | 0/1 [00:00<?, ?it/s]"
      ]
     },
     "metadata": {},
     "output_type": "display_data"
    },
    {
     "name": "stdout",
     "output_type": "stream",
     "text": [
      "R2 score (new):  0.614\n",
      "batch i: 502, episode_len: 7, loss:  0.76845177, entropy:  1.02114904\n"
     ]
    },
    {
     "data": {
      "application/vnd.jupyter.widget-view+json": {
       "model_id": "a5f1eafec9bb4c3aa2faceff9235a139",
       "version_major": 2,
       "version_minor": 0
      },
      "text/plain": [
       "  0%|          | 0/1 [00:00<?, ?it/s]"
      ]
     },
     "metadata": {},
     "output_type": "display_data"
    },
    {
     "name": "stdout",
     "output_type": "stream",
     "text": [
      "R2 score (new):  0.543\n",
      "batch i: 503, episode_len: 9, loss:  0.75777468, entropy:  1.00637674\n"
     ]
    },
    {
     "data": {
      "application/vnd.jupyter.widget-view+json": {
       "model_id": "1ff9305bfeb94063ba78888e208c2d38",
       "version_major": 2,
       "version_minor": 0
      },
      "text/plain": [
       "  0%|          | 0/1 [00:00<?, ?it/s]"
      ]
     },
     "metadata": {},
     "output_type": "display_data"
    },
    {
     "name": "stdout",
     "output_type": "stream",
     "text": [
      "R2 score (new):  0.394\n",
      "batch i: 504, episode_len: 9, loss:  0.78316809, entropy:  1.08183217\n"
     ]
    },
    {
     "data": {
      "application/vnd.jupyter.widget-view+json": {
       "model_id": "5b1d8f5c4c444712b34e9bd010cc2daa",
       "version_major": 2,
       "version_minor": 0
      },
      "text/plain": [
       "  0%|          | 0/1 [00:00<?, ?it/s]"
      ]
     },
     "metadata": {},
     "output_type": "display_data"
    },
    {
     "name": "stdout",
     "output_type": "stream",
     "text": [
      "R2 score (new):  0.446\n",
      "batch i: 505, episode_len: 9, loss:  0.78541799, entropy:  1.06100595\n"
     ]
    },
    {
     "data": {
      "application/vnd.jupyter.widget-view+json": {
       "model_id": "d6ae9fb0a0f744bfbeb185067ac3b042",
       "version_major": 2,
       "version_minor": 0
      },
      "text/plain": [
       "  0%|          | 0/1 [00:00<?, ?it/s]"
      ]
     },
     "metadata": {},
     "output_type": "display_data"
    },
    {
     "name": "stdout",
     "output_type": "stream",
     "text": [
      "R2 score (new):  0.312\n",
      "batch i: 506, episode_len: 7, loss:  0.74944261, entropy:  1.16116691\n"
     ]
    },
    {
     "data": {
      "application/vnd.jupyter.widget-view+json": {
       "model_id": "902d49f255644ec08d3021a68e93b94b",
       "version_major": 2,
       "version_minor": 0
      },
      "text/plain": [
       "  0%|          | 0/1 [00:00<?, ?it/s]"
      ]
     },
     "metadata": {},
     "output_type": "display_data"
    },
    {
     "name": "stdout",
     "output_type": "stream",
     "text": [
      "R2 score (new):  0.395\n",
      "batch i: 507, episode_len: 9, loss:  0.77853920, entropy:  1.05730200\n"
     ]
    },
    {
     "data": {
      "application/vnd.jupyter.widget-view+json": {
       "model_id": "e321147914564ceb81f1e26989865931",
       "version_major": 2,
       "version_minor": 0
      },
      "text/plain": [
       "  0%|          | 0/1 [00:00<?, ?it/s]"
      ]
     },
     "metadata": {},
     "output_type": "display_data"
    },
    {
     "name": "stdout",
     "output_type": "stream",
     "text": [
      "R2 score (new):  0.291\n",
      "batch i: 508, episode_len: 9, loss:  0.73897528, entropy:  0.98765224\n"
     ]
    },
    {
     "data": {
      "application/vnd.jupyter.widget-view+json": {
       "model_id": "99dfa8b9a6de4117bd0cb95eeb2a1923",
       "version_major": 2,
       "version_minor": 0
      },
      "text/plain": [
       "  0%|          | 0/1 [00:00<?, ?it/s]"
      ]
     },
     "metadata": {},
     "output_type": "display_data"
    },
    {
     "name": "stdout",
     "output_type": "stream",
     "text": [
      "R2 score (new):  0.592\n",
      "batch i: 509, episode_len: 6, loss:  0.74939330, entropy:  1.12880766\n"
     ]
    },
    {
     "data": {
      "application/vnd.jupyter.widget-view+json": {
       "model_id": "0037e71b18ed4ce8b23436f7e457b909",
       "version_major": 2,
       "version_minor": 0
      },
      "text/plain": [
       "  0%|          | 0/1 [00:00<?, ?it/s]"
      ]
     },
     "metadata": {},
     "output_type": "display_data"
    },
    {
     "name": "stdout",
     "output_type": "stream",
     "text": [
      "R2 score (new):  0.465\n",
      "batch i: 510, episode_len: 9, loss:  0.75490455, entropy:  1.09815788\n",
      "current self-play batch: 511\n",
      "Updating elo score...\n",
      "Complete.\n",
      "Elo score: AlphaZero:  1528.64, Benchmark:  1749.63\n",
      "   action: 0, prob_X:  11.87%\t   action: 0, prob_O:  24.90%\n",
      "   action: 1, prob_X:  10.30%\t   action: 1, prob_O:  1.34%\n",
      "⭐️ action: 2, prob_X:  13.48%\t   action: 2, prob_O:  21.41%\n",
      "   action: 3, prob_X:  9.91%\t   action: 3, prob_O:  1.13%\n",
      "   action: 4, prob_X:  9.21%\t   action: 4, prob_O:  0.03%\n",
      "   action: 5, prob_X:  10.78%\t   action: 5, prob_O:  0.47%\n",
      "   action: 6, prob_X:  12.69%\t⭐️ action: 6, prob_O:  25.34%\n",
      "   action: 7, prob_X:  9.70%\t   action: 7, prob_O:  1.61%\n",
      "   action: 8, prob_X:  12.06%\t   action: 8, prob_O:  23.75%\n",
      "State-value X: 0.2907\n",
      "State-value O: -0.6378\n",
      "Evaluating best player...\n",
      "Complete.\n"
     ]
    },
    {
     "data": {
      "application/vnd.jupyter.widget-view+json": {
       "model_id": "6cb2a43fac344371a35154e6865f7703",
       "version_major": 2,
       "version_minor": 0
      },
      "text/plain": [
       "  0%|          | 0/1 [00:00<?, ?it/s]"
      ]
     },
     "metadata": {},
     "output_type": "display_data"
    },
    {
     "name": "stdout",
     "output_type": "stream",
     "text": [
      "R2 score (new):  0.246\n",
      "batch i: 511, episode_len: 9, loss:  0.79025585, entropy:  1.05703580\n"
     ]
    },
    {
     "data": {
      "application/vnd.jupyter.widget-view+json": {
       "model_id": "0f226b091bb6431b8dbdc89897027cdd",
       "version_major": 2,
       "version_minor": 0
      },
      "text/plain": [
       "  0%|          | 0/1 [00:00<?, ?it/s]"
      ]
     },
     "metadata": {},
     "output_type": "display_data"
    },
    {
     "name": "stdout",
     "output_type": "stream",
     "text": [
      "R2 score (new):  0.456\n",
      "batch i: 512, episode_len: 9, loss:  0.71296630, entropy:  1.01765585\n"
     ]
    },
    {
     "data": {
      "application/vnd.jupyter.widget-view+json": {
       "model_id": "fe35d1ffcc634a46a0e985d8cae381ca",
       "version_major": 2,
       "version_minor": 0
      },
      "text/plain": [
       "  0%|          | 0/1 [00:00<?, ?it/s]"
      ]
     },
     "metadata": {},
     "output_type": "display_data"
    },
    {
     "name": "stdout",
     "output_type": "stream",
     "text": [
      "R2 score (new):  0.279\n",
      "batch i: 513, episode_len: 9, loss:  0.76290910, entropy:  0.93836308\n"
     ]
    },
    {
     "data": {
      "application/vnd.jupyter.widget-view+json": {
       "model_id": "06f0009f8a2c4c3180a826401adeaa55",
       "version_major": 2,
       "version_minor": 0
      },
      "text/plain": [
       "  0%|          | 0/1 [00:00<?, ?it/s]"
      ]
     },
     "metadata": {},
     "output_type": "display_data"
    },
    {
     "name": "stdout",
     "output_type": "stream",
     "text": [
      "R2 score (new):  0.419\n",
      "batch i: 514, episode_len: 7, loss:  0.78442546, entropy:  1.08061361\n"
     ]
    },
    {
     "data": {
      "application/vnd.jupyter.widget-view+json": {
       "model_id": "00d6801d9d45412c8d0cd820625e3a04",
       "version_major": 2,
       "version_minor": 0
      },
      "text/plain": [
       "  0%|          | 0/1 [00:00<?, ?it/s]"
      ]
     },
     "metadata": {},
     "output_type": "display_data"
    },
    {
     "name": "stdout",
     "output_type": "stream",
     "text": [
      "R2 score (new):  0.486\n",
      "batch i: 515, episode_len: 5, loss:  0.70704143, entropy:  1.09033620\n"
     ]
    },
    {
     "data": {
      "application/vnd.jupyter.widget-view+json": {
       "model_id": "d83cf6a55ef94dd586fc603621867559",
       "version_major": 2,
       "version_minor": 0
      },
      "text/plain": [
       "  0%|          | 0/1 [00:00<?, ?it/s]"
      ]
     },
     "metadata": {},
     "output_type": "display_data"
    },
    {
     "name": "stdout",
     "output_type": "stream",
     "text": [
      "R2 score (new):  0.479\n",
      "batch i: 516, episode_len: 7, loss:  0.74685570, entropy:  1.03242111\n"
     ]
    },
    {
     "data": {
      "application/vnd.jupyter.widget-view+json": {
       "model_id": "aac86bd0e9664f5f8b5afc2696866b6a",
       "version_major": 2,
       "version_minor": 0
      },
      "text/plain": [
       "  0%|          | 0/1 [00:00<?, ?it/s]"
      ]
     },
     "metadata": {},
     "output_type": "display_data"
    },
    {
     "name": "stdout",
     "output_type": "stream",
     "text": [
      "R2 score (new):  0.547\n",
      "batch i: 517, episode_len: 9, loss:  0.73637217, entropy:  0.96258414\n"
     ]
    },
    {
     "data": {
      "application/vnd.jupyter.widget-view+json": {
       "model_id": "a99a40aa29d74627901dab8f6c1665fe",
       "version_major": 2,
       "version_minor": 0
      },
      "text/plain": [
       "  0%|          | 0/1 [00:00<?, ?it/s]"
      ]
     },
     "metadata": {},
     "output_type": "display_data"
    },
    {
     "name": "stdout",
     "output_type": "stream",
     "text": [
      "R2 score (new):  0.447\n",
      "batch i: 518, episode_len: 9, loss:  0.77299680, entropy:  1.04119170\n"
     ]
    },
    {
     "data": {
      "application/vnd.jupyter.widget-view+json": {
       "model_id": "c4538fb55dcd47758f6b55aa5a7c2e62",
       "version_major": 2,
       "version_minor": 0
      },
      "text/plain": [
       "  0%|          | 0/1 [00:00<?, ?it/s]"
      ]
     },
     "metadata": {},
     "output_type": "display_data"
    },
    {
     "name": "stdout",
     "output_type": "stream",
     "text": [
      "R2 score (new):  0.429\n",
      "batch i: 519, episode_len: 9, loss:  0.75037885, entropy:  1.01490903\n"
     ]
    },
    {
     "data": {
      "application/vnd.jupyter.widget-view+json": {
       "model_id": "5b2e5c192f90498bab6b4df7697bac01",
       "version_major": 2,
       "version_minor": 0
      },
      "text/plain": [
       "  0%|          | 0/1 [00:00<?, ?it/s]"
      ]
     },
     "metadata": {},
     "output_type": "display_data"
    },
    {
     "name": "stdout",
     "output_type": "stream",
     "text": [
      "R2 score (new):  0.453\n",
      "batch i: 520, episode_len: 9, loss:  0.74413816, entropy:  1.11703575\n",
      "current self-play batch: 521\n",
      "Updating elo score...\n",
      "Complete.\n",
      "Elo score: AlphaZero:  1515.06, Benchmark:  1763.21\n",
      "   action: 0, prob_X:  10.94%\t   action: 0, prob_O:  24.27%\n",
      "   action: 1, prob_X:  10.69%\t   action: 1, prob_O:  1.29%\n",
      "   action: 2, prob_X:  11.06%\t   action: 2, prob_O:  21.02%\n",
      "   action: 3, prob_X:  10.69%\t   action: 3, prob_O:  1.43%\n",
      "⭐️ action: 4, prob_X:  13.61%\t   action: 4, prob_O:  0.03%\n",
      "   action: 5, prob_X:  10.78%\t   action: 5, prob_O:  0.57%\n",
      "   action: 6, prob_X:  10.44%\t⭐️ action: 6, prob_O:  28.48%\n",
      "   action: 7, prob_X:  11.02%\t   action: 7, prob_O:  1.79%\n",
      "   action: 8, prob_X:  10.77%\t   action: 8, prob_O:  21.11%\n",
      "State-value X: 0.3077\n",
      "State-value O: -0.6412\n",
      "Evaluating best player...\n",
      "Complete.\n"
     ]
    },
    {
     "data": {
      "application/vnd.jupyter.widget-view+json": {
       "model_id": "d9a6ae302f99416893b7e38fae85594a",
       "version_major": 2,
       "version_minor": 0
      },
      "text/plain": [
       "  0%|          | 0/1 [00:00<?, ?it/s]"
      ]
     },
     "metadata": {},
     "output_type": "display_data"
    },
    {
     "name": "stdout",
     "output_type": "stream",
     "text": [
      "R2 score (new):  0.370\n",
      "batch i: 521, episode_len: 5, loss:  0.75305705, entropy:  1.01430583\n"
     ]
    },
    {
     "data": {
      "application/vnd.jupyter.widget-view+json": {
       "model_id": "61ce5854b08047c49e8163aac3db188d",
       "version_major": 2,
       "version_minor": 0
      },
      "text/plain": [
       "  0%|          | 0/1 [00:00<?, ?it/s]"
      ]
     },
     "metadata": {},
     "output_type": "display_data"
    },
    {
     "name": "stdout",
     "output_type": "stream",
     "text": [
      "R2 score (new):  0.397\n",
      "batch i: 522, episode_len: 9, loss:  0.72510449, entropy:  1.03830492\n"
     ]
    },
    {
     "data": {
      "application/vnd.jupyter.widget-view+json": {
       "model_id": "22622d45539140ec81ae26061966faed",
       "version_major": 2,
       "version_minor": 0
      },
      "text/plain": [
       "  0%|          | 0/1 [00:00<?, ?it/s]"
      ]
     },
     "metadata": {},
     "output_type": "display_data"
    },
    {
     "name": "stdout",
     "output_type": "stream",
     "text": [
      "R2 score (new):  0.187\n",
      "batch i: 523, episode_len: 5, loss:  0.79148417, entropy:  0.99564040\n"
     ]
    },
    {
     "data": {
      "application/vnd.jupyter.widget-view+json": {
       "model_id": "b64d1d9e483e4be88657b345c3fd468e",
       "version_major": 2,
       "version_minor": 0
      },
      "text/plain": [
       "  0%|          | 0/1 [00:00<?, ?it/s]"
      ]
     },
     "metadata": {},
     "output_type": "display_data"
    },
    {
     "name": "stdout",
     "output_type": "stream",
     "text": [
      "R2 score (new):  0.331\n",
      "batch i: 524, episode_len: 5, loss:  0.75555566, entropy:  0.97573787\n"
     ]
    },
    {
     "data": {
      "application/vnd.jupyter.widget-view+json": {
       "model_id": "c6b1b319b3c0494a8d8cd90ec1056776",
       "version_major": 2,
       "version_minor": 0
      },
      "text/plain": [
       "  0%|          | 0/1 [00:00<?, ?it/s]"
      ]
     },
     "metadata": {},
     "output_type": "display_data"
    },
    {
     "name": "stdout",
     "output_type": "stream",
     "text": [
      "R2 score (new):  0.384\n",
      "batch i: 525, episode_len: 9, loss:  0.74407816, entropy:  1.09722769\n"
     ]
    },
    {
     "data": {
      "application/vnd.jupyter.widget-view+json": {
       "model_id": "5ae4cbc847f34effb8eabfb5967c622d",
       "version_major": 2,
       "version_minor": 0
      },
      "text/plain": [
       "  0%|          | 0/1 [00:00<?, ?it/s]"
      ]
     },
     "metadata": {},
     "output_type": "display_data"
    },
    {
     "name": "stdout",
     "output_type": "stream",
     "text": [
      "R2 score (new):  0.386\n",
      "batch i: 526, episode_len: 9, loss:  0.71707178, entropy:  1.02339983\n"
     ]
    },
    {
     "data": {
      "application/vnd.jupyter.widget-view+json": {
       "model_id": "38f12e6da5854c98af1c44e204f84b4a",
       "version_major": 2,
       "version_minor": 0
      },
      "text/plain": [
       "  0%|          | 0/1 [00:00<?, ?it/s]"
      ]
     },
     "metadata": {},
     "output_type": "display_data"
    },
    {
     "name": "stdout",
     "output_type": "stream",
     "text": [
      "R2 score (new):  0.370\n",
      "batch i: 527, episode_len: 7, loss:  0.68322909, entropy:  1.06066418\n"
     ]
    },
    {
     "data": {
      "application/vnd.jupyter.widget-view+json": {
       "model_id": "89b9066f24564393a33ebd0d0a181bbb",
       "version_major": 2,
       "version_minor": 0
      },
      "text/plain": [
       "  0%|          | 0/1 [00:00<?, ?it/s]"
      ]
     },
     "metadata": {},
     "output_type": "display_data"
    },
    {
     "name": "stdout",
     "output_type": "stream",
     "text": [
      "R2 score (new):  0.261\n",
      "batch i: 528, episode_len: 9, loss:  0.71900341, entropy:  0.95481229\n"
     ]
    },
    {
     "data": {
      "application/vnd.jupyter.widget-view+json": {
       "model_id": "949792a14e4b41e2b76dc7739ab54d7d",
       "version_major": 2,
       "version_minor": 0
      },
      "text/plain": [
       "  0%|          | 0/1 [00:00<?, ?it/s]"
      ]
     },
     "metadata": {},
     "output_type": "display_data"
    },
    {
     "name": "stdout",
     "output_type": "stream",
     "text": [
      "R2 score (new):  0.406\n",
      "batch i: 529, episode_len: 5, loss:  0.69380774, entropy:  0.92631948\n"
     ]
    },
    {
     "data": {
      "application/vnd.jupyter.widget-view+json": {
       "model_id": "6fd611a110ee4b4387c5e3c2fc8f20ce",
       "version_major": 2,
       "version_minor": 0
      },
      "text/plain": [
       "  0%|          | 0/1 [00:00<?, ?it/s]"
      ]
     },
     "metadata": {},
     "output_type": "display_data"
    },
    {
     "name": "stdout",
     "output_type": "stream",
     "text": [
      "R2 score (new):  0.464\n",
      "batch i: 530, episode_len: 9, loss:  0.73777406, entropy:  0.99859720\n",
      "current self-play batch: 531\n",
      "Updating elo score...\n",
      "Complete.\n",
      "Elo score: AlphaZero:  1518.10, Benchmark:  1760.17\n",
      "   action: 0, prob_X:  11.35%\t   action: 0, prob_O:  25.21%\n",
      "   action: 1, prob_X:  11.38%\t   action: 1, prob_O:  1.25%\n",
      "   action: 2, prob_X:  11.63%\t   action: 2, prob_O:  22.42%\n",
      "   action: 3, prob_X:  9.78%\t   action: 3, prob_O:  1.44%\n",
      "⭐️ action: 4, prob_X:  11.99%\t   action: 4, prob_O:  0.04%\n",
      "   action: 5, prob_X:  9.70%\t   action: 5, prob_O:  0.56%\n",
      "   action: 6, prob_X:  11.86%\t⭐️ action: 6, prob_O:  25.94%\n",
      "   action: 7, prob_X:  10.81%\t   action: 7, prob_O:  1.16%\n",
      "   action: 8, prob_X:  11.50%\t   action: 8, prob_O:  21.98%\n",
      "State-value X: 0.2988\n",
      "State-value O: -0.6361\n",
      "Evaluating best player...\n",
      "Complete.\n"
     ]
    },
    {
     "data": {
      "application/vnd.jupyter.widget-view+json": {
       "model_id": "fb7061662e38495480d04354a823fdb5",
       "version_major": 2,
       "version_minor": 0
      },
      "text/plain": [
       "  0%|          | 0/1 [00:00<?, ?it/s]"
      ]
     },
     "metadata": {},
     "output_type": "display_data"
    },
    {
     "name": "stdout",
     "output_type": "stream",
     "text": [
      "R2 score (new):  0.420\n",
      "batch i: 531, episode_len: 5, loss:  0.79327243, entropy:  0.97542471\n"
     ]
    },
    {
     "data": {
      "application/vnd.jupyter.widget-view+json": {
       "model_id": "e5213fc75d3b4d58b7319b4e41d2f4d9",
       "version_major": 2,
       "version_minor": 0
      },
      "text/plain": [
       "  0%|          | 0/1 [00:00<?, ?it/s]"
      ]
     },
     "metadata": {},
     "output_type": "display_data"
    },
    {
     "name": "stdout",
     "output_type": "stream",
     "text": [
      "R2 score (new):  0.517\n",
      "batch i: 532, episode_len: 9, loss:  0.69108852, entropy:  0.97290963\n"
     ]
    },
    {
     "data": {
      "application/vnd.jupyter.widget-view+json": {
       "model_id": "492a9c2e2abb47dc86bea3f596d65fb5",
       "version_major": 2,
       "version_minor": 0
      },
      "text/plain": [
       "  0%|          | 0/1 [00:00<?, ?it/s]"
      ]
     },
     "metadata": {},
     "output_type": "display_data"
    },
    {
     "name": "stdout",
     "output_type": "stream",
     "text": [
      "R2 score (new):  0.433\n",
      "batch i: 533, episode_len: 9, loss:  0.73001402, entropy:  0.92212439\n"
     ]
    },
    {
     "data": {
      "application/vnd.jupyter.widget-view+json": {
       "model_id": "7334079182a4423cb84503d042bc20ef",
       "version_major": 2,
       "version_minor": 0
      },
      "text/plain": [
       "  0%|          | 0/1 [00:00<?, ?it/s]"
      ]
     },
     "metadata": {},
     "output_type": "display_data"
    },
    {
     "name": "stdout",
     "output_type": "stream",
     "text": [
      "R2 score (new):  0.575\n",
      "batch i: 534, episode_len: 5, loss:  0.73898778, entropy:  1.00837421\n"
     ]
    },
    {
     "data": {
      "application/vnd.jupyter.widget-view+json": {
       "model_id": "599e72e63f6d4afdb3402930d0b9742c",
       "version_major": 2,
       "version_minor": 0
      },
      "text/plain": [
       "  0%|          | 0/1 [00:00<?, ?it/s]"
      ]
     },
     "metadata": {},
     "output_type": "display_data"
    },
    {
     "name": "stdout",
     "output_type": "stream",
     "text": [
      "R2 score (new):  0.421\n",
      "batch i: 535, episode_len: 6, loss:  0.72670375, entropy:  0.96490401\n"
     ]
    },
    {
     "data": {
      "application/vnd.jupyter.widget-view+json": {
       "model_id": "81fc27482e5941f48bd5a3e6e1760e59",
       "version_major": 2,
       "version_minor": 0
      },
      "text/plain": [
       "  0%|          | 0/1 [00:00<?, ?it/s]"
      ]
     },
     "metadata": {},
     "output_type": "display_data"
    },
    {
     "name": "stdout",
     "output_type": "stream",
     "text": [
      "R2 score (new):  0.287\n",
      "batch i: 536, episode_len: 9, loss:  0.76770094, entropy:  1.02333796\n"
     ]
    },
    {
     "data": {
      "application/vnd.jupyter.widget-view+json": {
       "model_id": "40da204788324750a42ab767e5f23722",
       "version_major": 2,
       "version_minor": 0
      },
      "text/plain": [
       "  0%|          | 0/1 [00:00<?, ?it/s]"
      ]
     },
     "metadata": {},
     "output_type": "display_data"
    },
    {
     "name": "stdout",
     "output_type": "stream",
     "text": [
      "R2 score (new):  0.342\n",
      "batch i: 537, episode_len: 5, loss:  0.72425945, entropy:  1.07772303\n"
     ]
    },
    {
     "data": {
      "application/vnd.jupyter.widget-view+json": {
       "model_id": "75010dd920104f4b9b189f4a3e6fe188",
       "version_major": 2,
       "version_minor": 0
      },
      "text/plain": [
       "  0%|          | 0/1 [00:00<?, ?it/s]"
      ]
     },
     "metadata": {},
     "output_type": "display_data"
    },
    {
     "name": "stdout",
     "output_type": "stream",
     "text": [
      "R2 score (new):  0.377\n",
      "batch i: 538, episode_len: 9, loss:  0.76466142, entropy:  0.92104989\n"
     ]
    },
    {
     "data": {
      "application/vnd.jupyter.widget-view+json": {
       "model_id": "635d2a16a6e24e8f872f6af54f665bff",
       "version_major": 2,
       "version_minor": 0
      },
      "text/plain": [
       "  0%|          | 0/1 [00:00<?, ?it/s]"
      ]
     },
     "metadata": {},
     "output_type": "display_data"
    },
    {
     "name": "stdout",
     "output_type": "stream",
     "text": [
      "R2 score (new):  0.456\n",
      "batch i: 539, episode_len: 5, loss:  0.74026674, entropy:  1.03728318\n"
     ]
    },
    {
     "data": {
      "application/vnd.jupyter.widget-view+json": {
       "model_id": "e0b9023c55d94ced837c501ec39ed562",
       "version_major": 2,
       "version_minor": 0
      },
      "text/plain": [
       "  0%|          | 0/1 [00:00<?, ?it/s]"
      ]
     },
     "metadata": {},
     "output_type": "display_data"
    },
    {
     "name": "stdout",
     "output_type": "stream",
     "text": [
      "R2 score (new):  0.437\n",
      "batch i: 540, episode_len: 7, loss:  0.73135331, entropy:  1.04465377\n",
      "current self-play batch: 541\n",
      "Updating elo score...\n",
      "Complete.\n",
      "Elo score: AlphaZero:  1505.74, Benchmark:  1772.53\n",
      "   action: 0, prob_X:  11.27%\t   action: 0, prob_O:  19.40%\n",
      "   action: 1, prob_X:  11.63%\t   action: 1, prob_O:  1.00%\n",
      "   action: 2, prob_X:  10.23%\t⭐️ action: 2, prob_O:  31.01%\n",
      "   action: 3, prob_X:  11.13%\t   action: 3, prob_O:  1.16%\n",
      "   action: 4, prob_X:  11.36%\t   action: 4, prob_O:  0.02%\n",
      "⭐️ action: 5, prob_X:  12.38%\t   action: 5, prob_O:  0.62%\n",
      "   action: 6, prob_X:  10.54%\t   action: 6, prob_O:  21.32%\n",
      "   action: 7, prob_X:  10.78%\t   action: 7, prob_O:  1.15%\n",
      "   action: 8, prob_X:  10.69%\t   action: 8, prob_O:  24.32%\n",
      "State-value X: 0.1822\n",
      "State-value O: -0.6426\n",
      "Evaluating best player...\n",
      "Complete.\n"
     ]
    },
    {
     "data": {
      "application/vnd.jupyter.widget-view+json": {
       "model_id": "cbdc686ddfec43be9d413b9a5ebc54d7",
       "version_major": 2,
       "version_minor": 0
      },
      "text/plain": [
       "  0%|          | 0/1 [00:00<?, ?it/s]"
      ]
     },
     "metadata": {},
     "output_type": "display_data"
    },
    {
     "name": "stdout",
     "output_type": "stream",
     "text": [
      "R2 score (new):  0.446\n",
      "batch i: 541, episode_len: 5, loss:  0.72980912, entropy:  0.95251161\n"
     ]
    },
    {
     "data": {
      "application/vnd.jupyter.widget-view+json": {
       "model_id": "d134ccfe8ffd4357afae98018c472a78",
       "version_major": 2,
       "version_minor": 0
      },
      "text/plain": [
       "  0%|          | 0/1 [00:00<?, ?it/s]"
      ]
     },
     "metadata": {},
     "output_type": "display_data"
    },
    {
     "name": "stdout",
     "output_type": "stream",
     "text": [
      "R2 score (new):  0.379\n",
      "batch i: 542, episode_len: 9, loss:  0.80127455, entropy:  0.97906625\n"
     ]
    },
    {
     "data": {
      "application/vnd.jupyter.widget-view+json": {
       "model_id": "4e05b2e8be514cbf83c6eab14554f5a8",
       "version_major": 2,
       "version_minor": 0
      },
      "text/plain": [
       "  0%|          | 0/1 [00:00<?, ?it/s]"
      ]
     },
     "metadata": {},
     "output_type": "display_data"
    },
    {
     "name": "stdout",
     "output_type": "stream",
     "text": [
      "R2 score (new):  0.000\n",
      "batch i: 543, episode_len: 9, loss:  0.90577977, entropy:  1.85488415\n"
     ]
    },
    {
     "data": {
      "application/vnd.jupyter.widget-view+json": {
       "model_id": "d9b2ffff715b4dcb87e3abf2d3e40ab9",
       "version_major": 2,
       "version_minor": 0
      },
      "text/plain": [
       "  0%|          | 0/1 [00:00<?, ?it/s]"
      ]
     },
     "metadata": {},
     "output_type": "display_data"
    },
    {
     "name": "stdout",
     "output_type": "stream",
     "text": [
      "R2 score (new):  0.486\n",
      "batch i: 544, episode_len: 9, loss:  0.89959783, entropy:  1.32401097\n"
     ]
    },
    {
     "data": {
      "application/vnd.jupyter.widget-view+json": {
       "model_id": "53150558005d46468a19975986f85dab",
       "version_major": 2,
       "version_minor": 0
      },
      "text/plain": [
       "  0%|          | 0/1 [00:00<?, ?it/s]"
      ]
     },
     "metadata": {},
     "output_type": "display_data"
    },
    {
     "name": "stdout",
     "output_type": "stream",
     "text": [
      "R2 score (new):  0.255\n",
      "batch i: 545, episode_len: 9, loss:  1.08730765, entropy:  1.48238254\n"
     ]
    },
    {
     "data": {
      "application/vnd.jupyter.widget-view+json": {
       "model_id": "f7948100189b4f2bbde242bfd8c4d4a8",
       "version_major": 2,
       "version_minor": 0
      },
      "text/plain": [
       "  0%|          | 0/1 [00:00<?, ?it/s]"
      ]
     },
     "metadata": {},
     "output_type": "display_data"
    },
    {
     "name": "stdout",
     "output_type": "stream",
     "text": [
      "R2 score (new):  0.476\n",
      "batch i: 546, episode_len: 9, loss:  0.96325127, entropy:  1.05463982\n"
     ]
    },
    {
     "data": {
      "application/vnd.jupyter.widget-view+json": {
       "model_id": "0cbadc250856430eb28de34f752ca1d9",
       "version_major": 2,
       "version_minor": 0
      },
      "text/plain": [
       "  0%|          | 0/1 [00:00<?, ?it/s]"
      ]
     },
     "metadata": {},
     "output_type": "display_data"
    },
    {
     "name": "stdout",
     "output_type": "stream",
     "text": [
      "R2 score (new):  0.706\n",
      "batch i: 547, episode_len: 9, loss:  0.79351647, entropy:  1.20527339\n"
     ]
    },
    {
     "data": {
      "application/vnd.jupyter.widget-view+json": {
       "model_id": "7a5a73dee63f45528b1b728289ebc25c",
       "version_major": 2,
       "version_minor": 0
      },
      "text/plain": [
       "  0%|          | 0/1 [00:00<?, ?it/s]"
      ]
     },
     "metadata": {},
     "output_type": "display_data"
    },
    {
     "name": "stdout",
     "output_type": "stream",
     "text": [
      "R2 score (new): -0.339\n",
      "batch i: 548, episode_len: 9, loss:  0.82843532, entropy:  1.12844121\n"
     ]
    },
    {
     "data": {
      "application/vnd.jupyter.widget-view+json": {
       "model_id": "4d101c90d3c747708afeb66dd0801a4c",
       "version_major": 2,
       "version_minor": 0
      },
      "text/plain": [
       "  0%|          | 0/1 [00:00<?, ?it/s]"
      ]
     },
     "metadata": {},
     "output_type": "display_data"
    },
    {
     "name": "stdout",
     "output_type": "stream",
     "text": [
      "R2 score (new):  0.850\n",
      "batch i: 549, episode_len: 5, loss:  0.78376984, entropy:  1.02055562\n"
     ]
    },
    {
     "data": {
      "application/vnd.jupyter.widget-view+json": {
       "model_id": "ec4894904a37455dae526346d49365cd",
       "version_major": 2,
       "version_minor": 0
      },
      "text/plain": [
       "  0%|          | 0/1 [00:00<?, ?it/s]"
      ]
     },
     "metadata": {},
     "output_type": "display_data"
    },
    {
     "name": "stdout",
     "output_type": "stream",
     "text": [
      "R2 score (new):  0.383\n",
      "batch i: 550, episode_len: 7, loss:  0.76413391, entropy:  1.22962952\n",
      "current self-play batch: 551\n",
      "Updating elo score...\n",
      "Complete.\n",
      "Elo score: AlphaZero:  1500.00, Benchmark:  1783.57\n",
      "   action: 0, prob_X:  9.07%\t⭐️ action: 0, prob_O:  30.63%\n",
      "   action: 1, prob_X:  10.37%\t   action: 1, prob_O:  0.23%\n",
      "   action: 2, prob_X:  9.84%\t   action: 2, prob_O:  19.78%\n",
      "   action: 3, prob_X:  13.47%\t   action: 3, prob_O:  0.14%\n",
      "   action: 4, prob_X:  13.81%\t   action: 4, prob_O:  0.00%\n",
      "⭐️ action: 5, prob_X:  13.94%\t   action: 5, prob_O:  0.04%\n",
      "   action: 6, prob_X:  9.07%\t   action: 6, prob_O:  18.61%\n",
      "   action: 7, prob_X:  11.04%\t   action: 7, prob_O:  0.16%\n",
      "   action: 8, prob_X:  9.40%\t   action: 8, prob_O:  30.39%\n",
      "State-value X: 0.1659\n",
      "State-value O: -0.5898\n",
      "Evaluating best player...\n",
      "Complete.\n"
     ]
    },
    {
     "data": {
      "application/vnd.jupyter.widget-view+json": {
       "model_id": "3d3d7c973672447eb6ce86e872ca554d",
       "version_major": 2,
       "version_minor": 0
      },
      "text/plain": [
       "  0%|          | 0/1 [00:00<?, ?it/s]"
      ]
     },
     "metadata": {},
     "output_type": "display_data"
    },
    {
     "name": "stdout",
     "output_type": "stream",
     "text": [
      "R2 score (new):  0.559\n",
      "batch i: 551, episode_len: 9, loss:  0.74254294, entropy:  1.06237769\n"
     ]
    },
    {
     "data": {
      "application/vnd.jupyter.widget-view+json": {
       "model_id": "3cf57180eff44bce9a605c661b40fff5",
       "version_major": 2,
       "version_minor": 0
      },
      "text/plain": [
       "  0%|          | 0/1 [00:00<?, ?it/s]"
      ]
     },
     "metadata": {},
     "output_type": "display_data"
    },
    {
     "name": "stdout",
     "output_type": "stream",
     "text": [
      "R2 score (new):  0.713\n",
      "batch i: 552, episode_len: 7, loss:  0.78009040, entropy:  1.07652915\n"
     ]
    },
    {
     "data": {
      "application/vnd.jupyter.widget-view+json": {
       "model_id": "9f5a374d96a64d30911ec25692cfc268",
       "version_major": 2,
       "version_minor": 0
      },
      "text/plain": [
       "  0%|          | 0/1 [00:00<?, ?it/s]"
      ]
     },
     "metadata": {},
     "output_type": "display_data"
    },
    {
     "name": "stdout",
     "output_type": "stream",
     "text": [
      "R2 score (new):  0.302\n",
      "batch i: 553, episode_len: 9, loss:  0.75573305, entropy:  0.90711659\n"
     ]
    },
    {
     "data": {
      "application/vnd.jupyter.widget-view+json": {
       "model_id": "f53df43b635e4fb2954b283d10033a64",
       "version_major": 2,
       "version_minor": 0
      },
      "text/plain": [
       "  0%|          | 0/1 [00:00<?, ?it/s]"
      ]
     },
     "metadata": {},
     "output_type": "display_data"
    },
    {
     "name": "stdout",
     "output_type": "stream",
     "text": [
      "R2 score (new):  0.668\n",
      "batch i: 554, episode_len: 9, loss:  0.77423993, entropy:  0.93408662\n"
     ]
    },
    {
     "data": {
      "application/vnd.jupyter.widget-view+json": {
       "model_id": "567f5ca660f742628a1c146622203081",
       "version_major": 2,
       "version_minor": 0
      },
      "text/plain": [
       "  0%|          | 0/1 [00:00<?, ?it/s]"
      ]
     },
     "metadata": {},
     "output_type": "display_data"
    },
    {
     "name": "stdout",
     "output_type": "stream",
     "text": [
      "R2 score (new):  0.264\n",
      "batch i: 555, episode_len: 9, loss:  0.73869561, entropy:  0.94848228\n"
     ]
    },
    {
     "data": {
      "application/vnd.jupyter.widget-view+json": {
       "model_id": "5b3fd82b74c44f1b9795db1136e4d93b",
       "version_major": 2,
       "version_minor": 0
      },
      "text/plain": [
       "  0%|          | 0/1 [00:00<?, ?it/s]"
      ]
     },
     "metadata": {},
     "output_type": "display_data"
    },
    {
     "name": "stdout",
     "output_type": "stream",
     "text": [
      "R2 score (new):  0.777\n",
      "batch i: 556, episode_len: 8, loss:  0.81372912, entropy:  0.96267509\n"
     ]
    },
    {
     "data": {
      "application/vnd.jupyter.widget-view+json": {
       "model_id": "73d798a7df434b60ae48c5f3a3e24065",
       "version_major": 2,
       "version_minor": 0
      },
      "text/plain": [
       "  0%|          | 0/1 [00:00<?, ?it/s]"
      ]
     },
     "metadata": {},
     "output_type": "display_data"
    },
    {
     "name": "stdout",
     "output_type": "stream",
     "text": [
      "R2 score (new):  0.400\n",
      "batch i: 557, episode_len: 9, loss:  0.77429456, entropy:  1.06384039\n"
     ]
    },
    {
     "data": {
      "application/vnd.jupyter.widget-view+json": {
       "model_id": "e7778cdd955a49c1b4ae54d23d760fed",
       "version_major": 2,
       "version_minor": 0
      },
      "text/plain": [
       "  0%|          | 0/1 [00:00<?, ?it/s]"
      ]
     },
     "metadata": {},
     "output_type": "display_data"
    },
    {
     "name": "stdout",
     "output_type": "stream",
     "text": [
      "R2 score (new):  0.094\n",
      "batch i: 558, episode_len: 9, loss:  0.80531882, entropy:  1.15206707\n"
     ]
    },
    {
     "data": {
      "application/vnd.jupyter.widget-view+json": {
       "model_id": "2903835421a34e0497dffb83b91bd0aa",
       "version_major": 2,
       "version_minor": 0
      },
      "text/plain": [
       "  0%|          | 0/1 [00:00<?, ?it/s]"
      ]
     },
     "metadata": {},
     "output_type": "display_data"
    },
    {
     "name": "stdout",
     "output_type": "stream",
     "text": [
      "R2 score (new):  0.582\n",
      "batch i: 559, episode_len: 8, loss:  0.74781577, entropy:  1.03793514\n"
     ]
    },
    {
     "data": {
      "application/vnd.jupyter.widget-view+json": {
       "model_id": "1669ab2d23e842f88085fbf78455cf69",
       "version_major": 2,
       "version_minor": 0
      },
      "text/plain": [
       "  0%|          | 0/1 [00:00<?, ?it/s]"
      ]
     },
     "metadata": {},
     "output_type": "display_data"
    },
    {
     "name": "stdout",
     "output_type": "stream",
     "text": [
      "R2 score (new):  0.295\n",
      "batch i: 560, episode_len: 9, loss:  0.72961311, entropy:  0.96716988\n",
      "current self-play batch: 561\n",
      "Updating elo score...\n",
      "Complete.\n",
      "Elo score: AlphaZero:  1510.90, Benchmark:  1777.90\n",
      "   action: 0, prob_X:  11.26%\t⭐️ action: 0, prob_O:  30.76%\n",
      "   action: 1, prob_X:  10.87%\t   action: 1, prob_O:  1.52%\n",
      "   action: 2, prob_X:  12.10%\t   action: 2, prob_O:  17.10%\n",
      "   action: 3, prob_X:  10.24%\t   action: 3, prob_O:  1.77%\n",
      "   action: 4, prob_X:  10.43%\t   action: 4, prob_O:  0.06%\n",
      "   action: 5, prob_X:  10.66%\t   action: 5, prob_O:  0.51%\n",
      "   action: 6, prob_X:  11.57%\t   action: 6, prob_O:  26.07%\n",
      "   action: 7, prob_X:  10.61%\t   action: 7, prob_O:  1.31%\n",
      "⭐️ action: 8, prob_X:  12.25%\t   action: 8, prob_O:  20.89%\n",
      "State-value X: 0.2858\n",
      "State-value O: -0.6507\n",
      "Evaluating best player...\n",
      "Complete.\n"
     ]
    },
    {
     "data": {
      "application/vnd.jupyter.widget-view+json": {
       "model_id": "cf53a99fd0d24e6cac73b167cc45bb09",
       "version_major": 2,
       "version_minor": 0
      },
      "text/plain": [
       "  0%|          | 0/1 [00:00<?, ?it/s]"
      ]
     },
     "metadata": {},
     "output_type": "display_data"
    },
    {
     "name": "stdout",
     "output_type": "stream",
     "text": [
      "R2 score (new):  0.490\n",
      "batch i: 561, episode_len: 9, loss:  0.73078604, entropy:  0.93702930\n"
     ]
    },
    {
     "data": {
      "application/vnd.jupyter.widget-view+json": {
       "model_id": "627928a6dde94be896584276ebbaf3a6",
       "version_major": 2,
       "version_minor": 0
      },
      "text/plain": [
       "  0%|          | 0/1 [00:00<?, ?it/s]"
      ]
     },
     "metadata": {},
     "output_type": "display_data"
    },
    {
     "name": "stdout",
     "output_type": "stream",
     "text": [
      "R2 score (new):  0.187\n",
      "batch i: 562, episode_len: 5, loss:  0.79012828, entropy:  1.08604276\n"
     ]
    },
    {
     "data": {
      "application/vnd.jupyter.widget-view+json": {
       "model_id": "ee83398866c3403283dde11142b76669",
       "version_major": 2,
       "version_minor": 0
      },
      "text/plain": [
       "  0%|          | 0/1 [00:00<?, ?it/s]"
      ]
     },
     "metadata": {},
     "output_type": "display_data"
    },
    {
     "name": "stdout",
     "output_type": "stream",
     "text": [
      "R2 score (new):  0.648\n",
      "batch i: 563, episode_len: 6, loss:  0.74486034, entropy:  0.99903917\n"
     ]
    },
    {
     "data": {
      "application/vnd.jupyter.widget-view+json": {
       "model_id": "3c28633b1636409ab92d8a0b897d77ac",
       "version_major": 2,
       "version_minor": 0
      },
      "text/plain": [
       "  0%|          | 0/1 [00:00<?, ?it/s]"
      ]
     },
     "metadata": {},
     "output_type": "display_data"
    },
    {
     "name": "stdout",
     "output_type": "stream",
     "text": [
      "R2 score (new):  0.449\n",
      "batch i: 564, episode_len: 5, loss:  0.77079788, entropy:  1.13838625\n"
     ]
    },
    {
     "data": {
      "application/vnd.jupyter.widget-view+json": {
       "model_id": "00cca36ac745464d83113436fb88b75a",
       "version_major": 2,
       "version_minor": 0
      },
      "text/plain": [
       "  0%|          | 0/1 [00:00<?, ?it/s]"
      ]
     },
     "metadata": {},
     "output_type": "display_data"
    },
    {
     "name": "stdout",
     "output_type": "stream",
     "text": [
      "R2 score (new):  0.333\n",
      "batch i: 565, episode_len: 9, loss:  0.71212243, entropy:  1.11100399\n"
     ]
    },
    {
     "data": {
      "application/vnd.jupyter.widget-view+json": {
       "model_id": "09fd41d33b164f31a087ac3f938ae26d",
       "version_major": 2,
       "version_minor": 0
      },
      "text/plain": [
       "  0%|          | 0/1 [00:00<?, ?it/s]"
      ]
     },
     "metadata": {},
     "output_type": "display_data"
    },
    {
     "name": "stdout",
     "output_type": "stream",
     "text": [
      "R2 score (new):  0.262\n",
      "batch i: 566, episode_len: 9, loss:  0.73808021, entropy:  1.09733617\n"
     ]
    },
    {
     "data": {
      "application/vnd.jupyter.widget-view+json": {
       "model_id": "1b23201f1ab64e3ebeb2f4d617744364",
       "version_major": 2,
       "version_minor": 0
      },
      "text/plain": [
       "  0%|          | 0/1 [00:00<?, ?it/s]"
      ]
     },
     "metadata": {},
     "output_type": "display_data"
    },
    {
     "name": "stdout",
     "output_type": "stream",
     "text": [
      "R2 score (new):  0.557\n",
      "batch i: 567, episode_len: 9, loss:  0.74135565, entropy:  1.02953374\n"
     ]
    },
    {
     "data": {
      "application/vnd.jupyter.widget-view+json": {
       "model_id": "68542b30797244f5a4a496e4bfd4ec32",
       "version_major": 2,
       "version_minor": 0
      },
      "text/plain": [
       "  0%|          | 0/1 [00:00<?, ?it/s]"
      ]
     },
     "metadata": {},
     "output_type": "display_data"
    },
    {
     "name": "stdout",
     "output_type": "stream",
     "text": [
      "R2 score (new):  0.303\n",
      "batch i: 568, episode_len: 9, loss:  0.73073566, entropy:  1.09902120\n"
     ]
    },
    {
     "data": {
      "application/vnd.jupyter.widget-view+json": {
       "model_id": "2b2cdcbbefbc4d6a8b1c5c34ea99b3ee",
       "version_major": 2,
       "version_minor": 0
      },
      "text/plain": [
       "  0%|          | 0/1 [00:00<?, ?it/s]"
      ]
     },
     "metadata": {},
     "output_type": "display_data"
    },
    {
     "name": "stdout",
     "output_type": "stream",
     "text": [
      "R2 score (new):  0.531\n",
      "batch i: 569, episode_len: 9, loss:  0.70798318, entropy:  0.85460943\n"
     ]
    },
    {
     "data": {
      "application/vnd.jupyter.widget-view+json": {
       "model_id": "054eed16e759493d96dea5552a37bbc7",
       "version_major": 2,
       "version_minor": 0
      },
      "text/plain": [
       "  0%|          | 0/1 [00:00<?, ?it/s]"
      ]
     },
     "metadata": {},
     "output_type": "display_data"
    },
    {
     "name": "stdout",
     "output_type": "stream",
     "text": [
      "R2 score (new):  0.566\n",
      "batch i: 570, episode_len: 9, loss:  0.74308845, entropy:  0.93490189\n",
      "current self-play batch: 571\n",
      "Updating elo score...\n",
      "Complete.\n",
      "Elo score: AlphaZero:  1531.00, Benchmark:  1757.81\n",
      "   action: 0, prob_X:  11.32%\t   action: 0, prob_O:  26.21%\n",
      "   action: 1, prob_X:  9.71%\t   action: 1, prob_O:  1.69%\n",
      "   action: 2, prob_X:  11.27%\t   action: 2, prob_O:  18.60%\n",
      "   action: 3, prob_X:  11.42%\t   action: 3, prob_O:  1.48%\n",
      "   action: 4, prob_X:  10.36%\t   action: 4, prob_O:  0.05%\n",
      "   action: 5, prob_X:  11.95%\t   action: 5, prob_O:  0.55%\n",
      "⭐️ action: 6, prob_X:  12.01%\t⭐️ action: 6, prob_O:  27.74%\n",
      "   action: 7, prob_X:  10.43%\t   action: 7, prob_O:  1.48%\n",
      "   action: 8, prob_X:  11.53%\t   action: 8, prob_O:  22.21%\n",
      "State-value X: 0.2311\n",
      "State-value O: -0.6539\n",
      "Evaluating best player...\n",
      "Complete.\n"
     ]
    },
    {
     "data": {
      "application/vnd.jupyter.widget-view+json": {
       "model_id": "0eb422fc112a4c2faac82e1bff93991e",
       "version_major": 2,
       "version_minor": 0
      },
      "text/plain": [
       "  0%|          | 0/1 [00:00<?, ?it/s]"
      ]
     },
     "metadata": {},
     "output_type": "display_data"
    },
    {
     "name": "stdout",
     "output_type": "stream",
     "text": [
      "R2 score (new):  0.045\n",
      "batch i: 571, episode_len: 9, loss:  0.69994444, entropy:  1.00414789\n"
     ]
    },
    {
     "data": {
      "application/vnd.jupyter.widget-view+json": {
       "model_id": "ce85d07906624ca188d7ff6aff3f6a45",
       "version_major": 2,
       "version_minor": 0
      },
      "text/plain": [
       "  0%|          | 0/1 [00:00<?, ?it/s]"
      ]
     },
     "metadata": {},
     "output_type": "display_data"
    },
    {
     "name": "stdout",
     "output_type": "stream",
     "text": [
      "R2 score (new):  0.414\n",
      "batch i: 572, episode_len: 5, loss:  0.69405875, entropy:  1.05766308\n"
     ]
    },
    {
     "data": {
      "application/vnd.jupyter.widget-view+json": {
       "model_id": "d51aefdb9bb8488d8ba9c672cd08f2fe",
       "version_major": 2,
       "version_minor": 0
      },
      "text/plain": [
       "  0%|          | 0/1 [00:00<?, ?it/s]"
      ]
     },
     "metadata": {},
     "output_type": "display_data"
    },
    {
     "name": "stdout",
     "output_type": "stream",
     "text": [
      "R2 score (new):  0.205\n",
      "batch i: 573, episode_len: 9, loss:  0.72890406, entropy:  1.09853971\n"
     ]
    },
    {
     "data": {
      "application/vnd.jupyter.widget-view+json": {
       "model_id": "47f88276df7948e39c853f236a1532f1",
       "version_major": 2,
       "version_minor": 0
      },
      "text/plain": [
       "  0%|          | 0/1 [00:00<?, ?it/s]"
      ]
     },
     "metadata": {},
     "output_type": "display_data"
    },
    {
     "name": "stdout",
     "output_type": "stream",
     "text": [
      "R2 score (new):  0.293\n",
      "batch i: 574, episode_len: 9, loss:  0.71808665, entropy:  0.90001941\n"
     ]
    },
    {
     "data": {
      "application/vnd.jupyter.widget-view+json": {
       "model_id": "b3cab8304ac047a5afc3da487cdd1593",
       "version_major": 2,
       "version_minor": 0
      },
      "text/plain": [
       "  0%|          | 0/1 [00:00<?, ?it/s]"
      ]
     },
     "metadata": {},
     "output_type": "display_data"
    },
    {
     "name": "stdout",
     "output_type": "stream",
     "text": [
      "R2 score (new):  0.466\n",
      "batch i: 575, episode_len: 9, loss:  0.71528757, entropy:  1.05920434\n"
     ]
    },
    {
     "data": {
      "application/vnd.jupyter.widget-view+json": {
       "model_id": "0e07525efa584f21815f66d979f54552",
       "version_major": 2,
       "version_minor": 0
      },
      "text/plain": [
       "  0%|          | 0/1 [00:00<?, ?it/s]"
      ]
     },
     "metadata": {},
     "output_type": "display_data"
    },
    {
     "name": "stdout",
     "output_type": "stream",
     "text": [
      "R2 score (new):  0.443\n",
      "batch i: 576, episode_len: 9, loss:  0.74206680, entropy:  1.05587447\n"
     ]
    },
    {
     "data": {
      "application/vnd.jupyter.widget-view+json": {
       "model_id": "bc7a3f002a5d46158b440cb5ae0e4531",
       "version_major": 2,
       "version_minor": 0
      },
      "text/plain": [
       "  0%|          | 0/1 [00:00<?, ?it/s]"
      ]
     },
     "metadata": {},
     "output_type": "display_data"
    },
    {
     "name": "stdout",
     "output_type": "stream",
     "text": [
      "R2 score (new):  0.428\n",
      "batch i: 577, episode_len: 7, loss:  0.76608844, entropy:  0.90539736\n"
     ]
    },
    {
     "data": {
      "application/vnd.jupyter.widget-view+json": {
       "model_id": "489ba83a14f94372bd84e1298ac447c3",
       "version_major": 2,
       "version_minor": 0
      },
      "text/plain": [
       "  0%|          | 0/1 [00:00<?, ?it/s]"
      ]
     },
     "metadata": {},
     "output_type": "display_data"
    },
    {
     "name": "stdout",
     "output_type": "stream",
     "text": [
      "R2 score (new):  0.422\n",
      "batch i: 578, episode_len: 9, loss:  0.74256156, entropy:  0.92249548\n"
     ]
    },
    {
     "data": {
      "application/vnd.jupyter.widget-view+json": {
       "model_id": "eabe9d5d1ea74e6b965a028ee25323c8",
       "version_major": 2,
       "version_minor": 0
      },
      "text/plain": [
       "  0%|          | 0/1 [00:00<?, ?it/s]"
      ]
     },
     "metadata": {},
     "output_type": "display_data"
    },
    {
     "name": "stdout",
     "output_type": "stream",
     "text": [
      "R2 score (new):  0.541\n",
      "batch i: 579, episode_len: 9, loss:  0.71991832, entropy:  1.02038515\n"
     ]
    },
    {
     "data": {
      "application/vnd.jupyter.widget-view+json": {
       "model_id": "c9a47652ef4443ff86593b9cb01fd7c7",
       "version_major": 2,
       "version_minor": 0
      },
      "text/plain": [
       "  0%|          | 0/1 [00:00<?, ?it/s]"
      ]
     },
     "metadata": {},
     "output_type": "display_data"
    },
    {
     "name": "stdout",
     "output_type": "stream",
     "text": [
      "R2 score (new):  0.304\n",
      "batch i: 580, episode_len: 9, loss:  0.70966856, entropy:  1.04133666\n",
      "current self-play batch: 581\n",
      "Updating elo score...\n",
      "Complete.\n",
      "Elo score: AlphaZero:  1517.76, Benchmark:  1771.04\n",
      "   action: 0, prob_X:  11.91%\t   action: 0, prob_O:  17.20%\n",
      "   action: 1, prob_X:  10.24%\t   action: 1, prob_O:  2.36%\n",
      "   action: 2, prob_X:  11.49%\t⭐️ action: 2, prob_O:  27.73%\n",
      "⭐️ action: 3, prob_X:  11.93%\t   action: 3, prob_O:  1.66%\n",
      "   action: 4, prob_X:  10.19%\t   action: 4, prob_O:  0.06%\n",
      "   action: 5, prob_X:  11.51%\t   action: 5, prob_O:  1.48%\n",
      "   action: 6, prob_X:  11.16%\t   action: 6, prob_O:  21.35%\n",
      "   action: 7, prob_X:  9.66%\t   action: 7, prob_O:  2.50%\n",
      "   action: 8, prob_X:  11.91%\t   action: 8, prob_O:  25.67%\n",
      "State-value X: 0.2571\n",
      "State-value O: -0.6555\n",
      "Evaluating best player...\n",
      "Complete.\n"
     ]
    },
    {
     "data": {
      "application/vnd.jupyter.widget-view+json": {
       "model_id": "ffc58d09d05f4f829fae2d6cba5519c5",
       "version_major": 2,
       "version_minor": 0
      },
      "text/plain": [
       "  0%|          | 0/1 [00:00<?, ?it/s]"
      ]
     },
     "metadata": {},
     "output_type": "display_data"
    },
    {
     "name": "stdout",
     "output_type": "stream",
     "text": [
      "R2 score (new):  0.230\n",
      "batch i: 581, episode_len: 9, loss:  0.69660476, entropy:  1.01962018\n"
     ]
    },
    {
     "data": {
      "application/vnd.jupyter.widget-view+json": {
       "model_id": "a5beffde8e6f462d98bb003a132ba456",
       "version_major": 2,
       "version_minor": 0
      },
      "text/plain": [
       "  0%|          | 0/1 [00:00<?, ?it/s]"
      ]
     },
     "metadata": {},
     "output_type": "display_data"
    },
    {
     "name": "stdout",
     "output_type": "stream",
     "text": [
      "R2 score (new):  0.424\n",
      "batch i: 582, episode_len: 9, loss:  0.74445249, entropy:  1.07528222\n"
     ]
    },
    {
     "data": {
      "application/vnd.jupyter.widget-view+json": {
       "model_id": "31792641a9a04933a429c496abee84fc",
       "version_major": 2,
       "version_minor": 0
      },
      "text/plain": [
       "  0%|          | 0/1 [00:00<?, ?it/s]"
      ]
     },
     "metadata": {},
     "output_type": "display_data"
    },
    {
     "name": "stdout",
     "output_type": "stream",
     "text": [
      "R2 score (new):  0.443\n",
      "batch i: 583, episode_len: 6, loss:  0.74062424, entropy:  1.07178533\n"
     ]
    },
    {
     "data": {
      "application/vnd.jupyter.widget-view+json": {
       "model_id": "144adaf2a15847a684e036be54b5bb93",
       "version_major": 2,
       "version_minor": 0
      },
      "text/plain": [
       "  0%|          | 0/1 [00:00<?, ?it/s]"
      ]
     },
     "metadata": {},
     "output_type": "display_data"
    },
    {
     "name": "stdout",
     "output_type": "stream",
     "text": [
      "R2 score (new):  0.481\n",
      "batch i: 584, episode_len: 5, loss:  0.72749938, entropy:  1.00254428\n"
     ]
    },
    {
     "data": {
      "application/vnd.jupyter.widget-view+json": {
       "model_id": "f8328904021349949cb49ad1a4263ee1",
       "version_major": 2,
       "version_minor": 0
      },
      "text/plain": [
       "  0%|          | 0/1 [00:00<?, ?it/s]"
      ]
     },
     "metadata": {},
     "output_type": "display_data"
    },
    {
     "name": "stdout",
     "output_type": "stream",
     "text": [
      "R2 score (new):  0.273\n",
      "batch i: 585, episode_len: 7, loss:  0.71203355, entropy:  0.98638511\n"
     ]
    },
    {
     "data": {
      "application/vnd.jupyter.widget-view+json": {
       "model_id": "71591b88a6db4aa6ac7fee5c9d1402a0",
       "version_major": 2,
       "version_minor": 0
      },
      "text/plain": [
       "  0%|          | 0/1 [00:00<?, ?it/s]"
      ]
     },
     "metadata": {},
     "output_type": "display_data"
    },
    {
     "name": "stdout",
     "output_type": "stream",
     "text": [
      "R2 score (new):  0.528\n",
      "batch i: 586, episode_len: 9, loss:  0.73231363, entropy:  0.87158203\n"
     ]
    },
    {
     "data": {
      "application/vnd.jupyter.widget-view+json": {
       "model_id": "0d147e3a3d334681aa38f0bc6e26255b",
       "version_major": 2,
       "version_minor": 0
      },
      "text/plain": [
       "  0%|          | 0/1 [00:00<?, ?it/s]"
      ]
     },
     "metadata": {},
     "output_type": "display_data"
    },
    {
     "name": "stdout",
     "output_type": "stream",
     "text": [
      "R2 score (new):  0.391\n",
      "batch i: 587, episode_len: 9, loss:  0.72331695, entropy:  1.10902238\n"
     ]
    },
    {
     "data": {
      "application/vnd.jupyter.widget-view+json": {
       "model_id": "9cbb1f68fd294135896192ff03a81eb7",
       "version_major": 2,
       "version_minor": 0
      },
      "text/plain": [
       "  0%|          | 0/1 [00:00<?, ?it/s]"
      ]
     },
     "metadata": {},
     "output_type": "display_data"
    },
    {
     "name": "stdout",
     "output_type": "stream",
     "text": [
      "R2 score (new):  0.385\n",
      "batch i: 588, episode_len: 7, loss:  0.71944948, entropy:  0.97275543\n"
     ]
    },
    {
     "data": {
      "application/vnd.jupyter.widget-view+json": {
       "model_id": "c4cd9ce7df4245e8b6c58e1974dcf8bc",
       "version_major": 2,
       "version_minor": 0
      },
      "text/plain": [
       "  0%|          | 0/1 [00:00<?, ?it/s]"
      ]
     },
     "metadata": {},
     "output_type": "display_data"
    },
    {
     "name": "stdout",
     "output_type": "stream",
     "text": [
      "R2 score (new):  0.497\n",
      "batch i: 589, episode_len: 5, loss:  0.70634659, entropy:  0.92430794\n"
     ]
    },
    {
     "data": {
      "application/vnd.jupyter.widget-view+json": {
       "model_id": "0d9924d56e034cce870e354a6ff790a2",
       "version_major": 2,
       "version_minor": 0
      },
      "text/plain": [
       "  0%|          | 0/1 [00:00<?, ?it/s]"
      ]
     },
     "metadata": {},
     "output_type": "display_data"
    },
    {
     "name": "stdout",
     "output_type": "stream",
     "text": [
      "R2 score (new):  0.521\n",
      "batch i: 590, episode_len: 9, loss:  0.73341080, entropy:  0.97342902\n",
      "current self-play batch: 591\n",
      "Updating elo score...\n",
      "Complete.\n",
      "Elo score: AlphaZero:  1506.01, Benchmark:  1782.79\n",
      "   action: 0, prob_X:  11.48%\t   action: 0, prob_O:  21.73%\n",
      "   action: 1, prob_X:  10.74%\t   action: 1, prob_O:  1.57%\n",
      "   action: 2, prob_X:  10.54%\t   action: 2, prob_O:  25.07%\n",
      "⭐️ action: 3, prob_X:  12.31%\t   action: 3, prob_O:  0.96%\n",
      "   action: 4, prob_X:  10.70%\t   action: 4, prob_O:  0.04%\n",
      "   action: 5, prob_X:  12.29%\t   action: 5, prob_O:  0.57%\n",
      "   action: 6, prob_X:  10.81%\t⭐️ action: 6, prob_O:  26.20%\n",
      "   action: 7, prob_X:  9.87%\t   action: 7, prob_O:  1.76%\n",
      "   action: 8, prob_X:  11.25%\t   action: 8, prob_O:  22.10%\n",
      "State-value X: 0.2981\n",
      "State-value O: -0.6505\n",
      "Evaluating best player...\n",
      "Complete.\n"
     ]
    },
    {
     "data": {
      "application/vnd.jupyter.widget-view+json": {
       "model_id": "7563d474251749a2a532a3b8d9c95a34",
       "version_major": 2,
       "version_minor": 0
      },
      "text/plain": [
       "  0%|          | 0/1 [00:00<?, ?it/s]"
      ]
     },
     "metadata": {},
     "output_type": "display_data"
    },
    {
     "name": "stdout",
     "output_type": "stream",
     "text": [
      "R2 score (new):  0.479\n",
      "batch i: 591, episode_len: 9, loss:  0.68098008, entropy:  1.03695762\n"
     ]
    },
    {
     "data": {
      "application/vnd.jupyter.widget-view+json": {
       "model_id": "61b767212bb940c397bf8638eb3dcc76",
       "version_major": 2,
       "version_minor": 0
      },
      "text/plain": [
       "  0%|          | 0/1 [00:00<?, ?it/s]"
      ]
     },
     "metadata": {},
     "output_type": "display_data"
    },
    {
     "name": "stdout",
     "output_type": "stream",
     "text": [
      "R2 score (new):  0.505\n",
      "batch i: 592, episode_len: 9, loss:  0.69897788, entropy:  0.90452713\n"
     ]
    },
    {
     "data": {
      "application/vnd.jupyter.widget-view+json": {
       "model_id": "3a20eadfd5ff484caf22ca3a31c15ebe",
       "version_major": 2,
       "version_minor": 0
      },
      "text/plain": [
       "  0%|          | 0/1 [00:00<?, ?it/s]"
      ]
     },
     "metadata": {},
     "output_type": "display_data"
    },
    {
     "name": "stdout",
     "output_type": "stream",
     "text": [
      "R2 score (new):  0.513\n",
      "batch i: 593, episode_len: 9, loss:  0.75276030, entropy:  0.87508363\n"
     ]
    },
    {
     "data": {
      "application/vnd.jupyter.widget-view+json": {
       "model_id": "d7623180a1ef4ef1aed6148b4ba85d43",
       "version_major": 2,
       "version_minor": 0
      },
      "text/plain": [
       "  0%|          | 0/1 [00:00<?, ?it/s]"
      ]
     },
     "metadata": {},
     "output_type": "display_data"
    },
    {
     "name": "stdout",
     "output_type": "stream",
     "text": [
      "R2 score (new):  0.631\n",
      "batch i: 594, episode_len: 9, loss:  0.74521458, entropy:  1.02942276\n"
     ]
    },
    {
     "data": {
      "application/vnd.jupyter.widget-view+json": {
       "model_id": "a05b2e4fff6f4127b3bde5b2ccff9415",
       "version_major": 2,
       "version_minor": 0
      },
      "text/plain": [
       "  0%|          | 0/1 [00:00<?, ?it/s]"
      ]
     },
     "metadata": {},
     "output_type": "display_data"
    },
    {
     "name": "stdout",
     "output_type": "stream",
     "text": [
      "R2 score (new):  0.512\n",
      "batch i: 595, episode_len: 9, loss:  0.72193795, entropy:  1.00603819\n"
     ]
    },
    {
     "data": {
      "application/vnd.jupyter.widget-view+json": {
       "model_id": "f6a59d9a2b47493a8c950ab22c23430d",
       "version_major": 2,
       "version_minor": 0
      },
      "text/plain": [
       "  0%|          | 0/1 [00:00<?, ?it/s]"
      ]
     },
     "metadata": {},
     "output_type": "display_data"
    },
    {
     "name": "stdout",
     "output_type": "stream",
     "text": [
      "R2 score (new):  0.355\n",
      "batch i: 596, episode_len: 9, loss:  0.70579924, entropy:  1.01756442\n"
     ]
    },
    {
     "data": {
      "application/vnd.jupyter.widget-view+json": {
       "model_id": "b43196c354454081b9def86b1d596f42",
       "version_major": 2,
       "version_minor": 0
      },
      "text/plain": [
       "  0%|          | 0/1 [00:00<?, ?it/s]"
      ]
     },
     "metadata": {},
     "output_type": "display_data"
    },
    {
     "name": "stdout",
     "output_type": "stream",
     "text": [
      "R2 score (new):  0.298\n",
      "batch i: 597, episode_len: 9, loss:  0.72162548, entropy:  0.93194640\n"
     ]
    },
    {
     "data": {
      "application/vnd.jupyter.widget-view+json": {
       "model_id": "90042e26b1a04bdf8a4a0863ee6ae68b",
       "version_major": 2,
       "version_minor": 0
      },
      "text/plain": [
       "  0%|          | 0/1 [00:00<?, ?it/s]"
      ]
     },
     "metadata": {},
     "output_type": "display_data"
    },
    {
     "name": "stdout",
     "output_type": "stream",
     "text": [
      "R2 score (new):  0.337\n",
      "batch i: 598, episode_len: 9, loss:  0.71236540, entropy:  1.00642824\n"
     ]
    },
    {
     "data": {
      "application/vnd.jupyter.widget-view+json": {
       "model_id": "1b08b55bc38247c5ab74a475ba39fcf4",
       "version_major": 2,
       "version_minor": 0
      },
      "text/plain": [
       "  0%|          | 0/1 [00:00<?, ?it/s]"
      ]
     },
     "metadata": {},
     "output_type": "display_data"
    },
    {
     "name": "stdout",
     "output_type": "stream",
     "text": [
      "R2 score (new):  0.325\n",
      "batch i: 599, episode_len: 9, loss:  0.69721034, entropy:  1.00105000\n"
     ]
    },
    {
     "data": {
      "application/vnd.jupyter.widget-view+json": {
       "model_id": "bc7712741c32499b94df27ce8d939adb",
       "version_major": 2,
       "version_minor": 0
      },
      "text/plain": [
       "  0%|          | 0/1 [00:00<?, ?it/s]"
      ]
     },
     "metadata": {},
     "output_type": "display_data"
    },
    {
     "name": "stdout",
     "output_type": "stream",
     "text": [
      "R2 score (new):  0.521\n",
      "batch i: 600, episode_len: 7, loss:  0.69055352, entropy:  1.01573002\n",
      "current self-play batch: 601\n",
      "Updating elo score...\n",
      "Complete.\n",
      "Elo score: AlphaZero:  1500.00, Benchmark:  1793.33\n",
      "   action: 0, prob_X:  10.94%\t⭐️ action: 0, prob_O:  25.49%\n",
      "   action: 1, prob_X:  11.33%\t   action: 1, prob_O:  1.24%\n",
      "   action: 2, prob_X:  10.99%\t   action: 2, prob_O:  22.52%\n",
      "⭐️ action: 3, prob_X:  11.78%\t   action: 3, prob_O:  1.41%\n",
      "   action: 4, prob_X:  10.81%\t   action: 4, prob_O:  0.04%\n",
      "   action: 5, prob_X:  10.89%\t   action: 5, prob_O:  0.44%\n",
      "   action: 6, prob_X:  11.39%\t   action: 6, prob_O:  22.11%\n",
      "   action: 7, prob_X:  11.33%\t   action: 7, prob_O:  1.31%\n",
      "   action: 8, prob_X:  10.53%\t   action: 8, prob_O:  25.45%\n",
      "State-value X: 0.2665\n",
      "State-value O: -0.6481\n",
      "Evaluating best player...\n",
      "Complete.\n"
     ]
    },
    {
     "data": {
      "application/vnd.jupyter.widget-view+json": {
       "model_id": "b8684a5407fe4766894ed7afe9955b7c",
       "version_major": 2,
       "version_minor": 0
      },
      "text/plain": [
       "  0%|          | 0/1 [00:00<?, ?it/s]"
      ]
     },
     "metadata": {},
     "output_type": "display_data"
    },
    {
     "name": "stdout",
     "output_type": "stream",
     "text": [
      "R2 score (new):  0.299\n",
      "batch i: 601, episode_len: 9, loss:  0.69932329, entropy:  0.93453091\n"
     ]
    },
    {
     "data": {
      "application/vnd.jupyter.widget-view+json": {
       "model_id": "1aeae22cc8fb4aa8ab507bfa18ef4de1",
       "version_major": 2,
       "version_minor": 0
      },
      "text/plain": [
       "  0%|          | 0/1 [00:00<?, ?it/s]"
      ]
     },
     "metadata": {},
     "output_type": "display_data"
    },
    {
     "name": "stdout",
     "output_type": "stream",
     "text": [
      "R2 score (new):  0.552\n",
      "batch i: 602, episode_len: 6, loss:  0.70293045, entropy:  0.99463499\n"
     ]
    },
    {
     "data": {
      "application/vnd.jupyter.widget-view+json": {
       "model_id": "3d3d7d9582df491f9ca9730f341f9701",
       "version_major": 2,
       "version_minor": 0
      },
      "text/plain": [
       "  0%|          | 0/1 [00:00<?, ?it/s]"
      ]
     },
     "metadata": {},
     "output_type": "display_data"
    },
    {
     "name": "stdout",
     "output_type": "stream",
     "text": [
      "R2 score (new):  0.413\n",
      "batch i: 603, episode_len: 7, loss:  0.72697730, entropy:  0.96979988\n"
     ]
    },
    {
     "data": {
      "application/vnd.jupyter.widget-view+json": {
       "model_id": "bbe317bd9dd3493aa7dc64c61ca53434",
       "version_major": 2,
       "version_minor": 0
      },
      "text/plain": [
       "  0%|          | 0/1 [00:00<?, ?it/s]"
      ]
     },
     "metadata": {},
     "output_type": "display_data"
    },
    {
     "name": "stdout",
     "output_type": "stream",
     "text": [
      "R2 score (new):  0.395\n",
      "batch i: 604, episode_len: 9, loss:  0.73237772, entropy:  0.91310000\n"
     ]
    },
    {
     "data": {
      "application/vnd.jupyter.widget-view+json": {
       "model_id": "84c70336c187420cb7302f1624909e50",
       "version_major": 2,
       "version_minor": 0
      },
      "text/plain": [
       "  0%|          | 0/1 [00:00<?, ?it/s]"
      ]
     },
     "metadata": {},
     "output_type": "display_data"
    },
    {
     "name": "stdout",
     "output_type": "stream",
     "text": [
      "R2 score (new):  0.510\n",
      "batch i: 605, episode_len: 5, loss:  0.70962182, entropy:  0.97794396\n"
     ]
    },
    {
     "data": {
      "application/vnd.jupyter.widget-view+json": {
       "model_id": "280e0b382ea941eea3455cbf9f267121",
       "version_major": 2,
       "version_minor": 0
      },
      "text/plain": [
       "  0%|          | 0/1 [00:00<?, ?it/s]"
      ]
     },
     "metadata": {},
     "output_type": "display_data"
    },
    {
     "name": "stdout",
     "output_type": "stream",
     "text": [
      "R2 score (new):  0.436\n",
      "batch i: 606, episode_len: 5, loss:  0.73449818, entropy:  1.00183964\n"
     ]
    },
    {
     "data": {
      "application/vnd.jupyter.widget-view+json": {
       "model_id": "0efd473c14994957b0747098c241763c",
       "version_major": 2,
       "version_minor": 0
      },
      "text/plain": [
       "  0%|          | 0/1 [00:00<?, ?it/s]"
      ]
     },
     "metadata": {},
     "output_type": "display_data"
    },
    {
     "name": "stdout",
     "output_type": "stream",
     "text": [
      "R2 score (new): -0.485\n",
      "batch i: 607, episode_len: 9, loss:  0.85354442, entropy:  1.22854173\n"
     ]
    },
    {
     "data": {
      "application/vnd.jupyter.widget-view+json": {
       "model_id": "68c37f23914b441784a4b3b6a3809d20",
       "version_major": 2,
       "version_minor": 0
      },
      "text/plain": [
       "  0%|          | 0/1 [00:00<?, ?it/s]"
      ]
     },
     "metadata": {},
     "output_type": "display_data"
    },
    {
     "name": "stdout",
     "output_type": "stream",
     "text": [
      "R2 score (new):  0.000\n",
      "batch i: 608, episode_len: 9, loss:  0.77524682, entropy:  1.10019398\n"
     ]
    },
    {
     "data": {
      "application/vnd.jupyter.widget-view+json": {
       "model_id": "3fb261e55f1043e2a52c07bdbe61de7b",
       "version_major": 2,
       "version_minor": 0
      },
      "text/plain": [
       "  0%|          | 0/1 [00:00<?, ?it/s]"
      ]
     },
     "metadata": {},
     "output_type": "display_data"
    },
    {
     "name": "stdout",
     "output_type": "stream",
     "text": [
      "R2 score (new):  0.124\n",
      "batch i: 609, episode_len: 9, loss:  0.76307129, entropy:  0.92505127\n"
     ]
    },
    {
     "data": {
      "application/vnd.jupyter.widget-view+json": {
       "model_id": "4d40304ccc254ce5b029612213411cdd",
       "version_major": 2,
       "version_minor": 0
      },
      "text/plain": [
       "  0%|          | 0/1 [00:00<?, ?it/s]"
      ]
     },
     "metadata": {},
     "output_type": "display_data"
    },
    {
     "name": "stdout",
     "output_type": "stream",
     "text": [
      "R2 score (new):  0.806\n",
      "batch i: 610, episode_len: 9, loss:  0.80353064, entropy:  1.19822454\n",
      "current self-play batch: 611\n",
      "Updating elo score...\n",
      "Complete.\n",
      "Elo score: AlphaZero:  1500.00, Benchmark:  1803.19\n",
      "   action: 0, prob_X:  10.99%\t   action: 0, prob_O:  24.06%\n",
      "   action: 1, prob_X:  9.57%\t   action: 1, prob_O:  1.66%\n",
      "   action: 2, prob_X:  12.25%\t   action: 2, prob_O:  21.99%\n",
      "⭐️ action: 3, prob_X:  15.89%\t   action: 3, prob_O:  2.54%\n",
      "   action: 4, prob_X:  6.39%\t   action: 4, prob_O:  0.05%\n",
      "   action: 5, prob_X:  12.96%\t   action: 5, prob_O:  0.84%\n",
      "   action: 6, prob_X:  9.52%\t⭐️ action: 6, prob_O:  27.52%\n",
      "   action: 7, prob_X:  9.37%\t   action: 7, prob_O:  1.45%\n",
      "   action: 8, prob_X:  13.06%\t   action: 8, prob_O:  19.89%\n",
      "State-value X: 0.2834\n",
      "State-value O: -0.6381\n",
      "Evaluating best player...\n",
      "Complete.\n"
     ]
    },
    {
     "data": {
      "application/vnd.jupyter.widget-view+json": {
       "model_id": "cf1421302b8f423581371dff8e2d4a96",
       "version_major": 2,
       "version_minor": 0
      },
      "text/plain": [
       "  0%|          | 0/1 [00:00<?, ?it/s]"
      ]
     },
     "metadata": {},
     "output_type": "display_data"
    },
    {
     "name": "stdout",
     "output_type": "stream",
     "text": [
      "R2 score (new):  0.296\n",
      "batch i: 611, episode_len: 9, loss:  0.78256578, entropy:  1.17592728\n"
     ]
    },
    {
     "data": {
      "application/vnd.jupyter.widget-view+json": {
       "model_id": "0f6b316dab864f09b8a2fcfbdc753605",
       "version_major": 2,
       "version_minor": 0
      },
      "text/plain": [
       "  0%|          | 0/1 [00:00<?, ?it/s]"
      ]
     },
     "metadata": {},
     "output_type": "display_data"
    },
    {
     "name": "stdout",
     "output_type": "stream",
     "text": [
      "R2 score (new):  0.565\n",
      "batch i: 612, episode_len: 7, loss:  0.75497696, entropy:  1.01287639\n"
     ]
    },
    {
     "data": {
      "application/vnd.jupyter.widget-view+json": {
       "model_id": "99802f5dd4d24d60a269903c424467ce",
       "version_major": 2,
       "version_minor": 0
      },
      "text/plain": [
       "  0%|          | 0/1 [00:00<?, ?it/s]"
      ]
     },
     "metadata": {},
     "output_type": "display_data"
    },
    {
     "name": "stdout",
     "output_type": "stream",
     "text": [
      "R2 score (new): -0.234\n",
      "batch i: 613, episode_len: 5, loss:  0.75335240, entropy:  1.11076021\n"
     ]
    },
    {
     "data": {
      "application/vnd.jupyter.widget-view+json": {
       "model_id": "20f0ee4118f94ebfbf690a98d06d5208",
       "version_major": 2,
       "version_minor": 0
      },
      "text/plain": [
       "  0%|          | 0/1 [00:00<?, ?it/s]"
      ]
     },
     "metadata": {},
     "output_type": "display_data"
    },
    {
     "name": "stdout",
     "output_type": "stream",
     "text": [
      "R2 score (new):  0.361\n",
      "batch i: 614, episode_len: 5, loss:  0.75642016, entropy:  1.50271261\n"
     ]
    },
    {
     "data": {
      "application/vnd.jupyter.widget-view+json": {
       "model_id": "242fa4f42b864a44b5c26c10c3a19ee0",
       "version_major": 2,
       "version_minor": 0
      },
      "text/plain": [
       "  0%|          | 0/1 [00:00<?, ?it/s]"
      ]
     },
     "metadata": {},
     "output_type": "display_data"
    },
    {
     "name": "stdout",
     "output_type": "stream",
     "text": [
      "R2 score (new):  0.699\n",
      "batch i: 615, episode_len: 9, loss:  0.71195698, entropy:  0.78998768\n"
     ]
    },
    {
     "data": {
      "application/vnd.jupyter.widget-view+json": {
       "model_id": "e6ec4f6e81d94331b449a6f7bfa38586",
       "version_major": 2,
       "version_minor": 0
      },
      "text/plain": [
       "  0%|          | 0/1 [00:00<?, ?it/s]"
      ]
     },
     "metadata": {},
     "output_type": "display_data"
    },
    {
     "name": "stdout",
     "output_type": "stream",
     "text": [
      "R2 score (new):  0.476\n",
      "batch i: 616, episode_len: 7, loss:  0.71514978, entropy:  0.84807193\n"
     ]
    },
    {
     "data": {
      "application/vnd.jupyter.widget-view+json": {
       "model_id": "821ec88d3a43468b8da8ab03a620f3a2",
       "version_major": 2,
       "version_minor": 0
      },
      "text/plain": [
       "  0%|          | 0/1 [00:00<?, ?it/s]"
      ]
     },
     "metadata": {},
     "output_type": "display_data"
    },
    {
     "name": "stdout",
     "output_type": "stream",
     "text": [
      "R2 score (new):  0.524\n",
      "batch i: 617, episode_len: 5, loss:  0.71090939, entropy:  1.14216232\n"
     ]
    },
    {
     "data": {
      "application/vnd.jupyter.widget-view+json": {
       "model_id": "31aa17fa2fdd46d0bfdd3e34842b598a",
       "version_major": 2,
       "version_minor": 0
      },
      "text/plain": [
       "  0%|          | 0/1 [00:00<?, ?it/s]"
      ]
     },
     "metadata": {},
     "output_type": "display_data"
    },
    {
     "name": "stdout",
     "output_type": "stream",
     "text": [
      "R2 score (new):  0.635\n",
      "batch i: 618, episode_len: 9, loss:  0.71541115, entropy:  0.89593089\n"
     ]
    },
    {
     "data": {
      "application/vnd.jupyter.widget-view+json": {
       "model_id": "3b6c365afed8448598e3ff6665af3be4",
       "version_major": 2,
       "version_minor": 0
      },
      "text/plain": [
       "  0%|          | 0/1 [00:00<?, ?it/s]"
      ]
     },
     "metadata": {},
     "output_type": "display_data"
    },
    {
     "name": "stdout",
     "output_type": "stream",
     "text": [
      "R2 score (new):  0.669\n",
      "batch i: 619, episode_len: 5, loss:  0.74266315, entropy:  0.78101158\n"
     ]
    },
    {
     "data": {
      "application/vnd.jupyter.widget-view+json": {
       "model_id": "79fec7cf3f8646a7af7c2976ad654a42",
       "version_major": 2,
       "version_minor": 0
      },
      "text/plain": [
       "  0%|          | 0/1 [00:00<?, ?it/s]"
      ]
     },
     "metadata": {},
     "output_type": "display_data"
    },
    {
     "name": "stdout",
     "output_type": "stream",
     "text": [
      "R2 score (new):  0.216\n",
      "batch i: 620, episode_len: 9, loss:  0.75583508, entropy:  0.92861927\n",
      "current self-play batch: 621\n",
      "Updating elo score...\n",
      "Complete.\n",
      "Elo score: AlphaZero:  1505.94, Benchmark:  1797.25\n",
      "   action: 0, prob_X:  10.31%\t   action: 0, prob_O:  22.06%\n",
      "   action: 1, prob_X:  10.91%\t   action: 1, prob_O:  0.78%\n",
      "   action: 2, prob_X:  10.27%\t⭐️ action: 2, prob_O:  27.56%\n",
      "   action: 3, prob_X:  9.90%\t   action: 3, prob_O:  1.14%\n",
      "⭐️ action: 4, prob_X:  16.33%\t   action: 4, prob_O:  0.01%\n",
      "   action: 5, prob_X:  9.93%\t   action: 5, prob_O:  0.53%\n",
      "   action: 6, prob_X:  10.48%\t   action: 6, prob_O:  26.45%\n",
      "   action: 7, prob_X:  11.12%\t   action: 7, prob_O:  0.77%\n",
      "   action: 8, prob_X:  10.75%\t   action: 8, prob_O:  20.70%\n",
      "State-value X: 0.3369\n",
      "State-value O: -0.6403\n",
      "Evaluating best player...\n",
      "Complete.\n"
     ]
    },
    {
     "data": {
      "application/vnd.jupyter.widget-view+json": {
       "model_id": "f67f116361ea46aabc674d02675fbe46",
       "version_major": 2,
       "version_minor": 0
      },
      "text/plain": [
       "  0%|          | 0/1 [00:00<?, ?it/s]"
      ]
     },
     "metadata": {},
     "output_type": "display_data"
    },
    {
     "name": "stdout",
     "output_type": "stream",
     "text": [
      "R2 score (new):  0.183\n",
      "batch i: 621, episode_len: 9, loss:  0.75038144, entropy:  1.16026032\n"
     ]
    },
    {
     "data": {
      "application/vnd.jupyter.widget-view+json": {
       "model_id": "1a4e98fde20a409cafe9329e3213a3db",
       "version_major": 2,
       "version_minor": 0
      },
      "text/plain": [
       "  0%|          | 0/1 [00:00<?, ?it/s]"
      ]
     },
     "metadata": {},
     "output_type": "display_data"
    },
    {
     "name": "stdout",
     "output_type": "stream",
     "text": [
      "R2 score (new): -0.036\n",
      "batch i: 622, episode_len: 9, loss:  0.71619690, entropy:  1.02986360\n"
     ]
    },
    {
     "data": {
      "application/vnd.jupyter.widget-view+json": {
       "model_id": "03119b91468e4f559d1cc1dba2a6bf32",
       "version_major": 2,
       "version_minor": 0
      },
      "text/plain": [
       "  0%|          | 0/1 [00:00<?, ?it/s]"
      ]
     },
     "metadata": {},
     "output_type": "display_data"
    },
    {
     "name": "stdout",
     "output_type": "stream",
     "text": [
      "R2 score (new):  0.378\n",
      "batch i: 623, episode_len: 9, loss:  0.70873096, entropy:  1.13380587\n"
     ]
    },
    {
     "data": {
      "application/vnd.jupyter.widget-view+json": {
       "model_id": "ad03610b886c4c0790922cbf68080fa6",
       "version_major": 2,
       "version_minor": 0
      },
      "text/plain": [
       "  0%|          | 0/1 [00:00<?, ?it/s]"
      ]
     },
     "metadata": {},
     "output_type": "display_data"
    },
    {
     "name": "stdout",
     "output_type": "stream",
     "text": [
      "R2 score (new):  0.721\n",
      "batch i: 624, episode_len: 7, loss:  0.75598718, entropy:  0.93168968\n"
     ]
    },
    {
     "data": {
      "application/vnd.jupyter.widget-view+json": {
       "model_id": "56f15f4d2ab6417197e5d3130211c6d9",
       "version_major": 2,
       "version_minor": 0
      },
      "text/plain": [
       "  0%|          | 0/1 [00:00<?, ?it/s]"
      ]
     },
     "metadata": {},
     "output_type": "display_data"
    },
    {
     "name": "stdout",
     "output_type": "stream",
     "text": [
      "R2 score (new):  0.513\n",
      "batch i: 625, episode_len: 9, loss:  0.70091427, entropy:  1.07002258\n"
     ]
    },
    {
     "data": {
      "application/vnd.jupyter.widget-view+json": {
       "model_id": "39f105bcd16b448a9443638936ca5d0a",
       "version_major": 2,
       "version_minor": 0
      },
      "text/plain": [
       "  0%|          | 0/1 [00:00<?, ?it/s]"
      ]
     },
     "metadata": {},
     "output_type": "display_data"
    },
    {
     "name": "stdout",
     "output_type": "stream",
     "text": [
      "R2 score (new):  0.492\n",
      "batch i: 626, episode_len: 5, loss:  0.74551372, entropy:  0.94327366\n"
     ]
    },
    {
     "data": {
      "application/vnd.jupyter.widget-view+json": {
       "model_id": "a8a88057896846a4bdeec96fa388abd3",
       "version_major": 2,
       "version_minor": 0
      },
      "text/plain": [
       "  0%|          | 0/1 [00:00<?, ?it/s]"
      ]
     },
     "metadata": {},
     "output_type": "display_data"
    },
    {
     "name": "stdout",
     "output_type": "stream",
     "text": [
      "R2 score (new):  0.514\n",
      "batch i: 627, episode_len: 9, loss:  0.70139526, entropy:  1.09977400\n"
     ]
    },
    {
     "data": {
      "application/vnd.jupyter.widget-view+json": {
       "model_id": "8715a4a4a9e047d98f94f4c547ac921b",
       "version_major": 2,
       "version_minor": 0
      },
      "text/plain": [
       "  0%|          | 0/1 [00:00<?, ?it/s]"
      ]
     },
     "metadata": {},
     "output_type": "display_data"
    },
    {
     "name": "stdout",
     "output_type": "stream",
     "text": [
      "R2 score (new):  0.338\n",
      "batch i: 628, episode_len: 9, loss:  0.69066297, entropy:  1.05953741\n"
     ]
    },
    {
     "data": {
      "application/vnd.jupyter.widget-view+json": {
       "model_id": "887c6900da83465e92ba4b32c63df2a4",
       "version_major": 2,
       "version_minor": 0
      },
      "text/plain": [
       "  0%|          | 0/1 [00:00<?, ?it/s]"
      ]
     },
     "metadata": {},
     "output_type": "display_data"
    },
    {
     "name": "stdout",
     "output_type": "stream",
     "text": [
      "R2 score (new):  0.160\n",
      "batch i: 629, episode_len: 7, loss:  0.68317585, entropy:  1.05399239\n"
     ]
    },
    {
     "data": {
      "application/vnd.jupyter.widget-view+json": {
       "model_id": "c8ee7655efdf4aa1b39568406da95452",
       "version_major": 2,
       "version_minor": 0
      },
      "text/plain": [
       "  0%|          | 0/1 [00:00<?, ?it/s]"
      ]
     },
     "metadata": {},
     "output_type": "display_data"
    },
    {
     "name": "stdout",
     "output_type": "stream",
     "text": [
      "R2 score (new):  0.310\n",
      "batch i: 630, episode_len: 5, loss:  0.74288087, entropy:  0.81497306\n",
      "current self-play batch: 631\n",
      "Updating elo score...\n",
      "Complete.\n",
      "Elo score: AlphaZero:  1500.00, Benchmark:  1807.09\n",
      "   action: 0, prob_X:  12.09%\t   action: 0, prob_O:  16.40%\n",
      "   action: 1, prob_X:  10.20%\t   action: 1, prob_O:  0.74%\n",
      "   action: 2, prob_X:  9.89%\t⭐️ action: 2, prob_O:  31.73%\n",
      "   action: 3, prob_X:  10.88%\t   action: 3, prob_O:  1.22%\n",
      "   action: 4, prob_X:  12.54%\t   action: 4, prob_O:  0.02%\n",
      "   action: 5, prob_X:  9.49%\t   action: 5, prob_O:  1.34%\n",
      "⭐️ action: 6, prob_X:  13.34%\t   action: 6, prob_O:  22.32%\n",
      "   action: 7, prob_X:  11.09%\t   action: 7, prob_O:  0.89%\n",
      "   action: 8, prob_X:  10.48%\t   action: 8, prob_O:  25.34%\n",
      "State-value X: 0.2368\n",
      "State-value O: -0.6362\n",
      "Evaluating best player...\n",
      "Complete.\n"
     ]
    },
    {
     "data": {
      "application/vnd.jupyter.widget-view+json": {
       "model_id": "d37bbba499284dc9b2b4c172a811ff72",
       "version_major": 2,
       "version_minor": 0
      },
      "text/plain": [
       "  0%|          | 0/1 [00:00<?, ?it/s]"
      ]
     },
     "metadata": {},
     "output_type": "display_data"
    },
    {
     "name": "stdout",
     "output_type": "stream",
     "text": [
      "R2 score (new):  0.555\n",
      "batch i: 631, episode_len: 9, loss:  0.70638319, entropy:  0.87531900\n"
     ]
    },
    {
     "data": {
      "application/vnd.jupyter.widget-view+json": {
       "model_id": "e3b3be8454d244809974e8c787d7d858",
       "version_major": 2,
       "version_minor": 0
      },
      "text/plain": [
       "  0%|          | 0/1 [00:00<?, ?it/s]"
      ]
     },
     "metadata": {},
     "output_type": "display_data"
    },
    {
     "name": "stdout",
     "output_type": "stream",
     "text": [
      "R2 score (new):  0.448\n",
      "batch i: 632, episode_len: 9, loss:  0.72022044, entropy:  1.13616025\n"
     ]
    },
    {
     "data": {
      "application/vnd.jupyter.widget-view+json": {
       "model_id": "8536278c1b6e42a897b8e36ca0fb7f13",
       "version_major": 2,
       "version_minor": 0
      },
      "text/plain": [
       "  0%|          | 0/1 [00:00<?, ?it/s]"
      ]
     },
     "metadata": {},
     "output_type": "display_data"
    },
    {
     "name": "stdout",
     "output_type": "stream",
     "text": [
      "R2 score (new):  0.460\n",
      "batch i: 633, episode_len: 9, loss:  0.73135193, entropy:  1.05611575\n"
     ]
    },
    {
     "data": {
      "application/vnd.jupyter.widget-view+json": {
       "model_id": "3a670d56427f441b8c6e736d3bb65c34",
       "version_major": 2,
       "version_minor": 0
      },
      "text/plain": [
       "  0%|          | 0/1 [00:00<?, ?it/s]"
      ]
     },
     "metadata": {},
     "output_type": "display_data"
    },
    {
     "name": "stdout",
     "output_type": "stream",
     "text": [
      "R2 score (new):  0.340\n",
      "batch i: 634, episode_len: 9, loss:  0.68649864, entropy:  1.00365055\n"
     ]
    },
    {
     "data": {
      "application/vnd.jupyter.widget-view+json": {
       "model_id": "08d4186935ce4b0281e71d2104f5386a",
       "version_major": 2,
       "version_minor": 0
      },
      "text/plain": [
       "  0%|          | 0/1 [00:00<?, ?it/s]"
      ]
     },
     "metadata": {},
     "output_type": "display_data"
    },
    {
     "name": "stdout",
     "output_type": "stream",
     "text": [
      "R2 score (new):  0.567\n",
      "batch i: 635, episode_len: 7, loss:  0.68232084, entropy:  0.95213270\n"
     ]
    },
    {
     "data": {
      "application/vnd.jupyter.widget-view+json": {
       "model_id": "b4ba17bed40f46bfaa4d2da7d1310a71",
       "version_major": 2,
       "version_minor": 0
      },
      "text/plain": [
       "  0%|          | 0/1 [00:00<?, ?it/s]"
      ]
     },
     "metadata": {},
     "output_type": "display_data"
    },
    {
     "name": "stdout",
     "output_type": "stream",
     "text": [
      "R2 score (new):  0.462\n",
      "batch i: 636, episode_len: 9, loss:  0.69466304, entropy:  0.87976527\n"
     ]
    },
    {
     "data": {
      "application/vnd.jupyter.widget-view+json": {
       "model_id": "cd6d6d7552d64ee5a54fc4292c50e59c",
       "version_major": 2,
       "version_minor": 0
      },
      "text/plain": [
       "  0%|          | 0/1 [00:00<?, ?it/s]"
      ]
     },
     "metadata": {},
     "output_type": "display_data"
    },
    {
     "name": "stdout",
     "output_type": "stream",
     "text": [
      "R2 score (new):  0.411\n",
      "batch i: 637, episode_len: 9, loss:  0.71545053, entropy:  1.08057678\n"
     ]
    },
    {
     "data": {
      "application/vnd.jupyter.widget-view+json": {
       "model_id": "dd4423735b7444e19728c77ea6cf0528",
       "version_major": 2,
       "version_minor": 0
      },
      "text/plain": [
       "  0%|          | 0/1 [00:00<?, ?it/s]"
      ]
     },
     "metadata": {},
     "output_type": "display_data"
    },
    {
     "name": "stdout",
     "output_type": "stream",
     "text": [
      "R2 score (new):  0.496\n",
      "batch i: 638, episode_len: 9, loss:  0.71164107, entropy:  1.02670908\n"
     ]
    },
    {
     "data": {
      "application/vnd.jupyter.widget-view+json": {
       "model_id": "5d847e90f20c4a29be2d0e5ee13ebb38",
       "version_major": 2,
       "version_minor": 0
      },
      "text/plain": [
       "  0%|          | 0/1 [00:00<?, ?it/s]"
      ]
     },
     "metadata": {},
     "output_type": "display_data"
    },
    {
     "name": "stdout",
     "output_type": "stream",
     "text": [
      "R2 score (new):  0.363\n",
      "batch i: 639, episode_len: 9, loss:  0.68930558, entropy:  0.97692800\n"
     ]
    },
    {
     "data": {
      "application/vnd.jupyter.widget-view+json": {
       "model_id": "4402dfe730ba4c24b5f57b180a4b10c4",
       "version_major": 2,
       "version_minor": 0
      },
      "text/plain": [
       "  0%|          | 0/1 [00:00<?, ?it/s]"
      ]
     },
     "metadata": {},
     "output_type": "display_data"
    },
    {
     "name": "stdout",
     "output_type": "stream",
     "text": [
      "R2 score (new):  0.386\n",
      "batch i: 640, episode_len: 9, loss:  0.72966323, entropy:  1.01794338\n",
      "current self-play batch: 641\n",
      "Updating elo score...\n",
      "Complete.\n",
      "Elo score: AlphaZero:  1506.12, Benchmark:  1800.96\n",
      "   action: 0, prob_X:  11.25%\t   action: 0, prob_O:  22.83%\n",
      "   action: 1, prob_X:  11.56%\t   action: 1, prob_O:  0.69%\n",
      "   action: 2, prob_X:  10.62%\t⭐️ action: 2, prob_O:  27.19%\n",
      "⭐️ action: 3, prob_X:  12.45%\t   action: 3, prob_O:  0.89%\n",
      "   action: 4, prob_X:  9.71%\t   action: 4, prob_O:  0.01%\n",
      "   action: 5, prob_X:  11.65%\t   action: 5, prob_O:  0.85%\n",
      "   action: 6, prob_X:  10.87%\t   action: 6, prob_O:  21.61%\n",
      "   action: 7, prob_X:  11.75%\t   action: 7, prob_O:  0.66%\n",
      "   action: 8, prob_X:  10.12%\t   action: 8, prob_O:  25.26%\n",
      "State-value X: 0.2159\n",
      "State-value O: -0.6582\n",
      "Evaluating best player...\n",
      "Complete.\n"
     ]
    },
    {
     "data": {
      "application/vnd.jupyter.widget-view+json": {
       "model_id": "041b6f43daf64f11a080621a5a6c4690",
       "version_major": 2,
       "version_minor": 0
      },
      "text/plain": [
       "  0%|          | 0/1 [00:00<?, ?it/s]"
      ]
     },
     "metadata": {},
     "output_type": "display_data"
    },
    {
     "name": "stdout",
     "output_type": "stream",
     "text": [
      "R2 score (new):  0.586\n",
      "batch i: 641, episode_len: 9, loss:  0.72675094, entropy:  1.00288379\n"
     ]
    },
    {
     "data": {
      "application/vnd.jupyter.widget-view+json": {
       "model_id": "11743881f3d949acb5a3c5bfa026fa92",
       "version_major": 2,
       "version_minor": 0
      },
      "text/plain": [
       "  0%|          | 0/1 [00:00<?, ?it/s]"
      ]
     },
     "metadata": {},
     "output_type": "display_data"
    },
    {
     "name": "stdout",
     "output_type": "stream",
     "text": [
      "R2 score (new):  0.578\n",
      "batch i: 642, episode_len: 9, loss:  0.71043074, entropy:  1.01246834\n"
     ]
    },
    {
     "data": {
      "application/vnd.jupyter.widget-view+json": {
       "model_id": "56bb01b7486045479f304f4c2d5e4045",
       "version_major": 2,
       "version_minor": 0
      },
      "text/plain": [
       "  0%|          | 0/1 [00:00<?, ?it/s]"
      ]
     },
     "metadata": {},
     "output_type": "display_data"
    },
    {
     "name": "stdout",
     "output_type": "stream",
     "text": [
      "R2 score (new):  0.314\n",
      "batch i: 643, episode_len: 9, loss:  0.68723382, entropy:  0.94501668\n"
     ]
    },
    {
     "data": {
      "application/vnd.jupyter.widget-view+json": {
       "model_id": "6af5ef76265a4deea0a127e96ad10ae1",
       "version_major": 2,
       "version_minor": 0
      },
      "text/plain": [
       "  0%|          | 0/1 [00:00<?, ?it/s]"
      ]
     },
     "metadata": {},
     "output_type": "display_data"
    },
    {
     "name": "stdout",
     "output_type": "stream",
     "text": [
      "R2 score (new):  0.401\n",
      "batch i: 644, episode_len: 9, loss:  0.69446401, entropy:  0.94172746\n"
     ]
    },
    {
     "data": {
      "application/vnd.jupyter.widget-view+json": {
       "model_id": "fc3005affc5a468189207b64867f91dc",
       "version_major": 2,
       "version_minor": 0
      },
      "text/plain": [
       "  0%|          | 0/1 [00:00<?, ?it/s]"
      ]
     },
     "metadata": {},
     "output_type": "display_data"
    },
    {
     "name": "stdout",
     "output_type": "stream",
     "text": [
      "R2 score (new):  0.310\n",
      "batch i: 645, episode_len: 5, loss:  0.72829089, entropy:  1.02108061\n"
     ]
    },
    {
     "data": {
      "application/vnd.jupyter.widget-view+json": {
       "model_id": "df665a5dd85e4ad6b770c5069b413ca3",
       "version_major": 2,
       "version_minor": 0
      },
      "text/plain": [
       "  0%|          | 0/1 [00:00<?, ?it/s]"
      ]
     },
     "metadata": {},
     "output_type": "display_data"
    },
    {
     "name": "stdout",
     "output_type": "stream",
     "text": [
      "R2 score (new):  0.342\n",
      "batch i: 646, episode_len: 9, loss:  0.69130282, entropy:  1.00770319\n"
     ]
    },
    {
     "data": {
      "application/vnd.jupyter.widget-view+json": {
       "model_id": "a14dd3a700d04bd78e747cc0990e0a62",
       "version_major": 2,
       "version_minor": 0
      },
      "text/plain": [
       "  0%|          | 0/1 [00:00<?, ?it/s]"
      ]
     },
     "metadata": {},
     "output_type": "display_data"
    },
    {
     "name": "stdout",
     "output_type": "stream",
     "text": [
      "R2 score (new):  0.477\n",
      "batch i: 647, episode_len: 9, loss:  0.67336561, entropy:  0.94106704\n"
     ]
    },
    {
     "data": {
      "application/vnd.jupyter.widget-view+json": {
       "model_id": "fcc805e3d6e84072b77f00bcb8851c7c",
       "version_major": 2,
       "version_minor": 0
      },
      "text/plain": [
       "  0%|          | 0/1 [00:00<?, ?it/s]"
      ]
     },
     "metadata": {},
     "output_type": "display_data"
    },
    {
     "name": "stdout",
     "output_type": "stream",
     "text": [
      "R2 score (new):  0.360\n",
      "batch i: 648, episode_len: 5, loss:  0.70135842, entropy:  0.96762419\n"
     ]
    },
    {
     "data": {
      "application/vnd.jupyter.widget-view+json": {
       "model_id": "1b799a7893ad47b2a4f3a2abe2436275",
       "version_major": 2,
       "version_minor": 0
      },
      "text/plain": [
       "  0%|          | 0/1 [00:00<?, ?it/s]"
      ]
     },
     "metadata": {},
     "output_type": "display_data"
    },
    {
     "name": "stdout",
     "output_type": "stream",
     "text": [
      "R2 score (new):  0.401\n",
      "batch i: 649, episode_len: 5, loss:  0.70173203, entropy:  0.97811037\n"
     ]
    },
    {
     "data": {
      "application/vnd.jupyter.widget-view+json": {
       "model_id": "bbf713866a87420fb745d5bf41987a9c",
       "version_major": 2,
       "version_minor": 0
      },
      "text/plain": [
       "  0%|          | 0/1 [00:00<?, ?it/s]"
      ]
     },
     "metadata": {},
     "output_type": "display_data"
    },
    {
     "name": "stdout",
     "output_type": "stream",
     "text": [
      "R2 score (new):  0.607\n",
      "batch i: 650, episode_len: 7, loss:  0.71916856, entropy:  0.93644100\n",
      "current self-play batch: 651\n",
      "Updating elo score...\n",
      "Complete.\n",
      "Elo score: AlphaZero:  1512.45, Benchmark:  1794.64\n",
      "   action: 0, prob_X:  9.38%\t⭐️ action: 0, prob_O:  25.66%\n",
      "   action: 1, prob_X:  11.93%\t   action: 1, prob_O:  0.37%\n",
      "   action: 2, prob_X:  9.31%\t   action: 2, prob_O:  24.24%\n",
      "   action: 3, prob_X:  12.25%\t   action: 3, prob_O:  0.51%\n",
      "   action: 4, prob_X:  12.14%\t   action: 4, prob_O:  0.01%\n",
      "⭐️ action: 5, prob_X:  12.70%\t   action: 5, prob_O:  0.30%\n",
      "   action: 6, prob_X:  9.92%\t   action: 6, prob_O:  23.62%\n",
      "   action: 7, prob_X:  12.45%\t   action: 7, prob_O:  0.35%\n",
      "   action: 8, prob_X:  9.91%\t   action: 8, prob_O:  24.95%\n",
      "State-value X: 0.3152\n",
      "State-value O: -0.6624\n",
      "Evaluating best player...\n",
      "Complete.\n"
     ]
    },
    {
     "data": {
      "application/vnd.jupyter.widget-view+json": {
       "model_id": "86c33caa249947789cbdf6e4b59ba74a",
       "version_major": 2,
       "version_minor": 0
      },
      "text/plain": [
       "  0%|          | 0/1 [00:00<?, ?it/s]"
      ]
     },
     "metadata": {},
     "output_type": "display_data"
    },
    {
     "name": "stdout",
     "output_type": "stream",
     "text": [
      "R2 score (new):  0.591\n",
      "batch i: 651, episode_len: 9, loss:  0.69753316, entropy:  0.93370110\n"
     ]
    },
    {
     "data": {
      "application/vnd.jupyter.widget-view+json": {
       "model_id": "56fc5c1cc30045e2a6f2ca2cebc2e508",
       "version_major": 2,
       "version_minor": 0
      },
      "text/plain": [
       "  0%|          | 0/1 [00:00<?, ?it/s]"
      ]
     },
     "metadata": {},
     "output_type": "display_data"
    },
    {
     "name": "stdout",
     "output_type": "stream",
     "text": [
      "R2 score (new):  0.516\n",
      "batch i: 652, episode_len: 9, loss:  0.71005341, entropy:  1.04935050\n"
     ]
    },
    {
     "data": {
      "application/vnd.jupyter.widget-view+json": {
       "model_id": "4bd70270353e46ae9e0b737372c9537d",
       "version_major": 2,
       "version_minor": 0
      },
      "text/plain": [
       "  0%|          | 0/1 [00:00<?, ?it/s]"
      ]
     },
     "metadata": {},
     "output_type": "display_data"
    },
    {
     "name": "stdout",
     "output_type": "stream",
     "text": [
      "R2 score (new):  0.442\n",
      "batch i: 653, episode_len: 9, loss:  0.67522241, entropy:  1.01223791\n"
     ]
    },
    {
     "data": {
      "application/vnd.jupyter.widget-view+json": {
       "model_id": "308a654ee4ad4bd48b315c79080e9440",
       "version_major": 2,
       "version_minor": 0
      },
      "text/plain": [
       "  0%|          | 0/1 [00:00<?, ?it/s]"
      ]
     },
     "metadata": {},
     "output_type": "display_data"
    },
    {
     "name": "stdout",
     "output_type": "stream",
     "text": [
      "R2 score (new):  0.189\n",
      "batch i: 654, episode_len: 9, loss:  0.69155974, entropy:  0.92677289\n"
     ]
    },
    {
     "data": {
      "application/vnd.jupyter.widget-view+json": {
       "model_id": "4e044d0f052d4bc4b15909fdc9126dbe",
       "version_major": 2,
       "version_minor": 0
      },
      "text/plain": [
       "  0%|          | 0/1 [00:00<?, ?it/s]"
      ]
     },
     "metadata": {},
     "output_type": "display_data"
    },
    {
     "name": "stdout",
     "output_type": "stream",
     "text": [
      "R2 score (new):  0.415\n",
      "batch i: 655, episode_len: 9, loss:  0.65277514, entropy:  0.86525166\n"
     ]
    },
    {
     "data": {
      "application/vnd.jupyter.widget-view+json": {
       "model_id": "da854b7e2e5541429fd4caf20e59e33c",
       "version_major": 2,
       "version_minor": 0
      },
      "text/plain": [
       "  0%|          | 0/1 [00:00<?, ?it/s]"
      ]
     },
     "metadata": {},
     "output_type": "display_data"
    },
    {
     "name": "stdout",
     "output_type": "stream",
     "text": [
      "R2 score (new):  0.419\n",
      "batch i: 656, episode_len: 9, loss:  0.67796226, entropy:  1.00727117\n"
     ]
    },
    {
     "data": {
      "application/vnd.jupyter.widget-view+json": {
       "model_id": "84a022697a8b4638bea465694ff201c1",
       "version_major": 2,
       "version_minor": 0
      },
      "text/plain": [
       "  0%|          | 0/1 [00:00<?, ?it/s]"
      ]
     },
     "metadata": {},
     "output_type": "display_data"
    },
    {
     "name": "stdout",
     "output_type": "stream",
     "text": [
      "R2 score (new):  0.386\n",
      "batch i: 657, episode_len: 9, loss:  0.69912283, entropy:  0.98944390\n"
     ]
    },
    {
     "data": {
      "application/vnd.jupyter.widget-view+json": {
       "model_id": "b589fde04b094aa69b8851b6ea0d32b4",
       "version_major": 2,
       "version_minor": 0
      },
      "text/plain": [
       "  0%|          | 0/1 [00:00<?, ?it/s]"
      ]
     },
     "metadata": {},
     "output_type": "display_data"
    },
    {
     "name": "stdout",
     "output_type": "stream",
     "text": [
      "R2 score (new):  0.503\n",
      "batch i: 658, episode_len: 5, loss:  0.67405828, entropy:  0.88664860\n"
     ]
    },
    {
     "data": {
      "application/vnd.jupyter.widget-view+json": {
       "model_id": "237b802b053d448fb122ee88075045f4",
       "version_major": 2,
       "version_minor": 0
      },
      "text/plain": [
       "  0%|          | 0/1 [00:00<?, ?it/s]"
      ]
     },
     "metadata": {},
     "output_type": "display_data"
    },
    {
     "name": "stdout",
     "output_type": "stream",
     "text": [
      "R2 score (new):  0.512\n",
      "batch i: 659, episode_len: 5, loss:  0.71911765, entropy:  0.95116562\n"
     ]
    },
    {
     "data": {
      "application/vnd.jupyter.widget-view+json": {
       "model_id": "2fa1c1390ce44669bbaf500acec18ff2",
       "version_major": 2,
       "version_minor": 0
      },
      "text/plain": [
       "  0%|          | 0/1 [00:00<?, ?it/s]"
      ]
     },
     "metadata": {},
     "output_type": "display_data"
    },
    {
     "name": "stdout",
     "output_type": "stream",
     "text": [
      "R2 score (new):  0.379\n",
      "batch i: 660, episode_len: 9, loss:  0.72629438, entropy:  0.97704613\n",
      "current self-play batch: 661\n",
      "Updating elo score...\n",
      "Complete.\n",
      "Elo score: AlphaZero:  1517.35, Benchmark:  1789.74\n",
      "   action: 0, prob_X:  10.83%\t   action: 0, prob_O:  20.51%\n",
      "⭐️ action: 1, prob_X:  12.29%\t   action: 1, prob_O:  0.48%\n",
      "   action: 2, prob_X:  11.01%\t⭐️ action: 2, prob_O:  28.29%\n",
      "   action: 3, prob_X:  11.56%\t   action: 3, prob_O:  0.78%\n",
      "   action: 4, prob_X:  10.55%\t   action: 4, prob_O:  0.01%\n",
      "   action: 5, prob_X:  10.67%\t   action: 5, prob_O:  0.69%\n",
      "   action: 6, prob_X:  11.13%\t   action: 6, prob_O:  23.36%\n",
      "   action: 7, prob_X:  11.78%\t   action: 7, prob_O:  0.60%\n",
      "   action: 8, prob_X:  10.19%\t   action: 8, prob_O:  25.28%\n",
      "State-value X: 0.2126\n",
      "State-value O: -0.6612\n",
      "Evaluating best player...\n",
      "Complete.\n"
     ]
    },
    {
     "data": {
      "application/vnd.jupyter.widget-view+json": {
       "model_id": "843be4516fa94bb292f113c1a9c800f5",
       "version_major": 2,
       "version_minor": 0
      },
      "text/plain": [
       "  0%|          | 0/1 [00:00<?, ?it/s]"
      ]
     },
     "metadata": {},
     "output_type": "display_data"
    },
    {
     "name": "stdout",
     "output_type": "stream",
     "text": [
      "R2 score (new):  0.350\n",
      "batch i: 661, episode_len: 5, loss:  0.65773366, entropy:  1.06752503\n"
     ]
    },
    {
     "data": {
      "application/vnd.jupyter.widget-view+json": {
       "model_id": "ce516c4cc066484bb61d824e1251ae0a",
       "version_major": 2,
       "version_minor": 0
      },
      "text/plain": [
       "  0%|          | 0/1 [00:00<?, ?it/s]"
      ]
     },
     "metadata": {},
     "output_type": "display_data"
    },
    {
     "name": "stdout",
     "output_type": "stream",
     "text": [
      "R2 score (new):  0.642\n",
      "batch i: 662, episode_len: 9, loss:  0.68722316, entropy:  0.87003201\n"
     ]
    },
    {
     "data": {
      "application/vnd.jupyter.widget-view+json": {
       "model_id": "6ca519535f9e45849b447d573265ccf3",
       "version_major": 2,
       "version_minor": 0
      },
      "text/plain": [
       "  0%|          | 0/1 [00:00<?, ?it/s]"
      ]
     },
     "metadata": {},
     "output_type": "display_data"
    },
    {
     "name": "stdout",
     "output_type": "stream",
     "text": [
      "R2 score (new):  0.511\n",
      "batch i: 663, episode_len: 5, loss:  0.69104845, entropy:  0.97663933\n"
     ]
    },
    {
     "data": {
      "application/vnd.jupyter.widget-view+json": {
       "model_id": "795d4420dc5e4f92824666a65c405a57",
       "version_major": 2,
       "version_minor": 0
      },
      "text/plain": [
       "  0%|          | 0/1 [00:00<?, ?it/s]"
      ]
     },
     "metadata": {},
     "output_type": "display_data"
    },
    {
     "name": "stdout",
     "output_type": "stream",
     "text": [
      "R2 score (new):  0.499\n",
      "batch i: 664, episode_len: 9, loss:  0.68196713, entropy:  1.00073564\n"
     ]
    },
    {
     "data": {
      "application/vnd.jupyter.widget-view+json": {
       "model_id": "75b30c4114ca4fa692d16bfe02741db1",
       "version_major": 2,
       "version_minor": 0
      },
      "text/plain": [
       "  0%|          | 0/1 [00:00<?, ?it/s]"
      ]
     },
     "metadata": {},
     "output_type": "display_data"
    },
    {
     "name": "stdout",
     "output_type": "stream",
     "text": [
      "R2 score (new):  0.499\n",
      "batch i: 665, episode_len: 5, loss:  0.76167489, entropy:  0.90616274\n"
     ]
    },
    {
     "data": {
      "application/vnd.jupyter.widget-view+json": {
       "model_id": "4f5acb98171c4dcf8026fa71c69f85a8",
       "version_major": 2,
       "version_minor": 0
      },
      "text/plain": [
       "  0%|          | 0/1 [00:00<?, ?it/s]"
      ]
     },
     "metadata": {},
     "output_type": "display_data"
    },
    {
     "name": "stdout",
     "output_type": "stream",
     "text": [
      "R2 score (new):  0.551\n",
      "batch i: 666, episode_len: 9, loss:  0.69621646, entropy:  0.97926587\n"
     ]
    },
    {
     "data": {
      "application/vnd.jupyter.widget-view+json": {
       "model_id": "33c7579ee2544d76a6562ec9b3c80d8d",
       "version_major": 2,
       "version_minor": 0
      },
      "text/plain": [
       "  0%|          | 0/1 [00:00<?, ?it/s]"
      ]
     },
     "metadata": {},
     "output_type": "display_data"
    },
    {
     "name": "stdout",
     "output_type": "stream",
     "text": [
      "R2 score (new):  0.604\n",
      "batch i: 667, episode_len: 9, loss:  0.69907058, entropy:  0.90166402\n"
     ]
    },
    {
     "data": {
      "application/vnd.jupyter.widget-view+json": {
       "model_id": "eb0fbda5e0e7432685edeadd77ec72e7",
       "version_major": 2,
       "version_minor": 0
      },
      "text/plain": [
       "  0%|          | 0/1 [00:00<?, ?it/s]"
      ]
     },
     "metadata": {},
     "output_type": "display_data"
    },
    {
     "name": "stdout",
     "output_type": "stream",
     "text": [
      "R2 score (new):  0.391\n",
      "batch i: 668, episode_len: 5, loss:  0.68188722, entropy:  0.98616254\n"
     ]
    },
    {
     "data": {
      "application/vnd.jupyter.widget-view+json": {
       "model_id": "939539a6440f43b6929279c4463eb4a0",
       "version_major": 2,
       "version_minor": 0
      },
      "text/plain": [
       "  0%|          | 0/1 [00:00<?, ?it/s]"
      ]
     },
     "metadata": {},
     "output_type": "display_data"
    },
    {
     "name": "stdout",
     "output_type": "stream",
     "text": [
      "R2 score (new):  0.473\n",
      "batch i: 669, episode_len: 9, loss:  0.68730035, entropy:  0.94675207\n"
     ]
    },
    {
     "data": {
      "application/vnd.jupyter.widget-view+json": {
       "model_id": "369c0e33a50e43409d1c750b32f54c4e",
       "version_major": 2,
       "version_minor": 0
      },
      "text/plain": [
       "  0%|          | 0/1 [00:00<?, ?it/s]"
      ]
     },
     "metadata": {},
     "output_type": "display_data"
    },
    {
     "name": "stdout",
     "output_type": "stream",
     "text": [
      "R2 score (new):  0.281\n",
      "batch i: 670, episode_len: 5, loss:  0.68444746, entropy:  1.04176438\n",
      "current self-play batch: 671\n",
      "Updating elo score...\n",
      "Complete.\n",
      "Elo score: AlphaZero:  1537.73, Benchmark:  1769.35\n",
      "   action: 0, prob_X:  11.12%\t   action: 0, prob_O:  24.18%\n",
      "   action: 1, prob_X:  11.46%\t   action: 1, prob_O:  0.87%\n",
      "   action: 2, prob_X:  10.83%\t   action: 2, prob_O:  24.46%\n",
      "⭐️ action: 3, prob_X:  12.32%\t   action: 3, prob_O:  1.14%\n",
      "   action: 4, prob_X:  10.28%\t   action: 4, prob_O:  0.02%\n",
      "   action: 5, prob_X:  10.44%\t   action: 5, prob_O:  1.20%\n",
      "   action: 6, prob_X:  11.90%\t⭐️ action: 6, prob_O:  26.56%\n",
      "   action: 7, prob_X:  11.44%\t   action: 7, prob_O:  1.12%\n",
      "   action: 8, prob_X:  10.21%\t   action: 8, prob_O:  20.44%\n",
      "State-value X: 0.2176\n",
      "State-value O: -0.6635\n",
      "Evaluating best player...\n",
      "Complete.\n"
     ]
    },
    {
     "data": {
      "application/vnd.jupyter.widget-view+json": {
       "model_id": "c6a662fdd0dd4006b80c8124843829e6",
       "version_major": 2,
       "version_minor": 0
      },
      "text/plain": [
       "  0%|          | 0/1 [00:00<?, ?it/s]"
      ]
     },
     "metadata": {},
     "output_type": "display_data"
    },
    {
     "name": "stdout",
     "output_type": "stream",
     "text": [
      "R2 score (new):  0.473\n",
      "batch i: 671, episode_len: 9, loss:  0.66091878, entropy:  0.89400494\n"
     ]
    },
    {
     "data": {
      "application/vnd.jupyter.widget-view+json": {
       "model_id": "e461598001994b4fac77515b4fac332b",
       "version_major": 2,
       "version_minor": 0
      },
      "text/plain": [
       "  0%|          | 0/1 [00:00<?, ?it/s]"
      ]
     },
     "metadata": {},
     "output_type": "display_data"
    },
    {
     "name": "stdout",
     "output_type": "stream",
     "text": [
      "R2 score (new):  0.761\n",
      "batch i: 672, episode_len: 9, loss:  0.95508052, entropy:  0.99549210\n"
     ]
    },
    {
     "data": {
      "application/vnd.jupyter.widget-view+json": {
       "model_id": "f0f2ea71977a4e2fa3bf9e1df81d2126",
       "version_major": 2,
       "version_minor": 0
      },
      "text/plain": [
       "  0%|          | 0/1 [00:00<?, ?it/s]"
      ]
     },
     "metadata": {},
     "output_type": "display_data"
    },
    {
     "name": "stdout",
     "output_type": "stream",
     "text": [
      "R2 score (new):  0.592\n",
      "batch i: 673, episode_len: 5, loss:  0.92881029, entropy:  1.43057072\n"
     ]
    },
    {
     "data": {
      "application/vnd.jupyter.widget-view+json": {
       "model_id": "28e1b64a32cf4eb6a50c8d19ecb63b64",
       "version_major": 2,
       "version_minor": 0
      },
      "text/plain": [
       "  0%|          | 0/1 [00:00<?, ?it/s]"
      ]
     },
     "metadata": {},
     "output_type": "display_data"
    },
    {
     "name": "stdout",
     "output_type": "stream",
     "text": [
      "R2 score (new):  0.691\n",
      "batch i: 674, episode_len: 9, loss:  0.95952164, entropy:  1.32657838\n"
     ]
    },
    {
     "data": {
      "application/vnd.jupyter.widget-view+json": {
       "model_id": "7b291ce5dccf4d3389c40b1ebf9413fa",
       "version_major": 2,
       "version_minor": 0
      },
      "text/plain": [
       "  0%|          | 0/1 [00:00<?, ?it/s]"
      ]
     },
     "metadata": {},
     "output_type": "display_data"
    },
    {
     "name": "stdout",
     "output_type": "stream",
     "text": [
      "R2 score (new):  0.543\n",
      "batch i: 675, episode_len: 5, loss:  0.79443719, entropy:  1.21093452\n"
     ]
    },
    {
     "data": {
      "application/vnd.jupyter.widget-view+json": {
       "model_id": "0c6c0dbfb43d4b4499f99b3df6d3a8d4",
       "version_major": 2,
       "version_minor": 0
      },
      "text/plain": [
       "  0%|          | 0/1 [00:00<?, ?it/s]"
      ]
     },
     "metadata": {},
     "output_type": "display_data"
    },
    {
     "name": "stdout",
     "output_type": "stream",
     "text": [
      "R2 score (new):  0.207\n",
      "batch i: 676, episode_len: 5, loss:  0.81243191, entropy:  1.12208414\n"
     ]
    },
    {
     "data": {
      "application/vnd.jupyter.widget-view+json": {
       "model_id": "2e2edbe67f5b4f94bd9edf4c9ba6ff76",
       "version_major": 2,
       "version_minor": 0
      },
      "text/plain": [
       "  0%|          | 0/1 [00:00<?, ?it/s]"
      ]
     },
     "metadata": {},
     "output_type": "display_data"
    },
    {
     "name": "stdout",
     "output_type": "stream",
     "text": [
      "R2 score (new):  0.479\n",
      "batch i: 677, episode_len: 9, loss:  0.77711942, entropy:  1.08151937\n"
     ]
    },
    {
     "data": {
      "application/vnd.jupyter.widget-view+json": {
       "model_id": "8609ddde411f4d99bc13d1f6f1f0493e",
       "version_major": 2,
       "version_minor": 0
      },
      "text/plain": [
       "  0%|          | 0/1 [00:00<?, ?it/s]"
      ]
     },
     "metadata": {},
     "output_type": "display_data"
    },
    {
     "name": "stdout",
     "output_type": "stream",
     "text": [
      "R2 score (new):  0.404\n",
      "batch i: 678, episode_len: 6, loss:  0.75502704, entropy:  1.12886703\n"
     ]
    },
    {
     "data": {
      "application/vnd.jupyter.widget-view+json": {
       "model_id": "2d7e7b0aea4340129fef7f9e9eb5f7f5",
       "version_major": 2,
       "version_minor": 0
      },
      "text/plain": [
       "  0%|          | 0/1 [00:00<?, ?it/s]"
      ]
     },
     "metadata": {},
     "output_type": "display_data"
    },
    {
     "name": "stdout",
     "output_type": "stream",
     "text": [
      "R2 score (new):  0.300\n",
      "batch i: 679, episode_len: 9, loss:  0.74826118, entropy:  1.28923738\n"
     ]
    },
    {
     "data": {
      "application/vnd.jupyter.widget-view+json": {
       "model_id": "71a4901016af4c3ca10807ae3e537773",
       "version_major": 2,
       "version_minor": 0
      },
      "text/plain": [
       "  0%|          | 0/1 [00:00<?, ?it/s]"
      ]
     },
     "metadata": {},
     "output_type": "display_data"
    },
    {
     "name": "stdout",
     "output_type": "stream",
     "text": [
      "R2 score (new):  0.202\n",
      "batch i: 680, episode_len: 9, loss:  0.71652283, entropy:  1.01670945\n",
      "current self-play batch: 681\n",
      "Updating elo score...\n",
      "Complete.\n",
      "Elo score: AlphaZero:  1539.80, Benchmark:  1767.29\n",
      "   action: 0, prob_X:  9.82%\t   action: 0, prob_O:  19.58%\n",
      "   action: 1, prob_X:  11.90%\t   action: 1, prob_O:  0.61%\n",
      "   action: 2, prob_X:  9.18%\t⭐️ action: 2, prob_O:  29.13%\n",
      "   action: 3, prob_X:  10.14%\t   action: 3, prob_O:  0.93%\n",
      "⭐️ action: 4, prob_X:  14.56%\t   action: 4, prob_O:  0.04%\n",
      "   action: 5, prob_X:  10.18%\t   action: 5, prob_O:  0.77%\n",
      "   action: 6, prob_X:  10.89%\t   action: 6, prob_O:  23.38%\n",
      "   action: 7, prob_X:  13.26%\t   action: 7, prob_O:  0.72%\n",
      "   action: 8, prob_X:  10.08%\t   action: 8, prob_O:  24.83%\n",
      "State-value X: 0.2562\n",
      "State-value O: -0.6725\n",
      "Evaluating best player...\n",
      "Complete.\n"
     ]
    },
    {
     "data": {
      "application/vnd.jupyter.widget-view+json": {
       "model_id": "582d309d95f54fb58e3d519d18097bf1",
       "version_major": 2,
       "version_minor": 0
      },
      "text/plain": [
       "  0%|          | 0/1 [00:00<?, ?it/s]"
      ]
     },
     "metadata": {},
     "output_type": "display_data"
    },
    {
     "name": "stdout",
     "output_type": "stream",
     "text": [
      "R2 score (new):  0.526\n",
      "batch i: 681, episode_len: 9, loss:  0.71829135, entropy:  1.05250037\n"
     ]
    },
    {
     "data": {
      "application/vnd.jupyter.widget-view+json": {
       "model_id": "fb2181b69d164f73b717ccdf1b02a5fc",
       "version_major": 2,
       "version_minor": 0
      },
      "text/plain": [
       "  0%|          | 0/1 [00:00<?, ?it/s]"
      ]
     },
     "metadata": {},
     "output_type": "display_data"
    },
    {
     "name": "stdout",
     "output_type": "stream",
     "text": [
      "R2 score (new):  0.349\n",
      "batch i: 682, episode_len: 5, loss:  0.70086006, entropy:  1.16074061\n"
     ]
    },
    {
     "data": {
      "application/vnd.jupyter.widget-view+json": {
       "model_id": "c14ebe687f124e618b4c24a96bb5aeea",
       "version_major": 2,
       "version_minor": 0
      },
      "text/plain": [
       "  0%|          | 0/1 [00:00<?, ?it/s]"
      ]
     },
     "metadata": {},
     "output_type": "display_data"
    },
    {
     "name": "stdout",
     "output_type": "stream",
     "text": [
      "R2 score (new):  0.746\n",
      "batch i: 683, episode_len: 9, loss:  0.70915938, entropy:  1.00756311\n"
     ]
    },
    {
     "data": {
      "application/vnd.jupyter.widget-view+json": {
       "model_id": "998ba2a327434e5182ad073eb9277f34",
       "version_major": 2,
       "version_minor": 0
      },
      "text/plain": [
       "  0%|          | 0/1 [00:00<?, ?it/s]"
      ]
     },
     "metadata": {},
     "output_type": "display_data"
    },
    {
     "name": "stdout",
     "output_type": "stream",
     "text": [
      "R2 score (new):  0.394\n",
      "batch i: 684, episode_len: 9, loss:  0.72505708, entropy:  0.94615364\n"
     ]
    },
    {
     "data": {
      "application/vnd.jupyter.widget-view+json": {
       "model_id": "b8054441ed27419bb5c142f5052daeeb",
       "version_major": 2,
       "version_minor": 0
      },
      "text/plain": [
       "  0%|          | 0/1 [00:00<?, ?it/s]"
      ]
     },
     "metadata": {},
     "output_type": "display_data"
    },
    {
     "name": "stdout",
     "output_type": "stream",
     "text": [
      "R2 score (new):  0.310\n",
      "batch i: 685, episode_len: 9, loss:  0.74064435, entropy:  1.00521898\n"
     ]
    },
    {
     "data": {
      "application/vnd.jupyter.widget-view+json": {
       "model_id": "24d8519d77a14f569b8dea5e8c90d982",
       "version_major": 2,
       "version_minor": 0
      },
      "text/plain": [
       "  0%|          | 0/1 [00:00<?, ?it/s]"
      ]
     },
     "metadata": {},
     "output_type": "display_data"
    },
    {
     "name": "stdout",
     "output_type": "stream",
     "text": [
      "R2 score (new):  0.704\n",
      "batch i: 686, episode_len: 5, loss:  0.71631604, entropy:  0.85264528\n"
     ]
    },
    {
     "data": {
      "application/vnd.jupyter.widget-view+json": {
       "model_id": "cb8713de7a644933a7bbed1e8c372d42",
       "version_major": 2,
       "version_minor": 0
      },
      "text/plain": [
       "  0%|          | 0/1 [00:00<?, ?it/s]"
      ]
     },
     "metadata": {},
     "output_type": "display_data"
    },
    {
     "name": "stdout",
     "output_type": "stream",
     "text": [
      "R2 score (new):  0.547\n",
      "batch i: 687, episode_len: 9, loss:  0.77254737, entropy:  1.01580751\n"
     ]
    },
    {
     "data": {
      "application/vnd.jupyter.widget-view+json": {
       "model_id": "91dbb4ace7254141b6ffd1eb70b127db",
       "version_major": 2,
       "version_minor": 0
      },
      "text/plain": [
       "  0%|          | 0/1 [00:00<?, ?it/s]"
      ]
     },
     "metadata": {},
     "output_type": "display_data"
    },
    {
     "name": "stdout",
     "output_type": "stream",
     "text": [
      "R2 score (new):  0.666\n",
      "batch i: 688, episode_len: 5, loss:  0.69869580, entropy:  1.16924226\n"
     ]
    },
    {
     "data": {
      "application/vnd.jupyter.widget-view+json": {
       "model_id": "24ccd2e46fbc477faf165a42b8196e36",
       "version_major": 2,
       "version_minor": 0
      },
      "text/plain": [
       "  0%|          | 0/1 [00:00<?, ?it/s]"
      ]
     },
     "metadata": {},
     "output_type": "display_data"
    },
    {
     "name": "stdout",
     "output_type": "stream",
     "text": [
      "R2 score (new):  0.385\n",
      "batch i: 689, episode_len: 9, loss:  0.73473473, entropy:  0.92098421\n"
     ]
    },
    {
     "data": {
      "application/vnd.jupyter.widget-view+json": {
       "model_id": "5fa4e4df3c6f44dda6c8947fbc45c378",
       "version_major": 2,
       "version_minor": 0
      },
      "text/plain": [
       "  0%|          | 0/1 [00:00<?, ?it/s]"
      ]
     },
     "metadata": {},
     "output_type": "display_data"
    },
    {
     "name": "stdout",
     "output_type": "stream",
     "text": [
      "R2 score (new):  0.596\n",
      "batch i: 690, episode_len: 9, loss:  0.67558384, entropy:  0.98838359\n",
      "current self-play batch: 691\n",
      "Updating elo score...\n",
      "Complete.\n",
      "Elo score: AlphaZero:  1557.61, Benchmark:  1749.48\n",
      "   action: 0, prob_X:  10.61%\t⭐️ action: 0, prob_O:  28.31%\n",
      "   action: 1, prob_X:  11.99%\t   action: 1, prob_O:  0.50%\n",
      "   action: 2, prob_X:  10.32%\t   action: 2, prob_O:  21.12%\n",
      "   action: 3, prob_X:  10.92%\t   action: 3, prob_O:  1.14%\n",
      "   action: 4, prob_X:  10.69%\t   action: 4, prob_O:  0.01%\n",
      "   action: 5, prob_X:  11.29%\t   action: 5, prob_O:  0.52%\n",
      "   action: 6, prob_X:  11.08%\t   action: 6, prob_O:  22.71%\n",
      "⭐️ action: 7, prob_X:  12.38%\t   action: 7, prob_O:  0.72%\n",
      "   action: 8, prob_X:  10.73%\t   action: 8, prob_O:  24.96%\n",
      "State-value X: 0.2671\n",
      "State-value O: -0.6787\n",
      "Evaluating best player...\n",
      "Complete.\n"
     ]
    },
    {
     "data": {
      "application/vnd.jupyter.widget-view+json": {
       "model_id": "1129b27bad63499388728179f21da447",
       "version_major": 2,
       "version_minor": 0
      },
      "text/plain": [
       "  0%|          | 0/1 [00:00<?, ?it/s]"
      ]
     },
     "metadata": {},
     "output_type": "display_data"
    },
    {
     "name": "stdout",
     "output_type": "stream",
     "text": [
      "R2 score (new):  0.544\n",
      "batch i: 691, episode_len: 9, loss:  0.69173745, entropy:  0.95692122\n"
     ]
    },
    {
     "data": {
      "application/vnd.jupyter.widget-view+json": {
       "model_id": "25827a1036394b37816310564479064e",
       "version_major": 2,
       "version_minor": 0
      },
      "text/plain": [
       "  0%|          | 0/1 [00:00<?, ?it/s]"
      ]
     },
     "metadata": {},
     "output_type": "display_data"
    },
    {
     "name": "stdout",
     "output_type": "stream",
     "text": [
      "R2 score (new):  0.598\n",
      "batch i: 692, episode_len: 5, loss:  0.71903397, entropy:  1.03967094\n"
     ]
    },
    {
     "data": {
      "application/vnd.jupyter.widget-view+json": {
       "model_id": "4a27c09fc76a448aa9b98fe0496697bf",
       "version_major": 2,
       "version_minor": 0
      },
      "text/plain": [
       "  0%|          | 0/1 [00:00<?, ?it/s]"
      ]
     },
     "metadata": {},
     "output_type": "display_data"
    },
    {
     "name": "stdout",
     "output_type": "stream",
     "text": [
      "R2 score (new):  0.323\n",
      "batch i: 693, episode_len: 5, loss:  0.70165903, entropy:  1.02819240\n"
     ]
    },
    {
     "data": {
      "application/vnd.jupyter.widget-view+json": {
       "model_id": "70da7b784dbc4d18965ba189776ef5ff",
       "version_major": 2,
       "version_minor": 0
      },
      "text/plain": [
       "  0%|          | 0/1 [00:00<?, ?it/s]"
      ]
     },
     "metadata": {},
     "output_type": "display_data"
    },
    {
     "name": "stdout",
     "output_type": "stream",
     "text": [
      "R2 score (new):  0.256\n",
      "batch i: 694, episode_len: 5, loss:  0.70993809, entropy:  0.97006345\n"
     ]
    },
    {
     "data": {
      "application/vnd.jupyter.widget-view+json": {
       "model_id": "4b0ab14b44534da584eaebfbf472ba77",
       "version_major": 2,
       "version_minor": 0
      },
      "text/plain": [
       "  0%|          | 0/1 [00:00<?, ?it/s]"
      ]
     },
     "metadata": {},
     "output_type": "display_data"
    },
    {
     "name": "stdout",
     "output_type": "stream",
     "text": [
      "R2 score (new):  0.534\n",
      "batch i: 695, episode_len: 5, loss:  0.71538172, entropy:  0.94567996\n"
     ]
    },
    {
     "data": {
      "application/vnd.jupyter.widget-view+json": {
       "model_id": "b6e441623cc24d7bb784232377a5dbe7",
       "version_major": 2,
       "version_minor": 0
      },
      "text/plain": [
       "  0%|          | 0/1 [00:00<?, ?it/s]"
      ]
     },
     "metadata": {},
     "output_type": "display_data"
    },
    {
     "name": "stdout",
     "output_type": "stream",
     "text": [
      "R2 score (new):  0.431\n",
      "batch i: 696, episode_len: 5, loss:  0.69663670, entropy:  1.04917610\n"
     ]
    },
    {
     "data": {
      "application/vnd.jupyter.widget-view+json": {
       "model_id": "c19d2f3cda8c4310a18345a5e3804459",
       "version_major": 2,
       "version_minor": 0
      },
      "text/plain": [
       "  0%|          | 0/1 [00:00<?, ?it/s]"
      ]
     },
     "metadata": {},
     "output_type": "display_data"
    },
    {
     "name": "stdout",
     "output_type": "stream",
     "text": [
      "R2 score (new):  0.691\n",
      "batch i: 697, episode_len: 9, loss:  0.70282265, entropy:  0.91908497\n"
     ]
    },
    {
     "data": {
      "application/vnd.jupyter.widget-view+json": {
       "model_id": "017593e716eb472aa8c1768ea36518ff",
       "version_major": 2,
       "version_minor": 0
      },
      "text/plain": [
       "  0%|          | 0/1 [00:00<?, ?it/s]"
      ]
     },
     "metadata": {},
     "output_type": "display_data"
    },
    {
     "name": "stdout",
     "output_type": "stream",
     "text": [
      "R2 score (new):  0.261\n",
      "batch i: 698, episode_len: 9, loss:  0.68296356, entropy:  1.04581881\n"
     ]
    },
    {
     "data": {
      "application/vnd.jupyter.widget-view+json": {
       "model_id": "e77b555e3ede41d9bd065e14687ae3bf",
       "version_major": 2,
       "version_minor": 0
      },
      "text/plain": [
       "  0%|          | 0/1 [00:00<?, ?it/s]"
      ]
     },
     "metadata": {},
     "output_type": "display_data"
    },
    {
     "name": "stdout",
     "output_type": "stream",
     "text": [
      "R2 score (new):  0.625\n",
      "batch i: 699, episode_len: 8, loss:  0.71286762, entropy:  1.01459312\n"
     ]
    },
    {
     "data": {
      "application/vnd.jupyter.widget-view+json": {
       "model_id": "0d98df00e5da49239cdd4fd9156e4fe0",
       "version_major": 2,
       "version_minor": 0
      },
      "text/plain": [
       "  0%|          | 0/1 [00:00<?, ?it/s]"
      ]
     },
     "metadata": {},
     "output_type": "display_data"
    },
    {
     "name": "stdout",
     "output_type": "stream",
     "text": [
      "R2 score (new):  0.571\n",
      "batch i: 700, episode_len: 9, loss:  0.71344003, entropy:  1.02382755\n",
      "current self-play batch: 701\n",
      "Updating elo score...\n",
      "Complete.\n",
      "Elo score: AlphaZero:  1557.11, Benchmark:  1749.97\n",
      "   action: 0, prob_X:  10.91%\t   action: 0, prob_O:  19.48%\n",
      "   action: 1, prob_X:  10.09%\t   action: 1, prob_O:  1.20%\n",
      "   action: 2, prob_X:  10.25%\t⭐️ action: 2, prob_O:  28.18%\n",
      "   action: 3, prob_X:  12.82%\t   action: 3, prob_O:  0.96%\n",
      "   action: 4, prob_X:  10.40%\t   action: 4, prob_O:  0.02%\n",
      "⭐️ action: 5, prob_X:  13.37%\t   action: 5, prob_O:  0.36%\n",
      "   action: 6, prob_X:  10.45%\t   action: 6, prob_O:  24.27%\n",
      "   action: 7, prob_X:  10.48%\t   action: 7, prob_O:  1.41%\n",
      "   action: 8, prob_X:  11.24%\t   action: 8, prob_O:  24.12%\n",
      "State-value X: 0.2853\n",
      "State-value O: -0.6752\n",
      "Evaluating best player...\n",
      "Complete.\n",
      "New best policy!!\n"
     ]
    },
    {
     "data": {
      "application/vnd.jupyter.widget-view+json": {
       "model_id": "6fb580ea31cb445ea5e5315b4090a72f",
       "version_major": 2,
       "version_minor": 0
      },
      "text/plain": [
       "  0%|          | 0/1 [00:00<?, ?it/s]"
      ]
     },
     "metadata": {},
     "output_type": "display_data"
    },
    {
     "name": "stdout",
     "output_type": "stream",
     "text": [
      "R2 score (new):  0.180\n",
      "batch i: 701, episode_len: 5, loss:  0.69359541, entropy:  1.01211715\n"
     ]
    },
    {
     "data": {
      "application/vnd.jupyter.widget-view+json": {
       "model_id": "7e1fe8ae6cd7408e8a4ab4fcb38b4c1a",
       "version_major": 2,
       "version_minor": 0
      },
      "text/plain": [
       "  0%|          | 0/1 [00:00<?, ?it/s]"
      ]
     },
     "metadata": {},
     "output_type": "display_data"
    },
    {
     "name": "stdout",
     "output_type": "stream",
     "text": [
      "R2 score (new):  0.359\n",
      "batch i: 702, episode_len: 9, loss:  0.71404656, entropy:  1.03844798\n"
     ]
    },
    {
     "data": {
      "application/vnd.jupyter.widget-view+json": {
       "model_id": "cb8d57856110455e947f39b10b87df97",
       "version_major": 2,
       "version_minor": 0
      },
      "text/plain": [
       "  0%|          | 0/1 [00:00<?, ?it/s]"
      ]
     },
     "metadata": {},
     "output_type": "display_data"
    },
    {
     "name": "stdout",
     "output_type": "stream",
     "text": [
      "R2 score (new):  0.378\n",
      "batch i: 703, episode_len: 5, loss:  0.67726586, entropy:  1.04673922\n"
     ]
    },
    {
     "data": {
      "application/vnd.jupyter.widget-view+json": {
       "model_id": "047ffaeafec144e09761fbd4ad3fc35f",
       "version_major": 2,
       "version_minor": 0
      },
      "text/plain": [
       "  0%|          | 0/1 [00:00<?, ?it/s]"
      ]
     },
     "metadata": {},
     "output_type": "display_data"
    },
    {
     "name": "stdout",
     "output_type": "stream",
     "text": [
      "R2 score (new):  0.216\n",
      "batch i: 704, episode_len: 5, loss:  0.71438944, entropy:  0.98359168\n"
     ]
    },
    {
     "data": {
      "application/vnd.jupyter.widget-view+json": {
       "model_id": "21831818d5b74f20823eaa559df9cc47",
       "version_major": 2,
       "version_minor": 0
      },
      "text/plain": [
       "  0%|          | 0/1 [00:00<?, ?it/s]"
      ]
     },
     "metadata": {},
     "output_type": "display_data"
    },
    {
     "name": "stdout",
     "output_type": "stream",
     "text": [
      "R2 score (new):  0.620\n",
      "batch i: 705, episode_len: 9, loss:  0.70284647, entropy:  1.08339357\n"
     ]
    },
    {
     "data": {
      "application/vnd.jupyter.widget-view+json": {
       "model_id": "00803cacbfe84543b6d66ff4324035f9",
       "version_major": 2,
       "version_minor": 0
      },
      "text/plain": [
       "  0%|          | 0/1 [00:00<?, ?it/s]"
      ]
     },
     "metadata": {},
     "output_type": "display_data"
    },
    {
     "name": "stdout",
     "output_type": "stream",
     "text": [
      "R2 score (new):  0.599\n",
      "batch i: 706, episode_len: 5, loss:  0.72459359, entropy:  0.95624673\n"
     ]
    },
    {
     "data": {
      "application/vnd.jupyter.widget-view+json": {
       "model_id": "6c3ce486eeb84048af3c893dd218f359",
       "version_major": 2,
       "version_minor": 0
      },
      "text/plain": [
       "  0%|          | 0/1 [00:00<?, ?it/s]"
      ]
     },
     "metadata": {},
     "output_type": "display_data"
    },
    {
     "name": "stdout",
     "output_type": "stream",
     "text": [
      "R2 score (new):  0.417\n",
      "batch i: 707, episode_len: 9, loss:  0.72081913, entropy:  0.92736191\n"
     ]
    },
    {
     "data": {
      "application/vnd.jupyter.widget-view+json": {
       "model_id": "2347b73019454cdab96844d61fe154c4",
       "version_major": 2,
       "version_minor": 0
      },
      "text/plain": [
       "  0%|          | 0/1 [00:00<?, ?it/s]"
      ]
     },
     "metadata": {},
     "output_type": "display_data"
    },
    {
     "name": "stdout",
     "output_type": "stream",
     "text": [
      "R2 score (new):  0.593\n",
      "batch i: 708, episode_len: 9, loss:  0.69842694, entropy:  1.01146626\n"
     ]
    },
    {
     "data": {
      "application/vnd.jupyter.widget-view+json": {
       "model_id": "4a4e87f91c7f4273b2d7b084a402c16e",
       "version_major": 2,
       "version_minor": 0
      },
      "text/plain": [
       "  0%|          | 0/1 [00:00<?, ?it/s]"
      ]
     },
     "metadata": {},
     "output_type": "display_data"
    },
    {
     "name": "stdout",
     "output_type": "stream",
     "text": [
      "R2 score (new):  0.556\n",
      "batch i: 709, episode_len: 7, loss:  0.68018522, entropy:  1.04394090\n"
     ]
    },
    {
     "data": {
      "application/vnd.jupyter.widget-view+json": {
       "model_id": "86a39c7c84fa46edab5a8eeb65d350bf",
       "version_major": 2,
       "version_minor": 0
      },
      "text/plain": [
       "  0%|          | 0/1 [00:00<?, ?it/s]"
      ]
     },
     "metadata": {},
     "output_type": "display_data"
    },
    {
     "name": "stdout",
     "output_type": "stream",
     "text": [
      "R2 score (new):  0.471\n",
      "batch i: 710, episode_len: 9, loss:  0.69326391, entropy:  1.03839326\n",
      "current self-play batch: 711\n",
      "Updating elo score...\n",
      "Complete.\n",
      "Elo score: AlphaZero:  1541.78, Benchmark:  1765.30\n",
      "   action: 0, prob_X:  10.66%\t   action: 0, prob_O:  24.68%\n",
      "   action: 1, prob_X:  12.09%\t   action: 1, prob_O:  0.32%\n",
      "   action: 2, prob_X:  10.73%\t⭐️ action: 2, prob_O:  25.32%\n",
      "   action: 3, prob_X:  10.19%\t   action: 3, prob_O:  0.80%\n",
      "   action: 4, prob_X:  11.33%\t   action: 4, prob_O:  0.01%\n",
      "   action: 5, prob_X:  11.06%\t   action: 5, prob_O:  0.35%\n",
      "   action: 6, prob_X:  10.74%\t   action: 6, prob_O:  25.17%\n",
      "⭐️ action: 7, prob_X:  12.27%\t   action: 7, prob_O:  0.49%\n",
      "   action: 8, prob_X:  10.94%\t   action: 8, prob_O:  22.85%\n",
      "State-value X: 0.2158\n",
      "State-value O: -0.6751\n",
      "Evaluating best player...\n",
      "Complete.\n"
     ]
    },
    {
     "data": {
      "application/vnd.jupyter.widget-view+json": {
       "model_id": "db73bdb9d4a5482b8c699f8f8bf1c5b3",
       "version_major": 2,
       "version_minor": 0
      },
      "text/plain": [
       "  0%|          | 0/1 [00:00<?, ?it/s]"
      ]
     },
     "metadata": {},
     "output_type": "display_data"
    },
    {
     "name": "stdout",
     "output_type": "stream",
     "text": [
      "R2 score (new):  0.626\n",
      "batch i: 711, episode_len: 9, loss:  0.70484648, entropy:  0.95245987\n"
     ]
    },
    {
     "data": {
      "application/vnd.jupyter.widget-view+json": {
       "model_id": "d82d67b721724bbc9731672457a26bd9",
       "version_major": 2,
       "version_minor": 0
      },
      "text/plain": [
       "  0%|          | 0/1 [00:00<?, ?it/s]"
      ]
     },
     "metadata": {},
     "output_type": "display_data"
    },
    {
     "name": "stdout",
     "output_type": "stream",
     "text": [
      "R2 score (new):  0.694\n",
      "batch i: 712, episode_len: 9, loss:  0.73083203, entropy:  0.90380454\n"
     ]
    },
    {
     "data": {
      "application/vnd.jupyter.widget-view+json": {
       "model_id": "9a84af45e7c442b08fec8a54aba9c40a",
       "version_major": 2,
       "version_minor": 0
      },
      "text/plain": [
       "  0%|          | 0/1 [00:00<?, ?it/s]"
      ]
     },
     "metadata": {},
     "output_type": "display_data"
    },
    {
     "name": "stdout",
     "output_type": "stream",
     "text": [
      "R2 score (new):  0.426\n",
      "batch i: 713, episode_len: 9, loss:  0.69383288, entropy:  0.97900409\n"
     ]
    },
    {
     "data": {
      "application/vnd.jupyter.widget-view+json": {
       "model_id": "cabd7381ae3941d1ad5abf73c0dc5ead",
       "version_major": 2,
       "version_minor": 0
      },
      "text/plain": [
       "  0%|          | 0/1 [00:00<?, ?it/s]"
      ]
     },
     "metadata": {},
     "output_type": "display_data"
    },
    {
     "name": "stdout",
     "output_type": "stream",
     "text": [
      "R2 score (new):  0.511\n",
      "batch i: 714, episode_len: 9, loss:  0.68944966, entropy:  1.03842366\n"
     ]
    },
    {
     "data": {
      "application/vnd.jupyter.widget-view+json": {
       "model_id": "708ee46e029849dc89bf9bb6fd7f0531",
       "version_major": 2,
       "version_minor": 0
      },
      "text/plain": [
       "  0%|          | 0/1 [00:00<?, ?it/s]"
      ]
     },
     "metadata": {},
     "output_type": "display_data"
    },
    {
     "name": "stdout",
     "output_type": "stream",
     "text": [
      "R2 score (new):  0.312\n",
      "batch i: 715, episode_len: 5, loss:  0.71671899, entropy:  0.90095538\n"
     ]
    },
    {
     "data": {
      "application/vnd.jupyter.widget-view+json": {
       "model_id": "aadfd773e5d6437192f2925a013dd156",
       "version_major": 2,
       "version_minor": 0
      },
      "text/plain": [
       "  0%|          | 0/1 [00:00<?, ?it/s]"
      ]
     },
     "metadata": {},
     "output_type": "display_data"
    },
    {
     "name": "stdout",
     "output_type": "stream",
     "text": [
      "R2 score (new):  0.452\n",
      "batch i: 716, episode_len: 9, loss:  0.69155366, entropy:  1.04668689\n"
     ]
    },
    {
     "data": {
      "application/vnd.jupyter.widget-view+json": {
       "model_id": "676c1835d03b4e85a4582a3d3e032b41",
       "version_major": 2,
       "version_minor": 0
      },
      "text/plain": [
       "  0%|          | 0/1 [00:00<?, ?it/s]"
      ]
     },
     "metadata": {},
     "output_type": "display_data"
    },
    {
     "name": "stdout",
     "output_type": "stream",
     "text": [
      "R2 score (new):  0.281\n",
      "batch i: 717, episode_len: 9, loss:  0.69728550, entropy:  0.89918315\n"
     ]
    },
    {
     "data": {
      "application/vnd.jupyter.widget-view+json": {
       "model_id": "5cca1169432a4e0d8f01e27ad058f00e",
       "version_major": 2,
       "version_minor": 0
      },
      "text/plain": [
       "  0%|          | 0/1 [00:00<?, ?it/s]"
      ]
     },
     "metadata": {},
     "output_type": "display_data"
    },
    {
     "name": "stdout",
     "output_type": "stream",
     "text": [
      "R2 score (new):  0.305\n",
      "batch i: 718, episode_len: 9, loss:  0.70115349, entropy:  1.07458723\n"
     ]
    },
    {
     "data": {
      "application/vnd.jupyter.widget-view+json": {
       "model_id": "0fffdf67f83744b1b7e965dd5c79a81e",
       "version_major": 2,
       "version_minor": 0
      },
      "text/plain": [
       "  0%|          | 0/1 [00:00<?, ?it/s]"
      ]
     },
     "metadata": {},
     "output_type": "display_data"
    },
    {
     "name": "stdout",
     "output_type": "stream",
     "text": [
      "R2 score (new):  0.545\n",
      "batch i: 719, episode_len: 9, loss:  0.69425731, entropy:  0.90877855\n"
     ]
    },
    {
     "data": {
      "application/vnd.jupyter.widget-view+json": {
       "model_id": "28c5e335d70246d2ac9a00ce2baf43a7",
       "version_major": 2,
       "version_minor": 0
      },
      "text/plain": [
       "  0%|          | 0/1 [00:00<?, ?it/s]"
      ]
     },
     "metadata": {},
     "output_type": "display_data"
    },
    {
     "name": "stdout",
     "output_type": "stream",
     "text": [
      "R2 score (new):  0.444\n",
      "batch i: 720, episode_len: 9, loss:  0.68529872, entropy:  0.99899191\n",
      "current self-play batch: 721\n",
      "Updating elo score...\n",
      "Complete.\n",
      "Elo score: AlphaZero:  1544.36, Benchmark:  1762.73\n",
      "   action: 0, prob_X:  12.13%\t   action: 0, prob_O:  24.32%\n",
      "   action: 1, prob_X:  10.68%\t   action: 1, prob_O:  1.61%\n",
      "   action: 2, prob_X:  11.68%\t   action: 2, prob_O:  23.05%\n",
      "   action: 3, prob_X:  10.81%\t   action: 3, prob_O:  1.48%\n",
      "   action: 4, prob_X:  8.67%\t   action: 4, prob_O:  0.04%\n",
      "   action: 5, prob_X:  10.62%\t   action: 5, prob_O:  0.70%\n",
      "⭐️ action: 6, prob_X:  13.02%\t   action: 6, prob_O:  21.67%\n",
      "   action: 7, prob_X:  10.37%\t   action: 7, prob_O:  2.14%\n",
      "   action: 8, prob_X:  12.02%\t⭐️ action: 8, prob_O:  24.98%\n",
      "State-value X: 0.2767\n",
      "State-value O: -0.6815\n",
      "Evaluating best player...\n",
      "Complete.\n"
     ]
    },
    {
     "data": {
      "application/vnd.jupyter.widget-view+json": {
       "model_id": "47cc35234b0c43db83e5b8af97140337",
       "version_major": 2,
       "version_minor": 0
      },
      "text/plain": [
       "  0%|          | 0/1 [00:00<?, ?it/s]"
      ]
     },
     "metadata": {},
     "output_type": "display_data"
    },
    {
     "name": "stdout",
     "output_type": "stream",
     "text": [
      "R2 score (new):  0.590\n",
      "batch i: 721, episode_len: 5, loss:  0.69082732, entropy:  0.97715026\n"
     ]
    },
    {
     "data": {
      "application/vnd.jupyter.widget-view+json": {
       "model_id": "6d32222b322d420c88cf8343ae84df7c",
       "version_major": 2,
       "version_minor": 0
      },
      "text/plain": [
       "  0%|          | 0/1 [00:00<?, ?it/s]"
      ]
     },
     "metadata": {},
     "output_type": "display_data"
    },
    {
     "name": "stdout",
     "output_type": "stream",
     "text": [
      "R2 score (new):  0.385\n",
      "batch i: 722, episode_len: 9, loss:  0.65604051, entropy:  1.02686393\n"
     ]
    },
    {
     "data": {
      "application/vnd.jupyter.widget-view+json": {
       "model_id": "7288bad22132429aa15041700b2aa43d",
       "version_major": 2,
       "version_minor": 0
      },
      "text/plain": [
       "  0%|          | 0/1 [00:00<?, ?it/s]"
      ]
     },
     "metadata": {},
     "output_type": "display_data"
    },
    {
     "name": "stdout",
     "output_type": "stream",
     "text": [
      "R2 score (new):  0.529\n",
      "batch i: 723, episode_len: 9, loss:  0.68397158, entropy:  0.97018391\n"
     ]
    },
    {
     "data": {
      "application/vnd.jupyter.widget-view+json": {
       "model_id": "13371a867691400dba48b1c25c8f28ea",
       "version_major": 2,
       "version_minor": 0
      },
      "text/plain": [
       "  0%|          | 0/1 [00:00<?, ?it/s]"
      ]
     },
     "metadata": {},
     "output_type": "display_data"
    },
    {
     "name": "stdout",
     "output_type": "stream",
     "text": [
      "R2 score (new):  0.616\n",
      "batch i: 724, episode_len: 9, loss:  0.65896031, entropy:  0.85197097\n"
     ]
    },
    {
     "data": {
      "application/vnd.jupyter.widget-view+json": {
       "model_id": "68c0092058234cb69cea312d17c3a848",
       "version_major": 2,
       "version_minor": 0
      },
      "text/plain": [
       "  0%|          | 0/1 [00:00<?, ?it/s]"
      ]
     },
     "metadata": {},
     "output_type": "display_data"
    },
    {
     "name": "stdout",
     "output_type": "stream",
     "text": [
      "R2 score (new):  0.448\n",
      "batch i: 725, episode_len: 5, loss:  0.69353008, entropy:  0.97124177\n"
     ]
    },
    {
     "data": {
      "application/vnd.jupyter.widget-view+json": {
       "model_id": "58bae04e017c42168292c4ea826c231b",
       "version_major": 2,
       "version_minor": 0
      },
      "text/plain": [
       "  0%|          | 0/1 [00:00<?, ?it/s]"
      ]
     },
     "metadata": {},
     "output_type": "display_data"
    },
    {
     "name": "stdout",
     "output_type": "stream",
     "text": [
      "R2 score (new):  0.578\n",
      "batch i: 726, episode_len: 9, loss:  0.68596794, entropy:  0.96292293\n"
     ]
    },
    {
     "data": {
      "application/vnd.jupyter.widget-view+json": {
       "model_id": "94347ba91d7d4bcfb61a6f859cb46e1e",
       "version_major": 2,
       "version_minor": 0
      },
      "text/plain": [
       "  0%|          | 0/1 [00:00<?, ?it/s]"
      ]
     },
     "metadata": {},
     "output_type": "display_data"
    },
    {
     "name": "stdout",
     "output_type": "stream",
     "text": [
      "R2 score (new):  0.337\n",
      "batch i: 727, episode_len: 9, loss:  0.69250817, entropy:  0.99604309\n"
     ]
    },
    {
     "data": {
      "application/vnd.jupyter.widget-view+json": {
       "model_id": "52e889a51b9143969fa082b3c0e521d5",
       "version_major": 2,
       "version_minor": 0
      },
      "text/plain": [
       "  0%|          | 0/1 [00:00<?, ?it/s]"
      ]
     },
     "metadata": {},
     "output_type": "display_data"
    },
    {
     "name": "stdout",
     "output_type": "stream",
     "text": [
      "R2 score (new):  0.255\n",
      "batch i: 728, episode_len: 9, loss:  0.66956958, entropy:  0.92266929\n"
     ]
    },
    {
     "data": {
      "application/vnd.jupyter.widget-view+json": {
       "model_id": "4e432169933b43eeb0142c53b9deb6eb",
       "version_major": 2,
       "version_minor": 0
      },
      "text/plain": [
       "  0%|          | 0/1 [00:00<?, ?it/s]"
      ]
     },
     "metadata": {},
     "output_type": "display_data"
    },
    {
     "name": "stdout",
     "output_type": "stream",
     "text": [
      "R2 score (new):  0.571\n",
      "batch i: 729, episode_len: 9, loss:  0.67582037, entropy:  1.00024354\n"
     ]
    },
    {
     "data": {
      "application/vnd.jupyter.widget-view+json": {
       "model_id": "bbdd059b8f5d487fa99477ecd5c421ed",
       "version_major": 2,
       "version_minor": 0
      },
      "text/plain": [
       "  0%|          | 0/1 [00:00<?, ?it/s]"
      ]
     },
     "metadata": {},
     "output_type": "display_data"
    },
    {
     "name": "stdout",
     "output_type": "stream",
     "text": [
      "R2 score (new):  0.567\n",
      "batch i: 730, episode_len: 9, loss:  0.67786363, entropy:  0.84054625\n",
      "current self-play batch: 731\n",
      "Updating elo score...\n",
      "Complete.\n",
      "Elo score: AlphaZero:  1545.60, Benchmark:  1761.49\n",
      "   action: 0, prob_X:  10.48%\t   action: 0, prob_O:  25.92%\n",
      "   action: 1, prob_X:  11.32%\t   action: 1, prob_O:  0.95%\n",
      "⭐️ action: 2, prob_X:  11.75%\t   action: 2, prob_O:  21.08%\n",
      "   action: 3, prob_X:  10.79%\t   action: 3, prob_O:  1.05%\n",
      "   action: 4, prob_X:  11.66%\t   action: 4, prob_O:  0.01%\n",
      "   action: 5, prob_X:  10.68%\t   action: 5, prob_O:  0.72%\n",
      "   action: 6, prob_X:  11.44%\t   action: 6, prob_O:  22.96%\n",
      "   action: 7, prob_X:  11.05%\t   action: 7, prob_O:  1.24%\n",
      "   action: 8, prob_X:  10.84%\t⭐️ action: 8, prob_O:  26.05%\n",
      "State-value X: 0.2967\n",
      "State-value O: -0.6867\n",
      "Evaluating best player...\n",
      "Complete.\n"
     ]
    },
    {
     "data": {
      "application/vnd.jupyter.widget-view+json": {
       "model_id": "85fbf681a88e4522a45314d0c4178abb",
       "version_major": 2,
       "version_minor": 0
      },
      "text/plain": [
       "  0%|          | 0/1 [00:00<?, ?it/s]"
      ]
     },
     "metadata": {},
     "output_type": "display_data"
    },
    {
     "name": "stdout",
     "output_type": "stream",
     "text": [
      "R2 score (new):  0.546\n",
      "batch i: 731, episode_len: 9, loss:  0.72314000, entropy:  0.97451770\n"
     ]
    },
    {
     "data": {
      "application/vnd.jupyter.widget-view+json": {
       "model_id": "e9c6e220c5674deaa81bbd88de0a4dd5",
       "version_major": 2,
       "version_minor": 0
      },
      "text/plain": [
       "  0%|          | 0/1 [00:00<?, ?it/s]"
      ]
     },
     "metadata": {},
     "output_type": "display_data"
    },
    {
     "name": "stdout",
     "output_type": "stream",
     "text": [
      "R2 score (new):  0.455\n",
      "batch i: 732, episode_len: 5, loss:  0.72900845, entropy:  1.04825747\n"
     ]
    },
    {
     "data": {
      "application/vnd.jupyter.widget-view+json": {
       "model_id": "d5c48d3bc7d14ca48a2aaf0b8860a1bb",
       "version_major": 2,
       "version_minor": 0
      },
      "text/plain": [
       "  0%|          | 0/1 [00:00<?, ?it/s]"
      ]
     },
     "metadata": {},
     "output_type": "display_data"
    },
    {
     "name": "stdout",
     "output_type": "stream",
     "text": [
      "R2 score (new):  0.527\n",
      "batch i: 733, episode_len: 9, loss:  0.69519823, entropy:  0.99364436\n"
     ]
    },
    {
     "data": {
      "application/vnd.jupyter.widget-view+json": {
       "model_id": "c7e2a12a39914e80926b0bc473888a90",
       "version_major": 2,
       "version_minor": 0
      },
      "text/plain": [
       "  0%|          | 0/1 [00:00<?, ?it/s]"
      ]
     },
     "metadata": {},
     "output_type": "display_data"
    },
    {
     "name": "stdout",
     "output_type": "stream",
     "text": [
      "R2 score (new):  0.502\n",
      "batch i: 734, episode_len: 9, loss:  0.65850744, entropy:  0.93161756\n"
     ]
    },
    {
     "data": {
      "application/vnd.jupyter.widget-view+json": {
       "model_id": "aaeba161b8c84932b670c219fd2202c8",
       "version_major": 2,
       "version_minor": 0
      },
      "text/plain": [
       "  0%|          | 0/1 [00:00<?, ?it/s]"
      ]
     },
     "metadata": {},
     "output_type": "display_data"
    },
    {
     "name": "stdout",
     "output_type": "stream",
     "text": [
      "R2 score (new):  0.521\n",
      "batch i: 735, episode_len: 5, loss:  0.69702448, entropy:  0.92146766\n"
     ]
    },
    {
     "data": {
      "application/vnd.jupyter.widget-view+json": {
       "model_id": "b3cee29246684a7a9f36510942f95c83",
       "version_major": 2,
       "version_minor": 0
      },
      "text/plain": [
       "  0%|          | 0/1 [00:00<?, ?it/s]"
      ]
     },
     "metadata": {},
     "output_type": "display_data"
    },
    {
     "name": "stdout",
     "output_type": "stream",
     "text": [
      "R2 score (new):  0.653\n",
      "batch i: 736, episode_len: 9, loss:  0.68649937, entropy:  0.89982593\n"
     ]
    },
    {
     "data": {
      "application/vnd.jupyter.widget-view+json": {
       "model_id": "a311cc6861f340d98c6fa8b0a522543a",
       "version_major": 2,
       "version_minor": 0
      },
      "text/plain": [
       "  0%|          | 0/1 [00:00<?, ?it/s]"
      ]
     },
     "metadata": {},
     "output_type": "display_data"
    },
    {
     "name": "stdout",
     "output_type": "stream",
     "text": [
      "R2 score (new):  0.354\n",
      "batch i: 737, episode_len: 9, loss:  0.67295827, entropy:  1.02340078\n"
     ]
    },
    {
     "data": {
      "application/vnd.jupyter.widget-view+json": {
       "model_id": "e52f10590c2a4252b97e198b01d87539",
       "version_major": 2,
       "version_minor": 0
      },
      "text/plain": [
       "  0%|          | 0/1 [00:00<?, ?it/s]"
      ]
     },
     "metadata": {},
     "output_type": "display_data"
    },
    {
     "name": "stdout",
     "output_type": "stream",
     "text": [
      "R2 score (new):  0.301\n",
      "batch i: 738, episode_len: 5, loss:  0.69235043, entropy:  0.87540931\n"
     ]
    },
    {
     "data": {
      "application/vnd.jupyter.widget-view+json": {
       "model_id": "7c5c914f0317481d8b2f0f1bf745f087",
       "version_major": 2,
       "version_minor": 0
      },
      "text/plain": [
       "  0%|          | 0/1 [00:00<?, ?it/s]"
      ]
     },
     "metadata": {},
     "output_type": "display_data"
    },
    {
     "name": "stdout",
     "output_type": "stream",
     "text": [
      "R2 score (new): -0.122\n",
      "batch i: 739, episode_len: 9, loss:  0.69540806, entropy:  1.46973073\n"
     ]
    },
    {
     "data": {
      "application/vnd.jupyter.widget-view+json": {
       "model_id": "9c0b319bed1b4885a3634c1c9011fade",
       "version_major": 2,
       "version_minor": 0
      },
      "text/plain": [
       "  0%|          | 0/1 [00:00<?, ?it/s]"
      ]
     },
     "metadata": {},
     "output_type": "display_data"
    },
    {
     "name": "stdout",
     "output_type": "stream",
     "text": [
      "R2 score (new):  0.000\n",
      "batch i: 740, episode_len: 9, loss:  0.78686681, entropy:  1.14152241\n",
      "current self-play batch: 741\n",
      "Updating elo score...\n",
      "Complete.\n",
      "Elo score: AlphaZero:  1546.69, Benchmark:  1760.40\n",
      "   action: 0, prob_X:  9.64%\t⭐️ action: 0, prob_O:  37.95%\n",
      "   action: 1, prob_X:  10.76%\t   action: 1, prob_O:  1.61%\n",
      "   action: 2, prob_X:  6.04%\t   action: 2, prob_O:  8.64%\n",
      "   action: 3, prob_X:  13.02%\t   action: 3, prob_O:  2.80%\n",
      "   action: 4, prob_X:  11.14%\t   action: 4, prob_O:  0.04%\n",
      "⭐️ action: 5, prob_X:  20.03%\t   action: 5, prob_O:  0.18%\n",
      "   action: 6, prob_X:  7.76%\t   action: 6, prob_O:  35.89%\n",
      "   action: 7, prob_X:  13.82%\t   action: 7, prob_O:  1.87%\n",
      "   action: 8, prob_X:  7.78%\t   action: 8, prob_O:  11.02%\n",
      "State-value X: 0.1788\n",
      "State-value O: -0.6463\n",
      "Evaluating best player...\n",
      "Complete.\n"
     ]
    },
    {
     "data": {
      "application/vnd.jupyter.widget-view+json": {
       "model_id": "a5ccac0def4e4dff957c645ecfd66e15",
       "version_major": 2,
       "version_minor": 0
      },
      "text/plain": [
       "  0%|          | 0/1 [00:00<?, ?it/s]"
      ]
     },
     "metadata": {},
     "output_type": "display_data"
    },
    {
     "name": "stdout",
     "output_type": "stream",
     "text": [
      "R2 score (new):  0.402\n",
      "batch i: 741, episode_len: 9, loss:  0.87351616, entropy:  1.28009677\n"
     ]
    },
    {
     "data": {
      "application/vnd.jupyter.widget-view+json": {
       "model_id": "ac6c7690e5df447181fe4218a319673a",
       "version_major": 2,
       "version_minor": 0
      },
      "text/plain": [
       "  0%|          | 0/1 [00:00<?, ?it/s]"
      ]
     },
     "metadata": {},
     "output_type": "display_data"
    },
    {
     "name": "stdout",
     "output_type": "stream",
     "text": [
      "R2 score (new):  0.123\n",
      "batch i: 742, episode_len: 5, loss:  0.77571552, entropy:  1.19960165\n"
     ]
    },
    {
     "data": {
      "application/vnd.jupyter.widget-view+json": {
       "model_id": "c66d32cf5b3142aea0f7c79e63626fc4",
       "version_major": 2,
       "version_minor": 0
      },
      "text/plain": [
       "  0%|          | 0/1 [00:00<?, ?it/s]"
      ]
     },
     "metadata": {},
     "output_type": "display_data"
    },
    {
     "name": "stdout",
     "output_type": "stream",
     "text": [
      "R2 score (new): -0.176\n",
      "batch i: 743, episode_len: 9, loss:  0.74312271, entropy:  1.02405381\n"
     ]
    },
    {
     "data": {
      "application/vnd.jupyter.widget-view+json": {
       "model_id": "f4da26c427ee4a0098894f5122f6fbde",
       "version_major": 2,
       "version_minor": 0
      },
      "text/plain": [
       "  0%|          | 0/1 [00:00<?, ?it/s]"
      ]
     },
     "metadata": {},
     "output_type": "display_data"
    },
    {
     "name": "stdout",
     "output_type": "stream",
     "text": [
      "R2 score (new):  0.601\n",
      "batch i: 744, episode_len: 5, loss:  0.75828417, entropy:  1.13620579\n"
     ]
    },
    {
     "data": {
      "application/vnd.jupyter.widget-view+json": {
       "model_id": "e7cf952cb50243d4aeb47faeeffb39ac",
       "version_major": 2,
       "version_minor": 0
      },
      "text/plain": [
       "  0%|          | 0/1 [00:00<?, ?it/s]"
      ]
     },
     "metadata": {},
     "output_type": "display_data"
    },
    {
     "name": "stdout",
     "output_type": "stream",
     "text": [
      "R2 score (new):  0.671\n",
      "batch i: 745, episode_len: 5, loss:  0.73288291, entropy:  1.12513936\n"
     ]
    },
    {
     "data": {
      "application/vnd.jupyter.widget-view+json": {
       "model_id": "bfbfa1fe12104fcfa4612402349fdda7",
       "version_major": 2,
       "version_minor": 0
      },
      "text/plain": [
       "  0%|          | 0/1 [00:00<?, ?it/s]"
      ]
     },
     "metadata": {},
     "output_type": "display_data"
    },
    {
     "name": "stdout",
     "output_type": "stream",
     "text": [
      "R2 score (new):  0.672\n",
      "batch i: 746, episode_len: 9, loss:  0.72837116, entropy:  1.15602112\n"
     ]
    },
    {
     "data": {
      "application/vnd.jupyter.widget-view+json": {
       "model_id": "c7c65b3ebc104c69b2d96b574e1e920f",
       "version_major": 2,
       "version_minor": 0
      },
      "text/plain": [
       "  0%|          | 0/1 [00:00<?, ?it/s]"
      ]
     },
     "metadata": {},
     "output_type": "display_data"
    },
    {
     "name": "stdout",
     "output_type": "stream",
     "text": [
      "R2 score (new):  0.734\n",
      "batch i: 747, episode_len: 9, loss:  0.71628638, entropy:  1.02451980\n"
     ]
    },
    {
     "data": {
      "application/vnd.jupyter.widget-view+json": {
       "model_id": "314d43b871f8442da3efb532103d2402",
       "version_major": 2,
       "version_minor": 0
      },
      "text/plain": [
       "  0%|          | 0/1 [00:00<?, ?it/s]"
      ]
     },
     "metadata": {},
     "output_type": "display_data"
    },
    {
     "name": "stdout",
     "output_type": "stream",
     "text": [
      "R2 score (new): -0.459\n",
      "batch i: 748, episode_len: 5, loss:  0.71000916, entropy:  0.81133336\n"
     ]
    },
    {
     "data": {
      "application/vnd.jupyter.widget-view+json": {
       "model_id": "5dc3c4921fcb43afa63d8fb32619f672",
       "version_major": 2,
       "version_minor": 0
      },
      "text/plain": [
       "  0%|          | 0/1 [00:00<?, ?it/s]"
      ]
     },
     "metadata": {},
     "output_type": "display_data"
    },
    {
     "name": "stdout",
     "output_type": "stream",
     "text": [
      "R2 score (new):  0.603\n",
      "batch i: 749, episode_len: 5, loss:  0.68196138, entropy:  0.97988760\n"
     ]
    },
    {
     "data": {
      "application/vnd.jupyter.widget-view+json": {
       "model_id": "4f7c5dd9da0e40dab1380b74c2d48829",
       "version_major": 2,
       "version_minor": 0
      },
      "text/plain": [
       "  0%|          | 0/1 [00:00<?, ?it/s]"
      ]
     },
     "metadata": {},
     "output_type": "display_data"
    },
    {
     "name": "stdout",
     "output_type": "stream",
     "text": [
      "R2 score (new):  0.606\n",
      "batch i: 750, episode_len: 9, loss:  0.67642492, entropy:  0.88211596\n",
      "current self-play batch: 751\n",
      "Updating elo score...\n",
      "Complete.\n",
      "Elo score: AlphaZero:  1548.67, Benchmark:  1758.42\n",
      "   action: 0, prob_X:  11.91%\t   action: 0, prob_O:  23.77%\n",
      "⭐️ action: 1, prob_X:  12.73%\t   action: 1, prob_O:  0.65%\n",
      "   action: 2, prob_X:  9.88%\t   action: 2, prob_O:  25.02%\n",
      "   action: 3, prob_X:  10.65%\t   action: 3, prob_O:  1.40%\n",
      "   action: 4, prob_X:  10.33%\t   action: 4, prob_O:  0.05%\n",
      "   action: 5, prob_X:  9.86%\t   action: 5, prob_O:  1.14%\n",
      "   action: 6, prob_X:  11.10%\t   action: 6, prob_O:  19.07%\n",
      "   action: 7, prob_X:  12.07%\t   action: 7, prob_O:  0.81%\n",
      "   action: 8, prob_X:  11.47%\t⭐️ action: 8, prob_O:  28.11%\n",
      "State-value X: 0.2516\n",
      "State-value O: -0.6850\n",
      "Evaluating best player...\n",
      "Complete.\n"
     ]
    },
    {
     "data": {
      "application/vnd.jupyter.widget-view+json": {
       "model_id": "63bfa322549e43658161494f95bc7207",
       "version_major": 2,
       "version_minor": 0
      },
      "text/plain": [
       "  0%|          | 0/1 [00:00<?, ?it/s]"
      ]
     },
     "metadata": {},
     "output_type": "display_data"
    },
    {
     "name": "stdout",
     "output_type": "stream",
     "text": [
      "R2 score (new):  0.638\n",
      "batch i: 751, episode_len: 5, loss:  0.68206925, entropy:  1.03572977\n"
     ]
    },
    {
     "data": {
      "application/vnd.jupyter.widget-view+json": {
       "model_id": "7aae358f444c4caca981ec3fe3280af0",
       "version_major": 2,
       "version_minor": 0
      },
      "text/plain": [
       "  0%|          | 0/1 [00:00<?, ?it/s]"
      ]
     },
     "metadata": {},
     "output_type": "display_data"
    },
    {
     "name": "stdout",
     "output_type": "stream",
     "text": [
      "R2 score (new):  0.537\n",
      "batch i: 752, episode_len: 5, loss:  0.68002891, entropy:  0.92391920\n"
     ]
    },
    {
     "data": {
      "application/vnd.jupyter.widget-view+json": {
       "model_id": "708ca8c8a0724830a21dd453734f020b",
       "version_major": 2,
       "version_minor": 0
      },
      "text/plain": [
       "  0%|          | 0/1 [00:00<?, ?it/s]"
      ]
     },
     "metadata": {},
     "output_type": "display_data"
    },
    {
     "name": "stdout",
     "output_type": "stream",
     "text": [
      "R2 score (new):  0.262\n",
      "batch i: 753, episode_len: 9, loss:  0.70057655, entropy:  0.64499551\n"
     ]
    },
    {
     "data": {
      "application/vnd.jupyter.widget-view+json": {
       "model_id": "90158a888fad46eda30b6f8aa5baa2db",
       "version_major": 2,
       "version_minor": 0
      },
      "text/plain": [
       "  0%|          | 0/1 [00:00<?, ?it/s]"
      ]
     },
     "metadata": {},
     "output_type": "display_data"
    },
    {
     "name": "stdout",
     "output_type": "stream",
     "text": [
      "R2 score (new):  0.245\n",
      "batch i: 754, episode_len: 9, loss:  0.68810714, entropy:  0.97891003\n"
     ]
    },
    {
     "data": {
      "application/vnd.jupyter.widget-view+json": {
       "model_id": "ab693987af86467abae7c5ab4489a876",
       "version_major": 2,
       "version_minor": 0
      },
      "text/plain": [
       "  0%|          | 0/1 [00:00<?, ?it/s]"
      ]
     },
     "metadata": {},
     "output_type": "display_data"
    },
    {
     "name": "stdout",
     "output_type": "stream",
     "text": [
      "R2 score (new):  0.430\n",
      "batch i: 755, episode_len: 9, loss:  0.67564161, entropy:  0.88561457\n"
     ]
    },
    {
     "data": {
      "application/vnd.jupyter.widget-view+json": {
       "model_id": "d51b4fa1fb304144a8b2e3f1e823fae3",
       "version_major": 2,
       "version_minor": 0
      },
      "text/plain": [
       "  0%|          | 0/1 [00:00<?, ?it/s]"
      ]
     },
     "metadata": {},
     "output_type": "display_data"
    },
    {
     "name": "stdout",
     "output_type": "stream",
     "text": [
      "R2 score (new):  0.413\n",
      "batch i: 756, episode_len: 9, loss:  0.68422707, entropy:  1.03477252\n"
     ]
    },
    {
     "data": {
      "application/vnd.jupyter.widget-view+json": {
       "model_id": "8e8e5de00eff4441aa8f3f1c858a15a5",
       "version_major": 2,
       "version_minor": 0
      },
      "text/plain": [
       "  0%|          | 0/1 [00:00<?, ?it/s]"
      ]
     },
     "metadata": {},
     "output_type": "display_data"
    },
    {
     "name": "stdout",
     "output_type": "stream",
     "text": [
      "R2 score (new):  0.419\n",
      "batch i: 757, episode_len: 5, loss:  0.67548000, entropy:  1.02833962\n"
     ]
    },
    {
     "data": {
      "application/vnd.jupyter.widget-view+json": {
       "model_id": "e8fc872880fa4bfc95691175ff5a9a69",
       "version_major": 2,
       "version_minor": 0
      },
      "text/plain": [
       "  0%|          | 0/1 [00:00<?, ?it/s]"
      ]
     },
     "metadata": {},
     "output_type": "display_data"
    },
    {
     "name": "stdout",
     "output_type": "stream",
     "text": [
      "R2 score (new):  0.671\n",
      "batch i: 758, episode_len: 9, loss:  0.66721575, entropy:  1.01503491\n"
     ]
    },
    {
     "data": {
      "application/vnd.jupyter.widget-view+json": {
       "model_id": "238571d92b654b64ae4e5eba46402be3",
       "version_major": 2,
       "version_minor": 0
      },
      "text/plain": [
       "  0%|          | 0/1 [00:00<?, ?it/s]"
      ]
     },
     "metadata": {},
     "output_type": "display_data"
    },
    {
     "name": "stdout",
     "output_type": "stream",
     "text": [
      "R2 score (new):  0.715\n",
      "batch i: 759, episode_len: 9, loss:  0.69344816, entropy:  1.06159186\n"
     ]
    },
    {
     "data": {
      "application/vnd.jupyter.widget-view+json": {
       "model_id": "dca9b5d72c36492293bbe4b6e4b7046f",
       "version_major": 2,
       "version_minor": 0
      },
      "text/plain": [
       "  0%|          | 0/1 [00:00<?, ?it/s]"
      ]
     },
     "metadata": {},
     "output_type": "display_data"
    },
    {
     "name": "stdout",
     "output_type": "stream",
     "text": [
      "R2 score (new):  0.342\n",
      "batch i: 760, episode_len: 9, loss:  0.71769441, entropy:  0.97283584\n",
      "current self-play batch: 761\n",
      "Updating elo score...\n",
      "Complete.\n",
      "Elo score: AlphaZero:  1534.41, Benchmark:  1772.68\n",
      "   action: 0, prob_X:  11.04%\t   action: 0, prob_O:  21.69%\n",
      "   action: 1, prob_X:  11.85%\t   action: 1, prob_O:  0.77%\n",
      "   action: 2, prob_X:  11.01%\t   action: 2, prob_O:  25.75%\n",
      "   action: 3, prob_X:  11.72%\t   action: 3, prob_O:  1.06%\n",
      "   action: 4, prob_X:  9.89%\t   action: 4, prob_O:  0.03%\n",
      "   action: 5, prob_X:  10.99%\t   action: 5, prob_O:  0.89%\n",
      "   action: 6, prob_X:  10.49%\t   action: 6, prob_O:  21.03%\n",
      "⭐️ action: 7, prob_X:  11.88%\t   action: 7, prob_O:  0.88%\n",
      "   action: 8, prob_X:  11.14%\t⭐️ action: 8, prob_O:  27.90%\n",
      "State-value X: 0.2174\n",
      "State-value O: -0.6772\n",
      "Evaluating best player...\n",
      "Complete.\n"
     ]
    },
    {
     "data": {
      "application/vnd.jupyter.widget-view+json": {
       "model_id": "058357d0f7df40e99ab3c7a503706303",
       "version_major": 2,
       "version_minor": 0
      },
      "text/plain": [
       "  0%|          | 0/1 [00:00<?, ?it/s]"
      ]
     },
     "metadata": {},
     "output_type": "display_data"
    },
    {
     "name": "stdout",
     "output_type": "stream",
     "text": [
      "R2 score (new):  0.454\n",
      "batch i: 761, episode_len: 9, loss:  0.72742630, entropy:  0.92707115\n"
     ]
    },
    {
     "data": {
      "application/vnd.jupyter.widget-view+json": {
       "model_id": "887eb06017f74472b309d1149d983b54",
       "version_major": 2,
       "version_minor": 0
      },
      "text/plain": [
       "  0%|          | 0/1 [00:00<?, ?it/s]"
      ]
     },
     "metadata": {},
     "output_type": "display_data"
    },
    {
     "name": "stdout",
     "output_type": "stream",
     "text": [
      "R2 score (new):  0.499\n",
      "batch i: 762, episode_len: 9, loss:  0.65048681, entropy:  0.90178984\n"
     ]
    },
    {
     "data": {
      "application/vnd.jupyter.widget-view+json": {
       "model_id": "06f16446d28b4510b7409229d5f5b0a3",
       "version_major": 2,
       "version_minor": 0
      },
      "text/plain": [
       "  0%|          | 0/1 [00:00<?, ?it/s]"
      ]
     },
     "metadata": {},
     "output_type": "display_data"
    },
    {
     "name": "stdout",
     "output_type": "stream",
     "text": [
      "R2 score (new):  0.400\n",
      "batch i: 763, episode_len: 7, loss:  0.71351349, entropy:  0.93264693\n"
     ]
    },
    {
     "data": {
      "application/vnd.jupyter.widget-view+json": {
       "model_id": "5afd3372ec284a4b91d5c301d82f91be",
       "version_major": 2,
       "version_minor": 0
      },
      "text/plain": [
       "  0%|          | 0/1 [00:00<?, ?it/s]"
      ]
     },
     "metadata": {},
     "output_type": "display_data"
    },
    {
     "name": "stdout",
     "output_type": "stream",
     "text": [
      "R2 score (new):  0.567\n",
      "batch i: 764, episode_len: 9, loss:  0.67716679, entropy:  1.09498644\n"
     ]
    },
    {
     "data": {
      "application/vnd.jupyter.widget-view+json": {
       "model_id": "d0b403acfba548d7a097beb851bab042",
       "version_major": 2,
       "version_minor": 0
      },
      "text/plain": [
       "  0%|          | 0/1 [00:00<?, ?it/s]"
      ]
     },
     "metadata": {},
     "output_type": "display_data"
    },
    {
     "name": "stdout",
     "output_type": "stream",
     "text": [
      "R2 score (new):  0.560\n",
      "batch i: 765, episode_len: 5, loss:  0.67879943, entropy:  0.96614391\n"
     ]
    },
    {
     "data": {
      "application/vnd.jupyter.widget-view+json": {
       "model_id": "966242f2589545eb80820d0fbe5e98ad",
       "version_major": 2,
       "version_minor": 0
      },
      "text/plain": [
       "  0%|          | 0/1 [00:00<?, ?it/s]"
      ]
     },
     "metadata": {},
     "output_type": "display_data"
    },
    {
     "name": "stdout",
     "output_type": "stream",
     "text": [
      "R2 score (new):  0.444\n",
      "batch i: 766, episode_len: 9, loss:  0.65323637, entropy:  0.96275359\n"
     ]
    },
    {
     "data": {
      "application/vnd.jupyter.widget-view+json": {
       "model_id": "2a3c36ccb2724cbe95f656e9e1c9c588",
       "version_major": 2,
       "version_minor": 0
      },
      "text/plain": [
       "  0%|          | 0/1 [00:00<?, ?it/s]"
      ]
     },
     "metadata": {},
     "output_type": "display_data"
    },
    {
     "name": "stdout",
     "output_type": "stream",
     "text": [
      "R2 score (new):  0.377\n",
      "batch i: 767, episode_len: 9, loss:  0.68940640, entropy:  0.89911258\n"
     ]
    },
    {
     "data": {
      "application/vnd.jupyter.widget-view+json": {
       "model_id": "ef82918337754433ba67663942ab0048",
       "version_major": 2,
       "version_minor": 0
      },
      "text/plain": [
       "  0%|          | 0/1 [00:00<?, ?it/s]"
      ]
     },
     "metadata": {},
     "output_type": "display_data"
    },
    {
     "name": "stdout",
     "output_type": "stream",
     "text": [
      "R2 score (new):  0.273\n",
      "batch i: 768, episode_len: 9, loss:  0.67448932, entropy:  1.10753322\n"
     ]
    },
    {
     "data": {
      "application/vnd.jupyter.widget-view+json": {
       "model_id": "93571efe399d414a8f27e466b819a27f",
       "version_major": 2,
       "version_minor": 0
      },
      "text/plain": [
       "  0%|          | 0/1 [00:00<?, ?it/s]"
      ]
     },
     "metadata": {},
     "output_type": "display_data"
    },
    {
     "name": "stdout",
     "output_type": "stream",
     "text": [
      "R2 score (new):  0.442\n",
      "batch i: 769, episode_len: 9, loss:  0.70853167, entropy:  0.95200479\n"
     ]
    },
    {
     "data": {
      "application/vnd.jupyter.widget-view+json": {
       "model_id": "f5900d51ffa540868c2b72f9ea969926",
       "version_major": 2,
       "version_minor": 0
      },
      "text/plain": [
       "  0%|          | 0/1 [00:00<?, ?it/s]"
      ]
     },
     "metadata": {},
     "output_type": "display_data"
    },
    {
     "name": "stdout",
     "output_type": "stream",
     "text": [
      "R2 score (new):  0.434\n",
      "batch i: 770, episode_len: 6, loss:  0.67070604, entropy:  0.97680289\n",
      "current self-play batch: 771\n",
      "Updating elo score...\n",
      "Complete.\n",
      "Elo score: AlphaZero:  1521.83, Benchmark:  1785.25\n",
      "   action: 0, prob_X:  10.10%\t⭐️ action: 0, prob_O:  27.16%\n",
      "   action: 1, prob_X:  10.42%\t   action: 1, prob_O:  0.47%\n",
      "   action: 2, prob_X:  10.24%\t   action: 2, prob_O:  22.80%\n",
      "⭐️ action: 3, prob_X:  13.08%\t   action: 3, prob_O:  0.60%\n",
      "   action: 4, prob_X:  11.84%\t   action: 4, prob_O:  0.01%\n",
      "   action: 5, prob_X:  12.75%\t   action: 5, prob_O:  0.24%\n",
      "   action: 6, prob_X:  11.15%\t   action: 6, prob_O:  21.27%\n",
      "   action: 7, prob_X:  10.95%\t   action: 7, prob_O:  0.54%\n",
      "   action: 8, prob_X:  9.48%\t   action: 8, prob_O:  26.92%\n",
      "State-value X: 0.2322\n",
      "State-value O: -0.6766\n",
      "Evaluating best player...\n",
      "Complete.\n"
     ]
    },
    {
     "data": {
      "application/vnd.jupyter.widget-view+json": {
       "model_id": "629ee2332ab24b399745639ec6868735",
       "version_major": 2,
       "version_minor": 0
      },
      "text/plain": [
       "  0%|          | 0/1 [00:00<?, ?it/s]"
      ]
     },
     "metadata": {},
     "output_type": "display_data"
    },
    {
     "name": "stdout",
     "output_type": "stream",
     "text": [
      "R2 score (new):  0.667\n",
      "batch i: 771, episode_len: 5, loss:  0.71529946, entropy:  0.86330789\n"
     ]
    },
    {
     "data": {
      "application/vnd.jupyter.widget-view+json": {
       "model_id": "56cc6a359ec1414c84ac9ee32109ef10",
       "version_major": 2,
       "version_minor": 0
      },
      "text/plain": [
       "  0%|          | 0/1 [00:00<?, ?it/s]"
      ]
     },
     "metadata": {},
     "output_type": "display_data"
    },
    {
     "name": "stdout",
     "output_type": "stream",
     "text": [
      "R2 score (new):  0.454\n",
      "batch i: 772, episode_len: 9, loss:  0.70108612, entropy:  0.98212963\n"
     ]
    },
    {
     "data": {
      "application/vnd.jupyter.widget-view+json": {
       "model_id": "1b535cc757e647f48f47d754ef5e26e4",
       "version_major": 2,
       "version_minor": 0
      },
      "text/plain": [
       "  0%|          | 0/1 [00:00<?, ?it/s]"
      ]
     },
     "metadata": {},
     "output_type": "display_data"
    },
    {
     "name": "stdout",
     "output_type": "stream",
     "text": [
      "R2 score (new):  0.384\n",
      "batch i: 773, episode_len: 5, loss:  0.68591237, entropy:  0.98640686\n"
     ]
    },
    {
     "data": {
      "application/vnd.jupyter.widget-view+json": {
       "model_id": "654940c98ec744d9827995b2ed38aed6",
       "version_major": 2,
       "version_minor": 0
      },
      "text/plain": [
       "  0%|          | 0/1 [00:00<?, ?it/s]"
      ]
     },
     "metadata": {},
     "output_type": "display_data"
    },
    {
     "name": "stdout",
     "output_type": "stream",
     "text": [
      "R2 score (new):  0.533\n",
      "batch i: 774, episode_len: 6, loss:  0.68302202, entropy:  0.97413039\n"
     ]
    },
    {
     "data": {
      "application/vnd.jupyter.widget-view+json": {
       "model_id": "2d3345757d634f089d73db3e84dcd82e",
       "version_major": 2,
       "version_minor": 0
      },
      "text/plain": [
       "  0%|          | 0/1 [00:00<?, ?it/s]"
      ]
     },
     "metadata": {},
     "output_type": "display_data"
    },
    {
     "name": "stdout",
     "output_type": "stream",
     "text": [
      "R2 score (new):  0.465\n",
      "batch i: 775, episode_len: 9, loss:  0.65403283, entropy:  0.87764615\n"
     ]
    },
    {
     "data": {
      "application/vnd.jupyter.widget-view+json": {
       "model_id": "66ddf621b28c414bb28bb5e841c031e9",
       "version_major": 2,
       "version_minor": 0
      },
      "text/plain": [
       "  0%|          | 0/1 [00:00<?, ?it/s]"
      ]
     },
     "metadata": {},
     "output_type": "display_data"
    },
    {
     "name": "stdout",
     "output_type": "stream",
     "text": [
      "R2 score (new):  0.592\n",
      "batch i: 776, episode_len: 9, loss:  0.69057532, entropy:  1.08095729\n"
     ]
    },
    {
     "data": {
      "application/vnd.jupyter.widget-view+json": {
       "model_id": "5b0bc057330d4ba892b24271b9ba6ebf",
       "version_major": 2,
       "version_minor": 0
      },
      "text/plain": [
       "  0%|          | 0/1 [00:00<?, ?it/s]"
      ]
     },
     "metadata": {},
     "output_type": "display_data"
    },
    {
     "name": "stdout",
     "output_type": "stream",
     "text": [
      "R2 score (new):  0.181\n",
      "batch i: 777, episode_len: 6, loss:  0.67204431, entropy:  1.06767774\n"
     ]
    },
    {
     "data": {
      "application/vnd.jupyter.widget-view+json": {
       "model_id": "2f680331b86b4376b8563502f9551f4b",
       "version_major": 2,
       "version_minor": 0
      },
      "text/plain": [
       "  0%|          | 0/1 [00:00<?, ?it/s]"
      ]
     },
     "metadata": {},
     "output_type": "display_data"
    },
    {
     "name": "stdout",
     "output_type": "stream",
     "text": [
      "R2 score (new):  0.580\n",
      "batch i: 778, episode_len: 9, loss:  0.66614511, entropy:  0.95693958\n"
     ]
    },
    {
     "data": {
      "application/vnd.jupyter.widget-view+json": {
       "model_id": "1565ed8bf9414174a4c6d3632bf3eef5",
       "version_major": 2,
       "version_minor": 0
      },
      "text/plain": [
       "  0%|          | 0/1 [00:00<?, ?it/s]"
      ]
     },
     "metadata": {},
     "output_type": "display_data"
    },
    {
     "name": "stdout",
     "output_type": "stream",
     "text": [
      "R2 score (new):  0.167\n",
      "batch i: 779, episode_len: 5, loss:  0.68480425, entropy:  0.82617533\n"
     ]
    },
    {
     "data": {
      "application/vnd.jupyter.widget-view+json": {
       "model_id": "8ed276899dc14eaaad0164678fa75be0",
       "version_major": 2,
       "version_minor": 0
      },
      "text/plain": [
       "  0%|          | 0/1 [00:00<?, ?it/s]"
      ]
     },
     "metadata": {},
     "output_type": "display_data"
    },
    {
     "name": "stdout",
     "output_type": "stream",
     "text": [
      "R2 score (new):  0.183\n",
      "batch i: 780, episode_len: 9, loss:  0.67880786, entropy:  0.97688740\n",
      "current self-play batch: 781\n",
      "Updating elo score...\n",
      "Complete.\n",
      "Elo score: AlphaZero:  1526.62, Benchmark:  1780.47\n",
      "   action: 0, prob_X:  11.12%\t   action: 0, prob_O:  26.23%\n",
      "   action: 1, prob_X:  11.17%\t   action: 1, prob_O:  0.79%\n",
      "   action: 2, prob_X:  11.53%\t   action: 2, prob_O:  20.26%\n",
      "⭐️ action: 3, prob_X:  12.12%\t   action: 3, prob_O:  0.92%\n",
      "   action: 4, prob_X:  9.33%\t   action: 4, prob_O:  0.05%\n",
      "   action: 5, prob_X:  10.88%\t   action: 5, prob_O:  0.73%\n",
      "   action: 6, prob_X:  11.80%\t   action: 6, prob_O:  21.62%\n",
      "   action: 7, prob_X:  10.80%\t   action: 7, prob_O:  1.15%\n",
      "   action: 8, prob_X:  11.25%\t⭐️ action: 8, prob_O:  28.24%\n",
      "State-value X: 0.1969\n",
      "State-value O: -0.6829\n",
      "Evaluating best player...\n",
      "Complete.\n"
     ]
    },
    {
     "data": {
      "application/vnd.jupyter.widget-view+json": {
       "model_id": "a344459b2bd2477aa9c65339891f1a6b",
       "version_major": 2,
       "version_minor": 0
      },
      "text/plain": [
       "  0%|          | 0/1 [00:00<?, ?it/s]"
      ]
     },
     "metadata": {},
     "output_type": "display_data"
    },
    {
     "name": "stdout",
     "output_type": "stream",
     "text": [
      "R2 score (new):  0.374\n",
      "batch i: 781, episode_len: 9, loss:  0.66838657, entropy:  0.93770367\n"
     ]
    },
    {
     "data": {
      "application/vnd.jupyter.widget-view+json": {
       "model_id": "f5ae370d1d9a4ffab06a1fef08f84f53",
       "version_major": 2,
       "version_minor": 0
      },
      "text/plain": [
       "  0%|          | 0/1 [00:00<?, ?it/s]"
      ]
     },
     "metadata": {},
     "output_type": "display_data"
    },
    {
     "name": "stdout",
     "output_type": "stream",
     "text": [
      "R2 score (new):  0.366\n",
      "batch i: 782, episode_len: 9, loss:  0.69410690, entropy:  0.96647173\n"
     ]
    },
    {
     "data": {
      "application/vnd.jupyter.widget-view+json": {
       "model_id": "e229bd267609452d86f7818a86aea179",
       "version_major": 2,
       "version_minor": 0
      },
      "text/plain": [
       "  0%|          | 0/1 [00:00<?, ?it/s]"
      ]
     },
     "metadata": {},
     "output_type": "display_data"
    },
    {
     "name": "stdout",
     "output_type": "stream",
     "text": [
      "R2 score (new):  0.557\n",
      "batch i: 783, episode_len: 5, loss:  0.71016803, entropy:  0.94018805\n"
     ]
    },
    {
     "data": {
      "application/vnd.jupyter.widget-view+json": {
       "model_id": "307cb1300eca4ee183e89097595ac8fc",
       "version_major": 2,
       "version_minor": 0
      },
      "text/plain": [
       "  0%|          | 0/1 [00:00<?, ?it/s]"
      ]
     },
     "metadata": {},
     "output_type": "display_data"
    },
    {
     "name": "stdout",
     "output_type": "stream",
     "text": [
      "R2 score (new):  0.501\n",
      "batch i: 784, episode_len: 5, loss:  0.65223235, entropy:  0.94833219\n"
     ]
    },
    {
     "data": {
      "application/vnd.jupyter.widget-view+json": {
       "model_id": "d5d6f6b61d2f49a58a7f853998cfb0f6",
       "version_major": 2,
       "version_minor": 0
      },
      "text/plain": [
       "  0%|          | 0/1 [00:00<?, ?it/s]"
      ]
     },
     "metadata": {},
     "output_type": "display_data"
    },
    {
     "name": "stdout",
     "output_type": "stream",
     "text": [
      "R2 score (new):  0.739\n",
      "batch i: 785, episode_len: 9, loss:  0.68332424, entropy:  0.96905524\n"
     ]
    },
    {
     "data": {
      "application/vnd.jupyter.widget-view+json": {
       "model_id": "aa0fa40983ae49eb90f13694916b13cf",
       "version_major": 2,
       "version_minor": 0
      },
      "text/plain": [
       "  0%|          | 0/1 [00:00<?, ?it/s]"
      ]
     },
     "metadata": {},
     "output_type": "display_data"
    },
    {
     "name": "stdout",
     "output_type": "stream",
     "text": [
      "R2 score (new):  0.450\n",
      "batch i: 786, episode_len: 9, loss:  0.69034704, entropy:  1.00914943\n"
     ]
    },
    {
     "data": {
      "application/vnd.jupyter.widget-view+json": {
       "model_id": "a1e80ea923024c7d93020216a61aba72",
       "version_major": 2,
       "version_minor": 0
      },
      "text/plain": [
       "  0%|          | 0/1 [00:00<?, ?it/s]"
      ]
     },
     "metadata": {},
     "output_type": "display_data"
    },
    {
     "name": "stdout",
     "output_type": "stream",
     "text": [
      "R2 score (new):  0.558\n",
      "batch i: 787, episode_len: 9, loss:  0.66289042, entropy:  0.86868948\n"
     ]
    },
    {
     "data": {
      "application/vnd.jupyter.widget-view+json": {
       "model_id": "38edaf942427441f8d8de09eea0cce83",
       "version_major": 2,
       "version_minor": 0
      },
      "text/plain": [
       "  0%|          | 0/1 [00:00<?, ?it/s]"
      ]
     },
     "metadata": {},
     "output_type": "display_data"
    },
    {
     "name": "stdout",
     "output_type": "stream",
     "text": [
      "R2 score (new):  0.401\n",
      "batch i: 788, episode_len: 9, loss:  0.68843964, entropy:  0.99446487\n"
     ]
    },
    {
     "data": {
      "application/vnd.jupyter.widget-view+json": {
       "model_id": "882e365a84904c4ca6f884dfc70e510a",
       "version_major": 2,
       "version_minor": 0
      },
      "text/plain": [
       "  0%|          | 0/1 [00:00<?, ?it/s]"
      ]
     },
     "metadata": {},
     "output_type": "display_data"
    },
    {
     "name": "stdout",
     "output_type": "stream",
     "text": [
      "R2 score (new):  0.463\n",
      "batch i: 789, episode_len: 9, loss:  0.70833497, entropy:  0.93614244\n"
     ]
    },
    {
     "data": {
      "application/vnd.jupyter.widget-view+json": {
       "model_id": "18eb63fee8a4409e893484a489f90ccb",
       "version_major": 2,
       "version_minor": 0
      },
      "text/plain": [
       "  0%|          | 0/1 [00:00<?, ?it/s]"
      ]
     },
     "metadata": {},
     "output_type": "display_data"
    },
    {
     "name": "stdout",
     "output_type": "stream",
     "text": [
      "R2 score (new):  0.425\n",
      "batch i: 790, episode_len: 9, loss:  0.66954911, entropy:  0.96884656\n",
      "current self-play batch: 791\n",
      "Updating elo score...\n",
      "Complete.\n",
      "Elo score: AlphaZero:  1545.99, Benchmark:  1761.10\n",
      "   action: 0, prob_X:  10.97%\t⭐️ action: 0, prob_O:  26.37%\n",
      "   action: 1, prob_X:  10.85%\t   action: 1, prob_O:  0.38%\n",
      "   action: 2, prob_X:  11.64%\t   action: 2, prob_O:  21.85%\n",
      "   action: 3, prob_X:  10.93%\t   action: 3, prob_O:  0.86%\n",
      "   action: 4, prob_X:  11.32%\t   action: 4, prob_O:  0.01%\n",
      "   action: 5, prob_X:  11.08%\t   action: 5, prob_O:  0.57%\n",
      "   action: 6, prob_X:  11.05%\t   action: 6, prob_O:  23.47%\n",
      "   action: 7, prob_X:  10.45%\t   action: 7, prob_O:  0.57%\n",
      "⭐️ action: 8, prob_X:  11.72%\t   action: 8, prob_O:  25.92%\n",
      "State-value X: 0.2775\n",
      "State-value O: -0.6810\n",
      "Evaluating best player...\n",
      "Complete.\n"
     ]
    },
    {
     "data": {
      "application/vnd.jupyter.widget-view+json": {
       "model_id": "3aff468362b34be79526b276c2d49c1c",
       "version_major": 2,
       "version_minor": 0
      },
      "text/plain": [
       "  0%|          | 0/1 [00:00<?, ?it/s]"
      ]
     },
     "metadata": {},
     "output_type": "display_data"
    },
    {
     "name": "stdout",
     "output_type": "stream",
     "text": [
      "R2 score (new):  0.503\n",
      "batch i: 791, episode_len: 5, loss:  0.69217881, entropy:  1.06489122\n"
     ]
    },
    {
     "data": {
      "application/vnd.jupyter.widget-view+json": {
       "model_id": "f0420acbdbd842c7a848e681c37aac05",
       "version_major": 2,
       "version_minor": 0
      },
      "text/plain": [
       "  0%|          | 0/1 [00:00<?, ?it/s]"
      ]
     },
     "metadata": {},
     "output_type": "display_data"
    },
    {
     "name": "stdout",
     "output_type": "stream",
     "text": [
      "R2 score (new):  0.605\n",
      "batch i: 792, episode_len: 9, loss:  0.67412174, entropy:  0.88121676\n"
     ]
    },
    {
     "data": {
      "application/vnd.jupyter.widget-view+json": {
       "model_id": "4f3dda55e6194770981e56cf65a41262",
       "version_major": 2,
       "version_minor": 0
      },
      "text/plain": [
       "  0%|          | 0/1 [00:00<?, ?it/s]"
      ]
     },
     "metadata": {},
     "output_type": "display_data"
    },
    {
     "name": "stdout",
     "output_type": "stream",
     "text": [
      "R2 score (new):  0.478\n",
      "batch i: 793, episode_len: 5, loss:  0.69838429, entropy:  0.94965005\n"
     ]
    },
    {
     "data": {
      "application/vnd.jupyter.widget-view+json": {
       "model_id": "6531f0d0ac7a49168a9c6b3b7f2e101b",
       "version_major": 2,
       "version_minor": 0
      },
      "text/plain": [
       "  0%|          | 0/1 [00:00<?, ?it/s]"
      ]
     },
     "metadata": {},
     "output_type": "display_data"
    },
    {
     "name": "stdout",
     "output_type": "stream",
     "text": [
      "R2 score (new):  0.516\n",
      "batch i: 794, episode_len: 5, loss:  0.67446195, entropy:  0.98301935\n"
     ]
    },
    {
     "data": {
      "application/vnd.jupyter.widget-view+json": {
       "model_id": "642e4e3841fb4f369793922cd8aca20c",
       "version_major": 2,
       "version_minor": 0
      },
      "text/plain": [
       "  0%|          | 0/1 [00:00<?, ?it/s]"
      ]
     },
     "metadata": {},
     "output_type": "display_data"
    },
    {
     "name": "stdout",
     "output_type": "stream",
     "text": [
      "R2 score (new):  0.617\n",
      "batch i: 795, episode_len: 9, loss:  0.68163238, entropy:  0.93997425\n"
     ]
    },
    {
     "data": {
      "application/vnd.jupyter.widget-view+json": {
       "model_id": "1458321d19514f0eb1e53198139709a5",
       "version_major": 2,
       "version_minor": 0
      },
      "text/plain": [
       "  0%|          | 0/1 [00:00<?, ?it/s]"
      ]
     },
     "metadata": {},
     "output_type": "display_data"
    },
    {
     "name": "stdout",
     "output_type": "stream",
     "text": [
      "R2 score (new):  0.386\n",
      "batch i: 796, episode_len: 5, loss:  0.67399501, entropy:  0.93644214\n"
     ]
    },
    {
     "data": {
      "application/vnd.jupyter.widget-view+json": {
       "model_id": "15255cb8ede54a23a5926d1437fa2775",
       "version_major": 2,
       "version_minor": 0
      },
      "text/plain": [
       "  0%|          | 0/1 [00:00<?, ?it/s]"
      ]
     },
     "metadata": {},
     "output_type": "display_data"
    },
    {
     "name": "stdout",
     "output_type": "stream",
     "text": [
      "R2 score (new):  0.508\n",
      "batch i: 797, episode_len: 9, loss:  0.65796133, entropy:  0.96889889\n"
     ]
    },
    {
     "data": {
      "application/vnd.jupyter.widget-view+json": {
       "model_id": "31710fa2551c4f528f52148f57ff7966",
       "version_major": 2,
       "version_minor": 0
      },
      "text/plain": [
       "  0%|          | 0/1 [00:00<?, ?it/s]"
      ]
     },
     "metadata": {},
     "output_type": "display_data"
    },
    {
     "name": "stdout",
     "output_type": "stream",
     "text": [
      "R2 score (new):  0.389\n",
      "batch i: 798, episode_len: 9, loss:  0.66810904, entropy:  1.00252903\n"
     ]
    },
    {
     "data": {
      "application/vnd.jupyter.widget-view+json": {
       "model_id": "642219bddfa543ef9c7102b57238b883",
       "version_major": 2,
       "version_minor": 0
      },
      "text/plain": [
       "  0%|          | 0/1 [00:00<?, ?it/s]"
      ]
     },
     "metadata": {},
     "output_type": "display_data"
    },
    {
     "name": "stdout",
     "output_type": "stream",
     "text": [
      "R2 score (new):  0.395\n",
      "batch i: 799, episode_len: 5, loss:  0.66843727, entropy:  0.86463636\n"
     ]
    },
    {
     "data": {
      "application/vnd.jupyter.widget-view+json": {
       "model_id": "1e3848e61e444af4b83214f4b855db67",
       "version_major": 2,
       "version_minor": 0
      },
      "text/plain": [
       "  0%|          | 0/1 [00:00<?, ?it/s]"
      ]
     },
     "metadata": {},
     "output_type": "display_data"
    },
    {
     "name": "stdout",
     "output_type": "stream",
     "text": [
      "R2 score (new):  0.491\n",
      "batch i: 800, episode_len: 9, loss:  0.69464649, entropy:  1.00476468\n",
      "current self-play batch: 801\n",
      "Updating elo score...\n",
      "Complete.\n",
      "Elo score: AlphaZero:  1548.06, Benchmark:  1759.03\n",
      "   action: 0, prob_X:  11.33%\t   action: 0, prob_O:  25.82%\n",
      "   action: 1, prob_X:  10.54%\t   action: 1, prob_O:  0.58%\n",
      "   action: 2, prob_X:  11.23%\t   action: 2, prob_O:  21.37%\n",
      "   action: 3, prob_X:  10.94%\t   action: 3, prob_O:  0.68%\n",
      "   action: 4, prob_X:  10.94%\t   action: 4, prob_O:  0.01%\n",
      "   action: 5, prob_X:  11.35%\t   action: 5, prob_O:  0.48%\n",
      "⭐️ action: 6, prob_X:  11.59%\t   action: 6, prob_O:  23.96%\n",
      "   action: 7, prob_X:  11.51%\t   action: 7, prob_O:  0.72%\n",
      "   action: 8, prob_X:  10.57%\t⭐️ action: 8, prob_O:  26.39%\n",
      "State-value X: 0.2963\n",
      "State-value O: -0.6965\n",
      "Evaluating best player...\n",
      "Complete.\n"
     ]
    },
    {
     "data": {
      "application/vnd.jupyter.widget-view+json": {
       "model_id": "6c9bec9063a7467b8abb1896a5a3d047",
       "version_major": 2,
       "version_minor": 0
      },
      "text/plain": [
       "  0%|          | 0/1 [00:00<?, ?it/s]"
      ]
     },
     "metadata": {},
     "output_type": "display_data"
    },
    {
     "name": "stdout",
     "output_type": "stream",
     "text": [
      "R2 score (new):  0.404\n",
      "batch i: 801, episode_len: 9, loss:  0.68625181, entropy:  0.94037968\n"
     ]
    },
    {
     "data": {
      "application/vnd.jupyter.widget-view+json": {
       "model_id": "adf6daaeba4442d99bbc853b96b9fc18",
       "version_major": 2,
       "version_minor": 0
      },
      "text/plain": [
       "  0%|          | 0/1 [00:00<?, ?it/s]"
      ]
     },
     "metadata": {},
     "output_type": "display_data"
    },
    {
     "name": "stdout",
     "output_type": "stream",
     "text": [
      "R2 score (new):  0.529\n",
      "batch i: 802, episode_len: 7, loss:  0.65505354, entropy:  0.95842999\n"
     ]
    },
    {
     "data": {
      "application/vnd.jupyter.widget-view+json": {
       "model_id": "f769c50c037e4bbaad56ac54ea6062e6",
       "version_major": 2,
       "version_minor": 0
      },
      "text/plain": [
       "  0%|          | 0/1 [00:00<?, ?it/s]"
      ]
     },
     "metadata": {},
     "output_type": "display_data"
    },
    {
     "name": "stdout",
     "output_type": "stream",
     "text": [
      "R2 score (new):  0.429\n",
      "batch i: 803, episode_len: 5, loss:  0.66010426, entropy:  0.91645885\n"
     ]
    },
    {
     "data": {
      "application/vnd.jupyter.widget-view+json": {
       "model_id": "40f588c788cb4bb5986a916f1026b1e8",
       "version_major": 2,
       "version_minor": 0
      },
      "text/plain": [
       "  0%|          | 0/1 [00:00<?, ?it/s]"
      ]
     },
     "metadata": {},
     "output_type": "display_data"
    },
    {
     "name": "stdout",
     "output_type": "stream",
     "text": [
      "R2 score (new):  0.521\n",
      "batch i: 804, episode_len: 7, loss:  0.67223356, entropy:  0.90778261\n"
     ]
    },
    {
     "data": {
      "application/vnd.jupyter.widget-view+json": {
       "model_id": "b2c9a1d480d941e989b0c5367eaa4e6a",
       "version_major": 2,
       "version_minor": 0
      },
      "text/plain": [
       "  0%|          | 0/1 [00:00<?, ?it/s]"
      ]
     },
     "metadata": {},
     "output_type": "display_data"
    },
    {
     "name": "stdout",
     "output_type": "stream",
     "text": [
      "R2 score (new):  0.367\n",
      "batch i: 805, episode_len: 9, loss:  0.70089025, entropy:  0.95930541\n"
     ]
    },
    {
     "data": {
      "application/vnd.jupyter.widget-view+json": {
       "model_id": "efb8d2291bf9463f83d238582f068970",
       "version_major": 2,
       "version_minor": 0
      },
      "text/plain": [
       "  0%|          | 0/1 [00:00<?, ?it/s]"
      ]
     },
     "metadata": {},
     "output_type": "display_data"
    },
    {
     "name": "stdout",
     "output_type": "stream",
     "text": [
      "R2 score (new):  0.000\n",
      "batch i: 806, episode_len: 9, loss:  0.78360915, entropy:  2.18663716\n"
     ]
    },
    {
     "data": {
      "application/vnd.jupyter.widget-view+json": {
       "model_id": "ae07f18b32cb4a96837a349096e76c79",
       "version_major": 2,
       "version_minor": 0
      },
      "text/plain": [
       "  0%|          | 0/1 [00:00<?, ?it/s]"
      ]
     },
     "metadata": {},
     "output_type": "display_data"
    },
    {
     "name": "stdout",
     "output_type": "stream",
     "text": [
      "R2 score (new):  0.212\n",
      "batch i: 807, episode_len: 9, loss:  0.70558697, entropy:  0.74673277\n"
     ]
    },
    {
     "data": {
      "application/vnd.jupyter.widget-view+json": {
       "model_id": "57263e34eef848cab0d58e871e7ede91",
       "version_major": 2,
       "version_minor": 0
      },
      "text/plain": [
       "  0%|          | 0/1 [00:00<?, ?it/s]"
      ]
     },
     "metadata": {},
     "output_type": "display_data"
    },
    {
     "name": "stdout",
     "output_type": "stream",
     "text": [
      "R2 score (new):  0.885\n",
      "batch i: 808, episode_len: 9, loss:  0.66529420, entropy:  0.67429489\n"
     ]
    },
    {
     "data": {
      "application/vnd.jupyter.widget-view+json": {
       "model_id": "e21cd040f9d54112937b8086ccf76f78",
       "version_major": 2,
       "version_minor": 0
      },
      "text/plain": [
       "  0%|          | 0/1 [00:00<?, ?it/s]"
      ]
     },
     "metadata": {},
     "output_type": "display_data"
    },
    {
     "name": "stdout",
     "output_type": "stream",
     "text": [
      "R2 score (new):  0.917\n",
      "batch i: 809, episode_len: 9, loss:  0.72063287, entropy:  0.81792790\n"
     ]
    },
    {
     "data": {
      "application/vnd.jupyter.widget-view+json": {
       "model_id": "0e5283d533364244afd013459a9c1b80",
       "version_major": 2,
       "version_minor": 0
      },
      "text/plain": [
       "  0%|          | 0/1 [00:00<?, ?it/s]"
      ]
     },
     "metadata": {},
     "output_type": "display_data"
    },
    {
     "name": "stdout",
     "output_type": "stream",
     "text": [
      "R2 score (new):  0.112\n",
      "batch i: 810, episode_len: 7, loss:  0.68268466, entropy:  1.02465415\n",
      "current self-play batch: 811\n",
      "Updating elo score...\n",
      "Complete.\n",
      "Elo score: AlphaZero:  1533.87, Benchmark:  1773.22\n",
      "   action: 0, prob_X:  12.10%\t   action: 0, prob_O:  22.74%\n",
      "   action: 1, prob_X:  11.91%\t   action: 1, prob_O:  0.38%\n",
      "   action: 2, prob_X:  7.54%\t⭐️ action: 2, prob_O:  29.53%\n",
      "   action: 3, prob_X:  10.73%\t   action: 3, prob_O:  0.25%\n",
      "⭐️ action: 4, prob_X:  13.05%\t   action: 4, prob_O:  0.01%\n",
      "   action: 5, prob_X:  10.72%\t   action: 5, prob_O:  0.07%\n",
      "   action: 6, prob_X:  10.66%\t   action: 6, prob_O:  21.79%\n",
      "   action: 7, prob_X:  11.78%\t   action: 7, prob_O:  0.37%\n",
      "   action: 8, prob_X:  11.51%\t   action: 8, prob_O:  24.86%\n",
      "State-value X: 0.1436\n",
      "State-value O: -0.6923\n",
      "Evaluating best player...\n",
      "Complete.\n"
     ]
    },
    {
     "data": {
      "application/vnd.jupyter.widget-view+json": {
       "model_id": "cde0efdf08b2431b8d27befca6e0b76c",
       "version_major": 2,
       "version_minor": 0
      },
      "text/plain": [
       "  0%|          | 0/1 [00:00<?, ?it/s]"
      ]
     },
     "metadata": {},
     "output_type": "display_data"
    },
    {
     "name": "stdout",
     "output_type": "stream",
     "text": [
      "R2 score (new):  0.234\n",
      "batch i: 811, episode_len: 9, loss:  0.67293584, entropy:  1.02319968\n"
     ]
    },
    {
     "data": {
      "application/vnd.jupyter.widget-view+json": {
       "model_id": "2fac0328b9e9415c81adaf31d52f083b",
       "version_major": 2,
       "version_minor": 0
      },
      "text/plain": [
       "  0%|          | 0/1 [00:00<?, ?it/s]"
      ]
     },
     "metadata": {},
     "output_type": "display_data"
    },
    {
     "name": "stdout",
     "output_type": "stream",
     "text": [
      "R2 score (new):  0.159\n",
      "batch i: 812, episode_len: 9, loss:  0.71832241, entropy:  1.00894380\n"
     ]
    },
    {
     "data": {
      "application/vnd.jupyter.widget-view+json": {
       "model_id": "a6af1bab570b4136b4a85ee095f92f2f",
       "version_major": 2,
       "version_minor": 0
      },
      "text/plain": [
       "  0%|          | 0/1 [00:00<?, ?it/s]"
      ]
     },
     "metadata": {},
     "output_type": "display_data"
    },
    {
     "name": "stdout",
     "output_type": "stream",
     "text": [
      "R2 score (new):  0.529\n",
      "batch i: 813, episode_len: 9, loss:  0.71720327, entropy:  0.96443826\n"
     ]
    },
    {
     "data": {
      "application/vnd.jupyter.widget-view+json": {
       "model_id": "803e4af860e14852821bb498f43497ab",
       "version_major": 2,
       "version_minor": 0
      },
      "text/plain": [
       "  0%|          | 0/1 [00:00<?, ?it/s]"
      ]
     },
     "metadata": {},
     "output_type": "display_data"
    },
    {
     "name": "stdout",
     "output_type": "stream",
     "text": [
      "R2 score (new):  0.170\n",
      "batch i: 814, episode_len: 9, loss:  0.65642756, entropy:  1.01780748\n"
     ]
    },
    {
     "data": {
      "application/vnd.jupyter.widget-view+json": {
       "model_id": "727c4eb7faa849a4b93c1d1996a460c7",
       "version_major": 2,
       "version_minor": 0
      },
      "text/plain": [
       "  0%|          | 0/1 [00:00<?, ?it/s]"
      ]
     },
     "metadata": {},
     "output_type": "display_data"
    },
    {
     "name": "stdout",
     "output_type": "stream",
     "text": [
      "R2 score (new):  0.519\n",
      "batch i: 815, episode_len: 9, loss:  0.66520619, entropy:  0.94110668\n"
     ]
    },
    {
     "data": {
      "application/vnd.jupyter.widget-view+json": {
       "model_id": "d5e07037275c43ea996c101b781f3f08",
       "version_major": 2,
       "version_minor": 0
      },
      "text/plain": [
       "  0%|          | 0/1 [00:00<?, ?it/s]"
      ]
     },
     "metadata": {},
     "output_type": "display_data"
    },
    {
     "name": "stdout",
     "output_type": "stream",
     "text": [
      "R2 score (new):  0.227\n",
      "batch i: 816, episode_len: 9, loss:  0.69520293, entropy:  0.88977045\n"
     ]
    },
    {
     "data": {
      "application/vnd.jupyter.widget-view+json": {
       "model_id": "4e2a44fa4d9d47a49b964176e04045ce",
       "version_major": 2,
       "version_minor": 0
      },
      "text/plain": [
       "  0%|          | 0/1 [00:00<?, ?it/s]"
      ]
     },
     "metadata": {},
     "output_type": "display_data"
    },
    {
     "name": "stdout",
     "output_type": "stream",
     "text": [
      "R2 score (new):  0.428\n",
      "batch i: 817, episode_len: 5, loss:  0.70274776, entropy:  0.99681473\n"
     ]
    },
    {
     "data": {
      "application/vnd.jupyter.widget-view+json": {
       "model_id": "8de50ba91fde40d6988055bd5edd8c49",
       "version_major": 2,
       "version_minor": 0
      },
      "text/plain": [
       "  0%|          | 0/1 [00:00<?, ?it/s]"
      ]
     },
     "metadata": {},
     "output_type": "display_data"
    },
    {
     "name": "stdout",
     "output_type": "stream",
     "text": [
      "R2 score (new):  0.442\n",
      "batch i: 818, episode_len: 9, loss:  0.66710165, entropy:  1.27064359\n"
     ]
    },
    {
     "data": {
      "application/vnd.jupyter.widget-view+json": {
       "model_id": "cbc8e8e19a3849b0b1c2c1b0c201d22f",
       "version_major": 2,
       "version_minor": 0
      },
      "text/plain": [
       "  0%|          | 0/1 [00:00<?, ?it/s]"
      ]
     },
     "metadata": {},
     "output_type": "display_data"
    },
    {
     "name": "stdout",
     "output_type": "stream",
     "text": [
      "R2 score (new):  0.683\n",
      "batch i: 819, episode_len: 5, loss:  0.66824035, entropy:  0.91487581\n"
     ]
    },
    {
     "data": {
      "application/vnd.jupyter.widget-view+json": {
       "model_id": "170945caca9446f2af371c5390ea033d",
       "version_major": 2,
       "version_minor": 0
      },
      "text/plain": [
       "  0%|          | 0/1 [00:00<?, ?it/s]"
      ]
     },
     "metadata": {},
     "output_type": "display_data"
    },
    {
     "name": "stdout",
     "output_type": "stream",
     "text": [
      "R2 score (new):  0.628\n",
      "batch i: 820, episode_len: 5, loss:  0.67420602, entropy:  1.08690989\n",
      "current self-play batch: 821\n",
      "Updating elo score...\n",
      "Complete.\n",
      "Elo score: AlphaZero:  1552.40, Benchmark:  1754.69\n",
      "⭐️ action: 0, prob_X:  13.25%\t   action: 0, prob_O:  22.64%\n",
      "   action: 1, prob_X:  9.53%\t   action: 1, prob_O:  0.41%\n",
      "   action: 2, prob_X:  11.19%\t⭐️ action: 2, prob_O:  26.01%\n",
      "   action: 3, prob_X:  11.52%\t   action: 3, prob_O:  1.27%\n",
      "   action: 4, prob_X:  10.05%\t   action: 4, prob_O:  0.01%\n",
      "   action: 5, prob_X:  11.20%\t   action: 5, prob_O:  0.31%\n",
      "   action: 6, prob_X:  12.19%\t   action: 6, prob_O:  23.10%\n",
      "   action: 7, prob_X:  10.17%\t   action: 7, prob_O:  0.52%\n",
      "   action: 8, prob_X:  10.90%\t   action: 8, prob_O:  25.71%\n",
      "State-value X: 0.2592\n",
      "State-value O: -0.6987\n",
      "Evaluating best player...\n",
      "Complete.\n"
     ]
    },
    {
     "data": {
      "application/vnd.jupyter.widget-view+json": {
       "model_id": "7301758505a241499fa96dd2a43575ff",
       "version_major": 2,
       "version_minor": 0
      },
      "text/plain": [
       "  0%|          | 0/1 [00:00<?, ?it/s]"
      ]
     },
     "metadata": {},
     "output_type": "display_data"
    },
    {
     "name": "stdout",
     "output_type": "stream",
     "text": [
      "R2 score (new):  0.334\n",
      "batch i: 821, episode_len: 9, loss:  0.67191052, entropy:  1.05749142\n"
     ]
    },
    {
     "data": {
      "application/vnd.jupyter.widget-view+json": {
       "model_id": "5f888f7dd07c4a5eb9b805855b0d5ac5",
       "version_major": 2,
       "version_minor": 0
      },
      "text/plain": [
       "  0%|          | 0/1 [00:00<?, ?it/s]"
      ]
     },
     "metadata": {},
     "output_type": "display_data"
    },
    {
     "name": "stdout",
     "output_type": "stream",
     "text": [
      "R2 score (new):  0.256\n",
      "batch i: 822, episode_len: 9, loss:  0.70645041, entropy:  1.05324972\n"
     ]
    },
    {
     "data": {
      "application/vnd.jupyter.widget-view+json": {
       "model_id": "a6c5abcf5bd847d7b1dee5ee8cae5627",
       "version_major": 2,
       "version_minor": 0
      },
      "text/plain": [
       "  0%|          | 0/1 [00:00<?, ?it/s]"
      ]
     },
     "metadata": {},
     "output_type": "display_data"
    },
    {
     "name": "stdout",
     "output_type": "stream",
     "text": [
      "R2 score (new):  0.239\n",
      "batch i: 823, episode_len: 9, loss:  0.68778287, entropy:  0.90902466\n"
     ]
    },
    {
     "data": {
      "application/vnd.jupyter.widget-view+json": {
       "model_id": "3f1e1ea65fab4ff4838b48a626648c04",
       "version_major": 2,
       "version_minor": 0
      },
      "text/plain": [
       "  0%|          | 0/1 [00:00<?, ?it/s]"
      ]
     },
     "metadata": {},
     "output_type": "display_data"
    },
    {
     "name": "stdout",
     "output_type": "stream",
     "text": [
      "R2 score (new):  0.414\n",
      "batch i: 824, episode_len: 5, loss:  0.65103696, entropy:  0.87615728\n"
     ]
    },
    {
     "data": {
      "application/vnd.jupyter.widget-view+json": {
       "model_id": "fb544f5364e447dca1a3ffa3fbe3f4e6",
       "version_major": 2,
       "version_minor": 0
      },
      "text/plain": [
       "  0%|          | 0/1 [00:00<?, ?it/s]"
      ]
     },
     "metadata": {},
     "output_type": "display_data"
    },
    {
     "name": "stdout",
     "output_type": "stream",
     "text": [
      "R2 score (new):  0.658\n",
      "batch i: 825, episode_len: 5, loss:  0.67978296, entropy:  0.85876483\n"
     ]
    },
    {
     "data": {
      "application/vnd.jupyter.widget-view+json": {
       "model_id": "d6fa0ece1a464ddca951dab783ed9884",
       "version_major": 2,
       "version_minor": 0
      },
      "text/plain": [
       "  0%|          | 0/1 [00:00<?, ?it/s]"
      ]
     },
     "metadata": {},
     "output_type": "display_data"
    },
    {
     "name": "stdout",
     "output_type": "stream",
     "text": [
      "R2 score (new):  0.513\n",
      "batch i: 826, episode_len: 7, loss:  0.65692623, entropy:  0.86777651\n"
     ]
    },
    {
     "data": {
      "application/vnd.jupyter.widget-view+json": {
       "model_id": "f65f3168a2134dba990788c55371915f",
       "version_major": 2,
       "version_minor": 0
      },
      "text/plain": [
       "  0%|          | 0/1 [00:00<?, ?it/s]"
      ]
     },
     "metadata": {},
     "output_type": "display_data"
    },
    {
     "name": "stdout",
     "output_type": "stream",
     "text": [
      "R2 score (new):  0.496\n",
      "batch i: 827, episode_len: 5, loss:  0.66469334, entropy:  1.00296021\n"
     ]
    },
    {
     "data": {
      "application/vnd.jupyter.widget-view+json": {
       "model_id": "3700feb8db8f406a87ab7a287bff2798",
       "version_major": 2,
       "version_minor": 0
      },
      "text/plain": [
       "  0%|          | 0/1 [00:00<?, ?it/s]"
      ]
     },
     "metadata": {},
     "output_type": "display_data"
    },
    {
     "name": "stdout",
     "output_type": "stream",
     "text": [
      "R2 score (new):  0.563\n",
      "batch i: 828, episode_len: 5, loss:  0.63950806, entropy:  0.87621093\n"
     ]
    },
    {
     "data": {
      "application/vnd.jupyter.widget-view+json": {
       "model_id": "e522d78fdf814c5aa1dda0ae62ab41e7",
       "version_major": 2,
       "version_minor": 0
      },
      "text/plain": [
       "  0%|          | 0/1 [00:00<?, ?it/s]"
      ]
     },
     "metadata": {},
     "output_type": "display_data"
    },
    {
     "name": "stdout",
     "output_type": "stream",
     "text": [
      "R2 score (new):  0.203\n",
      "batch i: 829, episode_len: 9, loss:  0.66505513, entropy:  0.93111777\n"
     ]
    },
    {
     "data": {
      "application/vnd.jupyter.widget-view+json": {
       "model_id": "f363bfc156ee459692dd21797e8a115f",
       "version_major": 2,
       "version_minor": 0
      },
      "text/plain": [
       "  0%|          | 0/1 [00:00<?, ?it/s]"
      ]
     },
     "metadata": {},
     "output_type": "display_data"
    },
    {
     "name": "stdout",
     "output_type": "stream",
     "text": [
      "R2 score (new):  0.431\n",
      "batch i: 830, episode_len: 9, loss:  0.65660532, entropy:  0.72023946\n",
      "current self-play batch: 831\n",
      "Updating elo score...\n",
      "Complete.\n",
      "Elo score: AlphaZero:  1537.67, Benchmark:  1769.41\n",
      "   action: 0, prob_X:  11.32%\t   action: 0, prob_O:  18.44%\n",
      "   action: 1, prob_X:  11.29%\t   action: 1, prob_O:  0.22%\n",
      "   action: 2, prob_X:  11.06%\t⭐️ action: 2, prob_O:  30.90%\n",
      "⭐️ action: 3, prob_X:  12.29%\t   action: 3, prob_O:  0.62%\n",
      "   action: 4, prob_X:  9.85%\t   action: 4, prob_O:  0.01%\n",
      "   action: 5, prob_X:  11.20%\t   action: 5, prob_O:  0.42%\n",
      "   action: 6, prob_X:  11.13%\t   action: 6, prob_O:  26.82%\n",
      "   action: 7, prob_X:  10.33%\t   action: 7, prob_O:  0.32%\n",
      "   action: 8, prob_X:  11.53%\t   action: 8, prob_O:  22.25%\n",
      "State-value X: 0.2774\n",
      "State-value O: -0.6928\n",
      "Evaluating best player...\n",
      "Complete.\n"
     ]
    },
    {
     "data": {
      "application/vnd.jupyter.widget-view+json": {
       "model_id": "fbd50c0ae1bf4c28a6d34321ddb01d33",
       "version_major": 2,
       "version_minor": 0
      },
      "text/plain": [
       "  0%|          | 0/1 [00:00<?, ?it/s]"
      ]
     },
     "metadata": {},
     "output_type": "display_data"
    },
    {
     "name": "stdout",
     "output_type": "stream",
     "text": [
      "R2 score (new):  0.422\n",
      "batch i: 831, episode_len: 5, loss:  0.71744606, entropy:  0.95787007\n"
     ]
    },
    {
     "data": {
      "application/vnd.jupyter.widget-view+json": {
       "model_id": "f1f350fb0e8b491ca993352133bb8b14",
       "version_major": 2,
       "version_minor": 0
      },
      "text/plain": [
       "  0%|          | 0/1 [00:00<?, ?it/s]"
      ]
     },
     "metadata": {},
     "output_type": "display_data"
    },
    {
     "name": "stdout",
     "output_type": "stream",
     "text": [
      "R2 score (new):  0.390\n",
      "batch i: 832, episode_len: 9, loss:  0.67986563, entropy:  0.91442513\n"
     ]
    },
    {
     "data": {
      "application/vnd.jupyter.widget-view+json": {
       "model_id": "b98be20e45134456a65f29dfba8ab033",
       "version_major": 2,
       "version_minor": 0
      },
      "text/plain": [
       "  0%|          | 0/1 [00:00<?, ?it/s]"
      ]
     },
     "metadata": {},
     "output_type": "display_data"
    },
    {
     "name": "stdout",
     "output_type": "stream",
     "text": [
      "R2 score (new):  0.390\n",
      "batch i: 833, episode_len: 9, loss:  0.66341431, entropy:  0.91964030\n"
     ]
    },
    {
     "data": {
      "application/vnd.jupyter.widget-view+json": {
       "model_id": "bdeac51324c44a8a8f29bdad4716e3ec",
       "version_major": 2,
       "version_minor": 0
      },
      "text/plain": [
       "  0%|          | 0/1 [00:00<?, ?it/s]"
      ]
     },
     "metadata": {},
     "output_type": "display_data"
    },
    {
     "name": "stdout",
     "output_type": "stream",
     "text": [
      "R2 score (new):  0.293\n",
      "batch i: 834, episode_len: 9, loss:  0.67044512, entropy:  0.89679432\n"
     ]
    },
    {
     "data": {
      "application/vnd.jupyter.widget-view+json": {
       "model_id": "493fbdd5ff1643b7a4432bd31eb43881",
       "version_major": 2,
       "version_minor": 0
      },
      "text/plain": [
       "  0%|          | 0/1 [00:00<?, ?it/s]"
      ]
     },
     "metadata": {},
     "output_type": "display_data"
    },
    {
     "name": "stdout",
     "output_type": "stream",
     "text": [
      "R2 score (new):  0.478\n",
      "batch i: 835, episode_len: 5, loss:  0.68514600, entropy:  1.05874562\n"
     ]
    },
    {
     "data": {
      "application/vnd.jupyter.widget-view+json": {
       "model_id": "4c015e30b5e14c24b01e73ec3707a028",
       "version_major": 2,
       "version_minor": 0
      },
      "text/plain": [
       "  0%|          | 0/1 [00:00<?, ?it/s]"
      ]
     },
     "metadata": {},
     "output_type": "display_data"
    },
    {
     "name": "stdout",
     "output_type": "stream",
     "text": [
      "R2 score (new):  0.403\n",
      "batch i: 836, episode_len: 5, loss:  0.69518298, entropy:  0.90387982\n"
     ]
    },
    {
     "data": {
      "application/vnd.jupyter.widget-view+json": {
       "model_id": "3c83f5289e2346b6b51deeeec4603096",
       "version_major": 2,
       "version_minor": 0
      },
      "text/plain": [
       "  0%|          | 0/1 [00:00<?, ?it/s]"
      ]
     },
     "metadata": {},
     "output_type": "display_data"
    },
    {
     "ename": "KeyboardInterrupt",
     "evalue": "",
     "output_type": "error",
     "traceback": [
      "\u001b[0;31m---------------------------------------------------------------------------\u001b[0m",
      "\u001b[0;31mKeyboardInterrupt\u001b[0m                         Traceback (most recent call last)",
      "Cell \u001b[0;32mIn[1], line 7\u001b[0m\n\u001b[1;32m      4\u001b[0m torch\u001b[38;5;241m.\u001b[39mbackends\u001b[38;5;241m.\u001b[39mcudnn\u001b[38;5;241m.\u001b[39mbenchmark \u001b[38;5;241m=\u001b[39m \u001b[38;5;28;01mTrue\u001b[39;00m\n\u001b[1;32m      6\u001b[0m pipeline \u001b[38;5;241m=\u001b[39m TrainPipeline(\u001b[38;5;124m'\u001b[39m\u001b[38;5;124mTTT\u001b[39m\u001b[38;5;124m'\u001b[39m, \u001b[38;5;124m'\u001b[39m\u001b[38;5;124mCNN\u001b[39m\u001b[38;5;124m'\u001b[39m, \u001b[38;5;124m'\u001b[39m\u001b[38;5;124mAZ\u001b[39m\u001b[38;5;124m'\u001b[39m)\n\u001b[0;32m----> 7\u001b[0m \u001b[43mpipeline\u001b[49m\u001b[43m(\u001b[49m\u001b[43m)\u001b[49m\n",
      "File \u001b[0;32m~/AlphaZero/Pipeline.py:201\u001b[0m, in \u001b[0;36mTrainPipeline.__call__\u001b[0;34m(self)\u001b[0m\n\u001b[1;32m    200\u001b[0m \u001b[38;5;28;01mdef\u001b[39;00m\u001b[38;5;250m \u001b[39m\u001b[38;5;21m__call__\u001b[39m(\u001b[38;5;28mself\u001b[39m):\n\u001b[0;32m--> 201\u001b[0m     \u001b[38;5;28;43mself\u001b[39;49m\u001b[38;5;241;43m.\u001b[39;49m\u001b[43mrun\u001b[49m\u001b[43m(\u001b[49m\u001b[43m)\u001b[49m\n",
      "File \u001b[0;32m~/AlphaZero/Pipeline.py:92\u001b[0m, in \u001b[0;36mTrainPipeline.run\u001b[0;34m(self)\u001b[0m\n\u001b[1;32m     89\u001b[0m p_loss, v_loss, entropy, grad_norm \u001b[38;5;241m=\u001b[39m \u001b[38;5;28mfloat\u001b[39m(\u001b[38;5;124m'\u001b[39m\u001b[38;5;124minf\u001b[39m\u001b[38;5;124m'\u001b[39m), \u001b[38;5;28mfloat\u001b[39m(\u001b[38;5;124m'\u001b[39m\u001b[38;5;124minf\u001b[39m\u001b[38;5;124m'\u001b[39m), \\\n\u001b[1;32m     90\u001b[0m     \u001b[38;5;28mfloat\u001b[39m(\u001b[38;5;124m'\u001b[39m\u001b[38;5;124minf\u001b[39m\u001b[38;5;124m'\u001b[39m), \u001b[38;5;28mfloat\u001b[39m(\u001b[38;5;124m'\u001b[39m\u001b[38;5;124minf\u001b[39m\u001b[38;5;124m'\u001b[39m)\n\u001b[1;32m     91\u001b[0m i \u001b[38;5;241m+\u001b[39m\u001b[38;5;241m=\u001b[39m \u001b[38;5;241m1\u001b[39m\n\u001b[0;32m---> 92\u001b[0m p_loss, v_loss, entropy, grad_norm, r2 \u001b[38;5;241m=\u001b[39m \u001b[38;5;28;43mself\u001b[39;49m\u001b[38;5;241;43m.\u001b[39;49m\u001b[43mpolicy_update\u001b[49m\u001b[43m(\u001b[49m\u001b[43m)\u001b[49m\n\u001b[1;32m     94\u001b[0m \u001b[38;5;28mprint\u001b[39m(\u001b[38;5;124mf\u001b[39m\u001b[38;5;124m'\u001b[39m\u001b[38;5;124mbatch i: \u001b[39m\u001b[38;5;132;01m{\u001b[39;00mi\u001b[38;5;132;01m}\u001b[39;00m\u001b[38;5;124m, episode_len: \u001b[39m\u001b[38;5;132;01m{\u001b[39;00m\u001b[38;5;28mself\u001b[39m\u001b[38;5;241m.\u001b[39mepisode_len\u001b[38;5;132;01m}\u001b[39;00m\u001b[38;5;124m, \u001b[39m\u001b[38;5;124m'\u001b[39m\n\u001b[1;32m     95\u001b[0m       \u001b[38;5;124mf\u001b[39m\u001b[38;5;124m'\u001b[39m\u001b[38;5;124mloss: \u001b[39m\u001b[38;5;132;01m{\u001b[39;00mp_loss\u001b[38;5;250m \u001b[39m\u001b[38;5;241m+\u001b[39m\u001b[38;5;250m \u001b[39mv_loss\u001b[38;5;132;01m:\u001b[39;00m\u001b[38;5;124m .8f\u001b[39m\u001b[38;5;132;01m}\u001b[39;00m\u001b[38;5;124m, entropy: \u001b[39m\u001b[38;5;132;01m{\u001b[39;00mentropy\u001b[38;5;132;01m:\u001b[39;00m\u001b[38;5;124m .8f\u001b[39m\u001b[38;5;132;01m}\u001b[39;00m\u001b[38;5;124m'\u001b[39m)\n\u001b[1;32m     97\u001b[0m writer\u001b[38;5;241m.\u001b[39madd_scalar(\u001b[38;5;124m'\u001b[39m\u001b[38;5;124mMetric/Gradient Norm\u001b[39m\u001b[38;5;124m'\u001b[39m, grad_norm, i)\n",
      "File \u001b[0;32m~/AlphaZero/Pipeline.py:73\u001b[0m, in \u001b[0;36mTrainPipeline.policy_update\u001b[0;34m(self)\u001b[0m\n\u001b[1;32m     70\u001b[0m \u001b[38;5;28;01mdef\u001b[39;00m\u001b[38;5;250m \u001b[39m\u001b[38;5;21mpolicy_update\u001b[39m(\u001b[38;5;28mself\u001b[39m):\n\u001b[1;32m     71\u001b[0m     dataloader \u001b[38;5;241m=\u001b[39m \u001b[38;5;28mself\u001b[39m\u001b[38;5;241m.\u001b[39mbuffer\u001b[38;5;241m.\u001b[39mdataloader(\u001b[38;5;28mself\u001b[39m\u001b[38;5;241m.\u001b[39mbatch_size)\n\u001b[0;32m---> 73\u001b[0m     p_l, v_l, ent, g_n, r2 \u001b[38;5;241m=\u001b[39m \u001b[38;5;28;43mself\u001b[39;49m\u001b[38;5;241;43m.\u001b[39;49m\u001b[43mpolicy_value_net\u001b[49m\u001b[38;5;241;43m.\u001b[39;49m\u001b[43mtrain_step\u001b[49m\u001b[43m(\u001b[49m\u001b[43mdataloader\u001b[49m\u001b[43m,\u001b[49m\u001b[43m \u001b[49m\u001b[38;5;28;43mself\u001b[39;49m\u001b[38;5;241;43m.\u001b[39;49m\u001b[43mmodule\u001b[49m\u001b[38;5;241;43m.\u001b[39;49m\u001b[43minstant_augment\u001b[49m\u001b[43m)\u001b[49m\n\u001b[1;32m     75\u001b[0m     \u001b[38;5;28mprint\u001b[39m(\u001b[38;5;124mf\u001b[39m\u001b[38;5;124m'\u001b[39m\u001b[38;5;124mR2 score (new): \u001b[39m\u001b[38;5;132;01m{\u001b[39;00mr2\u001b[38;5;132;01m:\u001b[39;00m\u001b[38;5;124m .3f\u001b[39m\u001b[38;5;132;01m}\u001b[39;00m\u001b[38;5;124m'\u001b[39m)\n\u001b[1;32m     76\u001b[0m     \u001b[38;5;28;01mreturn\u001b[39;00m p_l, v_l, ent, g_n, r2\n",
      "File \u001b[0;32m~/AlphaZero/policy_value_net.py:61\u001b[0m, in \u001b[0;36mPolicyValueNet.train_step\u001b[0;34m(self, dataloader, augment)\u001b[0m\n\u001b[1;32m     59\u001b[0m log_p_pred, value_pred \u001b[38;5;241m=\u001b[39m \u001b[38;5;28mself\u001b[39m\u001b[38;5;241m.\u001b[39mnet(state)\n\u001b[1;32m     60\u001b[0m v_loss \u001b[38;5;241m=\u001b[39m quantile_loss(value_pred, value, \u001b[38;5;28mself\u001b[39m\u001b[38;5;241m.\u001b[39mtau)\n\u001b[0;32m---> 61\u001b[0m p_loss \u001b[38;5;241m=\u001b[39m \u001b[43mF\u001b[49m\u001b[38;5;241;43m.\u001b[39;49m\u001b[43mkl_div\u001b[49m\u001b[43m(\u001b[49m\u001b[43mlog_p_pred\u001b[49m\u001b[43m,\u001b[49m\u001b[43m \u001b[49m\u001b[43mprob\u001b[49m\u001b[43m,\u001b[49m\u001b[43m \u001b[49m\u001b[43mreduction\u001b[49m\u001b[38;5;241;43m=\u001b[39;49m\u001b[38;5;124;43m'\u001b[39;49m\u001b[38;5;124;43mbatchmean\u001b[39;49m\u001b[38;5;124;43m'\u001b[39;49m\u001b[43m)\u001b[49m\n\u001b[1;32m     62\u001b[0m loss \u001b[38;5;241m=\u001b[39m p_loss \u001b[38;5;241m+\u001b[39m v_loss\n\u001b[1;32m     63\u001b[0m loss\u001b[38;5;241m.\u001b[39mbackward()\n",
      "File \u001b[0;32m/Library/Frameworks/Python.framework/Versions/3.13/lib/python3.13/site-packages/torch/nn/functional.py:3396\u001b[0m, in \u001b[0;36mkl_div\u001b[0;34m(input, target, size_average, reduce, reduction, log_target)\u001b[0m\n\u001b[1;32m   3393\u001b[0m     \u001b[38;5;28;01melse\u001b[39;00m:\n\u001b[1;32m   3394\u001b[0m         reduction_enum \u001b[38;5;241m=\u001b[39m _Reduction\u001b[38;5;241m.\u001b[39mget_enum(reduction)\n\u001b[0;32m-> 3396\u001b[0m reduced \u001b[38;5;241m=\u001b[39m \u001b[43mtorch\u001b[49m\u001b[38;5;241;43m.\u001b[39;49m\u001b[43mkl_div\u001b[49m\u001b[43m(\u001b[49m\u001b[38;5;28;43minput\u001b[39;49m\u001b[43m,\u001b[49m\u001b[43m \u001b[49m\u001b[43mtarget\u001b[49m\u001b[43m,\u001b[49m\u001b[43m \u001b[49m\u001b[43mreduction_enum\u001b[49m\u001b[43m,\u001b[49m\u001b[43m \u001b[49m\u001b[43mlog_target\u001b[49m\u001b[38;5;241;43m=\u001b[39;49m\u001b[43mlog_target\u001b[49m\u001b[43m)\u001b[49m\n\u001b[1;32m   3398\u001b[0m \u001b[38;5;28;01mif\u001b[39;00m reduction \u001b[38;5;241m==\u001b[39m \u001b[38;5;124m\"\u001b[39m\u001b[38;5;124mbatchmean\u001b[39m\u001b[38;5;124m\"\u001b[39m \u001b[38;5;129;01mand\u001b[39;00m \u001b[38;5;28minput\u001b[39m\u001b[38;5;241m.\u001b[39mdim() \u001b[38;5;241m!=\u001b[39m \u001b[38;5;241m0\u001b[39m:\n\u001b[1;32m   3399\u001b[0m     reduced \u001b[38;5;241m=\u001b[39m reduced \u001b[38;5;241m/\u001b[39m \u001b[38;5;28minput\u001b[39m\u001b[38;5;241m.\u001b[39msize()[\u001b[38;5;241m0\u001b[39m]\n",
      "\u001b[0;31mKeyboardInterrupt\u001b[0m: "
     ]
    }
   ],
   "source": [
    "import torch\n",
    "from Pipeline import TrainPipeline\n",
    "\n",
    "torch.backends.cudnn.benchmark = True\n",
    "\n",
    "pipeline = TrainPipeline('TTT', 'CNN', 'AZ')\n",
    "pipeline()"
   ]
  }
 ],
 "metadata": {
  "kernelspec": {
   "display_name": "Python 3",
   "language": "python",
   "name": "python3"
  },
  "language_info": {
   "codemirror_mode": {
    "name": "ipython",
    "version": 3
   },
   "file_extension": ".py",
   "mimetype": "text/x-python",
   "name": "python",
   "nbconvert_exporter": "python",
   "pygments_lexer": "ipython3",
   "version": "3.13.2"
  }
 },
 "nbformat": 4,
 "nbformat_minor": 2
}
