{
 "cells": [
  {
   "cell_type": "code",
   "execution_count": 1,
   "metadata": {},
   "outputs": [
    {
     "name": "stdout",
     "output_type": "stream",
     "text": [
      "Failed to load parameters.\n",
      "Error(s) in loading state_dict for CNN:\n",
      "\tMissing key(s) in state_dict: \"sigma.0.weight\", \"sigma.1.weight\", \"sigma.1.bias\", \"sigma.1.running_mean\", \"sigma.1.running_var\", \"sigma.3.weight\", \"sigma.3.bias\". \n",
      "==================================================\n",
      "Hyperparameters:\n",
      "\tC_puct: 1.5\n",
      "\tSimulation (AlphaZero): 100\n",
      "\tSimulation (Benchmark): 1000\n",
      "\tDirichlet alpha: 0.3\n",
      "\tBuffer size: 100000\n",
      "\tBatch size: 256\n",
      "\tRandom steps: 12\n",
      "\tDiscount: 0.972\n",
      "\tTemperature: 1.0\n",
      "==================================================\n"
     ]
    },
    {
     "data": {
      "application/vnd.jupyter.widget-view+json": {
       "model_id": "916adec07cf0444ba63e4ddebc11ca91",
       "version_major": 2,
       "version_minor": 0
      },
      "text/plain": [
       "  0%|          | 0/1 [00:00<?, ?it/s]"
      ]
     },
     "metadata": {},
     "output_type": "display_data"
    },
    {
     "name": "stdout",
     "output_type": "stream",
     "text": [
      "kl:  0.10419\n",
      "explained_var_old:  0.071\n",
      "explained_var_new:  0.293\n",
      "batch i: 1, episode_len: 15, loss:  5.27626431, entropy:  0.81026685\n"
     ]
    },
    {
     "data": {
      "application/vnd.jupyter.widget-view+json": {
       "model_id": "b4e2b3314c6948b7a83f7a01debc46c0",
       "version_major": 2,
       "version_minor": 0
      },
      "text/plain": [
       "  0%|          | 0/1 [00:00<?, ?it/s]"
      ]
     },
     "metadata": {},
     "output_type": "display_data"
    },
    {
     "name": "stdout",
     "output_type": "stream",
     "text": [
      "kl:  0.01633\n",
      "explained_var_old:  0.501\n",
      "explained_var_new:  0.728\n",
      "batch i: 2, episode_len: 39, loss:  2.76718366, entropy:  0.49448621\n"
     ]
    },
    {
     "data": {
      "application/vnd.jupyter.widget-view+json": {
       "model_id": "c5a1b2371cce412da79cf89f3cb39233",
       "version_major": 2,
       "version_minor": 0
      },
      "text/plain": [
       "  0%|          | 0/1 [00:00<?, ?it/s]"
      ]
     },
     "metadata": {},
     "output_type": "display_data"
    },
    {
     "name": "stdout",
     "output_type": "stream",
     "text": [
      "kl:  0.04535\n",
      "explained_var_old:  0.786\n",
      "explained_var_new:  0.892\n",
      "batch i: 3, episode_len: 33, loss:  2.72566864, entropy:  0.49472293\n"
     ]
    },
    {
     "data": {
      "application/vnd.jupyter.widget-view+json": {
       "model_id": "ff3bdc5e28fb4615864c2cb5b8fea843",
       "version_major": 2,
       "version_minor": 0
      },
      "text/plain": [
       "  0%|          | 0/1 [00:00<?, ?it/s]"
      ]
     },
     "metadata": {},
     "output_type": "display_data"
    },
    {
     "name": "stdout",
     "output_type": "stream",
     "text": [
      "kl:  0.02184\n",
      "explained_var_old:  0.743\n",
      "explained_var_new:  0.751\n",
      "batch i: 4, episode_len: 42, loss:  2.52017511, entropy:  0.50741787\n"
     ]
    },
    {
     "data": {
      "application/vnd.jupyter.widget-view+json": {
       "model_id": "87b4f74d2e75483797ccd87d8ad464be",
       "version_major": 2,
       "version_minor": 0
      },
      "text/plain": [
       "  0%|          | 0/1 [00:00<?, ?it/s]"
      ]
     },
     "metadata": {},
     "output_type": "display_data"
    },
    {
     "name": "stdout",
     "output_type": "stream",
     "text": [
      "kl:  0.03067\n",
      "explained_var_old:  0.392\n",
      "explained_var_new:  0.435\n",
      "batch i: 5, episode_len: 42, loss:  2.52982147, entropy:  0.57382205\n"
     ]
    },
    {
     "data": {
      "application/vnd.jupyter.widget-view+json": {
       "model_id": "2da51eff25494cb1b45a625107fd1a99",
       "version_major": 2,
       "version_minor": 0
      },
      "text/plain": [
       "  0%|          | 0/1 [00:00<?, ?it/s]"
      ]
     },
     "metadata": {},
     "output_type": "display_data"
    },
    {
     "name": "stdout",
     "output_type": "stream",
     "text": [
      "kl:  0.04066\n",
      "explained_var_old:  0.052\n",
      "explained_var_new: -0.078\n",
      "batch i: 6, episode_len: 37, loss:  2.44186887, entropy:  0.58726221\n"
     ]
    },
    {
     "data": {
      "application/vnd.jupyter.widget-view+json": {
       "model_id": "76747afb6c5e4b2496c741a852a70f18",
       "version_major": 2,
       "version_minor": 0
      },
      "text/plain": [
       "  0%|          | 0/1 [00:00<?, ?it/s]"
      ]
     },
     "metadata": {},
     "output_type": "display_data"
    },
    {
     "name": "stdout",
     "output_type": "stream",
     "text": [
      "kl:  0.01521\n",
      "explained_var_old: -0.153\n",
      "explained_var_new: -0.225\n",
      "batch i: 7, episode_len: 31, loss:  2.33353736, entropy:  0.60327727\n"
     ]
    },
    {
     "data": {
      "application/vnd.jupyter.widget-view+json": {
       "model_id": "8658c6a422594d8c9d8682894d645664",
       "version_major": 2,
       "version_minor": 0
      },
      "text/plain": [
       "  0%|          | 0/1 [00:00<?, ?it/s]"
      ]
     },
     "metadata": {},
     "output_type": "display_data"
    },
    {
     "name": "stdout",
     "output_type": "stream",
     "text": [
      "kl:  0.01719\n",
      "explained_var_old: -0.317\n",
      "explained_var_new: -0.682\n",
      "batch i: 8, episode_len: 29, loss:  2.19676559, entropy:  0.58665907\n"
     ]
    },
    {
     "data": {
      "application/vnd.jupyter.widget-view+json": {
       "model_id": "e1ec316ae6e240c88f80adab801f6339",
       "version_major": 2,
       "version_minor": 0
      },
      "text/plain": [
       "  0%|          | 0/1 [00:00<?, ?it/s]"
      ]
     },
     "metadata": {},
     "output_type": "display_data"
    },
    {
     "name": "stdout",
     "output_type": "stream",
     "text": [
      "kl:  0.03013\n",
      "explained_var_old: -0.201\n",
      "explained_var_new: -0.781\n",
      "batch i: 9, episode_len: 23, loss:  2.00890056, entropy:  0.59326633\n"
     ]
    },
    {
     "data": {
      "application/vnd.jupyter.widget-view+json": {
       "model_id": "25785185642141acbc901fcb931082e0",
       "version_major": 2,
       "version_minor": 0
      },
      "text/plain": [
       "  0%|          | 0/1 [00:00<?, ?it/s]"
      ]
     },
     "metadata": {},
     "output_type": "display_data"
    },
    {
     "name": "stdout",
     "output_type": "stream",
     "text": [
      "kl:  0.02502\n",
      "explained_var_old: -0.855\n",
      "explained_var_new: -0.760\n",
      "batch i: 10, episode_len: 36, loss:  1.92589680, entropy:  0.60513367\n",
      "current self-play batch: 11\n",
      "Updating elo score...\n",
      "Complete.\n",
      "Elo score: AlphaZero:  1531.26, Benchmark:  1500.00\n",
      "   action: 0, prob_X:  1.61%\t   action: 0, prob_O:  3.42%\n",
      "   action: 1, prob_X:  0.76%\t   action: 1, prob_O:  5.65%\n",
      "   action: 2, prob_X:  0.89%\t   action: 2, prob_O:  9.55%\n",
      "⭐️ action: 3, prob_X:  64.40%\t   action: 3, prob_O:  24.24%\n",
      "   action: 4, prob_X:  20.69%\t⭐️ action: 4, prob_O:  35.43%\n",
      "   action: 5, prob_X:  6.30%\t   action: 5, prob_O:  19.95%\n",
      "   action: 6, prob_X:  5.36%\t   action: 6, prob_O:  1.75%\n",
      "State-value X:  0.2179, sigma:  1.2984\n",
      "State-value O: -0.1464, sigma:  0.9656\n",
      "Evaluating best player...\n",
      "Complete.\n"
     ]
    },
    {
     "data": {
      "application/vnd.jupyter.widget-view+json": {
       "model_id": "e83c5bfbffc54960b97fe9c5f1bf0a24",
       "version_major": 2,
       "version_minor": 0
      },
      "text/plain": [
       "  0%|          | 0/1 [00:00<?, ?it/s]"
      ]
     },
     "metadata": {},
     "output_type": "display_data"
    },
    {
     "name": "stdout",
     "output_type": "stream",
     "text": [
      "kl:  0.01830\n",
      "explained_var_old: -0.803\n",
      "explained_var_new: -0.588\n",
      "batch i: 11, episode_len: 39, loss:  1.77935040, entropy:  0.58534243\n"
     ]
    },
    {
     "data": {
      "application/vnd.jupyter.widget-view+json": {
       "model_id": "8c02bb11e4054f9884d2054b1dc3f298",
       "version_major": 2,
       "version_minor": 0
      },
      "text/plain": [
       "  0%|          | 0/1 [00:00<?, ?it/s]"
      ]
     },
     "metadata": {},
     "output_type": "display_data"
    },
    {
     "name": "stdout",
     "output_type": "stream",
     "text": [
      "kl:  0.01604\n",
      "explained_var_old: -0.786\n",
      "explained_var_new: -0.235\n",
      "batch i: 12, episode_len: 40, loss:  1.91013522, entropy:  0.59246610\n"
     ]
    },
    {
     "data": {
      "application/vnd.jupyter.widget-view+json": {
       "model_id": "5f4863163ca2423598a3069cc94bd289",
       "version_major": 2,
       "version_minor": 0
      },
      "text/plain": [
       "  0%|          | 0/1 [00:00<?, ?it/s]"
      ]
     },
     "metadata": {},
     "output_type": "display_data"
    },
    {
     "name": "stdout",
     "output_type": "stream",
     "text": [
      "kl:  0.01983\n",
      "explained_var_old: -0.430\n",
      "explained_var_new: -0.346\n",
      "batch i: 13, episode_len: 9, loss:  1.50335531, entropy:  0.61496846\n"
     ]
    },
    {
     "data": {
      "application/vnd.jupyter.widget-view+json": {
       "model_id": "5e6d5e213f2c426896fdf5cba6c2908f",
       "version_major": 2,
       "version_minor": 0
      },
      "text/plain": [
       "  0%|          | 0/1 [00:00<?, ?it/s]"
      ]
     },
     "metadata": {},
     "output_type": "display_data"
    },
    {
     "name": "stdout",
     "output_type": "stream",
     "text": [
      "kl:  0.01709\n",
      "explained_var_old: -0.232\n",
      "explained_var_new: -0.025\n",
      "batch i: 14, episode_len: 38, loss:  1.28482498, entropy:  0.57936306\n"
     ]
    },
    {
     "data": {
      "application/vnd.jupyter.widget-view+json": {
       "model_id": "2ac6577680324ceba3b40592ef9ab50c",
       "version_major": 2,
       "version_minor": 0
      },
      "text/plain": [
       "  0%|          | 0/1 [00:00<?, ?it/s]"
      ]
     },
     "metadata": {},
     "output_type": "display_data"
    },
    {
     "name": "stdout",
     "output_type": "stream",
     "text": [
      "kl:  0.01728\n",
      "explained_var_old: -0.094\n",
      "explained_var_new:  0.116\n",
      "batch i: 15, episode_len: 33, loss:  1.10730695, entropy:  0.61107245\n"
     ]
    },
    {
     "data": {
      "application/vnd.jupyter.widget-view+json": {
       "model_id": "d6d728b73e084e259b225a217b8596ff",
       "version_major": 2,
       "version_minor": 0
      },
      "text/plain": [
       "  0%|          | 0/1 [00:00<?, ?it/s]"
      ]
     },
     "metadata": {},
     "output_type": "display_data"
    },
    {
     "name": "stdout",
     "output_type": "stream",
     "text": [
      "kl:  0.01849\n",
      "explained_var_old: -0.048\n",
      "explained_var_new:  0.455\n",
      "batch i: 16, episode_len: 38, loss:  0.88003271, entropy:  0.59141977\n"
     ]
    },
    {
     "data": {
      "application/vnd.jupyter.widget-view+json": {
       "model_id": "2d281d7b9da144cfbe804c1fea74a9cb",
       "version_major": 2,
       "version_minor": 0
      },
      "text/plain": [
       "  0%|          | 0/1 [00:00<?, ?it/s]"
      ]
     },
     "metadata": {},
     "output_type": "display_data"
    },
    {
     "name": "stdout",
     "output_type": "stream",
     "text": [
      "kl:  0.01815\n",
      "explained_var_old:  0.331\n",
      "explained_var_new:  0.347\n",
      "batch i: 17, episode_len: 38, loss:  0.72378000, entropy:  0.55336167\n"
     ]
    },
    {
     "data": {
      "application/vnd.jupyter.widget-view+json": {
       "model_id": "da0d0295cafd466d8ebd490973827d08",
       "version_major": 2,
       "version_minor": 0
      },
      "text/plain": [
       "  0%|          | 0/1 [00:00<?, ?it/s]"
      ]
     },
     "metadata": {},
     "output_type": "display_data"
    },
    {
     "name": "stdout",
     "output_type": "stream",
     "text": [
      "kl:  0.01855\n",
      "explained_var_old:  0.400\n",
      "explained_var_new:  0.338\n",
      "batch i: 18, episode_len: 34, loss:  0.68626820, entropy:  0.61201185\n"
     ]
    },
    {
     "data": {
      "application/vnd.jupyter.widget-view+json": {
       "model_id": "209cd9b1a4c346ef9a639baa95ce2e05",
       "version_major": 2,
       "version_minor": 0
      },
      "text/plain": [
       "  0%|          | 0/1 [00:00<?, ?it/s]"
      ]
     },
     "metadata": {},
     "output_type": "display_data"
    },
    {
     "name": "stdout",
     "output_type": "stream",
     "text": [
      "kl:  0.02171\n",
      "explained_var_old:  0.334\n",
      "explained_var_new:  0.375\n",
      "batch i: 19, episode_len: 38, loss:  0.45553233, entropy:  0.57903651\n"
     ]
    },
    {
     "data": {
      "application/vnd.jupyter.widget-view+json": {
       "model_id": "3c0427dba2924a9faac66c9e0fb80d4a",
       "version_major": 2,
       "version_minor": 0
      },
      "text/plain": [
       "  0%|          | 0/1 [00:00<?, ?it/s]"
      ]
     },
     "metadata": {},
     "output_type": "display_data"
    },
    {
     "name": "stdout",
     "output_type": "stream",
     "text": [
      "kl:  0.01746\n",
      "explained_var_old:  0.482\n",
      "explained_var_new:  0.561\n",
      "batch i: 20, episode_len: 36, loss:  0.29657087, entropy:  0.56582445\n",
      "current self-play batch: 21\n",
      "Updating elo score...\n",
      "Complete.\n",
      "Elo score: AlphaZero:  1559.73, Benchmark:  1500.00\n",
      "   action: 0, prob_X:  8.10%\t   action: 0, prob_O:  3.62%\n",
      "   action: 1, prob_X:  13.09%\t   action: 1, prob_O:  18.97%\n",
      "   action: 2, prob_X:  4.26%\t   action: 2, prob_O:  14.96%\n",
      "⭐️ action: 3, prob_X:  42.66%\t   action: 3, prob_O:  18.24%\n",
      "   action: 4, prob_X:  7.48%\t⭐️ action: 4, prob_O:  23.68%\n",
      "   action: 5, prob_X:  13.42%\t   action: 5, prob_O:  16.06%\n",
      "   action: 6, prob_X:  10.99%\t   action: 6, prob_O:  4.46%\n",
      "State-value X:  0.0474, sigma:  0.6079\n",
      "State-value O: -0.0413, sigma:  0.6172\n",
      "Evaluating best player...\n",
      "Complete.\n"
     ]
    },
    {
     "data": {
      "application/vnd.jupyter.widget-view+json": {
       "model_id": "c02d42d14ab74f4f9d1e99a77d5d56c6",
       "version_major": 2,
       "version_minor": 0
      },
      "text/plain": [
       "  0%|          | 0/1 [00:00<?, ?it/s]"
      ]
     },
     "metadata": {},
     "output_type": "display_data"
    },
    {
     "name": "stdout",
     "output_type": "stream",
     "text": [
      "kl:  0.01621\n",
      "explained_var_old:  0.578\n",
      "explained_var_new:  0.570\n",
      "batch i: 21, episode_len: 35, loss:  0.15051928, entropy:  0.56823137\n"
     ]
    },
    {
     "data": {
      "application/vnd.jupyter.widget-view+json": {
       "model_id": "dd37cd8fffc24d038c81bee8c6bd8d4a",
       "version_major": 2,
       "version_minor": 0
      },
      "text/plain": [
       "  0%|          | 0/1 [00:00<?, ?it/s]"
      ]
     },
     "metadata": {},
     "output_type": "display_data"
    },
    {
     "name": "stdout",
     "output_type": "stream",
     "text": [
      "kl:  0.02015\n",
      "explained_var_old:  0.503\n",
      "explained_var_new:  0.526\n",
      "batch i: 22, episode_len: 39, loss:  0.14522071, entropy:  0.56000513\n"
     ]
    },
    {
     "data": {
      "application/vnd.jupyter.widget-view+json": {
       "model_id": "82c52c98974d4a23b4d3ef34607e4a26",
       "version_major": 2,
       "version_minor": 0
      },
      "text/plain": [
       "  0%|          | 0/1 [00:00<?, ?it/s]"
      ]
     },
     "metadata": {},
     "output_type": "display_data"
    },
    {
     "name": "stdout",
     "output_type": "stream",
     "text": [
      "kl:  0.01543\n",
      "explained_var_old:  0.514\n",
      "explained_var_new:  0.518\n",
      "batch i: 23, episode_len: 38, loss:  0.05593227, entropy:  0.56787246\n"
     ]
    },
    {
     "data": {
      "application/vnd.jupyter.widget-view+json": {
       "model_id": "c422bc4b0af6422a97837433340a5499",
       "version_major": 2,
       "version_minor": 0
      },
      "text/plain": [
       "  0%|          | 0/1 [00:00<?, ?it/s]"
      ]
     },
     "metadata": {},
     "output_type": "display_data"
    },
    {
     "name": "stdout",
     "output_type": "stream",
     "text": [
      "kl:  0.01690\n",
      "explained_var_old:  0.420\n",
      "explained_var_new:  0.462\n",
      "batch i: 24, episode_len: 39, loss: -0.02265751, entropy:  0.54086881\n"
     ]
    },
    {
     "data": {
      "application/vnd.jupyter.widget-view+json": {
       "model_id": "2516b3f71ad14a3cbdb867c0fcd91e06",
       "version_major": 2,
       "version_minor": 0
      },
      "text/plain": [
       "  0%|          | 0/1 [00:00<?, ?it/s]"
      ]
     },
     "metadata": {},
     "output_type": "display_data"
    },
    {
     "name": "stdout",
     "output_type": "stream",
     "text": [
      "kl:  0.01696\n",
      "explained_var_old:  0.440\n",
      "explained_var_new:  0.637\n",
      "batch i: 25, episode_len: 35, loss: -0.26510740, entropy:  0.53534666\n"
     ]
    },
    {
     "data": {
      "application/vnd.jupyter.widget-view+json": {
       "model_id": "39a66249645c47e7b66a4121a9a059f1",
       "version_major": 2,
       "version_minor": 0
      },
      "text/plain": [
       "  0%|          | 0/1 [00:00<?, ?it/s]"
      ]
     },
     "metadata": {},
     "output_type": "display_data"
    },
    {
     "name": "stdout",
     "output_type": "stream",
     "text": [
      "kl:  0.01785\n",
      "explained_var_old:  0.753\n",
      "explained_var_new:  0.706\n",
      "batch i: 26, episode_len: 25, loss: -0.39589047, entropy:  0.55465726\n"
     ]
    },
    {
     "data": {
      "application/vnd.jupyter.widget-view+json": {
       "model_id": "935cd0c262ed4c448d0c679fff8b4b84",
       "version_major": 2,
       "version_minor": 0
      },
      "text/plain": [
       "  0%|          | 0/1 [00:00<?, ?it/s]"
      ]
     },
     "metadata": {},
     "output_type": "display_data"
    },
    {
     "name": "stdout",
     "output_type": "stream",
     "text": [
      "kl:  0.01624\n",
      "explained_var_old:  0.677\n",
      "explained_var_new:  0.751\n",
      "batch i: 27, episode_len: 7, loss: -0.54843490, entropy:  0.57500746\n"
     ]
    },
    {
     "data": {
      "application/vnd.jupyter.widget-view+json": {
       "model_id": "e6d8b4c7470c4028928ff8cc06a337f8",
       "version_major": 2,
       "version_minor": 0
      },
      "text/plain": [
       "  0%|          | 0/1 [00:00<?, ?it/s]"
      ]
     },
     "metadata": {},
     "output_type": "display_data"
    },
    {
     "name": "stdout",
     "output_type": "stream",
     "text": [
      "kl:  0.01990\n",
      "explained_var_old:  0.702\n",
      "explained_var_new:  0.733\n",
      "batch i: 28, episode_len: 36, loss: -0.49833094, entropy:  0.56153525\n"
     ]
    },
    {
     "data": {
      "application/vnd.jupyter.widget-view+json": {
       "model_id": "a365ca2413b44856842b7a345f1a83e9",
       "version_major": 2,
       "version_minor": 0
      },
      "text/plain": [
       "  0%|          | 0/1 [00:00<?, ?it/s]"
      ]
     },
     "metadata": {},
     "output_type": "display_data"
    },
    {
     "name": "stdout",
     "output_type": "stream",
     "text": [
      "kl:  0.01654\n",
      "explained_var_old:  0.715\n",
      "explained_var_new:  0.678\n",
      "batch i: 29, episode_len: 11, loss: -0.62702415, entropy:  0.54583306\n"
     ]
    },
    {
     "data": {
      "application/vnd.jupyter.widget-view+json": {
       "model_id": "443d402581994fe888a86882ab02e74a",
       "version_major": 2,
       "version_minor": 0
      },
      "text/plain": [
       "  0%|          | 0/1 [00:00<?, ?it/s]"
      ]
     },
     "metadata": {},
     "output_type": "display_data"
    },
    {
     "name": "stdout",
     "output_type": "stream",
     "text": [
      "kl:  0.01883\n",
      "explained_var_old:  0.706\n",
      "explained_var_new:  0.549\n",
      "batch i: 30, episode_len: 42, loss: -0.48991177, entropy:  0.56633453\n",
      "current self-play batch: 31\n",
      "Updating elo score...\n",
      "Complete.\n",
      "Elo score: AlphaZero:  1585.69, Benchmark:  1500.00\n",
      "   action: 0, prob_X:  7.82%\t   action: 0, prob_O:  3.77%\n",
      "   action: 1, prob_X:  9.88%\t   action: 1, prob_O:  16.04%\n",
      "   action: 2, prob_X:  5.05%\t   action: 2, prob_O:  13.86%\n",
      "⭐️ action: 3, prob_X:  53.67%\t⭐️ action: 3, prob_O:  28.72%\n",
      "   action: 4, prob_X:  5.11%\t   action: 4, prob_O:  19.46%\n",
      "   action: 5, prob_X:  9.56%\t   action: 5, prob_O:  15.05%\n",
      "   action: 6, prob_X:  8.90%\t   action: 6, prob_O:  3.10%\n",
      "State-value X: -0.1751, sigma:  0.5692\n",
      "State-value O: -0.0033, sigma:  0.5648\n",
      "Evaluating best player...\n",
      "Complete.\n"
     ]
    },
    {
     "data": {
      "application/vnd.jupyter.widget-view+json": {
       "model_id": "c9cd7252b4204366a70e5faba5409c60",
       "version_major": 2,
       "version_minor": 0
      },
      "text/plain": [
       "  0%|          | 0/1 [00:00<?, ?it/s]"
      ]
     },
     "metadata": {},
     "output_type": "display_data"
    },
    {
     "name": "stdout",
     "output_type": "stream",
     "text": [
      "kl:  0.02230\n",
      "explained_var_old:  0.576\n",
      "explained_var_new:  0.724\n",
      "batch i: 31, episode_len: 41, loss: -0.55847456, entropy:  0.53748631\n"
     ]
    },
    {
     "data": {
      "application/vnd.jupyter.widget-view+json": {
       "model_id": "c705a593fab9495782a4ecf1d6f866e6",
       "version_major": 2,
       "version_minor": 0
      },
      "text/plain": [
       "  0%|          | 0/1 [00:00<?, ?it/s]"
      ]
     },
     "metadata": {},
     "output_type": "display_data"
    },
    {
     "name": "stdout",
     "output_type": "stream",
     "text": [
      "kl:  0.01600\n",
      "explained_var_old:  0.602\n",
      "explained_var_new:  0.637\n",
      "batch i: 32, episode_len: 42, loss: -0.73973113, entropy:  0.53234442\n"
     ]
    },
    {
     "data": {
      "application/vnd.jupyter.widget-view+json": {
       "model_id": "8e3bfc764d444c09a098ce221e685cb3",
       "version_major": 2,
       "version_minor": 0
      },
      "text/plain": [
       "  0%|          | 0/1 [00:00<?, ?it/s]"
      ]
     },
     "metadata": {},
     "output_type": "display_data"
    },
    {
     "name": "stdout",
     "output_type": "stream",
     "text": [
      "kl:  0.01638\n",
      "explained_var_old:  0.589\n",
      "explained_var_new:  0.756\n",
      "batch i: 33, episode_len: 39, loss: -0.80090624, entropy:  0.53547340\n"
     ]
    },
    {
     "data": {
      "application/vnd.jupyter.widget-view+json": {
       "model_id": "ee33151e8e8d4637aaa5229d30c2727f",
       "version_major": 2,
       "version_minor": 0
      },
      "text/plain": [
       "  0%|          | 0/1 [00:00<?, ?it/s]"
      ]
     },
     "metadata": {},
     "output_type": "display_data"
    },
    {
     "name": "stdout",
     "output_type": "stream",
     "text": [
      "kl:  0.01718\n",
      "explained_var_old:  0.808\n",
      "explained_var_new:  0.809\n",
      "batch i: 34, episode_len: 35, loss: -0.73333389, entropy:  0.54907026\n"
     ]
    },
    {
     "data": {
      "application/vnd.jupyter.widget-view+json": {
       "model_id": "2aebda9a8ccf41a18d7de0914e0a0779",
       "version_major": 2,
       "version_minor": 0
      },
      "text/plain": [
       "  0%|          | 0/1 [00:00<?, ?it/s]"
      ]
     },
     "metadata": {},
     "output_type": "display_data"
    },
    {
     "name": "stdout",
     "output_type": "stream",
     "text": [
      "kl:  0.01698\n",
      "explained_var_old:  0.865\n",
      "explained_var_new:  0.848\n",
      "batch i: 35, episode_len: 31, loss: -0.84288183, entropy:  0.52124564\n"
     ]
    },
    {
     "data": {
      "application/vnd.jupyter.widget-view+json": {
       "model_id": "de7628f6caaa426195975586c08786c2",
       "version_major": 2,
       "version_minor": 0
      },
      "text/plain": [
       "  0%|          | 0/1 [00:00<?, ?it/s]"
      ]
     },
     "metadata": {},
     "output_type": "display_data"
    },
    {
     "name": "stdout",
     "output_type": "stream",
     "text": [
      "kl:  0.02163\n",
      "explained_var_old:  0.825\n",
      "explained_var_new:  0.794\n",
      "batch i: 36, episode_len: 42, loss: -0.92663109, entropy:  0.55908071\n"
     ]
    },
    {
     "data": {
      "application/vnd.jupyter.widget-view+json": {
       "model_id": "5d1b96b6ee0944fc81e8969ee891d786",
       "version_major": 2,
       "version_minor": 0
      },
      "text/plain": [
       "  0%|          | 0/1 [00:00<?, ?it/s]"
      ]
     },
     "metadata": {},
     "output_type": "display_data"
    },
    {
     "name": "stdout",
     "output_type": "stream",
     "text": [
      "kl:  0.01647\n",
      "explained_var_old:  0.789\n",
      "explained_var_new:  0.789\n",
      "batch i: 37, episode_len: 42, loss: -0.83940575, entropy:  0.55367366\n"
     ]
    },
    {
     "data": {
      "application/vnd.jupyter.widget-view+json": {
       "model_id": "b01ca1e5e344434f97057b68aeca57b4",
       "version_major": 2,
       "version_minor": 0
      },
      "text/plain": [
       "  0%|          | 0/1 [00:00<?, ?it/s]"
      ]
     },
     "metadata": {},
     "output_type": "display_data"
    },
    {
     "name": "stdout",
     "output_type": "stream",
     "text": [
      "kl:  0.01714\n",
      "explained_var_old:  0.694\n",
      "explained_var_new:  0.738\n",
      "batch i: 38, episode_len: 40, loss: -0.83082162, entropy:  0.52639757\n"
     ]
    },
    {
     "data": {
      "application/vnd.jupyter.widget-view+json": {
       "model_id": "1ce248056583403e82a17a14a2435049",
       "version_major": 2,
       "version_minor": 0
      },
      "text/plain": [
       "  0%|          | 0/1 [00:00<?, ?it/s]"
      ]
     },
     "metadata": {},
     "output_type": "display_data"
    },
    {
     "name": "stdout",
     "output_type": "stream",
     "text": [
      "kl:  0.01610\n",
      "explained_var_old:  0.820\n",
      "explained_var_new:  0.849\n",
      "batch i: 39, episode_len: 35, loss: -0.92450680, entropy:  0.52007988\n"
     ]
    },
    {
     "data": {
      "application/vnd.jupyter.widget-view+json": {
       "model_id": "9a99ee936aca484aae0b7702938afeaf",
       "version_major": 2,
       "version_minor": 0
      },
      "text/plain": [
       "  0%|          | 0/1 [00:00<?, ?it/s]"
      ]
     },
     "metadata": {},
     "output_type": "display_data"
    },
    {
     "name": "stdout",
     "output_type": "stream",
     "text": [
      "kl:  0.01802\n",
      "explained_var_old:  0.802\n",
      "explained_var_new:  0.840\n",
      "batch i: 40, episode_len: 41, loss: -0.88153454, entropy:  0.53530740\n",
      "current self-play batch: 41\n",
      "Updating elo score...\n",
      "Complete.\n",
      "Elo score: AlphaZero:  1579.72, Benchmark:  1505.97\n",
      "   action: 0, prob_X:  7.58%\t   action: 0, prob_O:  7.42%\n",
      "   action: 1, prob_X:  8.23%\t   action: 1, prob_O:  16.80%\n",
      "   action: 2, prob_X:  4.10%\t   action: 2, prob_O:  11.19%\n",
      "⭐️ action: 3, prob_X:  59.29%\t⭐️ action: 3, prob_O:  26.57%\n",
      "   action: 4, prob_X:  6.92%\t   action: 4, prob_O:  18.54%\n",
      "   action: 5, prob_X:  2.86%\t   action: 5, prob_O:  12.06%\n",
      "   action: 6, prob_X:  11.03%\t   action: 6, prob_O:  7.42%\n",
      "State-value X:  0.1076, sigma:  0.4582\n",
      "State-value O: -0.3796, sigma:  0.4654\n",
      "Evaluating best player...\n",
      "Complete.\n"
     ]
    },
    {
     "data": {
      "application/vnd.jupyter.widget-view+json": {
       "model_id": "3a38af6cf9fe4d558c65bca36b49a87a",
       "version_major": 2,
       "version_minor": 0
      },
      "text/plain": [
       "  0%|          | 0/1 [00:00<?, ?it/s]"
      ]
     },
     "metadata": {},
     "output_type": "display_data"
    },
    {
     "name": "stdout",
     "output_type": "stream",
     "text": [
      "kl:  0.01551\n",
      "explained_var_old:  0.792\n",
      "explained_var_new:  0.759\n",
      "batch i: 41, episode_len: 39, loss: -1.05147891, entropy:  0.52104152\n"
     ]
    },
    {
     "data": {
      "application/vnd.jupyter.widget-view+json": {
       "model_id": "fe79456b20e040f0845ea17d71c437af",
       "version_major": 2,
       "version_minor": 0
      },
      "text/plain": [
       "  0%|          | 0/1 [00:00<?, ?it/s]"
      ]
     },
     "metadata": {},
     "output_type": "display_data"
    },
    {
     "name": "stdout",
     "output_type": "stream",
     "text": [
      "kl:  0.01800\n",
      "explained_var_old:  0.747\n",
      "explained_var_new:  0.782\n",
      "batch i: 42, episode_len: 39, loss: -1.05392948, entropy:  0.55811138\n"
     ]
    },
    {
     "data": {
      "application/vnd.jupyter.widget-view+json": {
       "model_id": "c361bd8442ec44659fd513f0eece14e8",
       "version_major": 2,
       "version_minor": 0
      },
      "text/plain": [
       "  0%|          | 0/1 [00:00<?, ?it/s]"
      ]
     },
     "metadata": {},
     "output_type": "display_data"
    },
    {
     "name": "stdout",
     "output_type": "stream",
     "text": [
      "kl:  0.01676\n",
      "explained_var_old:  0.811\n",
      "explained_var_new:  0.806\n",
      "batch i: 43, episode_len: 35, loss: -1.11546932, entropy:  0.52413374\n"
     ]
    },
    {
     "data": {
      "application/vnd.jupyter.widget-view+json": {
       "model_id": "9b829cb41c5c4719b997704be2c07313",
       "version_major": 2,
       "version_minor": 0
      },
      "text/plain": [
       "  0%|          | 0/1 [00:00<?, ?it/s]"
      ]
     },
     "metadata": {},
     "output_type": "display_data"
    },
    {
     "name": "stdout",
     "output_type": "stream",
     "text": [
      "kl:  0.01292\n",
      "explained_var_old:  0.827\n",
      "explained_var_new:  0.820\n",
      "batch i: 44, episode_len: 39, loss: -1.23498008, entropy:  0.50802608\n"
     ]
    },
    {
     "data": {
      "application/vnd.jupyter.widget-view+json": {
       "model_id": "575322d0528149bd989aae588ef1ebea",
       "version_major": 2,
       "version_minor": 0
      },
      "text/plain": [
       "  0%|          | 0/1 [00:00<?, ?it/s]"
      ]
     },
     "metadata": {},
     "output_type": "display_data"
    },
    {
     "name": "stdout",
     "output_type": "stream",
     "text": [
      "kl:  0.01568\n",
      "explained_var_old:  0.705\n",
      "explained_var_new:  0.747\n",
      "batch i: 45, episode_len: 42, loss: -1.02665629, entropy:  0.48849568\n"
     ]
    },
    {
     "data": {
      "application/vnd.jupyter.widget-view+json": {
       "model_id": "148424b3f40c47118599af0342b8f346",
       "version_major": 2,
       "version_minor": 0
      },
      "text/plain": [
       "  0%|          | 0/1 [00:00<?, ?it/s]"
      ]
     },
     "metadata": {},
     "output_type": "display_data"
    },
    {
     "name": "stdout",
     "output_type": "stream",
     "text": [
      "kl:  0.01769\n",
      "explained_var_old:  0.644\n",
      "explained_var_new:  0.821\n",
      "batch i: 46, episode_len: 42, loss: -1.23512293, entropy:  0.51556385\n"
     ]
    },
    {
     "data": {
      "application/vnd.jupyter.widget-view+json": {
       "model_id": "223918e85d18458586d4613f2d4c5e35",
       "version_major": 2,
       "version_minor": 0
      },
      "text/plain": [
       "  0%|          | 0/1 [00:00<?, ?it/s]"
      ]
     },
     "metadata": {},
     "output_type": "display_data"
    },
    {
     "name": "stdout",
     "output_type": "stream",
     "text": [
      "kl:  0.01857\n",
      "explained_var_old:  0.756\n",
      "explained_var_new:  0.819\n",
      "batch i: 47, episode_len: 41, loss: -1.13554710, entropy:  0.50382168\n"
     ]
    },
    {
     "data": {
      "application/vnd.jupyter.widget-view+json": {
       "model_id": "0695d457d02f47ca965fb8f28100903c",
       "version_major": 2,
       "version_minor": 0
      },
      "text/plain": [
       "  0%|          | 0/1 [00:00<?, ?it/s]"
      ]
     },
     "metadata": {},
     "output_type": "display_data"
    },
    {
     "name": "stdout",
     "output_type": "stream",
     "text": [
      "kl:  0.01783\n",
      "explained_var_old:  0.737\n",
      "explained_var_new:  0.861\n",
      "batch i: 48, episode_len: 39, loss: -1.27725528, entropy:  0.49810603\n"
     ]
    },
    {
     "data": {
      "application/vnd.jupyter.widget-view+json": {
       "model_id": "f5bc02427d4e432fbeb9a14dcbabd287",
       "version_major": 2,
       "version_minor": 0
      },
      "text/plain": [
       "  0%|          | 0/1 [00:00<?, ?it/s]"
      ]
     },
     "metadata": {},
     "output_type": "display_data"
    },
    {
     "name": "stdout",
     "output_type": "stream",
     "text": [
      "kl:  0.01776\n",
      "explained_var_old:  0.834\n",
      "explained_var_new:  0.830\n",
      "batch i: 49, episode_len: 21, loss: -1.36650085, entropy:  0.52583160\n"
     ]
    },
    {
     "data": {
      "application/vnd.jupyter.widget-view+json": {
       "model_id": "b20927234e7942b08a16f977a557a462",
       "version_major": 2,
       "version_minor": 0
      },
      "text/plain": [
       "  0%|          | 0/1 [00:00<?, ?it/s]"
      ]
     },
     "metadata": {},
     "output_type": "display_data"
    },
    {
     "name": "stdout",
     "output_type": "stream",
     "text": [
      "kl:  0.01810\n",
      "explained_var_old:  0.801\n",
      "explained_var_new:  0.818\n",
      "batch i: 50, episode_len: 35, loss: -1.50409617, entropy:  0.47960398\n",
      "current self-play batch: 51\n",
      "Updating elo score...\n",
      "Complete.\n",
      "Elo score: AlphaZero:  1604.22, Benchmark:  1500.00\n",
      "   action: 0, prob_X:  5.95%\t   action: 0, prob_O:  3.79%\n",
      "   action: 1, prob_X:  2.83%\t   action: 1, prob_O:  9.44%\n",
      "   action: 2, prob_X:  5.82%\t   action: 2, prob_O:  13.22%\n",
      "⭐️ action: 3, prob_X:  69.15%\t⭐️ action: 3, prob_O:  39.77%\n",
      "   action: 4, prob_X:  5.19%\t   action: 4, prob_O:  11.52%\n",
      "   action: 5, prob_X:  5.84%\t   action: 5, prob_O:  19.39%\n",
      "   action: 6, prob_X:  5.23%\t   action: 6, prob_O:  2.86%\n",
      "State-value X:  0.1249, sigma:  0.5924\n",
      "State-value O: -0.3342, sigma:  0.5501\n",
      "Evaluating best player...\n",
      "Complete.\n"
     ]
    },
    {
     "data": {
      "application/vnd.jupyter.widget-view+json": {
       "model_id": "7fa92f4077d544fe81b9ecd4a0d4b107",
       "version_major": 2,
       "version_minor": 0
      },
      "text/plain": [
       "  0%|          | 0/1 [00:00<?, ?it/s]"
      ]
     },
     "metadata": {},
     "output_type": "display_data"
    },
    {
     "name": "stdout",
     "output_type": "stream",
     "text": [
      "kl:  0.01384\n",
      "explained_var_old:  0.799\n",
      "explained_var_new:  0.806\n",
      "batch i: 51, episode_len: 39, loss: -1.45343969, entropy:  0.49989191\n"
     ]
    },
    {
     "data": {
      "application/vnd.jupyter.widget-view+json": {
       "model_id": "93af1b5fcabc4b93b516b95a95decfb9",
       "version_major": 2,
       "version_minor": 0
      },
      "text/plain": [
       "  0%|          | 0/1 [00:00<?, ?it/s]"
      ]
     },
     "metadata": {},
     "output_type": "display_data"
    },
    {
     "name": "stdout",
     "output_type": "stream",
     "text": [
      "kl:  0.01995\n",
      "explained_var_old:  0.789\n",
      "explained_var_new:  0.869\n",
      "batch i: 52, episode_len: 37, loss: -1.62320805, entropy:  0.50821081\n"
     ]
    },
    {
     "data": {
      "application/vnd.jupyter.widget-view+json": {
       "model_id": "539262de97274f308020caa875989c11",
       "version_major": 2,
       "version_minor": 0
      },
      "text/plain": [
       "  0%|          | 0/1 [00:00<?, ?it/s]"
      ]
     },
     "metadata": {},
     "output_type": "display_data"
    },
    {
     "name": "stdout",
     "output_type": "stream",
     "text": [
      "kl:  0.00908\n",
      "explained_var_old:  0.860\n",
      "explained_var_new:  0.873\n",
      "batch i: 53, episode_len: 42, loss: -1.59384489, entropy:  0.48510389\n"
     ]
    },
    {
     "data": {
      "application/vnd.jupyter.widget-view+json": {
       "model_id": "b996c08dec0b4eee95cdf868787f3479",
       "version_major": 2,
       "version_minor": 0
      },
      "text/plain": [
       "  0%|          | 0/1 [00:00<?, ?it/s]"
      ]
     },
     "metadata": {},
     "output_type": "display_data"
    },
    {
     "name": "stdout",
     "output_type": "stream",
     "text": [
      "kl:  0.01637\n",
      "explained_var_old:  0.837\n",
      "explained_var_new:  0.874\n",
      "batch i: 54, episode_len: 39, loss: -1.56707257, entropy:  0.49671224\n"
     ]
    },
    {
     "data": {
      "application/vnd.jupyter.widget-view+json": {
       "model_id": "c6be7e06e7b1477fba732a10643687ed",
       "version_major": 2,
       "version_minor": 0
      },
      "text/plain": [
       "  0%|          | 0/1 [00:00<?, ?it/s]"
      ]
     },
     "metadata": {},
     "output_type": "display_data"
    },
    {
     "name": "stdout",
     "output_type": "stream",
     "text": [
      "kl:  0.01506\n",
      "explained_var_old:  0.801\n",
      "explained_var_new:  0.758\n",
      "batch i: 55, episode_len: 40, loss: -1.06309329, entropy:  0.47593173\n"
     ]
    },
    {
     "data": {
      "application/vnd.jupyter.widget-view+json": {
       "model_id": "2e373a87660b4a05990e502709b9941a",
       "version_major": 2,
       "version_minor": 0
      },
      "text/plain": [
       "  0%|          | 0/1 [00:00<?, ?it/s]"
      ]
     },
     "metadata": {},
     "output_type": "display_data"
    },
    {
     "name": "stdout",
     "output_type": "stream",
     "text": [
      "kl:  0.01785\n",
      "explained_var_old:  0.713\n",
      "explained_var_new:  0.797\n",
      "batch i: 56, episode_len: 27, loss: -1.10431930, entropy:  0.51823594\n"
     ]
    },
    {
     "data": {
      "application/vnd.jupyter.widget-view+json": {
       "model_id": "6a96e6a71a8346e8942f7022b9979280",
       "version_major": 2,
       "version_minor": 0
      },
      "text/plain": [
       "  0%|          | 0/1 [00:00<?, ?it/s]"
      ]
     },
     "metadata": {},
     "output_type": "display_data"
    },
    {
     "name": "stdout",
     "output_type": "stream",
     "text": [
      "kl:  0.01758\n",
      "explained_var_old:  0.803\n",
      "explained_var_new:  0.783\n",
      "batch i: 57, episode_len: 42, loss: -1.34162712, entropy:  0.52758703\n"
     ]
    },
    {
     "data": {
      "application/vnd.jupyter.widget-view+json": {
       "model_id": "05aa75735eb4426ca5322914f403f702",
       "version_major": 2,
       "version_minor": 0
      },
      "text/plain": [
       "  0%|          | 0/1 [00:00<?, ?it/s]"
      ]
     },
     "metadata": {},
     "output_type": "display_data"
    },
    {
     "name": "stdout",
     "output_type": "stream",
     "text": [
      "kl:  0.01507\n",
      "explained_var_old:  0.772\n",
      "explained_var_new:  0.749\n",
      "batch i: 58, episode_len: 42, loss: -1.26806885, entropy:  0.53810949\n"
     ]
    },
    {
     "data": {
      "application/vnd.jupyter.widget-view+json": {
       "model_id": "e9b6a05f23cb4e58bb64e00eab23288d",
       "version_major": 2,
       "version_minor": 0
      },
      "text/plain": [
       "  0%|          | 0/1 [00:00<?, ?it/s]"
      ]
     },
     "metadata": {},
     "output_type": "display_data"
    },
    {
     "name": "stdout",
     "output_type": "stream",
     "text": [
      "kl:  0.01565\n",
      "explained_var_old:  0.758\n",
      "explained_var_new:  0.793\n",
      "batch i: 59, episode_len: 42, loss: -1.27785800, entropy:  0.51172529\n"
     ]
    },
    {
     "data": {
      "application/vnd.jupyter.widget-view+json": {
       "model_id": "aafa8e4691e44295b845d8830765b898",
       "version_major": 2,
       "version_minor": 0
      },
      "text/plain": [
       "  0%|          | 0/1 [00:00<?, ?it/s]"
      ]
     },
     "metadata": {},
     "output_type": "display_data"
    },
    {
     "name": "stdout",
     "output_type": "stream",
     "text": [
      "kl:  0.01643\n",
      "explained_var_old:  0.772\n",
      "explained_var_new:  0.730\n",
      "batch i: 60, episode_len: 31, loss: -1.41311046, entropy:  0.52249278\n",
      "current self-play batch: 61\n",
      "Updating elo score...\n",
      "Complete.\n",
      "Elo score: AlphaZero:  1626.42, Benchmark:  1500.00\n",
      "   action: 0, prob_X:  8.82%\t   action: 0, prob_O:  5.03%\n",
      "   action: 1, prob_X:  8.85%\t   action: 1, prob_O:  19.87%\n",
      "   action: 2, prob_X:  12.35%\t   action: 2, prob_O:  16.00%\n",
      "⭐️ action: 3, prob_X:  45.41%\t⭐️ action: 3, prob_O:  24.94%\n",
      "   action: 4, prob_X:  9.53%\t   action: 4, prob_O:  15.22%\n",
      "   action: 5, prob_X:  9.77%\t   action: 5, prob_O:  16.57%\n",
      "   action: 6, prob_X:  5.27%\t   action: 6, prob_O:  2.38%\n",
      "State-value X:  0.1410, sigma:  0.4866\n",
      "State-value O: -0.2498, sigma:  0.4717\n",
      "Evaluating best player...\n",
      "Complete.\n"
     ]
    },
    {
     "data": {
      "application/vnd.jupyter.widget-view+json": {
       "model_id": "f872dfb8e5e842c18de16d7f7443f947",
       "version_major": 2,
       "version_minor": 0
      },
      "text/plain": [
       "  0%|          | 0/1 [00:00<?, ?it/s]"
      ]
     },
     "metadata": {},
     "output_type": "display_data"
    },
    {
     "name": "stdout",
     "output_type": "stream",
     "text": [
      "kl:  0.01712\n",
      "explained_var_old:  0.831\n",
      "explained_var_new:  0.759\n",
      "batch i: 61, episode_len: 42, loss: -1.47144364, entropy:  0.50338352\n"
     ]
    },
    {
     "data": {
      "application/vnd.jupyter.widget-view+json": {
       "model_id": "224e9412f7144e54946774474ef23e6b",
       "version_major": 2,
       "version_minor": 0
      },
      "text/plain": [
       "  0%|          | 0/1 [00:00<?, ?it/s]"
      ]
     },
     "metadata": {},
     "output_type": "display_data"
    },
    {
     "name": "stdout",
     "output_type": "stream",
     "text": [
      "kl:  0.01190\n",
      "explained_var_old:  0.697\n",
      "explained_var_new:  0.752\n",
      "batch i: 62, episode_len: 32, loss: -1.49418509, entropy:  0.50383787\n"
     ]
    },
    {
     "data": {
      "application/vnd.jupyter.widget-view+json": {
       "model_id": "49d25116ca684c46af1c6179a0739d9f",
       "version_major": 2,
       "version_minor": 0
      },
      "text/plain": [
       "  0%|          | 0/1 [00:00<?, ?it/s]"
      ]
     },
     "metadata": {},
     "output_type": "display_data"
    },
    {
     "name": "stdout",
     "output_type": "stream",
     "text": [
      "kl:  0.01879\n",
      "explained_var_old:  0.799\n",
      "explained_var_new:  0.826\n",
      "batch i: 63, episode_len: 42, loss: -1.30056000, entropy:  0.50669902\n"
     ]
    },
    {
     "data": {
      "application/vnd.jupyter.widget-view+json": {
       "model_id": "396c3778080c4df58f8c5a3e39ccdb67",
       "version_major": 2,
       "version_minor": 0
      },
      "text/plain": [
       "  0%|          | 0/1 [00:00<?, ?it/s]"
      ]
     },
     "metadata": {},
     "output_type": "display_data"
    },
    {
     "name": "stdout",
     "output_type": "stream",
     "text": [
      "kl:  0.01533\n",
      "explained_var_old:  0.695\n",
      "explained_var_new:  0.752\n",
      "batch i: 64, episode_len: 40, loss: -1.19009198, entropy:  0.52597713\n"
     ]
    },
    {
     "data": {
      "application/vnd.jupyter.widget-view+json": {
       "model_id": "f076099aff634ae68f01ded6568a390a",
       "version_major": 2,
       "version_minor": 0
      },
      "text/plain": [
       "  0%|          | 0/1 [00:00<?, ?it/s]"
      ]
     },
     "metadata": {},
     "output_type": "display_data"
    },
    {
     "name": "stdout",
     "output_type": "stream",
     "text": [
      "kl:  0.01623\n",
      "explained_var_old:  0.806\n",
      "explained_var_new:  0.743\n",
      "batch i: 65, episode_len: 41, loss: -1.38581777, entropy:  0.50865680\n"
     ]
    },
    {
     "data": {
      "application/vnd.jupyter.widget-view+json": {
       "model_id": "aa15ee74fe384c4faa8cc7e2e0d36bb6",
       "version_major": 2,
       "version_minor": 0
      },
      "text/plain": [
       "  0%|          | 0/1 [00:00<?, ?it/s]"
      ]
     },
     "metadata": {},
     "output_type": "display_data"
    },
    {
     "name": "stdout",
     "output_type": "stream",
     "text": [
      "kl:  0.01522\n",
      "explained_var_old:  0.837\n",
      "explained_var_new:  0.814\n",
      "batch i: 66, episode_len: 13, loss: -1.28191801, entropy:  0.50635728\n"
     ]
    },
    {
     "data": {
      "application/vnd.jupyter.widget-view+json": {
       "model_id": "d47f003eb02f42919fe04dc135d8426c",
       "version_major": 2,
       "version_minor": 0
      },
      "text/plain": [
       "  0%|          | 0/1 [00:00<?, ?it/s]"
      ]
     },
     "metadata": {},
     "output_type": "display_data"
    },
    {
     "name": "stdout",
     "output_type": "stream",
     "text": [
      "kl:  0.01537\n",
      "explained_var_old:  0.754\n",
      "explained_var_new:  0.799\n",
      "batch i: 67, episode_len: 40, loss: -1.37802650, entropy:  0.52507728\n"
     ]
    },
    {
     "data": {
      "application/vnd.jupyter.widget-view+json": {
       "model_id": "74feba99f79c426e93a0ed7c5cad21e4",
       "version_major": 2,
       "version_minor": 0
      },
      "text/plain": [
       "  0%|          | 0/1 [00:00<?, ?it/s]"
      ]
     },
     "metadata": {},
     "output_type": "display_data"
    },
    {
     "name": "stdout",
     "output_type": "stream",
     "text": [
      "kl:  0.01838\n",
      "explained_var_old:  0.839\n",
      "explained_var_new:  0.849\n",
      "batch i: 68, episode_len: 40, loss: -1.43302040, entropy:  0.52408750\n"
     ]
    },
    {
     "data": {
      "application/vnd.jupyter.widget-view+json": {
       "model_id": "c39a5adff2e14f2d9349166949e2e380",
       "version_major": 2,
       "version_minor": 0
      },
      "text/plain": [
       "  0%|          | 0/1 [00:00<?, ?it/s]"
      ]
     },
     "metadata": {},
     "output_type": "display_data"
    },
    {
     "name": "stdout",
     "output_type": "stream",
     "text": [
      "kl:  0.01524\n",
      "explained_var_old:  0.745\n",
      "explained_var_new:  0.824\n",
      "batch i: 69, episode_len: 42, loss: -1.39018058, entropy:  0.52086291\n"
     ]
    },
    {
     "data": {
      "application/vnd.jupyter.widget-view+json": {
       "model_id": "74f36f4ab3dc4648a18ab772224688eb",
       "version_major": 2,
       "version_minor": 0
      },
      "text/plain": [
       "  0%|          | 0/1 [00:00<?, ?it/s]"
      ]
     },
     "metadata": {},
     "output_type": "display_data"
    },
    {
     "name": "stdout",
     "output_type": "stream",
     "text": [
      "kl:  0.02189\n",
      "explained_var_old:  0.738\n",
      "explained_var_new:  0.765\n",
      "batch i: 70, episode_len: 32, loss: -1.21214128, entropy:  0.50329842\n",
      "current self-play batch: 71\n",
      "Updating elo score...\n",
      "Complete.\n",
      "Elo score: AlphaZero:  1646.85, Benchmark:  1500.00\n",
      "   action: 0, prob_X:  2.33%\t   action: 0, prob_O:  1.77%\n",
      "   action: 1, prob_X:  5.94%\t   action: 1, prob_O:  12.97%\n",
      "   action: 2, prob_X:  5.80%\t   action: 2, prob_O:  11.02%\n",
      "⭐️ action: 3, prob_X:  58.80%\t⭐️ action: 3, prob_O:  31.51%\n",
      "   action: 4, prob_X:  5.80%\t   action: 4, prob_O:  10.34%\n",
      "   action: 5, prob_X:  7.76%\t   action: 5, prob_O:  24.60%\n",
      "   action: 6, prob_X:  13.58%\t   action: 6, prob_O:  7.79%\n",
      "State-value X:  0.1330, sigma:  0.5585\n",
      "State-value O: -0.2327, sigma:  0.6491\n",
      "Evaluating best player...\n",
      "Complete.\n"
     ]
    },
    {
     "data": {
      "application/vnd.jupyter.widget-view+json": {
       "model_id": "f97db917db644106b630faac77ea0c90",
       "version_major": 2,
       "version_minor": 0
      },
      "text/plain": [
       "  0%|          | 0/1 [00:00<?, ?it/s]"
      ]
     },
     "metadata": {},
     "output_type": "display_data"
    },
    {
     "name": "stdout",
     "output_type": "stream",
     "text": [
      "kl:  0.01615\n",
      "explained_var_old:  0.757\n",
      "explained_var_new:  0.723\n",
      "batch i: 71, episode_len: 18, loss: -1.34667325, entropy:  0.50536224\n"
     ]
    },
    {
     "data": {
      "application/vnd.jupyter.widget-view+json": {
       "model_id": "45e03bbd807843aa8f7596abeb50223a",
       "version_major": 2,
       "version_minor": 0
      },
      "text/plain": [
       "  0%|          | 0/1 [00:00<?, ?it/s]"
      ]
     },
     "metadata": {},
     "output_type": "display_data"
    },
    {
     "name": "stdout",
     "output_type": "stream",
     "text": [
      "kl:  0.01905\n",
      "explained_var_old:  0.733\n",
      "explained_var_new:  0.680\n",
      "batch i: 72, episode_len: 32, loss: -1.38255560, entropy:  0.49454652\n"
     ]
    },
    {
     "data": {
      "application/vnd.jupyter.widget-view+json": {
       "model_id": "0a71064b689942309b932daa43371c52",
       "version_major": 2,
       "version_minor": 0
      },
      "text/plain": [
       "  0%|          | 0/1 [00:00<?, ?it/s]"
      ]
     },
     "metadata": {},
     "output_type": "display_data"
    },
    {
     "name": "stdout",
     "output_type": "stream",
     "text": [
      "kl:  0.01447\n",
      "explained_var_old:  0.673\n",
      "explained_var_new:  0.753\n",
      "batch i: 73, episode_len: 38, loss: -1.27402822, entropy:  0.50655456\n"
     ]
    },
    {
     "data": {
      "application/vnd.jupyter.widget-view+json": {
       "model_id": "71bf6719a4a94893941079295683255f",
       "version_major": 2,
       "version_minor": 0
      },
      "text/plain": [
       "  0%|          | 0/1 [00:00<?, ?it/s]"
      ]
     },
     "metadata": {},
     "output_type": "display_data"
    },
    {
     "name": "stdout",
     "output_type": "stream",
     "text": [
      "kl:  0.01624\n",
      "explained_var_old:  0.736\n",
      "explained_var_new:  0.719\n",
      "batch i: 74, episode_len: 39, loss: -1.26092092, entropy:  0.49665360\n"
     ]
    },
    {
     "data": {
      "application/vnd.jupyter.widget-view+json": {
       "model_id": "ed88bd2acd914ecab0d621e74e7fdac7",
       "version_major": 2,
       "version_minor": 0
      },
      "text/plain": [
       "  0%|          | 0/1 [00:00<?, ?it/s]"
      ]
     },
     "metadata": {},
     "output_type": "display_data"
    },
    {
     "name": "stdout",
     "output_type": "stream",
     "text": [
      "kl:  0.01367\n",
      "explained_var_old:  0.682\n",
      "explained_var_new:  0.712\n",
      "batch i: 75, episode_len: 27, loss: -1.35862875, entropy:  0.51214788\n"
     ]
    },
    {
     "data": {
      "application/vnd.jupyter.widget-view+json": {
       "model_id": "485acabde4044da2aef58aca5cccf98d",
       "version_major": 2,
       "version_minor": 0
      },
      "text/plain": [
       "  0%|          | 0/1 [00:00<?, ?it/s]"
      ]
     },
     "metadata": {},
     "output_type": "display_data"
    },
    {
     "name": "stdout",
     "output_type": "stream",
     "text": [
      "kl:  0.01523\n",
      "explained_var_old:  0.733\n",
      "explained_var_new:  0.758\n",
      "batch i: 76, episode_len: 13, loss: -1.39758587, entropy:  0.49726901\n"
     ]
    },
    {
     "data": {
      "application/vnd.jupyter.widget-view+json": {
       "model_id": "82ec4a1b92e546a8a5c28c10cad8c729",
       "version_major": 2,
       "version_minor": 0
      },
      "text/plain": [
       "  0%|          | 0/1 [00:00<?, ?it/s]"
      ]
     },
     "metadata": {},
     "output_type": "display_data"
    },
    {
     "name": "stdout",
     "output_type": "stream",
     "text": [
      "kl:  0.01677\n",
      "explained_var_old:  0.745\n",
      "explained_var_new:  0.810\n",
      "batch i: 77, episode_len: 35, loss: -1.48192231, entropy:  0.49909275\n"
     ]
    },
    {
     "data": {
      "application/vnd.jupyter.widget-view+json": {
       "model_id": "361dbe009c6740e2ac56f46410fe543d",
       "version_major": 2,
       "version_minor": 0
      },
      "text/plain": [
       "  0%|          | 0/1 [00:00<?, ?it/s]"
      ]
     },
     "metadata": {},
     "output_type": "display_data"
    },
    {
     "name": "stdout",
     "output_type": "stream",
     "text": [
      "kl:  0.01617\n",
      "explained_var_old:  0.731\n",
      "explained_var_new:  0.713\n",
      "batch i: 78, episode_len: 38, loss: -1.46502953, entropy:  0.51161941\n"
     ]
    },
    {
     "data": {
      "application/vnd.jupyter.widget-view+json": {
       "model_id": "945351fcb9864e558058fca8f54ed1a9",
       "version_major": 2,
       "version_minor": 0
      },
      "text/plain": [
       "  0%|          | 0/1 [00:00<?, ?it/s]"
      ]
     },
     "metadata": {},
     "output_type": "display_data"
    },
    {
     "name": "stdout",
     "output_type": "stream",
     "text": [
      "kl:  0.01213\n",
      "explained_var_old:  0.685\n",
      "explained_var_new:  0.757\n",
      "batch i: 79, episode_len: 39, loss: -1.29699502, entropy:  0.50972697\n"
     ]
    },
    {
     "data": {
      "application/vnd.jupyter.widget-view+json": {
       "model_id": "e65e70634a8a4e468a2da7d3226466a9",
       "version_major": 2,
       "version_minor": 0
      },
      "text/plain": [
       "  0%|          | 0/1 [00:00<?, ?it/s]"
      ]
     },
     "metadata": {},
     "output_type": "display_data"
    },
    {
     "name": "stdout",
     "output_type": "stream",
     "text": [
      "kl:  0.01664\n",
      "explained_var_old:  0.732\n",
      "explained_var_new:  0.732\n",
      "batch i: 80, episode_len: 25, loss: -1.43292775, entropy:  0.49506800\n",
      "current self-play batch: 81\n",
      "Updating elo score...\n",
      "Complete.\n",
      "Elo score: AlphaZero:  1635.89, Benchmark:  1510.96\n",
      "   action: 0, prob_X:  6.45%\t   action: 0, prob_O:  1.41%\n",
      "   action: 1, prob_X:  8.52%\t   action: 1, prob_O:  20.13%\n",
      "   action: 2, prob_X:  4.50%\t   action: 2, prob_O:  9.60%\n",
      "⭐️ action: 3, prob_X:  50.30%\t⭐️ action: 3, prob_O:  26.66%\n",
      "   action: 4, prob_X:  8.32%\t   action: 4, prob_O:  14.49%\n",
      "   action: 5, prob_X:  8.94%\t   action: 5, prob_O:  20.95%\n",
      "   action: 6, prob_X:  12.98%\t   action: 6, prob_O:  6.76%\n",
      "State-value X:  0.0344, sigma:  0.3964\n",
      "State-value O: -0.2713, sigma:  0.4254\n",
      "Evaluating best player...\n",
      "Complete.\n"
     ]
    },
    {
     "data": {
      "application/vnd.jupyter.widget-view+json": {
       "model_id": "7f2ba69488f64678885ba29bdc1f9baa",
       "version_major": 2,
       "version_minor": 0
      },
      "text/plain": [
       "  0%|          | 0/1 [00:00<?, ?it/s]"
      ]
     },
     "metadata": {},
     "output_type": "display_data"
    },
    {
     "name": "stdout",
     "output_type": "stream",
     "text": [
      "kl:  0.01545\n",
      "explained_var_old:  0.775\n",
      "explained_var_new:  0.612\n",
      "batch i: 81, episode_len: 38, loss: -1.45439357, entropy:  0.51032773\n"
     ]
    },
    {
     "data": {
      "application/vnd.jupyter.widget-view+json": {
       "model_id": "be61add4832a4e94af9edf682031d34e",
       "version_major": 2,
       "version_minor": 0
      },
      "text/plain": [
       "  0%|          | 0/1 [00:00<?, ?it/s]"
      ]
     },
     "metadata": {},
     "output_type": "display_data"
    },
    {
     "name": "stdout",
     "output_type": "stream",
     "text": [
      "kl:  0.01532\n",
      "explained_var_old:  0.601\n",
      "explained_var_new:  0.707\n",
      "batch i: 82, episode_len: 40, loss: -1.41904971, entropy:  0.49732037\n"
     ]
    },
    {
     "data": {
      "application/vnd.jupyter.widget-view+json": {
       "model_id": "5c565dc2b8b048d3a19d6af989c1bab8",
       "version_major": 2,
       "version_minor": 0
      },
      "text/plain": [
       "  0%|          | 0/1 [00:00<?, ?it/s]"
      ]
     },
     "metadata": {},
     "output_type": "display_data"
    },
    {
     "name": "stdout",
     "output_type": "stream",
     "text": [
      "kl:  0.01674\n",
      "explained_var_old:  0.721\n",
      "explained_var_new:  0.706\n",
      "batch i: 83, episode_len: 37, loss: -1.37120411, entropy:  0.49851977\n"
     ]
    },
    {
     "data": {
      "application/vnd.jupyter.widget-view+json": {
       "model_id": "088225a3832a4503beb1c95537428fbb",
       "version_major": 2,
       "version_minor": 0
      },
      "text/plain": [
       "  0%|          | 0/1 [00:00<?, ?it/s]"
      ]
     },
     "metadata": {},
     "output_type": "display_data"
    },
    {
     "name": "stdout",
     "output_type": "stream",
     "text": [
      "kl:  0.01643\n",
      "explained_var_old:  0.734\n",
      "explained_var_new:  0.834\n",
      "batch i: 84, episode_len: 17, loss: -1.39643846, entropy:  0.49601423\n"
     ]
    },
    {
     "data": {
      "application/vnd.jupyter.widget-view+json": {
       "model_id": "f9d7928237074d7589ad9c5b21d1aab4",
       "version_major": 2,
       "version_minor": 0
      },
      "text/plain": [
       "  0%|          | 0/1 [00:00<?, ?it/s]"
      ]
     },
     "metadata": {},
     "output_type": "display_data"
    },
    {
     "name": "stdout",
     "output_type": "stream",
     "text": [
      "kl:  0.01588\n",
      "explained_var_old:  0.814\n",
      "explained_var_new:  0.798\n",
      "batch i: 85, episode_len: 13, loss: -1.30976704, entropy:  0.51208113\n"
     ]
    },
    {
     "data": {
      "application/vnd.jupyter.widget-view+json": {
       "model_id": "51f91c55a95b45278b38396f479dfefd",
       "version_major": 2,
       "version_minor": 0
      },
      "text/plain": [
       "  0%|          | 0/1 [00:00<?, ?it/s]"
      ]
     },
     "metadata": {},
     "output_type": "display_data"
    },
    {
     "name": "stdout",
     "output_type": "stream",
     "text": [
      "kl:  0.01607\n",
      "explained_var_old:  0.776\n",
      "explained_var_new:  0.792\n",
      "batch i: 86, episode_len: 42, loss: -1.31319496, entropy:  0.52318528\n"
     ]
    },
    {
     "data": {
      "application/vnd.jupyter.widget-view+json": {
       "model_id": "78784cc771bb4feabfdfeed6f35d78bd",
       "version_major": 2,
       "version_minor": 0
      },
      "text/plain": [
       "  0%|          | 0/1 [00:00<?, ?it/s]"
      ]
     },
     "metadata": {},
     "output_type": "display_data"
    },
    {
     "name": "stdout",
     "output_type": "stream",
     "text": [
      "kl:  0.01806\n",
      "explained_var_old:  0.697\n",
      "explained_var_new:  0.761\n",
      "batch i: 87, episode_len: 36, loss: -1.26248972, entropy:  0.50759890\n"
     ]
    },
    {
     "data": {
      "application/vnd.jupyter.widget-view+json": {
       "model_id": "e31a8a1cf7e248f28e6ec16ca71161e1",
       "version_major": 2,
       "version_minor": 0
      },
      "text/plain": [
       "  0%|          | 0/1 [00:00<?, ?it/s]"
      ]
     },
     "metadata": {},
     "output_type": "display_data"
    },
    {
     "name": "stdout",
     "output_type": "stream",
     "text": [
      "kl:  0.01692\n",
      "explained_var_old:  0.617\n",
      "explained_var_new:  0.576\n",
      "batch i: 88, episode_len: 8, loss: -1.38315929, entropy:  0.51006609\n"
     ]
    },
    {
     "data": {
      "application/vnd.jupyter.widget-view+json": {
       "model_id": "3f522456560b485a8970c5b81cf6c388",
       "version_major": 2,
       "version_minor": 0
      },
      "text/plain": [
       "  0%|          | 0/1 [00:00<?, ?it/s]"
      ]
     },
     "metadata": {},
     "output_type": "display_data"
    },
    {
     "name": "stdout",
     "output_type": "stream",
     "text": [
      "kl:  0.01880\n",
      "explained_var_old:  0.607\n",
      "explained_var_new:  0.735\n",
      "batch i: 89, episode_len: 39, loss: -1.47826557, entropy:  0.49607224\n"
     ]
    },
    {
     "data": {
      "application/vnd.jupyter.widget-view+json": {
       "model_id": "e85c47a8c0bf4efa8f79845a00184cac",
       "version_major": 2,
       "version_minor": 0
      },
      "text/plain": [
       "  0%|          | 0/1 [00:00<?, ?it/s]"
      ]
     },
     "metadata": {},
     "output_type": "display_data"
    },
    {
     "name": "stdout",
     "output_type": "stream",
     "text": [
      "kl:  0.01589\n",
      "explained_var_old:  0.729\n",
      "explained_var_new:  0.797\n",
      "batch i: 90, episode_len: 18, loss: -1.22887908, entropy:  0.49862493\n",
      "current self-play batch: 91\n",
      "Updating elo score...\n",
      "Complete.\n",
      "Elo score: AlphaZero:  1656.03, Benchmark:  1500.00\n",
      "   action: 0, prob_X:  5.68%\t   action: 0, prob_O:  3.27%\n",
      "   action: 1, prob_X:  7.14%\t   action: 1, prob_O:  12.70%\n",
      "   action: 2, prob_X:  4.57%\t   action: 2, prob_O:  12.46%\n",
      "⭐️ action: 3, prob_X:  64.75%\t⭐️ action: 3, prob_O:  40.84%\n",
      "   action: 4, prob_X:  5.48%\t   action: 4, prob_O:  16.10%\n",
      "   action: 5, prob_X:  3.44%\t   action: 5, prob_O:  10.55%\n",
      "   action: 6, prob_X:  8.94%\t   action: 6, prob_O:  4.09%\n",
      "State-value X:  0.0905, sigma:  0.5101\n",
      "State-value O: -0.1807, sigma:  0.5644\n",
      "Evaluating best player...\n",
      "Complete.\n"
     ]
    },
    {
     "data": {
      "application/vnd.jupyter.widget-view+json": {
       "model_id": "7a69b995cb184a728f5faf09ce8821f1",
       "version_major": 2,
       "version_minor": 0
      },
      "text/plain": [
       "  0%|          | 0/1 [00:00<?, ?it/s]"
      ]
     },
     "metadata": {},
     "output_type": "display_data"
    },
    {
     "name": "stdout",
     "output_type": "stream",
     "text": [
      "kl:  0.01595\n",
      "explained_var_old:  0.672\n",
      "explained_var_new:  0.713\n",
      "batch i: 91, episode_len: 35, loss: -1.36545733, entropy:  0.50734064\n"
     ]
    },
    {
     "data": {
      "application/vnd.jupyter.widget-view+json": {
       "model_id": "aadeca68ee9f4f6d872054b9f352049d",
       "version_major": 2,
       "version_minor": 0
      },
      "text/plain": [
       "  0%|          | 0/1 [00:00<?, ?it/s]"
      ]
     },
     "metadata": {},
     "output_type": "display_data"
    },
    {
     "name": "stdout",
     "output_type": "stream",
     "text": [
      "kl:  0.01429\n",
      "explained_var_old:  0.659\n",
      "explained_var_new:  0.653\n",
      "batch i: 92, episode_len: 37, loss: -1.43680683, entropy:  0.51088139\n"
     ]
    },
    {
     "data": {
      "application/vnd.jupyter.widget-view+json": {
       "model_id": "691542ce479142bc96cc209adc62df93",
       "version_major": 2,
       "version_minor": 0
      },
      "text/plain": [
       "  0%|          | 0/1 [00:00<?, ?it/s]"
      ]
     },
     "metadata": {},
     "output_type": "display_data"
    },
    {
     "name": "stdout",
     "output_type": "stream",
     "text": [
      "kl:  0.01611\n",
      "explained_var_old:  0.707\n",
      "explained_var_new:  0.796\n",
      "batch i: 93, episode_len: 31, loss: -1.27278532, entropy:  0.52830280\n"
     ]
    },
    {
     "data": {
      "application/vnd.jupyter.widget-view+json": {
       "model_id": "777711475e58493581fd899fadc8dec5",
       "version_major": 2,
       "version_minor": 0
      },
      "text/plain": [
       "  0%|          | 0/1 [00:00<?, ?it/s]"
      ]
     },
     "metadata": {},
     "output_type": "display_data"
    },
    {
     "name": "stdout",
     "output_type": "stream",
     "text": [
      "kl:  0.01869\n",
      "explained_var_old:  0.684\n",
      "explained_var_new:  0.724\n",
      "batch i: 94, episode_len: 42, loss: -1.52622119, entropy:  0.50709602\n"
     ]
    },
    {
     "data": {
      "application/vnd.jupyter.widget-view+json": {
       "model_id": "8c89637371ce484a83cdcfe68a866ace",
       "version_major": 2,
       "version_minor": 0
      },
      "text/plain": [
       "  0%|          | 0/1 [00:00<?, ?it/s]"
      ]
     },
     "metadata": {},
     "output_type": "display_data"
    },
    {
     "name": "stdout",
     "output_type": "stream",
     "text": [
      "kl:  0.01654\n",
      "explained_var_old:  0.728\n",
      "explained_var_new:  0.709\n",
      "batch i: 95, episode_len: 42, loss: -1.43439150, entropy:  0.49854115\n"
     ]
    },
    {
     "data": {
      "application/vnd.jupyter.widget-view+json": {
       "model_id": "902352a6ade94f4a904d9cde90ebb63d",
       "version_major": 2,
       "version_minor": 0
      },
      "text/plain": [
       "  0%|          | 0/1 [00:00<?, ?it/s]"
      ]
     },
     "metadata": {},
     "output_type": "display_data"
    },
    {
     "name": "stdout",
     "output_type": "stream",
     "text": [
      "kl:  0.01501\n",
      "explained_var_old:  0.768\n",
      "explained_var_new:  0.765\n",
      "batch i: 96, episode_len: 27, loss: -1.57859495, entropy:  0.49124644\n"
     ]
    },
    {
     "data": {
      "application/vnd.jupyter.widget-view+json": {
       "model_id": "ee38ca7a827a4542accfbb071ee52c84",
       "version_major": 2,
       "version_minor": 0
      },
      "text/plain": [
       "  0%|          | 0/1 [00:00<?, ?it/s]"
      ]
     },
     "metadata": {},
     "output_type": "display_data"
    },
    {
     "name": "stdout",
     "output_type": "stream",
     "text": [
      "kl:  0.01546\n",
      "explained_var_old:  0.790\n",
      "explained_var_new:  0.707\n",
      "batch i: 97, episode_len: 23, loss: -1.58123438, entropy:  0.49903480\n"
     ]
    },
    {
     "data": {
      "application/vnd.jupyter.widget-view+json": {
       "model_id": "6174a57de14b4bf3a39719ffa6bd7c96",
       "version_major": 2,
       "version_minor": 0
      },
      "text/plain": [
       "  0%|          | 0/1 [00:00<?, ?it/s]"
      ]
     },
     "metadata": {},
     "output_type": "display_data"
    },
    {
     "name": "stdout",
     "output_type": "stream",
     "text": [
      "kl:  0.01620\n",
      "explained_var_old:  0.763\n",
      "explained_var_new:  0.804\n",
      "batch i: 98, episode_len: 42, loss: -1.55387154, entropy:  0.52232322\n"
     ]
    },
    {
     "data": {
      "application/vnd.jupyter.widget-view+json": {
       "model_id": "ccb753f715ea4ed9baaea3da9a7aaff5",
       "version_major": 2,
       "version_minor": 0
      },
      "text/plain": [
       "  0%|          | 0/1 [00:00<?, ?it/s]"
      ]
     },
     "metadata": {},
     "output_type": "display_data"
    },
    {
     "name": "stdout",
     "output_type": "stream",
     "text": [
      "kl:  0.01568\n",
      "explained_var_old:  0.741\n",
      "explained_var_new:  0.756\n",
      "batch i: 99, episode_len: 42, loss: -1.47410855, entropy:  0.51007914\n"
     ]
    },
    {
     "data": {
      "application/vnd.jupyter.widget-view+json": {
       "model_id": "44eced20e62e48fa9655882451811d87",
       "version_major": 2,
       "version_minor": 0
      },
      "text/plain": [
       "  0%|          | 0/1 [00:00<?, ?it/s]"
      ]
     },
     "metadata": {},
     "output_type": "display_data"
    },
    {
     "name": "stdout",
     "output_type": "stream",
     "text": [
      "kl:  0.02027\n",
      "explained_var_old:  0.757\n",
      "explained_var_new:  0.752\n",
      "batch i: 100, episode_len: 39, loss: -1.66804591, entropy:  0.49496491\n",
      "current self-play batch: 101\n",
      "Updating elo score...\n",
      "Complete.\n",
      "Elo score: AlphaZero:  1674.20, Benchmark:  1500.00\n",
      "   action: 0, prob_X:  4.44%\t   action: 0, prob_O:  3.66%\n",
      "   action: 1, prob_X:  5.98%\t   action: 1, prob_O:  10.89%\n",
      "   action: 2, prob_X:  13.01%\t   action: 2, prob_O:  21.71%\n",
      "⭐️ action: 3, prob_X:  59.17%\t⭐️ action: 3, prob_O:  30.03%\n",
      "   action: 4, prob_X:  8.49%\t   action: 4, prob_O:  21.32%\n",
      "   action: 5, prob_X:  3.81%\t   action: 5, prob_O:  7.34%\n",
      "   action: 6, prob_X:  5.09%\t   action: 6, prob_O:  5.06%\n",
      "State-value X: -0.0109, sigma:  0.4177\n",
      "State-value O: -0.1793, sigma:  0.4147\n",
      "Evaluating best player...\n",
      "Complete.\n"
     ]
    },
    {
     "data": {
      "application/vnd.jupyter.widget-view+json": {
       "model_id": "27dda0751b084b76a20df2887796d178",
       "version_major": 2,
       "version_minor": 0
      },
      "text/plain": [
       "  0%|          | 0/1 [00:00<?, ?it/s]"
      ]
     },
     "metadata": {},
     "output_type": "display_data"
    },
    {
     "name": "stdout",
     "output_type": "stream",
     "text": [
      "kl:  0.01529\n",
      "explained_var_old:  0.652\n",
      "explained_var_new:  0.747\n",
      "batch i: 101, episode_len: 33, loss: -1.46339108, entropy:  0.52293287\n"
     ]
    },
    {
     "data": {
      "application/vnd.jupyter.widget-view+json": {
       "model_id": "beaf4233faa1477c89b5146ce73dc678",
       "version_major": 2,
       "version_minor": 0
      },
      "text/plain": [
       "  0%|          | 0/1 [00:00<?, ?it/s]"
      ]
     },
     "metadata": {},
     "output_type": "display_data"
    },
    {
     "name": "stdout",
     "output_type": "stream",
     "text": [
      "kl:  0.01602\n",
      "explained_var_old:  0.722\n",
      "explained_var_new:  0.716\n",
      "batch i: 102, episode_len: 33, loss: -1.60879737, entropy:  0.50528434\n"
     ]
    },
    {
     "data": {
      "application/vnd.jupyter.widget-view+json": {
       "model_id": "97f163d648a54646bc0c05334cd48ab7",
       "version_major": 2,
       "version_minor": 0
      },
      "text/plain": [
       "  0%|          | 0/1 [00:00<?, ?it/s]"
      ]
     },
     "metadata": {},
     "output_type": "display_data"
    },
    {
     "name": "stdout",
     "output_type": "stream",
     "text": [
      "kl:  0.01505\n",
      "explained_var_old:  0.717\n",
      "explained_var_new:  0.768\n",
      "batch i: 103, episode_len: 39, loss: -1.55622092, entropy:  0.52116257\n"
     ]
    },
    {
     "data": {
      "application/vnd.jupyter.widget-view+json": {
       "model_id": "c84300ac74e349429c1e4b122343a1ea",
       "version_major": 2,
       "version_minor": 0
      },
      "text/plain": [
       "  0%|          | 0/1 [00:00<?, ?it/s]"
      ]
     },
     "metadata": {},
     "output_type": "display_data"
    },
    {
     "name": "stdout",
     "output_type": "stream",
     "text": [
      "kl:  0.00789\n",
      "explained_var_old:  0.764\n",
      "explained_var_new:  0.748\n",
      "batch i: 104, episode_len: 35, loss: -1.65134857, entropy:  0.52768706\n"
     ]
    },
    {
     "data": {
      "application/vnd.jupyter.widget-view+json": {
       "model_id": "ed36bc2ac38e44cfbd4c34dae04f86aa",
       "version_major": 2,
       "version_minor": 0
      },
      "text/plain": [
       "  0%|          | 0/1 [00:00<?, ?it/s]"
      ]
     },
     "metadata": {},
     "output_type": "display_data"
    },
    {
     "name": "stdout",
     "output_type": "stream",
     "text": [
      "kl:  0.01535\n",
      "explained_var_old:  0.724\n",
      "explained_var_new:  0.700\n",
      "batch i: 105, episode_len: 33, loss: -1.67327525, entropy:  0.51956969\n"
     ]
    },
    {
     "data": {
      "application/vnd.jupyter.widget-view+json": {
       "model_id": "5c5078acf18f4db3910a3b3aed3c654c",
       "version_major": 2,
       "version_minor": 0
      },
      "text/plain": [
       "  0%|          | 0/1 [00:00<?, ?it/s]"
      ]
     },
     "metadata": {},
     "output_type": "display_data"
    },
    {
     "ename": "KeyboardInterrupt",
     "evalue": "",
     "output_type": "error",
     "traceback": [
      "\u001b[1;31m---------------------------------------------------------------------------\u001b[0m",
      "\u001b[1;31mKeyboardInterrupt\u001b[0m                         Traceback (most recent call last)",
      "Cell \u001b[1;32mIn[1], line 7\u001b[0m\n\u001b[0;32m      4\u001b[0m torch\u001b[38;5;241m.\u001b[39mbackends\u001b[38;5;241m.\u001b[39mcudnn\u001b[38;5;241m.\u001b[39mbenchmark \u001b[38;5;241m=\u001b[39m \u001b[38;5;28;01mTrue\u001b[39;00m\n\u001b[0;32m      6\u001b[0m pipeline \u001b[38;5;241m=\u001b[39m TrainPipeline(\u001b[38;5;124m'\u001b[39m\u001b[38;5;124mConnect4\u001b[39m\u001b[38;5;124m'\u001b[39m, \u001b[38;5;124m'\u001b[39m\u001b[38;5;124mCNN\u001b[39m\u001b[38;5;124m'\u001b[39m, \u001b[38;5;124m'\u001b[39m\u001b[38;5;124mAZ2\u001b[39m\u001b[38;5;124m'\u001b[39m)\n\u001b[1;32m----> 7\u001b[0m \u001b[43mpipeline\u001b[49m\u001b[43m(\u001b[49m\u001b[43m)\u001b[49m\n",
      "File \u001b[1;32md:\\AlphaZero\\Pipeline.py:217\u001b[0m, in \u001b[0;36mTrainPipeline.__call__\u001b[1;34m(self)\u001b[0m\n\u001b[0;32m    216\u001b[0m \u001b[38;5;28;01mdef\u001b[39;00m\u001b[38;5;250m \u001b[39m\u001b[38;5;21m__call__\u001b[39m(\u001b[38;5;28mself\u001b[39m):\n\u001b[1;32m--> 217\u001b[0m     \u001b[38;5;28;43mself\u001b[39;49m\u001b[38;5;241;43m.\u001b[39;49m\u001b[43mrun\u001b[49m\u001b[43m(\u001b[49m\u001b[43m)\u001b[49m\n",
      "File \u001b[1;32md:\\AlphaZero\\Pipeline.py:102\u001b[0m, in \u001b[0;36mTrainPipeline.run\u001b[1;34m(self)\u001b[0m\n\u001b[0;32m    100\u001b[0m best_counter \u001b[38;5;241m=\u001b[39m \u001b[38;5;241m0\u001b[39m\n\u001b[0;32m    101\u001b[0m \u001b[38;5;28;01mwhile\u001b[39;00m \u001b[38;5;28;01mTrue\u001b[39;00m:\n\u001b[1;32m--> 102\u001b[0m     \u001b[38;5;28;43mself\u001b[39;49m\u001b[38;5;241;43m.\u001b[39;49m\u001b[43mdata_collector\u001b[49m\u001b[43m(\u001b[49m\u001b[38;5;28;43mself\u001b[39;49m\u001b[38;5;241;43m.\u001b[39;49m\u001b[43mplay_batch_size\u001b[49m\u001b[43m)\u001b[49m\n\u001b[0;32m    103\u001b[0m     p_loss, v_loss, entropy, grad_norm \u001b[38;5;241m=\u001b[39m \u001b[38;5;28mfloat\u001b[39m(\u001b[38;5;124m'\u001b[39m\u001b[38;5;124minf\u001b[39m\u001b[38;5;124m'\u001b[39m), \u001b[38;5;28mfloat\u001b[39m(\u001b[38;5;124m'\u001b[39m\u001b[38;5;124minf\u001b[39m\u001b[38;5;124m'\u001b[39m), \\\n\u001b[0;32m    104\u001b[0m         \u001b[38;5;28mfloat\u001b[39m(\u001b[38;5;124m'\u001b[39m\u001b[38;5;124minf\u001b[39m\u001b[38;5;124m'\u001b[39m), \u001b[38;5;28mfloat\u001b[39m(\u001b[38;5;124m'\u001b[39m\u001b[38;5;124minf\u001b[39m\u001b[38;5;124m'\u001b[39m)\n\u001b[0;32m    105\u001b[0m     i \u001b[38;5;241m+\u001b[39m\u001b[38;5;241m=\u001b[39m \u001b[38;5;241m1\u001b[39m\n",
      "File \u001b[1;32md:\\AlphaZero\\Pipeline.py:61\u001b[0m, in \u001b[0;36mTrainPipeline.data_collector\u001b[1;34m(self, n_games)\u001b[0m\n\u001b[0;32m     59\u001b[0m \u001b[38;5;28;01mwith\u001b[39;00m torch\u001b[38;5;241m.\u001b[39mno_grad():\n\u001b[0;32m     60\u001b[0m     \u001b[38;5;28;01mfor\u001b[39;00m _ \u001b[38;5;129;01min\u001b[39;00m trange(n_games):\n\u001b[1;32m---> 61\u001b[0m         _, play_data \u001b[38;5;241m=\u001b[39m \u001b[38;5;28;43mself\u001b[39;49m\u001b[38;5;241;43m.\u001b[39;49m\u001b[43mgame\u001b[49m\u001b[38;5;241;43m.\u001b[39;49m\u001b[43mstart_self_play\u001b[49m\u001b[43m(\u001b[49m\n\u001b[0;32m     62\u001b[0m \u001b[43m            \u001b[49m\u001b[38;5;28;43mself\u001b[39;49m\u001b[38;5;241;43m.\u001b[39;49m\u001b[43maz_player\u001b[49m\u001b[43m,\u001b[49m\u001b[43m \u001b[49m\u001b[43mtemp\u001b[49m\u001b[38;5;241;43m=\u001b[39;49m\u001b[38;5;28;43mself\u001b[39;49m\u001b[38;5;241;43m.\u001b[39;49m\u001b[43mtemp\u001b[49m\u001b[43m,\u001b[49m\u001b[43m \u001b[49m\u001b[43mfirst_n_steps\u001b[49m\u001b[38;5;241;43m=\u001b[39;49m\u001b[38;5;28;43mself\u001b[39;49m\u001b[38;5;241;43m.\u001b[39;49m\u001b[43mfirst_n_steps\u001b[49m\u001b[43m,\u001b[49m\u001b[43m \u001b[49m\u001b[43mdiscount\u001b[49m\u001b[38;5;241;43m=\u001b[39;49m\u001b[38;5;28;43mself\u001b[39;49m\u001b[38;5;241;43m.\u001b[39;49m\u001b[43mdiscount\u001b[49m\u001b[43m,\u001b[49m\u001b[43m \u001b[49m\u001b[43mdirichlet_alpha\u001b[49m\u001b[38;5;241;43m=\u001b[39;49m\u001b[38;5;28;43mself\u001b[39;49m\u001b[38;5;241;43m.\u001b[39;49m\u001b[43mdirichlet_alpha\u001b[49m\u001b[43m)\u001b[49m\n\u001b[0;32m     63\u001b[0m         play_data \u001b[38;5;241m=\u001b[39m \u001b[38;5;28mlist\u001b[39m(play_data)[:]\n\u001b[0;32m     64\u001b[0m         episode_len\u001b[38;5;241m.\u001b[39mappend(\u001b[38;5;28mlen\u001b[39m(play_data)) \n",
      "File \u001b[1;32md:\\AlphaZero\\game.py:62\u001b[0m, in \u001b[0;36mGame.start_self_play\u001b[1;34m(self, player, temp, first_n_steps, show, discount, dirichlet_alpha)\u001b[0m\n\u001b[0;32m     59\u001b[0m     action, probs \u001b[38;5;241m=\u001b[39m player\u001b[38;5;241m.\u001b[39mget_action(\n\u001b[0;32m     60\u001b[0m         \u001b[38;5;28mself\u001b[39m\u001b[38;5;241m.\u001b[39menv, temp, dirichlet_alpha, discount)\n\u001b[0;32m     61\u001b[0m \u001b[38;5;28;01melse\u001b[39;00m:\n\u001b[1;32m---> 62\u001b[0m     action, probs \u001b[38;5;241m=\u001b[39m \u001b[43mplayer\u001b[49m\u001b[38;5;241;43m.\u001b[39;49m\u001b[43mget_action\u001b[49m\u001b[43m(\u001b[49m\n\u001b[0;32m     63\u001b[0m \u001b[43m        \u001b[49m\u001b[38;5;28;43mself\u001b[39;49m\u001b[38;5;241;43m.\u001b[39;49m\u001b[43menv\u001b[49m\u001b[43m,\u001b[49m\u001b[43m \u001b[49m\u001b[38;5;241;43m1e-3\u001b[39;49m\u001b[43m,\u001b[49m\u001b[43m \u001b[49m\u001b[43mdirichlet_alpha\u001b[49m\u001b[43m,\u001b[49m\u001b[43m \u001b[49m\u001b[43mdiscount\u001b[49m\u001b[43m)\u001b[49m\n\u001b[0;32m     64\u001b[0m steps \u001b[38;5;241m+\u001b[39m\u001b[38;5;241m=\u001b[39m \u001b[38;5;241m1\u001b[39m\n\u001b[0;32m     65\u001b[0m states\u001b[38;5;241m.\u001b[39mappend(\u001b[38;5;28mself\u001b[39m\u001b[38;5;241m.\u001b[39menv\u001b[38;5;241m.\u001b[39mcurrent_state())\n",
      "File \u001b[1;32md:\\AlphaZero\\player.py:115\u001b[0m, in \u001b[0;36mAlphaZeroPlayer.get_action\u001b[1;34m(self, env, temp, dirichlet_alpha, discount)\u001b[0m\n\u001b[0;32m    113\u001b[0m \u001b[38;5;28;01mdef\u001b[39;00m\u001b[38;5;250m \u001b[39m\u001b[38;5;21mget_action\u001b[39m(\u001b[38;5;28mself\u001b[39m, env, temp\u001b[38;5;241m=\u001b[39m\u001b[38;5;241m0\u001b[39m, dirichlet_alpha\u001b[38;5;241m=\u001b[39m\u001b[38;5;241m0.3\u001b[39m, discount\u001b[38;5;241m=\u001b[39m\u001b[38;5;241m1\u001b[39m):\n\u001b[0;32m    114\u001b[0m     action_probs \u001b[38;5;241m=\u001b[39m np\u001b[38;5;241m.\u001b[39mzeros((\u001b[38;5;28mself\u001b[39m\u001b[38;5;241m.\u001b[39mn_actions,), dtype\u001b[38;5;241m=\u001b[39mnp\u001b[38;5;241m.\u001b[39mfloat32)\n\u001b[1;32m--> 115\u001b[0m     actions, visits \u001b[38;5;241m=\u001b[39m \u001b[38;5;28;43mself\u001b[39;49m\u001b[38;5;241;43m.\u001b[39;49m\u001b[43mmcts\u001b[49m\u001b[38;5;241;43m.\u001b[39;49m\u001b[43mget_action_visits\u001b[49m\u001b[43m(\u001b[49m\n\u001b[0;32m    116\u001b[0m \u001b[43m        \u001b[49m\u001b[43menv\u001b[49m\u001b[43m,\u001b[49m\u001b[43m \u001b[49m\u001b[43mdirichlet_alpha\u001b[49m\u001b[43m,\u001b[49m\u001b[43m \u001b[49m\u001b[43mdiscount\u001b[49m\u001b[43m)\u001b[49m\n\u001b[0;32m    117\u001b[0m     \u001b[38;5;28;01mif\u001b[39;00m temp \u001b[38;5;241m==\u001b[39m \u001b[38;5;241m0\u001b[39m:\n\u001b[0;32m    118\u001b[0m         probs \u001b[38;5;241m=\u001b[39m np\u001b[38;5;241m.\u001b[39mzeros((\u001b[38;5;28mlen\u001b[39m(visits),), dtype\u001b[38;5;241m=\u001b[39mnp\u001b[38;5;241m.\u001b[39mfloat32)\n",
      "File \u001b[1;32md:\\AlphaZero\\MCTS.py:130\u001b[0m, in \u001b[0;36mMCTS_AZ.get_action_visits\u001b[1;34m(self, env, dirichlet_alpha, discount)\u001b[0m\n\u001b[0;32m    128\u001b[0m \u001b[38;5;28;01mdef\u001b[39;00m\u001b[38;5;250m \u001b[39m\u001b[38;5;21mget_action_visits\u001b[39m(\u001b[38;5;28mself\u001b[39m, env, dirichlet_alpha\u001b[38;5;241m=\u001b[39m\u001b[38;5;241m0.3\u001b[39m, discount\u001b[38;5;241m=\u001b[39m\u001b[38;5;241m1\u001b[39m):\n\u001b[0;32m    129\u001b[0m     \u001b[38;5;28;01mfor\u001b[39;00m _ \u001b[38;5;129;01min\u001b[39;00m \u001b[38;5;28mrange\u001b[39m(\u001b[38;5;28mself\u001b[39m\u001b[38;5;241m.\u001b[39mn_playout):\n\u001b[1;32m--> 130\u001b[0m         \u001b[38;5;28;43mself\u001b[39;49m\u001b[38;5;241;43m.\u001b[39;49m\u001b[43mplayout\u001b[49m\u001b[43m(\u001b[49m\u001b[43menv\u001b[49m\u001b[38;5;241;43m.\u001b[39;49m\u001b[43mcopy\u001b[49m\u001b[43m(\u001b[49m\u001b[43m)\u001b[49m\u001b[43m,\u001b[49m\u001b[43m \u001b[49m\u001b[43mdirichlet_alpha\u001b[49m\u001b[43m,\u001b[49m\u001b[43m \u001b[49m\u001b[43mdiscount\u001b[49m\u001b[43m)\u001b[49m\n\u001b[0;32m    131\u001b[0m     act_visits \u001b[38;5;241m=\u001b[39m [(action, node\u001b[38;5;241m.\u001b[39mn_visits)\n\u001b[0;32m    132\u001b[0m                   \u001b[38;5;28;01mfor\u001b[39;00m action, node \u001b[38;5;129;01min\u001b[39;00m \u001b[38;5;28mself\u001b[39m\u001b[38;5;241m.\u001b[39mroot\u001b[38;5;241m.\u001b[39mchildren\u001b[38;5;241m.\u001b[39mitems()]\n\u001b[0;32m    133\u001b[0m     actions, visits \u001b[38;5;241m=\u001b[39m \u001b[38;5;28mzip\u001b[39m(\u001b[38;5;241m*\u001b[39mact_visits)\n",
      "File \u001b[1;32md:\\AlphaZero\\MCTS.py:112\u001b[0m, in \u001b[0;36mMCTS_AZ.playout\u001b[1;34m(self, env, dirichlet_alpha, discount)\u001b[0m\n\u001b[0;32m    110\u001b[0m \u001b[38;5;28;01mdef\u001b[39;00m\u001b[38;5;250m \u001b[39m\u001b[38;5;21mplayout\u001b[39m(\u001b[38;5;28mself\u001b[39m, env, dirichlet_alpha\u001b[38;5;241m=\u001b[39m\u001b[38;5;241m0.3\u001b[39m, discount\u001b[38;5;241m=\u001b[39m\u001b[38;5;241m1\u001b[39m):\n\u001b[0;32m    111\u001b[0m     node \u001b[38;5;241m=\u001b[39m \u001b[38;5;28mself\u001b[39m\u001b[38;5;241m.\u001b[39mselect_leaf_node(env)\n\u001b[1;32m--> 112\u001b[0m     action_probs, leaf_value \u001b[38;5;241m=\u001b[39m \u001b[38;5;28;43mself\u001b[39;49m\u001b[38;5;241;43m.\u001b[39;49m\u001b[43mpolicy\u001b[49m\u001b[43m(\u001b[49m\u001b[43menv\u001b[49m\u001b[43m)\u001b[49m\n\u001b[0;32m    113\u001b[0m     \u001b[38;5;28;01mif\u001b[39;00m \u001b[38;5;129;01mnot\u001b[39;00m env\u001b[38;5;241m.\u001b[39mdone():\n\u001b[0;32m    114\u001b[0m         \u001b[38;5;28;01mif\u001b[39;00m dirichlet_alpha \u001b[38;5;129;01mis\u001b[39;00m \u001b[38;5;129;01mnot\u001b[39;00m \u001b[38;5;28;01mNone\u001b[39;00m:\n",
      "File \u001b[1;32md:\\AlphaZero\\policy_value_net.py:92\u001b[0m, in \u001b[0;36mPolicyValueNet.__call__\u001b[1;34m(self, env)\u001b[0m\n\u001b[0;32m     91\u001b[0m \u001b[38;5;28;01mdef\u001b[39;00m\u001b[38;5;250m \u001b[39m\u001b[38;5;21m__call__\u001b[39m(\u001b[38;5;28mself\u001b[39m, env):\n\u001b[1;32m---> 92\u001b[0m     \u001b[38;5;28;01mreturn\u001b[39;00m \u001b[38;5;28;43mself\u001b[39;49m\u001b[38;5;241;43m.\u001b[39;49m\u001b[43mpolicy_value_fn\u001b[49m\u001b[43m(\u001b[49m\u001b[43menv\u001b[49m\u001b[43m)\u001b[49m\n",
      "File \u001b[1;32md:\\AlphaZero\\policy_value_net.py:38\u001b[0m, in \u001b[0;36mPolicyValueNet.policy_value_fn\u001b[1;34m(self, env)\u001b[0m\n\u001b[0;32m     35\u001b[0m valid \u001b[38;5;241m=\u001b[39m env\u001b[38;5;241m.\u001b[39mvalid_move()\n\u001b[0;32m     36\u001b[0m current_state \u001b[38;5;241m=\u001b[39m torch\u001b[38;5;241m.\u001b[39mfrom_numpy(\n\u001b[0;32m     37\u001b[0m     env\u001b[38;5;241m.\u001b[39mcurrent_state())\u001b[38;5;241m.\u001b[39mfloat()\u001b[38;5;241m.\u001b[39mto(\u001b[38;5;28mself\u001b[39m\u001b[38;5;241m.\u001b[39mdevice)\n\u001b[1;32m---> 38\u001b[0m mask \u001b[38;5;241m=\u001b[39m \u001b[43mtorch\u001b[49m\u001b[38;5;241;43m.\u001b[39;49m\u001b[43mtensor\u001b[49m\u001b[43m(\u001b[49m\u001b[43menv\u001b[49m\u001b[38;5;241;43m.\u001b[39;49m\u001b[43mvalid_mask\u001b[49m\u001b[43m(\u001b[49m\u001b[43m)\u001b[49m\u001b[43m,\u001b[49m\u001b[43m \u001b[49m\u001b[43mdtype\u001b[49m\u001b[38;5;241;43m=\u001b[39;49m\u001b[43mtorch\u001b[49m\u001b[38;5;241;43m.\u001b[39;49m\u001b[43mbool\u001b[49m\u001b[43m,\u001b[49m\u001b[43m \u001b[49m\u001b[43mdevice\u001b[49m\u001b[38;5;241;43m=\u001b[39;49m\u001b[38;5;28;43mself\u001b[39;49m\u001b[38;5;241;43m.\u001b[39;49m\u001b[43mdevice\u001b[49m\u001b[43m)\u001b[49m\u001b[38;5;241m.\u001b[39munsqueeze(\u001b[38;5;241m0\u001b[39m)\n\u001b[0;32m     39\u001b[0m probs, value \u001b[38;5;241m=\u001b[39m \u001b[38;5;28mself\u001b[39m\u001b[38;5;241m.\u001b[39mpolicy_value(current_state, mask)\n\u001b[0;32m     40\u001b[0m action_probs \u001b[38;5;241m=\u001b[39m \u001b[38;5;28mlist\u001b[39m(\u001b[38;5;28mzip\u001b[39m(valid, probs\u001b[38;5;241m.\u001b[39mflatten()[valid]))\n",
      "\u001b[1;31mKeyboardInterrupt\u001b[0m: "
     ]
    }
   ],
   "source": [
    "import torch\n",
    "from Pipeline import TrainPipeline\n",
    "\n",
    "torch.backends.cudnn.benchmark = True\n",
    "\n",
    "pipeline = TrainPipeline('Connect4', 'CNN', 'AZ2')\n",
    "pipeline()"
   ]
  }
 ],
 "metadata": {
  "kernelspec": {
   "display_name": "Python 3",
   "language": "python",
   "name": "python3"
  },
  "language_info": {
   "codemirror_mode": {
    "name": "ipython",
    "version": 3
   },
   "file_extension": ".py",
   "mimetype": "text/x-python",
   "name": "python",
   "nbconvert_exporter": "python",
   "pygments_lexer": "ipython3",
   "version": "3.13.3"
  }
 },
 "nbformat": 4,
 "nbformat_minor": 2
}
