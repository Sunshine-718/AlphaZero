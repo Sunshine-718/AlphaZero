{
 "cells": [
  {
   "cell_type": "code",
   "execution_count": 1,
   "metadata": {},
   "outputs": [
    {
     "name": "stdout",
     "output_type": "stream",
     "text": [
      "Failed to load parameters.\n",
      "[Errno 2] No such file or directory: './params/AlphaZero_NBTTT_current.pt'\n",
      "==================================================\n",
      "Hyperparameters:\n",
      "\tC_puct: 1.5\n",
      "\tSimulation (AlphaZero): 100\n",
      "\tSimulation (Benchmark): 1000\n",
      "\tDirichlet alpha: 0.1\n",
      "\tBuffer size: 100000\n",
      "\tBatch size: 128\n",
      "\tRandom steps: 12\n",
      "\tDiscount: 0.98\n",
      "\tTemperature: 1.0\n",
      "==================================================\n",
      "----------------------------------------------------------------\n",
      "        Layer (type)               Output Shape         Param #\n",
      "================================================================\n",
      "            Conv2d-1            [-1, 128, 3, 1]          10,880\n",
      "       BatchNorm2d-2            [-1, 128, 3, 1]             256\n",
      "              SiLU-3            [-1, 128, 3, 1]               0\n",
      "            Conv2d-4            [-1, 256, 1, 1]          98,560\n",
      "       BatchNorm2d-5            [-1, 256, 1, 1]             512\n",
      "              SiLU-6            [-1, 256, 1, 1]               0\n",
      "           Flatten-7                  [-1, 256]               0\n",
      "            Conv2d-8            [-1, 128, 1, 3]          10,880\n",
      "       BatchNorm2d-9            [-1, 128, 1, 3]             256\n",
      "             SiLU-10            [-1, 128, 1, 3]               0\n",
      "           Conv2d-11            [-1, 256, 1, 1]          98,560\n",
      "      BatchNorm2d-12            [-1, 256, 1, 1]             512\n",
      "             SiLU-13            [-1, 256, 1, 1]               0\n",
      "          Flatten-14                  [-1, 256]               0\n",
      "           Conv2d-15            [-1, 128, 5, 5]          32,384\n",
      "      BatchNorm2d-16            [-1, 128, 5, 5]             256\n",
      "             SiLU-17            [-1, 128, 5, 5]               0\n",
      "           Conv2d-18            [-1, 256, 3, 3]         295,168\n",
      "      BatchNorm2d-19            [-1, 256, 3, 3]             512\n",
      "             SiLU-20            [-1, 256, 3, 3]               0\n",
      "           Conv2d-21            [-1, 512, 1, 1]       1,180,160\n",
      "      BatchNorm2d-22            [-1, 512, 1, 1]           1,024\n",
      "             SiLU-23            [-1, 512, 1, 1]               0\n",
      "          Flatten-24                  [-1, 512]               0\n",
      "           Linear-25                  [-1, 512]         524,800\n",
      "      BatchNorm1d-26                  [-1, 512]           1,024\n",
      "             SiLU-27                  [-1, 512]               0\n",
      "           Linear-28                  [-1, 512]         262,656\n",
      "      BatchNorm1d-29                  [-1, 512]           1,024\n",
      "             SiLU-30                  [-1, 512]               0\n",
      "           Linear-31                    [-1, 9]           4,617\n",
      "       LogSoftmax-32                    [-1, 9]               0\n",
      "           Linear-33                  [-1, 512]         524,800\n",
      "      BatchNorm1d-34                  [-1, 512]           1,024\n",
      "             SiLU-35                  [-1, 512]               0\n",
      "           Linear-36                  [-1, 512]         262,656\n",
      "      BatchNorm1d-37                  [-1, 512]           1,024\n",
      "             SiLU-38                  [-1, 512]               0\n",
      "           Linear-39                    [-1, 1]             513\n",
      "             Tanh-40                    [-1, 1]               0\n",
      "================================================================\n",
      "Total params: 3,314,058\n",
      "Trainable params: 3,314,058\n",
      "Non-trainable params: 0\n",
      "----------------------------------------------------------------\n",
      "Input size (MB): 0.00\n",
      "Forward/backward pass size (MB): 0.22\n",
      "Params size (MB): 12.64\n",
      "Estimated Total Size (MB): 12.86\n",
      "----------------------------------------------------------------\n"
     ]
    },
    {
     "ename": "TypingError",
     "evalue": "Failed in nopython mode pipeline (step: nopython frontend)\nNo implementation of function Function(<built-in function setitem>) found for signature:\n \n >>> setitem(array(float32, 4d, C), array(bool, 4d, C), Literal[int](1))\n \nThere are 16 candidate implementations:\n     - Of which 14 did not match due to:\n     Overload of function 'setitem': File: <numerous>: Line N/A.\n       With argument(s): '(array(float32, 4d, C), array(bool, 4d, C), int64)':\n      No match.\n     - Of which 2 did not match due to:\n     Overload in function 'SetItemBuffer.generic': File: numba/core/typing/arraydecl.py: Line 221.\n       With argument(s): '(array(float32, 4d, C), array(bool, 4d, C), int64)':\n      Rejected as the implementation raised a specific error:\n        NumbaTypeError: Multi-dimensional indices are not supported.\n  raised from /Library/Frameworks/Python.framework/Versions/3.12/lib/python3.12/site-packages/numba/core/typing/arraydecl.py:91\n\nDuring: typing of setitem at /Users/sunshine/AlphaZero/environments/NBTTT/utils.py (262)\n\nFile \"environments/NBTTT/utils.py\", line 262:\ndef board_to_state(curr, boards, turn):\n    <source elided>\n    x_pieces = np.zeros_like(boards, dtype=np.float32)\n    x_pieces[boards == 0] = 1\n    ^\n",
     "output_type": "error",
     "traceback": [
      "\u001b[0;31m---------------------------------------------------------------------------\u001b[0m",
      "\u001b[0;31mTypingError\u001b[0m                               Traceback (most recent call last)",
      "Cell \u001b[0;32mIn[1], line 7\u001b[0m\n\u001b[1;32m      4\u001b[0m torch\u001b[38;5;241m.\u001b[39mbackends\u001b[38;5;241m.\u001b[39mcudnn\u001b[38;5;241m.\u001b[39mbenchmark \u001b[38;5;241m=\u001b[39m \u001b[38;5;28;01mTrue\u001b[39;00m\n\u001b[1;32m      6\u001b[0m pipeline \u001b[38;5;241m=\u001b[39m TrainPipeline(\u001b[38;5;124m'\u001b[39m\u001b[38;5;124mNBTTT\u001b[39m\u001b[38;5;124m'\u001b[39m)\n\u001b[0;32m----> 7\u001b[0m \u001b[43mpipeline\u001b[49m\u001b[43m(\u001b[49m\u001b[43m)\u001b[49m\n",
      "File \u001b[0;32m~/AlphaZero/Pipeline.py:137\u001b[0m, in \u001b[0;36mTrainPipeline.__call__\u001b[0;34m(self)\u001b[0m\n\u001b[1;32m    136\u001b[0m \u001b[38;5;28;01mdef\u001b[39;00m \u001b[38;5;21m__call__\u001b[39m(\u001b[38;5;28mself\u001b[39m):\n\u001b[0;32m--> 137\u001b[0m     \u001b[38;5;28;43mself\u001b[39;49m\u001b[38;5;241;43m.\u001b[39;49m\u001b[43mrun\u001b[49m\u001b[43m(\u001b[49m\u001b[43m)\u001b[49m\n",
      "File \u001b[0;32m~/AlphaZero/Pipeline.py:170\u001b[0m, in \u001b[0;36mTrainPipeline.run\u001b[0;34m(self)\u001b[0m\n\u001b[1;32m    168\u001b[0m best_counter \u001b[38;5;241m=\u001b[39m \u001b[38;5;241m0\u001b[39m\n\u001b[1;32m    169\u001b[0m \u001b[38;5;28;01mwhile\u001b[39;00m \u001b[38;5;28;01mTrue\u001b[39;00m:\n\u001b[0;32m--> 170\u001b[0m     \u001b[38;5;28;43mself\u001b[39;49m\u001b[38;5;241;43m.\u001b[39;49m\u001b[43mcollect_selfplay_data\u001b[49m\u001b[43m(\u001b[49m\u001b[38;5;28;43mself\u001b[39;49m\u001b[38;5;241;43m.\u001b[39;49m\u001b[43mplay_batch_size\u001b[49m\u001b[43m)\u001b[49m\n\u001b[1;32m    171\u001b[0m     p_loss, v_loss, entropy, grad_norm \u001b[38;5;241m=\u001b[39m \u001b[38;5;28mfloat\u001b[39m(\u001b[38;5;124m'\u001b[39m\u001b[38;5;124minf\u001b[39m\u001b[38;5;124m'\u001b[39m), \u001b[38;5;28mfloat\u001b[39m(\u001b[38;5;124m'\u001b[39m\u001b[38;5;124minf\u001b[39m\u001b[38;5;124m'\u001b[39m), \u001b[38;5;28mfloat\u001b[39m(\u001b[38;5;124m'\u001b[39m\u001b[38;5;124minf\u001b[39m\u001b[38;5;124m'\u001b[39m), \u001b[38;5;28mfloat\u001b[39m(\u001b[38;5;124m'\u001b[39m\u001b[38;5;124minf\u001b[39m\u001b[38;5;124m'\u001b[39m)\n\u001b[1;32m    172\u001b[0m     \u001b[38;5;28;01mif\u001b[39;00m \u001b[38;5;28mlen\u001b[39m(\u001b[38;5;28mself\u001b[39m\u001b[38;5;241m.\u001b[39mbuffer) \u001b[38;5;241m>\u001b[39m \u001b[38;5;28mself\u001b[39m\u001b[38;5;241m.\u001b[39mbatch_size \u001b[38;5;241m*\u001b[39m \u001b[38;5;241m10\u001b[39m:\n",
      "File \u001b[0;32m~/AlphaZero/Pipeline.py:63\u001b[0m, in \u001b[0;36mTrainPipeline.collect_selfplay_data\u001b[0;34m(self, n_games)\u001b[0m\n\u001b[1;32m     61\u001b[0m \u001b[38;5;28;01mwith\u001b[39;00m torch\u001b[38;5;241m.\u001b[39mno_grad():\n\u001b[1;32m     62\u001b[0m     \u001b[38;5;28;01mfor\u001b[39;00m _ \u001b[38;5;129;01min\u001b[39;00m \u001b[38;5;28mrange\u001b[39m(n_games):\n\u001b[0;32m---> 63\u001b[0m         _, play_data \u001b[38;5;241m=\u001b[39m \u001b[38;5;28;43mself\u001b[39;49m\u001b[38;5;241;43m.\u001b[39;49m\u001b[43mgame\u001b[49m\u001b[38;5;241;43m.\u001b[39;49m\u001b[43mstart_self_play\u001b[49m\u001b[43m(\u001b[49m\u001b[38;5;28;43mself\u001b[39;49m\u001b[38;5;241;43m.\u001b[39;49m\u001b[43maz_player\u001b[49m\u001b[43m,\u001b[49m\u001b[43m \u001b[49m\u001b[43mtemp\u001b[49m\u001b[38;5;241;43m=\u001b[39;49m\u001b[38;5;28;43mself\u001b[39;49m\u001b[38;5;241;43m.\u001b[39;49m\u001b[43mtemp\u001b[49m\u001b[43m,\u001b[49m\u001b[43m \u001b[49m\u001b[43mfirst_n_steps\u001b[49m\u001b[38;5;241;43m=\u001b[39;49m\u001b[38;5;28;43mself\u001b[39;49m\u001b[38;5;241;43m.\u001b[39;49m\u001b[43mfirst_n_steps\u001b[49m\u001b[43m,\u001b[49m\u001b[43m \u001b[49m\u001b[43mdiscount\u001b[49m\u001b[38;5;241;43m=\u001b[39;49m\u001b[38;5;28;43mself\u001b[39;49m\u001b[38;5;241;43m.\u001b[39;49m\u001b[43mdiscount\u001b[49m\u001b[43m,\u001b[49m\u001b[43m \u001b[49m\u001b[43mdirichlet_alpha\u001b[49m\u001b[38;5;241;43m=\u001b[39;49m\u001b[38;5;28;43mself\u001b[39;49m\u001b[38;5;241;43m.\u001b[39;49m\u001b[43mdirichlet_alpha\u001b[49m\u001b[43m)\u001b[49m\n\u001b[1;32m     64\u001b[0m         play_data \u001b[38;5;241m=\u001b[39m \u001b[38;5;28mlist\u001b[39m(play_data)[:]\n\u001b[1;32m     65\u001b[0m         \u001b[38;5;28mself\u001b[39m\u001b[38;5;241m.\u001b[39mepisode_len \u001b[38;5;241m=\u001b[39m \u001b[38;5;28mlen\u001b[39m(play_data)\n",
      "File \u001b[0;32m~/AlphaZero/game.py:40\u001b[0m, in \u001b[0;36mGame.start_self_play\u001b[0;34m(self, player, temp, first_n_steps, show, discount, dirichlet_alpha)\u001b[0m\n\u001b[1;32m     38\u001b[0m \u001b[38;5;28;01mwhile\u001b[39;00m \u001b[38;5;28;01mTrue\u001b[39;00m:\n\u001b[1;32m     39\u001b[0m     \u001b[38;5;28;01mif\u001b[39;00m steps \u001b[38;5;241m<\u001b[39m first_n_steps:\n\u001b[0;32m---> 40\u001b[0m         action, probs \u001b[38;5;241m=\u001b[39m \u001b[43mplayer\u001b[49m\u001b[38;5;241;43m.\u001b[39;49m\u001b[43mget_action\u001b[49m\u001b[43m(\u001b[49m\n\u001b[1;32m     41\u001b[0m \u001b[43m            \u001b[49m\u001b[38;5;28;43mself\u001b[39;49m\u001b[38;5;241;43m.\u001b[39;49m\u001b[43menv\u001b[49m\u001b[43m,\u001b[49m\u001b[43m \u001b[49m\u001b[43mtemp\u001b[49m\u001b[43m,\u001b[49m\u001b[43m \u001b[49m\u001b[43mdirichlet_alpha\u001b[49m\u001b[43m,\u001b[49m\u001b[43m \u001b[49m\u001b[43mdiscount\u001b[49m\u001b[43m)\u001b[49m\n\u001b[1;32m     42\u001b[0m     \u001b[38;5;28;01melse\u001b[39;00m:\n\u001b[1;32m     43\u001b[0m         action, probs \u001b[38;5;241m=\u001b[39m player\u001b[38;5;241m.\u001b[39mget_action(\n\u001b[1;32m     44\u001b[0m             \u001b[38;5;28mself\u001b[39m\u001b[38;5;241m.\u001b[39menv, \u001b[38;5;241m1e-3\u001b[39m, dirichlet_alpha, discount)\n",
      "File \u001b[0;32m~/AlphaZero/player.py:101\u001b[0m, in \u001b[0;36mAlphaZeroPlayer.get_action\u001b[0;34m(self, env, temp, dirichlet_alpha, discount, compute_winrate)\u001b[0m\n\u001b[1;32m     99\u001b[0m action_probs \u001b[38;5;241m=\u001b[39m np\u001b[38;5;241m.\u001b[39mzeros((\u001b[38;5;28mself\u001b[39m\u001b[38;5;241m.\u001b[39mn_actions,), dtype\u001b[38;5;241m=\u001b[39mnp\u001b[38;5;241m.\u001b[39mfloat32)\n\u001b[1;32m    100\u001b[0m \u001b[38;5;28;01mif\u001b[39;00m \u001b[38;5;28mlen\u001b[39m(valid) \u001b[38;5;241m>\u001b[39m \u001b[38;5;241m0\u001b[39m:\n\u001b[0;32m--> 101\u001b[0m     actions, visits \u001b[38;5;241m=\u001b[39m \u001b[38;5;28;43mself\u001b[39;49m\u001b[38;5;241;43m.\u001b[39;49m\u001b[43mmcts\u001b[49m\u001b[38;5;241;43m.\u001b[39;49m\u001b[43mget_action_visits\u001b[49m\u001b[43m(\u001b[49m\n\u001b[1;32m    102\u001b[0m \u001b[43m        \u001b[49m\u001b[43menv\u001b[49m\u001b[43m,\u001b[49m\u001b[43m \u001b[49m\u001b[43mdirichlet_alpha\u001b[49m\u001b[43m,\u001b[49m\u001b[43m \u001b[49m\u001b[43mdiscount\u001b[49m\u001b[43m)\u001b[49m\n\u001b[1;32m    103\u001b[0m     \u001b[38;5;28;01mif\u001b[39;00m temp \u001b[38;5;241m==\u001b[39m \u001b[38;5;241m0\u001b[39m:\n\u001b[1;32m    104\u001b[0m         probs \u001b[38;5;241m=\u001b[39m np\u001b[38;5;241m.\u001b[39mzeros((\u001b[38;5;28mlen\u001b[39m(visits),), dtype\u001b[38;5;241m=\u001b[39mnp\u001b[38;5;241m.\u001b[39mfloat32)\n",
      "File \u001b[0;32m~/AlphaZero/MCTS.py:73\u001b[0m, in \u001b[0;36mMCTS_AZ.get_action_visits\u001b[0;34m(self, env, dirichlet_alpha, discount)\u001b[0m\n\u001b[1;32m     71\u001b[0m \u001b[38;5;28;01mdef\u001b[39;00m \u001b[38;5;21mget_action_visits\u001b[39m(\u001b[38;5;28mself\u001b[39m, env, dirichlet_alpha\u001b[38;5;241m=\u001b[39m\u001b[38;5;241m0.3\u001b[39m, discount\u001b[38;5;241m=\u001b[39m\u001b[38;5;241m1\u001b[39m):\n\u001b[1;32m     72\u001b[0m     \u001b[38;5;28;01mfor\u001b[39;00m _ \u001b[38;5;129;01min\u001b[39;00m \u001b[38;5;28mrange\u001b[39m(\u001b[38;5;28mself\u001b[39m\u001b[38;5;241m.\u001b[39mn_playout):\n\u001b[0;32m---> 73\u001b[0m         \u001b[38;5;28;43mself\u001b[39;49m\u001b[38;5;241;43m.\u001b[39;49m\u001b[43mplayout\u001b[49m\u001b[43m(\u001b[49m\u001b[43mdeepcopy\u001b[49m\u001b[43m(\u001b[49m\u001b[43menv\u001b[49m\u001b[43m)\u001b[49m\u001b[43m,\u001b[49m\u001b[43m \u001b[49m\u001b[43mdirichlet_alpha\u001b[49m\u001b[43m,\u001b[49m\u001b[43m \u001b[49m\u001b[43mdiscount\u001b[49m\u001b[43m)\u001b[49m\n\u001b[1;32m     74\u001b[0m     act_visits \u001b[38;5;241m=\u001b[39m [(action, node\u001b[38;5;241m.\u001b[39mn_visits)\n\u001b[1;32m     75\u001b[0m                   \u001b[38;5;28;01mfor\u001b[39;00m action, node \u001b[38;5;129;01min\u001b[39;00m \u001b[38;5;28mself\u001b[39m\u001b[38;5;241m.\u001b[39mroot\u001b[38;5;241m.\u001b[39mchildren\u001b[38;5;241m.\u001b[39mitems()]\n\u001b[1;32m     76\u001b[0m     actions, visits \u001b[38;5;241m=\u001b[39m \u001b[38;5;28mzip\u001b[39m(\u001b[38;5;241m*\u001b[39mact_visits)\n",
      "File \u001b[0;32m~/AlphaZero/MCTS.py:55\u001b[0m, in \u001b[0;36mMCTS_AZ.playout\u001b[0;34m(self, env, dirichlet_alpha, discount)\u001b[0m\n\u001b[1;32m     53\u001b[0m \u001b[38;5;28;01mdef\u001b[39;00m \u001b[38;5;21mplayout\u001b[39m(\u001b[38;5;28mself\u001b[39m, env, dirichlet_alpha\u001b[38;5;241m=\u001b[39m\u001b[38;5;241m0.3\u001b[39m, discount\u001b[38;5;241m=\u001b[39m\u001b[38;5;241m1\u001b[39m):\n\u001b[1;32m     54\u001b[0m     node \u001b[38;5;241m=\u001b[39m \u001b[38;5;28mself\u001b[39m\u001b[38;5;241m.\u001b[39mselect_leaf_node(env)\n\u001b[0;32m---> 55\u001b[0m     action_probs, leaf_value \u001b[38;5;241m=\u001b[39m \u001b[38;5;28;43mself\u001b[39;49m\u001b[38;5;241;43m.\u001b[39;49m\u001b[43mpolicy\u001b[49m\u001b[43m(\u001b[49m\u001b[43menv\u001b[49m\u001b[43m)\u001b[49m\n\u001b[1;32m     56\u001b[0m     \u001b[38;5;28;01mif\u001b[39;00m \u001b[38;5;129;01mnot\u001b[39;00m env\u001b[38;5;241m.\u001b[39mdone():\n\u001b[1;32m     57\u001b[0m         \u001b[38;5;28;01mif\u001b[39;00m dirichlet_alpha \u001b[38;5;129;01mis\u001b[39;00m \u001b[38;5;129;01mnot\u001b[39;00m \u001b[38;5;28;01mNone\u001b[39;00m:\n",
      "File \u001b[0;32m~/AlphaZero/policy_value_net.py:29\u001b[0m, in \u001b[0;36mPolicyValueNet.__call__\u001b[0;34m(self, env)\u001b[0m\n\u001b[1;32m     28\u001b[0m \u001b[38;5;28;01mdef\u001b[39;00m \u001b[38;5;21m__call__\u001b[39m(\u001b[38;5;28mself\u001b[39m, env):\n\u001b[0;32m---> 29\u001b[0m     \u001b[38;5;28;01mreturn\u001b[39;00m \u001b[38;5;28;43mself\u001b[39;49m\u001b[38;5;241;43m.\u001b[39;49m\u001b[43mpolicy_value_fn\u001b[49m\u001b[43m(\u001b[49m\u001b[43menv\u001b[49m\u001b[43m)\u001b[49m\n",
      "File \u001b[0;32m~/AlphaZero/policy_value_net.py:42\u001b[0m, in \u001b[0;36mPolicyValueNet.policy_value_fn\u001b[0;34m(self, env)\u001b[0m\n\u001b[1;32m     39\u001b[0m \u001b[38;5;28mself\u001b[39m\u001b[38;5;241m.\u001b[39mnet\u001b[38;5;241m.\u001b[39meval()\n\u001b[1;32m     40\u001b[0m valid \u001b[38;5;241m=\u001b[39m env\u001b[38;5;241m.\u001b[39mvalid_move()\n\u001b[1;32m     41\u001b[0m current_state \u001b[38;5;241m=\u001b[39m torch\u001b[38;5;241m.\u001b[39mfrom_numpy(\n\u001b[0;32m---> 42\u001b[0m     \u001b[43menv\u001b[49m\u001b[38;5;241;43m.\u001b[39;49m\u001b[43mcurrent_state\u001b[49m\u001b[43m(\u001b[49m\u001b[43m)\u001b[49m)\u001b[38;5;241m.\u001b[39mfloat()\u001b[38;5;241m.\u001b[39mto(\u001b[38;5;28mself\u001b[39m\u001b[38;5;241m.\u001b[39mdevice)\n\u001b[1;32m     43\u001b[0m probs, value \u001b[38;5;241m=\u001b[39m \u001b[38;5;28mself\u001b[39m\u001b[38;5;241m.\u001b[39mpolicy_value(current_state)\n\u001b[1;32m     44\u001b[0m action_probs \u001b[38;5;241m=\u001b[39m \u001b[38;5;28mlist\u001b[39m(\u001b[38;5;28mzip\u001b[39m(valid, probs\u001b[38;5;241m.\u001b[39mflatten()[valid]))\n",
      "File \u001b[0;32m~/AlphaZero/environments/NBTTT/env.py:56\u001b[0m, in \u001b[0;36mEnv.current_state\u001b[0;34m(self)\u001b[0m\n\u001b[1;32m     55\u001b[0m \u001b[38;5;28;01mdef\u001b[39;00m \u001b[38;5;21mcurrent_state\u001b[39m(\u001b[38;5;28mself\u001b[39m):\n\u001b[0;32m---> 56\u001b[0m     \u001b[38;5;28;01mreturn\u001b[39;00m \u001b[43mboard_to_state\u001b[49m\u001b[43m(\u001b[49m\u001b[38;5;28;43mself\u001b[39;49m\u001b[38;5;241;43m.\u001b[39;49m\u001b[43mcurr\u001b[49m\u001b[43m,\u001b[49m\u001b[43m \u001b[49m\u001b[38;5;28;43mself\u001b[39;49m\u001b[38;5;241;43m.\u001b[39;49m\u001b[43mboards\u001b[49m\u001b[43m,\u001b[49m\u001b[43m \u001b[49m\u001b[38;5;28;43mself\u001b[39;49m\u001b[38;5;241;43m.\u001b[39;49m\u001b[43mturn\u001b[49m\u001b[43m)\u001b[49m\n",
      "File \u001b[0;32m/Library/Frameworks/Python.framework/Versions/3.12/lib/python3.12/site-packages/numba/core/dispatcher.py:423\u001b[0m, in \u001b[0;36m_DispatcherBase._compile_for_args\u001b[0;34m(self, *args, **kws)\u001b[0m\n\u001b[1;32m    419\u001b[0m         msg \u001b[38;5;241m=\u001b[39m (\u001b[38;5;124mf\u001b[39m\u001b[38;5;124m\"\u001b[39m\u001b[38;5;132;01m{\u001b[39;00m\u001b[38;5;28mstr\u001b[39m(e)\u001b[38;5;241m.\u001b[39mrstrip()\u001b[38;5;132;01m}\u001b[39;00m\u001b[38;5;124m \u001b[39m\u001b[38;5;130;01m\\n\u001b[39;00m\u001b[38;5;130;01m\\n\u001b[39;00m\u001b[38;5;124mThis error may have been caused \u001b[39m\u001b[38;5;124m\"\u001b[39m\n\u001b[1;32m    420\u001b[0m                \u001b[38;5;124mf\u001b[39m\u001b[38;5;124m\"\u001b[39m\u001b[38;5;124mby the following argument(s):\u001b[39m\u001b[38;5;130;01m\\n\u001b[39;00m\u001b[38;5;132;01m{\u001b[39;00margs_str\u001b[38;5;132;01m}\u001b[39;00m\u001b[38;5;130;01m\\n\u001b[39;00m\u001b[38;5;124m\"\u001b[39m)\n\u001b[1;32m    421\u001b[0m         e\u001b[38;5;241m.\u001b[39mpatch_message(msg)\n\u001b[0;32m--> 423\u001b[0m     \u001b[43merror_rewrite\u001b[49m\u001b[43m(\u001b[49m\u001b[43me\u001b[49m\u001b[43m,\u001b[49m\u001b[43m \u001b[49m\u001b[38;5;124;43m'\u001b[39;49m\u001b[38;5;124;43mtyping\u001b[39;49m\u001b[38;5;124;43m'\u001b[39;49m\u001b[43m)\u001b[49m\n\u001b[1;32m    424\u001b[0m \u001b[38;5;28;01mexcept\u001b[39;00m errors\u001b[38;5;241m.\u001b[39mUnsupportedError \u001b[38;5;28;01mas\u001b[39;00m e:\n\u001b[1;32m    425\u001b[0m     \u001b[38;5;66;03m# Something unsupported is present in the user code, add help info\u001b[39;00m\n\u001b[1;32m    426\u001b[0m     error_rewrite(e, \u001b[38;5;124m'\u001b[39m\u001b[38;5;124munsupported_error\u001b[39m\u001b[38;5;124m'\u001b[39m)\n",
      "File \u001b[0;32m/Library/Frameworks/Python.framework/Versions/3.12/lib/python3.12/site-packages/numba/core/dispatcher.py:364\u001b[0m, in \u001b[0;36m_DispatcherBase._compile_for_args.<locals>.error_rewrite\u001b[0;34m(e, issue_type)\u001b[0m\n\u001b[1;32m    362\u001b[0m     \u001b[38;5;28;01mraise\u001b[39;00m e\n\u001b[1;32m    363\u001b[0m \u001b[38;5;28;01melse\u001b[39;00m:\n\u001b[0;32m--> 364\u001b[0m     \u001b[38;5;28;01mraise\u001b[39;00m e\u001b[38;5;241m.\u001b[39mwith_traceback(\u001b[38;5;28;01mNone\u001b[39;00m)\n",
      "\u001b[0;31mTypingError\u001b[0m: Failed in nopython mode pipeline (step: nopython frontend)\nNo implementation of function Function(<built-in function setitem>) found for signature:\n \n >>> setitem(array(float32, 4d, C), array(bool, 4d, C), Literal[int](1))\n \nThere are 16 candidate implementations:\n     - Of which 14 did not match due to:\n     Overload of function 'setitem': File: <numerous>: Line N/A.\n       With argument(s): '(array(float32, 4d, C), array(bool, 4d, C), int64)':\n      No match.\n     - Of which 2 did not match due to:\n     Overload in function 'SetItemBuffer.generic': File: numba/core/typing/arraydecl.py: Line 221.\n       With argument(s): '(array(float32, 4d, C), array(bool, 4d, C), int64)':\n      Rejected as the implementation raised a specific error:\n        NumbaTypeError: Multi-dimensional indices are not supported.\n  raised from /Library/Frameworks/Python.framework/Versions/3.12/lib/python3.12/site-packages/numba/core/typing/arraydecl.py:91\n\nDuring: typing of setitem at /Users/sunshine/AlphaZero/environments/NBTTT/utils.py (262)\n\nFile \"environments/NBTTT/utils.py\", line 262:\ndef board_to_state(curr, boards, turn):\n    <source elided>\n    x_pieces = np.zeros_like(boards, dtype=np.float32)\n    x_pieces[boards == 0] = 1\n    ^\n"
     ]
    }
   ],
   "source": [
    "import torch\n",
    "from Pipeline import TrainPipeline\n",
    "\n",
    "torch.backends.cudnn.benchmark = True\n",
    "\n",
    "pipeline = TrainPipeline('NBTTT')\n",
    "pipeline()"
   ]
  }
 ],
 "metadata": {
  "kernelspec": {
   "display_name": "Python 3",
   "language": "python",
   "name": "python3"
  },
  "language_info": {
   "codemirror_mode": {
    "name": "ipython",
    "version": 3
   },
   "file_extension": ".py",
   "mimetype": "text/x-python",
   "name": "python",
   "nbconvert_exporter": "python",
   "pygments_lexer": "ipython3",
   "version": "3.12.3"
  }
 },
 "nbformat": 4,
 "nbformat_minor": 2
}
