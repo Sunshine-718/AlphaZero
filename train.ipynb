{
 "cells": [
  {
   "cell_type": "code",
   "execution_count": null,
   "metadata": {},
   "outputs": [],
   "source": [
    "config = {\n",
    "    \"lr\": 1e-3,\n",
    "    \"lr_multiplier\": 1.0,\n",
    "    \"temp\": 1.0,\n",
    "    \"n_playout\": 50,\n",
    "    \"first_n_steps\": 12,\n",
    "    \"c_puct\": 5,\n",
    "    \"buffer_size\": 10000,\n",
    "    \"batch_size\": 128,\n",
    "    \"discount\": 1,\n",
    "    \"play_batch_size\": 1,\n",
    "    \"epochs\": 5,\n",
    "    \"kl_targ\": 0.02,\n",
    "    \"check_freq\": 50,\n",
    "    \"game_batch_num\": 10000000,\n",
    "    \"best_win_ratio\": 0.0,\n",
    "    \"pure_mcts_n_playout\": 10,\n",
    "    \"dirichlet_alpha\": 0.3,\n",
    "}"
   ]
  },
  {
   "cell_type": "code",
   "execution_count": null,
   "metadata": {},
   "outputs": [],
   "source": [
    "import torch\n",
    "from Pipeline import TrainPipeline\n",
    "\n",
    "torch.backends.cudnn.benchmark = True\n",
    "\n",
    "if __name__ == '__main__':\n",
    "    pipeline = TrainPipeline('AlphaZero')\n",
    "    for key, value in config.items():\n",
    "        setattr(pipeline, key, value)\n",
    "    pipeline.init()\n",
    "    pipeline.run()"
   ]
  }
 ],
 "metadata": {
  "language_info": {
   "name": "python"
  }
 },
 "nbformat": 4,
 "nbformat_minor": 2
}
