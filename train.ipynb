{
 "cells": [
  {
   "cell_type": "code",
   "execution_count": null,
   "metadata": {},
   "outputs": [],
   "source": [
    "import torch\n",
    "from config import config\n",
    "from Pipeline import TrainPipeline\n",
    "\n",
    "torch.backends.cudnn.benchmark = True\n",
    "\n",
    "if __name__ == '__main__':\n",
    "    pipeline = TrainPipeline('AlphaZero_NewEval')\n",
    "    for key, value in config.items():\n",
    "        setattr(pipeline, key, value)\n",
    "    pipeline.init()\n",
    "    pipeline.run()"
   ]
  }
 ],
 "metadata": {
  "kernelspec": {
   "display_name": "Python 3",
   "language": "python",
   "name": "python3"
  },
  "language_info": {
   "name": "python",
   "version": "3.12.3"
  }
 },
 "nbformat": 4,
 "nbformat_minor": 2
}
